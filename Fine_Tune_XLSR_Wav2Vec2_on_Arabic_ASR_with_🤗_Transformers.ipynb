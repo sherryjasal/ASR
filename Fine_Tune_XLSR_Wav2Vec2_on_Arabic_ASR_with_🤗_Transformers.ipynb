{
  "cells": [
    {
      "cell_type": "markdown",
      "metadata": {
        "id": "view-in-github",
        "colab_type": "text"
      },
      "source": [
        "<a href=\"https://colab.research.google.com/github/sherryjasal/ASR/blob/main/Fine_Tune_XLSR_Wav2Vec2_on_Arabic_ASR_with_%F0%9F%A4%97_Transformers.ipynb\" target=\"_parent\"><img src=\"https://colab.research.google.com/assets/colab-badge.svg\" alt=\"Open In Colab\"/></a>"
      ]
    },
    {
      "cell_type": "code",
      "execution_count": 1,
      "metadata": {
        "id": "kkSomFaKLP9a"
      },
      "outputs": [],
      "source": [
        "%%capture\n",
        "!pip3 install datasets\n",
        "!pip3 install torchaudio\n",
        "!pip3 install librosa\n",
        "!pip3 install jiwer"
      ]
    },
    {
      "cell_type": "code",
      "execution_count": 2,
      "metadata": {
        "colab": {
          "base_uri": "https://localhost:8080/"
        },
        "id": "daKe3eB2N529",
        "outputId": "bfebda4f-01e8-4a27-853c-25aa12d8bee7"
      },
      "outputs": [
        {
          "output_type": "stream",
          "name": "stdout",
          "text": [
            "Collecting git+https://github.com/huggingface/transformers\n",
            "  Cloning https://github.com/huggingface/transformers to /tmp/pip-req-build-hs_71q5_\n",
            "  Running command git clone --filter=blob:none --quiet https://github.com/huggingface/transformers /tmp/pip-req-build-hs_71q5_\n",
            "  Resolved https://github.com/huggingface/transformers to commit faf25c040d191cee9bd4d3b1d4fd6974f7fd3516\n",
            "  Installing build dependencies ... \u001b[?25l\u001b[?25hdone\n",
            "  Getting requirements to build wheel ... \u001b[?25l\u001b[?25hdone\n",
            "  Preparing metadata (pyproject.toml) ... \u001b[?25l\u001b[?25hdone\n",
            "Requirement already satisfied: filelock in /usr/local/lib/python3.10/dist-packages (from transformers==4.32.0.dev0) (3.12.2)\n",
            "Requirement already satisfied: huggingface-hub<1.0,>=0.14.1 in /usr/local/lib/python3.10/dist-packages (from transformers==4.32.0.dev0) (0.16.4)\n",
            "Requirement already satisfied: numpy>=1.17 in /usr/local/lib/python3.10/dist-packages (from transformers==4.32.0.dev0) (1.22.4)\n",
            "Requirement already satisfied: packaging>=20.0 in /usr/local/lib/python3.10/dist-packages (from transformers==4.32.0.dev0) (23.1)\n",
            "Requirement already satisfied: pyyaml>=5.1 in /usr/local/lib/python3.10/dist-packages (from transformers==4.32.0.dev0) (6.0.1)\n",
            "Requirement already satisfied: regex!=2019.12.17 in /usr/local/lib/python3.10/dist-packages (from transformers==4.32.0.dev0) (2022.10.31)\n",
            "Requirement already satisfied: requests in /usr/local/lib/python3.10/dist-packages (from transformers==4.32.0.dev0) (2.27.1)\n",
            "Requirement already satisfied: tokenizers!=0.11.3,<0.14,>=0.11.1 in /usr/local/lib/python3.10/dist-packages (from transformers==4.32.0.dev0) (0.13.3)\n",
            "Requirement already satisfied: safetensors>=0.3.1 in /usr/local/lib/python3.10/dist-packages (from transformers==4.32.0.dev0) (0.3.1)\n",
            "Requirement already satisfied: tqdm>=4.27 in /usr/local/lib/python3.10/dist-packages (from transformers==4.32.0.dev0) (4.65.0)\n",
            "Requirement already satisfied: fsspec in /usr/local/lib/python3.10/dist-packages (from huggingface-hub<1.0,>=0.14.1->transformers==4.32.0.dev0) (2023.6.0)\n",
            "Requirement already satisfied: typing-extensions>=3.7.4.3 in /usr/local/lib/python3.10/dist-packages (from huggingface-hub<1.0,>=0.14.1->transformers==4.32.0.dev0) (4.7.1)\n",
            "Requirement already satisfied: urllib3<1.27,>=1.21.1 in /usr/local/lib/python3.10/dist-packages (from requests->transformers==4.32.0.dev0) (1.26.16)\n",
            "Requirement already satisfied: certifi>=2017.4.17 in /usr/local/lib/python3.10/dist-packages (from requests->transformers==4.32.0.dev0) (2023.5.7)\n",
            "Requirement already satisfied: charset-normalizer~=2.0.0 in /usr/local/lib/python3.10/dist-packages (from requests->transformers==4.32.0.dev0) (2.0.12)\n",
            "Requirement already satisfied: idna<4,>=2.5 in /usr/local/lib/python3.10/dist-packages (from requests->transformers==4.32.0.dev0) (3.4)\n"
          ]
        }
      ],
      "source": [
        "!pip3 install git+https://github.com/huggingface/transformers"
      ]
    },
    {
      "cell_type": "code",
      "execution_count": 3,
      "metadata": {
        "colab": {
          "base_uri": "https://localhost:8080/"
        },
        "id": "2y1kHEZ9LP6i",
        "outputId": "e0e83e92-cec5-4254-ce7c-0e22a3753973"
      },
      "outputs": [
        {
          "output_type": "stream",
          "name": "stderr",
          "text": [
            "/root/.cache/huggingface/modules/datasets_modules/datasets/common_voice/220833898d6a60c50f621126e51fb22eb2dfe5244392c70dccd8e6e2f055f4bf/common_voice.py:634: FutureWarning: \n",
            "            This version of the Common Voice dataset is deprecated.\n",
            "            You can download the latest one with\n",
            "            >>> load_dataset(\"mozilla-foundation/common_voice_11_0\", \"en\")\n",
            "            \n",
            "  warnings.warn(\n",
            "/root/.cache/huggingface/modules/datasets_modules/datasets/common_voice/220833898d6a60c50f621126e51fb22eb2dfe5244392c70dccd8e6e2f055f4bf/common_voice.py:634: FutureWarning: \n",
            "            This version of the Common Voice dataset is deprecated.\n",
            "            You can download the latest one with\n",
            "            >>> load_dataset(\"mozilla-foundation/common_voice_11_0\", \"en\")\n",
            "            \n",
            "  warnings.warn(\n"
          ]
        }
      ],
      "source": [
        "from datasets import load_dataset, load_metric, Audio\n",
        "\n",
        "common_voice_train = load_dataset(\"common_voice\", \"ar\", split=\"train+validation\")\n",
        "common_voice_test = load_dataset(\"common_voice\", \"ar\", split=\"test\")"
      ]
    },
    {
      "cell_type": "code",
      "execution_count": 4,
      "metadata": {
        "colab": {
          "base_uri": "https://localhost:8080/"
        },
        "id": "2DaDYcvnwnsc",
        "outputId": "47ea8d52-65cc-43e4-ff8e-810e49330c9a"
      },
      "outputs": [
        {
          "output_type": "execute_result",
          "data": {
            "text/plain": [
              "Dataset({\n",
              "    features: ['client_id', 'path', 'audio', 'sentence', 'up_votes', 'down_votes', 'age', 'gender', 'accent', 'locale', 'segment'],\n",
              "    num_rows: 21744\n",
              "})"
            ]
          },
          "metadata": {},
          "execution_count": 4
        }
      ],
      "source": [
        "common_voice_train"
      ]
    },
    {
      "cell_type": "code",
      "execution_count": 5,
      "metadata": {
        "colab": {
          "base_uri": "https://localhost:8080/"
        },
        "id": "kyQSpQ2kw-dH",
        "outputId": "627ea0ea-2523-4788-9181-4c091a63bc7e"
      },
      "outputs": [
        {
          "output_type": "execute_result",
          "data": {
            "text/plain": [
              "{'client_id': '3ed0ada6e07c029a8e33c022429b902ecda77dbb159e19fc06af5af7efb590081b2105a87c4eecf0a68785a396bcd4590fcc175ad7e995a94182ff6b13d26eb7',\n",
              " 'path': '/root/.cache/huggingface/datasets/downloads/extracted/d683d02b419074b255de0b64800dd56845f714dbe57db09390b0ee84f10622e7/cv-corpus-6.1-2020-12-11/ar/clips/common_voice_ar_19237901.mp3',\n",
              " 'audio': {'path': '/root/.cache/huggingface/datasets/downloads/extracted/d683d02b419074b255de0b64800dd56845f714dbe57db09390b0ee84f10622e7/cv-corpus-6.1-2020-12-11/ar/clips/common_voice_ar_19237901.mp3',\n",
              "  'array': array([ 0.00000000e+00,  2.47329623e-14,  4.34723736e-14, ...,\n",
              "          8.93199257e-08, -2.00373734e-07, -4.29436739e-07]),\n",
              "  'sampling_rate': 48000},\n",
              " 'sentence': 'اخرج!',\n",
              " 'up_votes': 2,\n",
              " 'down_votes': 0,\n",
              " 'age': 'twenties',\n",
              " 'gender': 'male',\n",
              " 'accent': '',\n",
              " 'locale': 'ar',\n",
              " 'segment': \"''\"}"
            ]
          },
          "metadata": {},
          "execution_count": 5
        }
      ],
      "source": [
        "common_voice_train[10]"
      ]
    },
    {
      "cell_type": "code",
      "execution_count": 6,
      "metadata": {
        "id": "-spAfnYiLP32"
      },
      "outputs": [],
      "source": [
        "common_voice_train = common_voice_train.remove_columns([\"accent\", \"age\", \"client_id\", \"down_votes\", \"gender\", \"locale\", \"segment\", \"up_votes\"])\n",
        "common_voice_test = common_voice_test.remove_columns([\"accent\", \"age\", \"client_id\", \"down_votes\", \"gender\", \"locale\", \"segment\", \"up_votes\"])"
      ]
    },
    {
      "cell_type": "code",
      "execution_count": 7,
      "metadata": {
        "id": "gntz9-u6LP0-"
      },
      "outputs": [],
      "source": [
        "from datasets import ClassLabel\n",
        "import random\n",
        "import pandas as pd\n",
        "from IPython.display import display, HTML\n",
        "\n",
        "def view_random_samples(dataset, num_samples=10):\n",
        "    assert num_samples <= len(dataset), \"Can't pick more elements than there are in the dataset.\"\n",
        "    examples = []\n",
        "    for _ in range(num_samples):\n",
        "        example = random.randint(0, len(dataset)-1)\n",
        "        while example in examples:\n",
        "            example = random.randint(0, len(dataset)-1)\n",
        "        examples.append(example)\n",
        "\n",
        "    df = pd.DataFrame(dataset[examples])\n",
        "    display(HTML(df.to_html()))"
      ]
    },
    {
      "cell_type": "code",
      "execution_count": 8,
      "metadata": {
        "colab": {
          "base_uri": "https://localhost:8080/",
          "height": 363
        },
        "id": "3y2cVat9LPyW",
        "outputId": "7de3d608-a67e-4ce8-bcd4-fd22c9b6d859"
      },
      "outputs": [
        {
          "output_type": "display_data",
          "data": {
            "text/plain": [
              "<IPython.core.display.HTML object>"
            ],
            "text/html": [
              "<table border=\"1\" class=\"dataframe\">\n",
              "  <thead>\n",
              "    <tr style=\"text-align: right;\">\n",
              "      <th></th>\n",
              "      <th>sentence</th>\n",
              "    </tr>\n",
              "  </thead>\n",
              "  <tbody>\n",
              "    <tr>\n",
              "      <th>0</th>\n",
              "      <td>أود أن تقابل صديقاً لي.</td>\n",
              "    </tr>\n",
              "    <tr>\n",
              "      <th>1</th>\n",
              "      <td>ثمة كتب كثيرة في غرفته.</td>\n",
              "    </tr>\n",
              "    <tr>\n",
              "      <th>2</th>\n",
              "      <td>ويستعجلونك بالعذاب ولولا أجل مسمى لجاءهم العذاب وليأتينهم بغتة وهم لا يشعرون</td>\n",
              "    </tr>\n",
              "    <tr>\n",
              "      <th>3</th>\n",
              "      <td>.تعرف أنّ جون كان يحبها</td>\n",
              "    </tr>\n",
              "    <tr>\n",
              "      <th>4</th>\n",
              "      <td>كان سامي يعمل لدى صاحب بيته السابق.</td>\n",
              "    </tr>\n",
              "    <tr>\n",
              "      <th>5</th>\n",
              "      <td>وَإِنْ كَانَ الْعَقْدُ رَغْبَةً فِي الْأُلْفَةِ فَهَذَا يَكُونُ عَلَى أَحَدِ وَجْهَيْنِ</td>\n",
              "    </tr>\n",
              "    <tr>\n",
              "      <th>6</th>\n",
              "      <td>انها لا تسمعه.</td>\n",
              "    </tr>\n",
              "    <tr>\n",
              "      <th>7</th>\n",
              "      <td>أشعر بآلام في معدتي بعد الأكل.</td>\n",
              "    </tr>\n",
              "    <tr>\n",
              "      <th>8</th>\n",
              "      <td>لقد إستيقظتُ متأخرةً اليوم.</td>\n",
              "    </tr>\n",
              "    <tr>\n",
              "      <th>9</th>\n",
              "      <td>أنا ما شربت الماء.</td>\n",
              "    </tr>\n",
              "  </tbody>\n",
              "</table>"
            ]
          },
          "metadata": {}
        }
      ],
      "source": [
        "view_random_samples(common_voice_train.remove_columns([\"path\", \"audio\"]), num_samples=10)"
      ]
    },
    {
      "cell_type": "code",
      "execution_count": 9,
      "metadata": {
        "id": "s5DnRF_rLPvc"
      },
      "outputs": [],
      "source": [
        "import re\n",
        "ignore_regex = '[\\,\\?\\.\\!\\-\\;\\:\\\"\\“\\%\\‘\\”\\�]'\n",
        "\n",
        "def delete_special_chars(batch):\n",
        "    batch[\"sentence\"] = re.sub(ignore_regex, '', batch[\"sentence\"]).lower() + \" \"\n",
        "    return batch"
      ]
    },
    {
      "cell_type": "code",
      "execution_count": 10,
      "metadata": {
        "id": "wHwaU5zq0Cw0"
      },
      "outputs": [],
      "source": [
        "common_voice_train = common_voice_train.map(delete_special_chars)\n",
        "common_voice_test = common_voice_test.map(delete_special_chars)"
      ]
    },
    {
      "cell_type": "code",
      "execution_count": 11,
      "metadata": {
        "colab": {
          "base_uri": "https://localhost:8080/",
          "height": 363
        },
        "id": "NQ7o_EGx0Cte",
        "outputId": "d20dc8ad-ddef-4c22-a832-99d906df3f38"
      },
      "outputs": [
        {
          "output_type": "display_data",
          "data": {
            "text/plain": [
              "<IPython.core.display.HTML object>"
            ],
            "text/html": [
              "<table border=\"1\" class=\"dataframe\">\n",
              "  <thead>\n",
              "    <tr style=\"text-align: right;\">\n",
              "      <th></th>\n",
              "      <th>sentence</th>\n",
              "    </tr>\n",
              "  </thead>\n",
              "  <tbody>\n",
              "    <tr>\n",
              "      <th>0</th>\n",
              "      <td>ماذا تعتقدون ؟</td>\n",
              "    </tr>\n",
              "    <tr>\n",
              "      <th>1</th>\n",
              "      <td>ولا يسأل حميم حميما</td>\n",
              "    </tr>\n",
              "    <tr>\n",
              "      <th>2</th>\n",
              "      <td>بدأت أغضب</td>\n",
              "    </tr>\n",
              "    <tr>\n",
              "      <th>3</th>\n",
              "      <td>قسمتنا مدرستنا إلى مجموعتين</td>\n",
              "    </tr>\n",
              "    <tr>\n",
              "      <th>4</th>\n",
              "      <td>أنت لا تستسلم بسهولة جداً ، أليس كذلك ؟</td>\n",
              "    </tr>\n",
              "    <tr>\n",
              "      <th>5</th>\n",
              "      <td>فَلَا يَخْلُو حَالَ تَقْصِيرِهِ مِنْ أَرْبَعَةِ أَحْوَالٍ</td>\n",
              "    </tr>\n",
              "    <tr>\n",
              "      <th>6</th>\n",
              "      <td>والنجم والشجر يسجدان</td>\n",
              "    </tr>\n",
              "    <tr>\n",
              "      <th>7</th>\n",
              "      <td>يَسْتَبْشِرُونَ بِنِعْمَةٍ مِنَ اللَّهِ وَفَضْلٍ وَأَنَّ اللَّهَ لَا يُضِيعُ أَجْرَ الْمُؤْمِنِينَ</td>\n",
              "    </tr>\n",
              "    <tr>\n",
              "      <th>8</th>\n",
              "      <td>وَتَرْكَ التَّسَلُّطِ أَعَطْفُ عَلَى الْمَحَبَّةِ</td>\n",
              "    </tr>\n",
              "    <tr>\n",
              "      <th>9</th>\n",
              "      <td>حَتَّى يَصِيرَ قَاهِرًا لِلسَّرَائِرِ</td>\n",
              "    </tr>\n",
              "  </tbody>\n",
              "</table>"
            ]
          },
          "metadata": {}
        }
      ],
      "source": [
        "view_random_samples(common_voice_train.remove_columns([\"path\",\"audio\"]))"
      ]
    },
    {
      "cell_type": "code",
      "execution_count": 12,
      "metadata": {
        "id": "S6iR66jD0CqU"
      },
      "outputs": [],
      "source": [
        "def extract_all_characters(batch):\n",
        "  entire_text = \" \".join(batch[\"sentence\"])\n",
        "  vocabulary = list(set(entire_text))\n",
        "  return {\"vocab\": [vocabulary], \"entire_text\": [entire_text]}"
      ]
    },
    {
      "cell_type": "code",
      "execution_count": 13,
      "metadata": {
        "colab": {
          "base_uri": "https://localhost:8080/",
          "height": 81,
          "referenced_widgets": [
            "d9d96dcc46aa4eb2b2c77b6fc80f4652",
            "e1d76346b5634ab28a5c914f3665393b",
            "8bff7f3472d24da584c4ba95255288f5",
            "66e9034622384d7f83fbd1498d0e9141",
            "1f162ee5356c4dce9c8b1a8917542323",
            "a5cfa97e3c694108ac189504e417ffeb",
            "b89c0c06985b41248e08c01044022256",
            "bc55c73d30f54eae8648f8bec3e19e54",
            "adeb0c310ca544c382e5b627534e4a0c",
            "bf96738fe7c248acb0660e4bf0251156",
            "72508f1c8fe241beb197e6328a41a6fc",
            "66601f18c08149edb31808dc960e803c",
            "6b948a5447ff42318049dc80a72a4d75",
            "3b7aeec7462641a6bdcf82545c62aea9",
            "cfa67f326abf45b491886cee4f8399f1",
            "b1070d3cb13f4004a04d4dc6cdee3f33",
            "ec2dcbb94f4048518a1ce4000b7933a2",
            "c9b68631ebd2478484db772f6a2e5ca7",
            "0de50fdd15bc4d3c81a28a493c84c875",
            "f32e2350f90d4517921a158dfa4202ad",
            "fafbcb97236b43388922cad18ecb98a1",
            "9df792cdc73647089f933526360b793b"
          ]
        },
        "id": "rWRU53jQ0CnX",
        "outputId": "b9a5f38c-e48e-434f-b458-721467d5d045"
      },
      "outputs": [
        {
          "output_type": "display_data",
          "data": {
            "text/plain": [
              "Map:   0%|          | 0/21744 [00:00<?, ? examples/s]"
            ],
            "application/vnd.jupyter.widget-view+json": {
              "version_major": 2,
              "version_minor": 0,
              "model_id": "d9d96dcc46aa4eb2b2c77b6fc80f4652"
            }
          },
          "metadata": {}
        },
        {
          "output_type": "display_data",
          "data": {
            "text/plain": [
              "Map:   0%|          | 0/7622 [00:00<?, ? examples/s]"
            ],
            "application/vnd.jupyter.widget-view+json": {
              "version_major": 2,
              "version_minor": 0,
              "model_id": "66601f18c08149edb31808dc960e803c"
            }
          },
          "metadata": {}
        }
      ],
      "source": [
        "vocab_train = common_voice_train.map(extract_all_characters, batched=True, batch_size=-1, keep_in_memory=True, remove_columns=common_voice_train.column_names)\n",
        "vocab_test = common_voice_test.map(extract_all_characters, batched=True, batch_size=-1, keep_in_memory=True, remove_columns=common_voice_test.column_names)"
      ]
    },
    {
      "cell_type": "code",
      "execution_count": 14,
      "metadata": {
        "id": "BL1KYGuP0Cj0"
      },
      "outputs": [],
      "source": [
        "vocabulary_list = list(set(vocab_train[\"vocab\"][0]) | set(vocab_test[\"vocab\"][0]))"
      ]
    },
    {
      "cell_type": "code",
      "execution_count": 15,
      "metadata": {
        "colab": {
          "base_uri": "https://localhost:8080/"
        },
        "id": "ZOWQL7z60CgZ",
        "outputId": "c1a8142c-fedd-4bc8-dd07-31f9b11e6613"
      },
      "outputs": [
        {
          "output_type": "execute_result",
          "data": {
            "text/plain": [
              "{' ': 0,\n",
              " 'ف': 1,\n",
              " 'ٌ': 2,\n",
              " 'ئ': 3,\n",
              " 'و': 4,\n",
              " 'ً': 5,\n",
              " 'ی': 6,\n",
              " 'ي': 7,\n",
              " 'ۖ': 8,\n",
              " '_': 9,\n",
              " 'ص': 10,\n",
              " 'ج': 11,\n",
              " 'ْ': 12,\n",
              " 'ء': 13,\n",
              " 'ب': 14,\n",
              " 'ِ': 15,\n",
              " 'ٰ': 16,\n",
              " 'ّ': 17,\n",
              " 'ھ': 18,\n",
              " 'د': 19,\n",
              " 'ذ': 20,\n",
              " 'إ': 21,\n",
              " 'ک': 22,\n",
              " 'ض': 23,\n",
              " 'ه': 24,\n",
              " '»': 25,\n",
              " 'e': 26,\n",
              " 'ط': 27,\n",
              " 'أ': 28,\n",
              " 'ُ': 29,\n",
              " 'ن': 30,\n",
              " '؟': 31,\n",
              " 'ﻻ': 32,\n",
              " 'َ': 33,\n",
              " 'ش': 34,\n",
              " 'غ': 35,\n",
              " 'چ': 36,\n",
              " 'ح': 37,\n",
              " '—': 38,\n",
              " 'ـ': 39,\n",
              " '،': 40,\n",
              " 'g': 41,\n",
              " 'ت': 42,\n",
              " 'م': 43,\n",
              " 'ى': 44,\n",
              " 'ل': 45,\n",
              " 'ك': 46,\n",
              " 'ز': 47,\n",
              " 'ع': 48,\n",
              " 'ڨ': 49,\n",
              " 'ة': 50,\n",
              " 'ﺃ': 51,\n",
              " '؛': 52,\n",
              " 'ٍ': 53,\n",
              " 't': 54,\n",
              " 'ا': 55,\n",
              " '«': 56,\n",
              " 'ظ': 57,\n",
              " 'ؤ': 58,\n",
              " 'ق': 59,\n",
              " 'خ': 60,\n",
              " 'س': 61,\n",
              " '☭': 62,\n",
              " 'ۚ': 63,\n",
              " 'ث': 64,\n",
              " 'ر': 65,\n",
              " 'آ': 66}"
            ]
          },
          "metadata": {},
          "execution_count": 15
        }
      ],
      "source": [
        "vocabulary_dict = {v: k for k, v in enumerate(vocabulary_list)}\n",
        "vocabulary_dict"
      ]
    },
    {
      "cell_type": "code",
      "execution_count": 16,
      "metadata": {
        "colab": {
          "base_uri": "https://localhost:8080/"
        },
        "id": "8fvA50-t2Ip-",
        "outputId": "a2e4bfb2-6bdb-4ad8-e539-01f96c8f63db"
      },
      "outputs": [
        {
          "output_type": "execute_result",
          "data": {
            "text/plain": [
              "69"
            ]
          },
          "metadata": {},
          "execution_count": 16
        }
      ],
      "source": [
        "vocabulary_dict[\"[UNK]\"] = len(vocabulary_dict)\n",
        "vocabulary_dict[\"[PAD]\"] = len(vocabulary_dict)\n",
        "len(vocabulary_dict)"
      ]
    },
    {
      "cell_type": "code",
      "execution_count": 17,
      "metadata": {
        "id": "FuD9289-2Im0"
      },
      "outputs": [],
      "source": [
        "import json\n",
        "with open('vocab.json', 'w') as vocabulary_file:\n",
        "    json.dump(vocabulary_dict, vocabulary_file)"
      ]
    },
    {
      "cell_type": "code",
      "execution_count": 18,
      "metadata": {
        "id": "069R54Gh2Ijq"
      },
      "outputs": [],
      "source": [
        "from transformers import Wav2Vec2CTCTokenizer\n",
        "\n",
        "tokenizer = Wav2Vec2CTCTokenizer(\"./vocab.json\", unk_token=\"[UNK]\", pad_token=\"[PAD]\", word_delimiter_token=\"|\")"
      ]
    },
    {
      "cell_type": "code",
      "execution_count": 19,
      "metadata": {
        "id": "AqAo1FPE2IgJ"
      },
      "outputs": [],
      "source": [
        "from transformers import Wav2Vec2FeatureExtractor\n",
        "\n",
        "feature_extractor = Wav2Vec2FeatureExtractor(feature_size=1, sampling_rate=16000, padding_value=0.0, do_normalize=True, return_attention_mask=True)"
      ]
    },
    {
      "cell_type": "code",
      "execution_count": 20,
      "metadata": {
        "id": "KQHy8Lmk2Ic-"
      },
      "outputs": [],
      "source": [
        "from transformers import Wav2Vec2Processor\n",
        "\n",
        "processor = Wav2Vec2Processor(feature_extractor=feature_extractor, tokenizer=tokenizer)"
      ]
    },
    {
      "cell_type": "code",
      "execution_count": 21,
      "metadata": {
        "colab": {
          "base_uri": "https://localhost:8080/"
        },
        "id": "pY0HH48f2IaK",
        "outputId": "17344668-45db-4c7e-e35b-2e582dee3638"
      },
      "outputs": [
        {
          "output_type": "stream",
          "name": "stdout",
          "text": [
            "Drive already mounted at /content/gdrive/; to attempt to forcibly remount, call drive.mount(\"/content/gdrive/\", force_remount=True).\n"
          ]
        }
      ],
      "source": [
        "from google.colab import drive\n",
        "drive.mount('/content/gdrive/')"
      ]
    },
    {
      "cell_type": "code",
      "execution_count": 22,
      "metadata": {
        "id": "m0n98bT22IXK"
      },
      "outputs": [],
      "source": [
        "processor.save_pretrained(\"/content/gdrive/MyDrive/wav2vec2-large-xlsr-arabic-demo\")"
      ]
    },
    {
      "cell_type": "code",
      "execution_count": 23,
      "metadata": {
        "colab": {
          "base_uri": "https://localhost:8080/",
          "height": 53
        },
        "id": "YmRWTKJB2IUM",
        "outputId": "aae6d51e-c4b1-4c4e-dc0d-27d3f052b6e3"
      },
      "outputs": [
        {
          "output_type": "execute_result",
          "data": {
            "text/plain": [
              "'/root/.cache/huggingface/datasets/downloads/extracted/d683d02b419074b255de0b64800dd56845f714dbe57db09390b0ee84f10622e7/cv-corpus-6.1-2020-12-11/ar/clips/common_voice_ar_19225971.mp3'"
            ],
            "application/vnd.google.colaboratory.intrinsic+json": {
              "type": "string"
            }
          },
          "metadata": {},
          "execution_count": 23
        }
      ],
      "source": [
        "common_voice_train[0][\"path\"]"
      ]
    },
    {
      "cell_type": "code",
      "execution_count": 24,
      "metadata": {
        "colab": {
          "base_uri": "https://localhost:8080/"
        },
        "id": "zGJ3SwA12IQ6",
        "outputId": "2d08a422-49de-404f-8ac2-499cf323b521"
      },
      "outputs": [
        {
          "output_type": "execute_result",
          "data": {
            "text/plain": [
              "{'path': '/root/.cache/huggingface/datasets/downloads/extracted/d683d02b419074b255de0b64800dd56845f714dbe57db09390b0ee84f10622e7/cv-corpus-6.1-2020-12-11/ar/clips/common_voice_ar_19225971.mp3',\n",
              " 'array': array([ 0.00000000e+00,  0.00000000e+00,  0.00000000e+00, ...,\n",
              "         2.36669189e-06, -2.57932743e-06,  6.87623424e-06]),\n",
              " 'sampling_rate': 48000}"
            ]
          },
          "metadata": {},
          "execution_count": 24
        }
      ],
      "source": [
        "common_voice_train[0][\"audio\"]"
      ]
    },
    {
      "cell_type": "code",
      "execution_count": 25,
      "metadata": {
        "id": "v2xZFPg82IKh"
      },
      "outputs": [],
      "source": [
        "common_voice_train = common_voice_train.cast_column(\"audio\", Audio(sampling_rate=16_000))\n",
        "common_voice_test = common_voice_test.cast_column(\"audio\", Audio(sampling_rate=16_000))"
      ]
    },
    {
      "cell_type": "code",
      "execution_count": 26,
      "metadata": {
        "colab": {
          "base_uri": "https://localhost:8080/"
        },
        "id": "59fwkOEu2IHt",
        "outputId": "f49a2502-554d-4c99-f2e8-3b808283bdb0"
      },
      "outputs": [
        {
          "output_type": "execute_result",
          "data": {
            "text/plain": [
              "{'path': '/root/.cache/huggingface/datasets/downloads/extracted/d683d02b419074b255de0b64800dd56845f714dbe57db09390b0ee84f10622e7/cv-corpus-6.1-2020-12-11/ar/clips/common_voice_ar_19225971.mp3',\n",
              " 'array': array([0.00000000e+00, 0.00000000e+00, 0.00000000e+00, ...,\n",
              "        2.71172757e-06, 9.98028008e-06, 5.87778959e-06]),\n",
              " 'sampling_rate': 16000}"
            ]
          },
          "metadata": {},
          "execution_count": 26
        }
      ],
      "source": [
        "common_voice_train[0][\"audio\"]"
      ]
    },
    {
      "cell_type": "code",
      "execution_count": 27,
      "metadata": {
        "colab": {
          "base_uri": "https://localhost:8080/",
          "height": 75
        },
        "id": "9Ossvs5g2IE6",
        "outputId": "c0fcab31-b1dc-489d-95cb-7698152ca7d4"
      },
      "outputs": [
        {
          "output_type": "execute_result",
          "data": {
            "text/plain": [
              "<IPython.lib.display.Audio object>"
            ],
            "text/html": [
              "\n",
              "                <audio  controls=\"controls\" autoplay=\"autoplay\">\n",
              "                    <source src=\"data:audio/wav;base64,UklGRqTYAQBXQVZFZm10IBAAAAABAAEAgD4AAAB9AAACABAAZGF0YYDYAQAAAAAAAAAAAAAAAAAAAAAAAAAAAAAAAAAAAAAAAAAAAAAAAAAAAAAAAAAAAAAAAAAAAAAAAAAAAAAAAAAAAAAAAAAAAAAAAAAAAAAAAAAAAAAAAAAAAAAAAAAAAAAAAAAAAAAAAAAAAAAAAAAAAAAAAAAAAAAAAAAAAAAAAAAAAAAAAAAAAAAAAAAAAAAAAAAAAAAAAAAAAAAAAAAAAAAAAAAAAAAAAAAAAAAAAAAAAAAAAAAAAAAAAAAAAAAAAAAAAAAAAAAAAAAAAAAAAAAAAAAAAAAAAAAAAAAAAAAAAAAAAAAAAAAAAAAAAAAAAAAAAAAAAAAAAAAAAAAAAAAAAAAAAAAAAAAAAAAAAAAAAAAAAAAAAAAAAAAAAAAAAAAAAAAAAAAAAAAAAAAAAAAAAAAAAAAAAAAAAAAAAAAAAAAAAAAAAAAAAAAAAAAAAAAAAAAAAAAAAAAAAAAAAAAAAAAAAAAAAAAAAAAAAAAAAAAAAAAAAAAAAAAAAAAAAAAAAAAAAAAAAAAAAAAAAAAAAAAAAAAAAAAAAAAAAAAAAAAAAAAAAAAAAAAAAAAAAAAAAAAAAAAAAAAAAAAAAAAAAAAAAAAAAAAAAAAAAAAAAAAAAAAAAAAAAAAAAAAAAAAAAAAAAAAAAAAAAAAAAAAAAAAAAAAAAAAAAAAAAAAAAAAAAAAAAAAAAAAAAAAAAAAAAAAAAAAAAAAAAAAAAAAAAAAAAAAAAAAAAAAAAAAAAAAAAAAAAAAAAAAAAAAAAAAAAAAAAAAAAAAAAAAAAAAAAAAAAAAAAAAAAAAAAAAAAAAAAAAAAAAAAAAAAAAAAAAAAAAAAAAAAAAAAAAAAAAAAAAAAAAAAAAAAAAAAAAAAAAAAAAAAAAAAAAAAAAAAAAAAAAAAAAAAAAAAAAAAAAAAAAAAAAAAAAAAAAAAAAAAAAAAAAAAAAAAAAAAAAAAAAAAAAAAAAAAAAAAAAAAAAAAAAAAAAAAAAAAAAAAAAAAAAAAAAAAAAAAAAAAAAAAAAAAAAAAAAAAAAAAAAAAAAAAAAAAAAAAAAAAAAAAAAAAAAAAAAAAAAAAAAAAAAAAAAAAAAAAAAAAAAAAAAAAAAAAAAAAAAAAAAAAAAAAAAAAAAAAAAAAAAAAAAAAAAAAAAAAAAAAAAAAAAAAAAAAAAAAAAAAAAAAAAAAAAAAAAAAAAAAAAAAAAAAAAAAAAAAAAAAAAAAAAAAAAAAAAAAAAAAAAAAAAAAAAAAAAAAAAAAAAAAAAAAAAAAAAAAAAAAAAAAAAAAAAAAAAAAAAAAAAAAAAAAAAAAAAAAAAAAAAAAAAAAAAAAAAAAAAAAAAAAAAAAAAAAAAAAAAAAAAAAAAAAAAAAAAAAAAAAAAAAAAAAAAAAAAAAAAAAAAAAAAAAAAAAAAAAAAAAAAAAAAAAAAAAAAAAAAAAAAAAAAAAAAAAAAAAAAAAAAAAAAAAAAAAAAAAAAAAAAAAAAAAAAAAAAAAAAAAAAAAAAAAAAAAAAAAAAAAAAAAAAAAAAAAAAAAAAAAAAAAAAAAAAAAAAAAAAAAAAAAAAAAAAAAAAAAAAAAAAAAAAAAAAAAAAAAAAAAAAAAAAAAAAAAAAAAAAAAAAAAAAAAAAAAAAAAAAAAAAAAAAAAAAAAAAAAAAAAAAAAAAAAAAAAAAAAAAAAAAAAAAAAAAAAAAAAAAAAAAAAAAAAAAAAAAAAAAAAAAAAAAAAAAAAAAAAAAAAAAAAAAAAAAAAAAAAAAAAAAAAAAAAAAAAAAAAAAAAAAAAAAAAAAAAAAAAAAAAAAAAAAAAAAAAAAAAAAAAAAAAAAAAAAAAAAAAAAAAAAAAAAAAAAAAAAAAAAAAAAAAAAAAAAAAAAAAAAAAAAAAAAAAAAAAAAAAAAAAAAAAAAAAAAAAAAAAAAAAAAAAAAAAAAAAAAAAAAAAAAAAAAAAAAAAAAAAAAAAAAAAAAAAAAAAAAAAAAAAAAAAAAAAAAAAAAAAAAAAAAAAAAAAAAAAAAAAAAAAAAAAAAAAAAAAAAAAAAAAAAAAAAAAAAAAAAAAAAAAAAAAAAAAAAAAAAAAAAAAAAAAAAAAAAAAAAAAAAAAAAAAAAAAAAAAAAAAAAAAAAAAAAAAAAAAAAAAAAAAAAAAAAAAAAAAAAAAAAAAAAAAAAAAAAAAAAAAAAAAAAAAAAAAAAAAAAAAAAAAAAAAAAAAAAAAAAAAAAAAAAAAAAAAAAAAAAAAAAAAAAAAAAAAAAAAAAAAAAAAAAAAAAAAAAAAAAAAAAAAAAAAAAAAAAAAAAAAAAAAAAAAAAAAAAAAAAAAAAAAAAAAAAAAAAAAAAAAAAAAAAAAAAAAAAAAAAAAAAAAAAAAAAAAAAAAAAAAAAAAAAAAAAAAAAAAAAAAAAAAAAAAAAAAAAAAAAAAAAAAAAAAAAAAAAAAAAAAAAAAAAAAAAAAAAAAAAAAAAAAAAAAAAAAAAAAAAAAAAAAAAAAAAAAAAAAAAAAAAAAAAAAAAAAAAAAAAAAAAAAAAAAAAAAAAAAAAAAAAAAAAAAAAAAAAAAAAAAAAAAAAAAAAAAAAAAAAAAAAAAAAAAAAAAAAAAAAAAAAAAAAAAAAAAAAAAAAAAAAAAAAAAAAAAAAAAAAAAAAAAAAAAAAAAAAAAAAAAAAAAAAAAAAAAAAAAAAAAAAAAAAAAAAAAAAAAAAAAAAAAAAAAAAAAAAAAAAAAAAAAAAAAAAAAAAAAAAAAAAAAAAAAAAAAAAAAAAAAAAAAAAAAAAAAAAAAAAAAAAAAAAAAAAAAAAAAAAAAAAAAAAAAAAAAAAAAAAAAAAAAAAAAAAAAAAAAAAAAAAAAAAAAAAAAAAAAAAAAAAAAAAAAAAAAAAAAAAAAAAAAAAAAAAAAAAAAAAAAAAAAAAAAAAAAAAAAAAAAAAAAAAAAAAAAAAAAAAAAAAAAAAAAAAAAAAAAAAAAAAAAAAAAAAAAAAAAAAAAAAAAAAAAAAAAAAAAAAAAAAAAAAAAAAAAAAAAAAAAAAAAAAAAAAAAAAAAAAAAAAAAAAAAAAAAAAAAAAAAAAAAAAAAAAAAAAAAAAAAAAAAAAAAAAAAAAAAAAAAAAAAAAAAAAAAAAAAAAAAAAAAAAAAAAAAAAAAAAAAAAAAAAAAAAAAAAAAAAAAAAAAAAAAAAAAAAAAAAAAAAAAAAAAAAAAAAAAAAAAAAAAAAAAAAAAAAAAAAAAAAAAAAAAAAAAAAAAAAAAAAAAAAAAAAAAAAAAAAAAAAAAAAAAAAAAAAAAAAAAAAAAAAAAAAAAAAAAAAAAAAAAAAAAAAAAAAAAAAAAAAAAAAAAAAAAAAAAAAAAAAAAAAAAAAAAAAAAAAAAAAAAAAAAAAAAAAAAAAAAAAAAAAAAAAAAAAAAAAAAAAAAAAAAAAAAAAAAAAAAAAAAAAAAAAAAAAAAAAAAAAAAAAAAAAAAAAAAAAAAAAAAAAAAAAAAAAAAAAAAAAAAAAAAAAAAAAAAAAAAAAAAAAAAAAAAAAAAAAAAAAAAAAAAAAAAAAAAAAAAAAAAAAAAAAAAAAAAAAAAAAAAAAAAAAAAAAAAAAAAAAAAAAAAAAAAAAAAAAAAAAAAAAAAAAAAAAAAAAAAAAAAAAAAAAAAAAAAAAAAAAAAAAAAAAAAAAAAAAAAAAAAAAAAAAAAAAAAAAAAAAAAAAAAAAAAAAAAAAAAAAAAAAAAAAAAAAAAAAAAAAAAAAAAAAAAAAAAAAAAAAAAAAAAAAAAAAAAAAAAAAAAAAAAAAAAAAAAAAAAAAAAAAAAAAAAAAAAAAAAAAAAAAAAAAAAAAAAAAAAAAAAAAAAAAAAAAAAAAAAAAAAAAAAAAAAAAAAAAAAAAAAAAAAAAAAAAAAAAAAAAAAAAAAAAAAAAAAAAAAAAAAAAAAAAAAAAAAAAAAAAAAAAAAAAAAAAAAAAAAAAAAAAAAAAAAAAAAAAAAAAAAAAAAAAAAAAAAAAAAAAAAAAAAAAAAAAAAAAAAAAAAAAAAAAAAAAAAAAAAAAAAAAAAAAAAAAAAAAAAAAAAAAAAAAAAAAAAAAAAAAAAAAAAAAAAAAAAAAAAAAAAAAAAAAAAAAAAAAAAAAAAAAAAAAAAAAAAAAAAAAAAAAAAAAAAAAAAAAAAAAAAAAAAAAAAAAAAAAAAAAAAAAAAAAAAAAAAAAAAAAAAAAAAAAAAAAAAAAAAAAAAAAAAAAAAAAAAAAAAAAAAAAAAAAAAAAAAAAAAAAAAAAAAAAAAAAAAAAAAAAAAAAAAAAAAAAAAAAAAAAAAAAAAAAAAAAAAAAAAAAAAAAAAAAAAAAAAAAAAAAAAAAAAAAAAAAAAAAAAAAAAAAAAAAAAAAAAAAAAAAAAAAAAAAAAAAAAAAAAAAAAAAAAAAAAAAAAAAAAAAAAAAAAAAAAAAAAAAAAAAAAAAAAAAAAAAAAAAAAAAAAAAAAAAAAAAAAAAAAAAAAAAAAAAAAAAAAAAAAAAAAAAAAAAAAAAAAAAAAAAAAAAAAAAAAAAAAAAAAAAAAAAAAAAAAAAAAAAAAAAAAAAAAAAAAAAAAAAAAAAAAAAAAAAAAAAAAAAAAAAAAAAAAAAAAAAAAAAAAAAAAAAAAAAAAAAAAAAAAAAAAAAAAAAAAAAAAAAAAAAAAAAAAAAAAAAAAAAAAAAAAAAAAAAAAAAAAAAAAAAAAAAAAAAAAAAAAAAAAAAAAAAAAAAAAAAAAAAAAAAAAAAAAAAAAAAAAAAAAAAAAAAAAAAAAAAAAAAAAAAAAAAAAAAAAAAAAAAAAAAAAAAAAAAAAAAAAAAAAAAAAAAAAAAAAAAAAAAAAAAAAAAAAAAAAAAAAAAAAAAAAAAAAAAAAAAAAAAAAAAAAAAAAAAAAAAAAAAAAAAAAAAAAAAAAAAAAAAAAAAAAAAAAAAAAAAAAAAAAAAAAAAAAAAAAAAAAAAAAAAAAAAAAAAAAAAAAAAAAAAAAAAAAAAAAAAAAAAAAAAAAAAAAAAAAAAAAAAAAAAAAAAAAAAAAAAAAAAAAAAAAAAAAAAAAAAAAAAAAAAAAAAAAAAAAAAAAAAAAAAAAAAAAAAAAAAAAAAAAAAAAAAAAAAAAAAAAAAAAAAAAAAAAAAAAAAAAAAAAAAAAAAAAAAAAAAAAAAAAAAAAAAAAAAAAAAAAAAAAAAAAAAAAAAAAAAAAAAAAAAAAAAAAAAAAAAAAAAAAAAAAAAAAAAAAAAAAAAAAAAAAAAAAAAAAAAAAAAAAAAAAAAAAAAAAAAAAAAAAAAAAAAAAAAAAAAAAAAAAAAAAAAAAAAAAAAAAAAAAAAAAAAAAAAAAAAAAAAAAAAAAAAAAAAAAAAAAAAAAAAAAAAAAAAAAAAAAAAAAAAAAAAAAAAAAAAAAAAAAAAAAAAAAAAAAAAAAAAAAAAAAAAAAAAAAAAAAAAAAAAAAAAAAAAAAAAAAAAAAAAAAAAAAAAAAAAAAAAAAAAAAAAAAAAAAAAAAAAAAAAAAAAAAAAAAAAAAAAAAAAAAAAAAAAAAAAAAAAAAAAAAAAAAAAAAAAAAAAAAAAAAAAAAAAAAAAAAAAAAAAAAAAAAAAAAAAAAAAAAAAAAAAAAAAAAAAAAAAAAAAAAAAAAAAAAAAAAAAAAAAAAAAAAAAAAAAAAAAAAAAAAAAAAAAAAAAAAAAAAAAAAAAAAAAAAAAAAAAAAAAAAAAAAAAAAAAAAAAAAAAAAAAAAAAAAAAAAAAAAAAAAAAAAAAAAAAAAAAAAAAAAAAAAAAAAAAAAAAAAAAAAAAAAAAAAAAAAAAAAAAAAAAAAAAAAAAAAAAAAAAAAAAAAAAAAAAAAAAAAAAAAAAAAAAAAAAAAAAAAAAAAAAAAAAAAAAAAAAAAAAAAAAAAAAAAAAAAAAAAAAAAAAAAAAAAAAAAAAAAAAAAAAAAAAAAAAAAAAAAAAAAAAAAAAAAAAAAAAAAAAAAAAAAAAAAAAAAAAAAAAAAAAAAAAAAAAAAAAAAAAAAAAAAAAAAAAAAAAAAAAAAAAAAAAAAAAAAAAAAAAAAAAAAAAAAAAAAAAAAAAAAAAAAAAAAAAAAAAAAAAAAAAAAAAAAAAAAAAAAAAAAAAAAAAAAAAAAAAAAAAAAAAAAAAAAAAAAAAAAAAAAAAAAAAAAAAAAAAAAAAAAAAAAAAAAAAAAAAAAAAAAAAAAAAAAAAAAAAAAAAAAAAAAAAAAAAAAAAAAAAAAAAAAAAAAAAAAAAAAAAAAAAAAAAAAAAAAAAAAAAAAAAAAAAAAAAAAAAAAAAAAAAAAAAAAAAAAAAAAAAAAAAAAAAAAAAAAAAAAAAAAAAAAAAAAAAAAAAAAAAAAAAAAAAAAAAAAAAAAAAAAAAAAAAAAAAAAAAAAAAAAAAAAAAAAAAAAAAAAAAAAAAAAAAAAAAAAAAAAAAAAAAAAAAAAAAAAAAAAAAAAAAAAAAAAAAAAAAAAAAAAAAAAAAAAAAAAAAAAAAAAAAAAAAAAAAAAAAAAAAAAAAAAAAAAAAAAAAAAAAAAAAAAAAAAAAAAAAAAAAAAAAAAAAAAAAAAAAAAAAAAAAAAAAAAAAAAAAAAAAAAAAAAAAAAAAAAAAAAAAAAAAAAAAAAAAAAAAAAAAAAAAAAAAAAAAAAAAAAAAAAAAAAAAAAAAAAAAAAAAAAAAAAAAAAAAAAAAAAAAAAAAAAAAAAAAAAAAAAAAAAAAAAAAAAAAAAAAAAAAAAAAAAAAAAAAAAAAAAAAAAAAAAAAAAAAAAAAAAAAAAAAAAAAAAAAAAAAAAAAAAAAAAAAAAAAAAAAAAAAAAAAAAAAAAAAAAAAAAAAAAAAAAAAAAAAAAAAAAAAAAAAAAAAAAAAAAAAAAAAAAAAAAAAAAAAAAAAAAAAAAAAAAAAAAAAAAAAAAAAAAAAAAAAAAAAAAAAAAAAAAAAAAAAAAAAAAAAAAAAAAAAAAAAAAAAAAAAAAAAAAAAAAAAAAAAAAAAAAAAAAAAAAAAAAAAAAAAAAAAAAAAAAAAAAAAAAAAAAAAAAAAAAAAAAAAAAAAAAAAAAAAAAAAAAAAAAAAAAAAAAAAAAAAAAAAAAAAAAAAAAAAAAAAAAAAAAAAAAAAAAAAAAAAAAAAAAAAAAAAAAAAAAAAAAAAAAAAAAAAAAAAAAAAAAAAAAAAAAAAAAAAAAAAAAAAAAAAAAAAAAAAAAAAAAAAAAAAAAAAAAAAAAAAAAAAAAAAAAAAAAAAAAAAAAAAAAAAAAAAAAAAAAAAAAAAAAAAAAAAAAAAAAAAAAAAAAAAAAAAAAAAAAAAAAAAAAAAAAAAAAAAAAAAAAAAAAAAAAAAAAAAAAAAAAAAAAAAAAAAAAAAAAAAAAAAAAAAAAAAAAAAAAAAAAAAAAAAAAAAAAAAAAAAAAAAAAAAAAAAAAAAAAAAAAAAAAAAAAAAAAAAAAAAAAAAAAAAAAAAAAAAAAAAAAAAAAAAAAAAAAAAAAAAAAAAAAAAAAAAAAAAAAAAAAAAAAAAAAAAAAAAAAAAAAAAAAAAAAAAAAAAAAAAAAAAAAAAAAAAAAAAAAAAAAAAAAAAAAAAAAAAAAAAAAAAAAAAAAAAAAAAAAAAAAAAAAAAAAAAAAAAAAAAAAAAAAAAAAAAAAAAAAAAAAAAAAAAAAAAAAAAAAAAAAAAAAAAAAAAAAAAAAAAAAAAAAAAAAAAAAAAAAAAAAAAAAAAAAAAAAAAAAAAAAAAAAAAAAAAAAAAAAAAAAAAAAAAAAAAAAAAAAAAAAAAAAAAAAAAAAAAAAAAAAAAAAAAAAAAAAAAAAAAAAAAAAAAAAAAAAAAAAAAAAAAAAAAAAAAAAAAAAAAAAAAAAAAAAAAAAAAAAAAAAAAAAAAAAAAAAAAAAAAAAAAAAAAAAAAAAAAAAAAAAAAAAAAAAAAAAAAAAAAAAAAAAAAAAAAAAAAAAAAAAAAAAAAAAAAAAAAAAAAAAAAAAAAAAAAAAAAAAAAAAAAAAAAAAAAAAAAAAAAAAAAAAAAAAAAAAAAAAAAAAAAAAAAAAAAAAAAAAAAAAAAAAAAAAAAAAAAAAAAAAAAAAAAAAAAAAAAAAAAAAAAAAAAAAAAAAAAAAAAAAAAAAAAAAAAAAAAAAAAAAAAAAAAAAAAAAAAAAAAAAAAAAAAAAAAAAAAAAAAAAAAAAAAAAAAAAAAAAAAAAAAAAAAAAAAAAAAAAAAAAAAAAAAAAAAAAAAAAAAAAAAAAAAAAAAAAAAAAAAAAAAAAAAAAAAAAAAAAAAAAAAAAAAAAAAAAAAAAAAAAAAAAAAAAAAAAAAAAAAAAAAAAAAAAAAAAAAAAAAAAAAAAAAAAAAAAAAAAAAAAAAAAAAAAAAAAAAAAAAAAAAAAAAAAAAAAAAAAAAAAAAAAAAAAAAAAAAAAAAAAAAAAAAAAAAAAAAAAAAAAAAAAAAAAAAAAAAAAAAAAAAAAAAAAAAAAAAAAAAAAAAAAAAAAAAAAAAAAAAAAAAAAAAAAAAAAAAAAAAAAAAAAAAAAAAAAAAAAAAAAAAAAAAAAAAAAAAAAAAAAAAAAAAAAAAAAAAAAAAAAAAAAAAAAAAAAAAAAAAAAAAAAAAAAAAAAAAAAAAAAAAAAAAAAAAAAAAAAAAAAAAAAAAAAAAAAAAAAAAAAAAAAAAAAAAAAAAAAAAAAAAAAAAAAAAAAAAAAAAAAAAAAAAAAAAAAAAAAAAAAAAAAAAAAAAAAAAAAAAAAAAAAAAAAAAAAAAAAAAAAAAAAAAAAAAAAAAAAAAAAAAAAAAAAAAAAAAAAAAAAAAAAAAAAAAAAAAAAAAAAAAAAAAAAAAAAAAAAAAAAAAAAAAAAAAAAAAAAAAAAAAAAAAAAAAAAAAAAAAAAAAAAAAAAAAAAAAAAAAAAAAAAAAAAAAAAAAAAAAAAAAAAAAAAAAAAAAAAAAAAAAAAAAAAAAAAAAAAAAAAAAAAAAAAAAAAAAAAAAAAAAAAAAAAAAAAAAAAAAAAAAAAAAAAAAAAAAAAAAAAAAAAAAAAAAAAAAAAAAAAAAAAAAAAAAAAAAAAAAAAAAAAAAAAAAAAAAAAAAAAAAAAAAAAAAAAAAAAAAAAAAAAAAAAAAAAAAAAAAAAAAAAAAAAAAAAAAAAAAAAAAAAAAAAAAAAAAAAAAAAAAAAAAAAAAAAAAAAAAAAAAAAAAAAAAAAAAAAAAAAAAAAAAAAAAAAAAAAAAAAAAAAAAAAAAAAAAAAAAAAAAAAAAAAAAAAAAAAAAAAAAAAAAAAAAAAAAAAAAAAAAAAAAAAAAAAAAAAAAAAAAAAAAAAAAAAAAAAAAAAAAAAAAAAAAAAAAAAAAAAAAAAAAAAAAAAAAAAAAAAAAAAAAAAAAAAAAAAAAAAAAAAAAAAAAAAAAAAAAAAAAAAAAAAAAAAAAAAAAAAAAAAAAAAAAAAAAAAAAAAAAAAAAAAAAAAAAAAAAAAAAAAAAAAAAAAAAAAAAAAAAAAAAAAAAAAAAAAAAAAAAAAAAAAAAAAAAAAAAAAAAAAAAAAAAAAAAAAAAAAAAAAAAAAAAAAAAAAAAAAAAAAAAAAAAAAAAAAAAAAAAAAAAAAAAAAAAAAAAAAAAAAAAAAAAAAAAAAAAAAAAAAAAAAAAAAAAAAAAAAAAAAAAAAAAAAAAAAAAAAAAAAAAAAAAAAAAAAAAAAAAAAAAAAAAAAAAAAAAAAAAAAAAAAAAAAAAAAAAAAAAAAAAAAAAAAAAAAAAAAAAAAAAAAAAAAAAAAAAAAAAAAAAAAAAAAAAAAAAAAAAAAAAAAAAAAAAAAAAAAAAAAAAAAAAAAAAAAAAAAAAAAAAAAAAAAAAAAAAAAAAAAAAAAAAAAAAAAAAAAAAAAAAAAAAAAAAAAAAAAAAAAAAAAAAAAAAAAAAAAAAAAAAAAAAAAAAAAAAAAAAAAAAAAAAAAAAAAAAAAAAAAAAAAAAAAAAAAAAAAAAAAAAAAAAAAAAAAAAAAAAAAAAAAAAAAAAAAAAAAAAAAAAAAAAAAAAAAAAAAAAAAAAAAAAAAAAAAAAAAAAAAAAAAAAAAAAAAAAAAAAAAAAAAAAAAAAAAAAAAAAAAAAAAAAAAAAAAAAAAAAAAAAAAAAAAAAAAAAAAAAAAAAAAAAAAAAAAAAAAAAAAAAAAAAAAAAAAAAAAAAAAAAAAAAAAAAAAAAAAAAAAAAAAAAAAAAAAAAAAAAAAAAAAAAAAAAAAAAAAAAAAAAAAAAAAAAAAAAAAAAAAAAAAAAAAAAAAAAAAAAAAAAAAAAAAAAAAAAAAAAAAAAAAAAAAAAAAAAAAAAAAAAAAAAAAAAAAAAAAAAAAAAAAAAAAAAAAAAAAAAAAAAAAAAAAAAAAAAAAAAAAAAAAAAAAAAAAAAAAAAAAAAAAAAAAAAAAAAAAAAAAAAAAAAAAAAAAAAAAAAAAAAAAAAAAAAAAAAAAAAAAAAAAAAAAAAAAAAAAAAAAAAAAAAAAAAAAAAAAAAAAAAAAAAAAAAAAAAAAAAAAAAAAAAAAAAAAAAAAAAAAAAAAAAAAAAAAAAAAAAAAAAAAAAAAAAAAAAAAAAAAAAAAAAAAAAAAAAAAAAAAAAAAAAAAAAAAAAAAAAAAAAAAAAAAAAAAAAAAAAAAAAAAAAAAAAAAAAAAAAAAAAAAAAAAAAAAAAAAAAAAAAAAAAAAAAAAAAAAAAAAAAAAAAAAAAAAAAAAAAAAAAAAAAAAAAAAAAAAAAAAAAAAAAAAAAAAAAAAAAAAAAAAAAAAAAAAAAAAAAAAAAAAAAAAAAAAAAAAAAAAAAAAAAAAAAAAAAAAAAAAAAAAAAAAAAAAAAAAAAAAAAAAAAAAAAAAAAAAAAAAAAAAAAAAAAAAAAAAAAAAAAAAAAAAAAAAAAAAAAAAAAAAAAAAAAAAAAAAAAAAAAAAAAAAAAAAAAAAAAAAAAAAAAAAAAAAAAAAAAAAAAAAAAAAAAAAAAAAAAAAAAAAAAAAAAAAAAAAAAAAAAAAAAAAAAAAAAAAAAAAAAAAAAAAAAAAAAAAAAAAAAAAAAAAAAAAAAAAAAAAAAAAAAAAAAAAAAAAAAAAAAAAAAAAAAAAAAAAAAAAAAAAAAAAAAAAAAAAAAAAAAAAAAAAAAAAAAAAAAAAAAAAAAAAAAAAAAAAAAAAAAAAAAAAAAAAAAAAAAAAAAAAAAAAAAAAAAAAAAAAAAAAAAAAAAAAAAAAAAAAAAAAAAAAAAAAAAAAAAAAAAAAAAAAAAAAAAAAAAAAAAAAAAAAAAAAAAAAAAAAAAAAAAAAAAAAAAAAAAAAAAAAAAAAAAAAAAAAAAAAAAAAAAAAAAAAAAAAAAAAAAAAAAAAAAAAAAAAAAAAAAAAAAAAAAAAAAAAAAAAAAAAAAAAAAAAAAAAAAAAAAAAAAAAAAAAAAAAAAAAAAAAAAAAAAAAAAAAAAAAAAAAAAAAAAAAAAAAAAAAAAAAAAAAAAAAAAAAAAAAAAAAAAAAAAAAAAAAAAAAAAAAAAAAAAAAAAAAAAAAAAAAAAAAAAAAAAAAAAAAAAAAAAAAAAAAAAAAAAAAAAAAAAAAAAAAAAAAAAAAAAAAAAAAAAAAAAAAAAAAAAAAAAAAAAAAAAAAAAAAAAAAAAAAAAAAAAAAAAAAAAAAAAAAAAAAAAAAAAAAAAAAAAAAAAAAAAAAAAAAAAAAAAAAAAAAAAAAAAAAAAAAAAAAAAAAAAAAAAAAAAAAAAAAAAAAAAAAAAAAAAAAAAAAAAAAAAAAAAAAAAAAAAAAAAAAAAAAAAAAAAAAAAAAAAAAAAAAAAAAAAAAAAAAAAAAAAAAAAAAAAAAAAAAAAAAAAAAAAAAAAAAAAAAAAAAAAAAAAAAAAAAAAAAAAAAAAAAAAAAAAAAAAAAAAAAAAAAAAAAAAAAAAAAAAAAAAAAAAAAAAAAAAAAAAAAAAAAAAAAAAAAAAAAAAAAAAAAAAAAAAAAAAAAAAAAAAAAAAAAAAAAAAAAAAAAAAAAAAAAAAAAAAAAAAAAAAAAAAAAAAAAAAAAAAAAAAAAAAAAAAAAAAAAAAAAAAAAAAAAAAAAAAAAAAAAAAAAAAAAAAAAAAAAAAAAAAAAAAAAAAAAAAAAAAAAAAAAAAAAAAAAAAAAAAAAAAAAAAAAAAAAAAAAAAAAAAAAAAAAAAAAAAAAAAAAAAAAAAAAAAAAAAAAAAAAAAAAAAAAAAAAAAAAAAAAAAAAAAAAAAAAAAAAAAAAAAAAAAAAAAAAAAAAAAAAAAAAAAAAAAAAAAAAAAAAAAAAAAAAAAAAAAAAAAAAAAAAAAAAAAAAAAAAAAAAAAAAAAAAAAAAAAAAAAAAAAAAAAAAAAAAAAAAAAAAAAAAAAAAAAAAAAAAAAAAAAAAAAAAAAAAAAAAAAAAAAAAAAAAAAAAAAAAAAAAAAAAAAAAAAAAAAAAAAAAAAAAAAAAAAAAAAAAAAAAAAAAAAAAAAAAAAAAAAAAAAAAAAAAAAAAAAAAAAAAAAAAAAAAAAAAAAAAAAAAAAAAAAAAAAAAAAAAAAAAAAAAAAAAAAAAAAAAAAAAAAAAAAAAAAAAAAAAAAAAAAAAAAAAAAAAAAAAAAAAAAAAAAAAAAAAAAAAAAAAAAAAAAAAAAAAAAAAAAAAAAAAAAAAAAAAAAAAAAAAAAAAAAAAAAAAAAAAAAAAAAAAAAAAAAAAAAAAAAAAAAAAAAAAAAAAAAAAAAAAAAAAAAAAAAAAAAAAAAAAAAAAAAAAAAAAAAAAAAAAAAAAAAAAAAAAAAAAAAAAAAAAAAAAAAAAAAAAAAAAAAAAAAAAAAAAAAAAAAAAAAAAAAAAAAAAAAAAAAAAAAAAAAAAAAAAAAAAAAAAAAAAAAAAAAAAAAAAAAAAAAAAAAAAAAAAAAAAAAAAAAAAAAAAAAAAAAAAAAAAAAAAAAAAAAAAAAAAAAAAAAAAAAAAAAAAAAAAAAAAAAAAAAAAAAAAAAAAAAAAAAAAAAAAAAAAAAAAAAAAAAAAAAAAAAAAAAAAAAAAAAAAAAAAAAAAAAAAAAAAAAAAAAAAAAAAAAAAAAAAAAAAAAAAAAAAAAAAAAAAAAAAAAAAAAAAAAAAAAAAAAAAAAAAAAAAAAAAAAAAAAAAAAAAAAAAAAAAAAAAAAAAAAAAAAAAAAAAAAAAAAAAAAAAAAAAAAAAAAAAAAAAAAAAAAAAAAAAAAAAAAAAAAAAAAAAAAAAAAAAAAAAAAAAAAAAAAAAAAAAAAAAAAAAAAAAAAAAAAAAAAAAAAAAAAAAAAAAAAAAAAAAAAAAAAAAAAAAAAAAAAAAAAAAAAAAAAAAAAAAAAAAAAAAAAAAAAAAAAAAAAAAAAAAAAAAAAAAAAAAAAAAAAAAAAAAAAAAAAAAAAAAAAAAAAAAAAAAAAAAAAAAAAAAAAAAAAAAAAAAAAAAAAAAAAAAAAAAAAAAAAAAAAAAAAAAAAAAAAAAAAAAAAAAAAAAAAAAAAAAAAAAAAAAAAAAAAAAAAAAAAAAAAAAAAAAAAAAAAAAAAAAAAAAAAAAAAAAAAAAAAAAAAAAAAAAAAAAAAAAAAAAAAAAAAAAAAAAAAAAAAAAAAAAAAAAAAAAAAAAAAAAAAAAAAAAAAAAAAAAAAAAAAAAAAAAAAAAAAAAAAAAAAAAAAAAAAAAAAAAAAAAAAAAAAAAAAAAAAAAAAAAAAAAAAAAAAAAAAAAAAAAAAAAAAAAAAAAAAAAAAAAAAAAAAAAAAAAAAAAAAAAAAAAAAAAAAAAAAAAAAAAAAAAAAAAAAAAAAAAAAAAAAAAAAAAAAAAAAAAAAAAAAAAAAAAAAAAAAAAAAAAAAAAAAAAAAAAAAAAAAAAAAAAAAAAAAAAAAAAAAAAAAAAAAAAAAAAAAAAAAAAAAAAAAAAAAAAAAAAAAAAAAAAAAAAAAAAAAAAAAAAAAAAAAAAAAAAAAAAAAAAAAAAAAAAAAAAAAAAAAAAAAAAAAAAAAAAAAAAAAAAAAAAAAAAAAAAAAAAAAAAAAAAAAAAAAAAAAAAAAAAAAAAAAAAAAAAAAAAAAAAAAAAAAAAAAAAAAAAAAAAAAAAAAAAAAAAAAAAAAAAAAAAAAAAAAAAAAAAAAAAAAAAAAAAAAAAAAAAAAAAAAAAAAAAAAAAAAAAAAAAAAAAAAAAAAAAAAAAAAAAAAAAAAAAAAAAAAAAAAAAAAAAAAAAAAAAAAAAAAAAAAAAAAAAAAAAAAAAAAAAAAAAAAAAAAAAAAAAAAAAAAAAAAAAAAAAAAAAAAAAAAAAAAAAAAAAAAAAAAAAAAAAAAAAAAAAAAAAAAAAAAAAAAAAAAAAAAAAAAAAAAAAAAAAAAAAAAAAAAAAAAAAAAAAAAAAAAAAAAAAAAAAAAAAAAAAAAAAAAAAAAAAAAAAAAAAAAAAAAAAAAAAAAAAAAAAAAAAAAAAAAAAAAAAAAAAAAAAAAAAAAAAAAAAAAAAAAAAAAAAAAAAAAAAAAAAAAAAAAAAAAAAAAAAAAAAAAAAAAAAAAAAAAAAAAAAAAAAAAAAAAAAAAAAAAAAAAAAAAAAAAAAAAAAAAAAAAAAAAAAAAAAAAAAAAAAAAAAAAAAAAAAAAAAAAAAAAAAAAAAAAAAAAAAAAAAAAAAAAAAAAAAAAAAAAAAAAAAAAAAAAAAAAAAAAAAAAAAAAAAAAAAAAAAAAAAAAAAAAAAAAAAAAAAAAAAAAAAAAAAAAAAAAAAAAAAAAAAAAAAAAAAAAAAAAAAAAAAAAAAAAAAAAAAAAAAAAAAAAAAAAAAAAAAAAAAAAAAAAAAAAAAAAAAAAAAAAAAAAAAAAAAAAAAAAAAAAAAAAAAAAAAAAAAAAAAAAAAAAAAAAAAAAAAAAAAAAAAAAAAAAAAAAAAAAAAAAAAAAAAAAAAAAAAAAAAAAAAAAAAAAAAAAAAAAAAAAAAAAAAAAAAAAAAAAAAAAAAAAAAAAAAAAAAAAAAAAAAAAAAAAAAAAAAAAAAAAAAAAAAAAAAAAAAAAAAAAAAAAAAAAAAAAAAAAAAAAAAAAAAAAAAAAAAAAAAAAAAAAAAAAAAAAAAAAAAAAAAAAAAAAAAAAAAAAAAAAAAAAAAAAAAAAAAAAAAAAAAAAAAAAAAAAAAAAAAAAAAAAAAAAAAAAAAAAAAAAAAAAAAAAAAAAAAAAAAAAAAAAAAAAAAAAAAAAAAAAAAAAAAAAAAAAAAAAAAAAAAAAAAAAAAAAAAAAAAAAAAAAAAAAAAAAAAAAAAAAAAAAAAAAAAAAAAAAAAAAAAAAAAAAAAAAAAAAAAAAAAAAAAAAAAAAAAAAAAAAAAAAAAAAAAAAAAAAAAAAAAAAAAAAAAAAAAAAAAAAAAAAAAAAAAAAAAAAAAAAAAAAAAAAAAAAAAAAAAAAAAAAAAAAAAAAAAAAAAAAAAAAAAAAAAAAAAAAAAAAAAAAAAAAAAAAAAAAAAAAAAAAAAAAAAAAAAAAAAAAAAAAAAAAAAAAAAAAAAAAAAAAAAAAAAAAAAAAAAAAAAAAAAAAAAAAAAAAAAAAAAAAAAAAAAAAAAAAAAAAAAAAAAAAAAAAAAAAAAAAAAAAAAAAAAAAAAAAAAAAAAAAAAAAAAAAAAAAAAAAAAAAAAAAAAAAAAAAAAAAAAAAAAAAAAAAAAAAAAAAAAAAAAAAAAAAAAAAAAAAAAAAAAAAAAAAAAAAAAAAAAAAAAAAAAAAAAAAAAAAAAAAAAAAAAAAAAAAAAAAAAAAAAAAAAAAAAAAAAAAAAAAAAAAAAAAAAAAAAAAAAAAAAAAAAAAAAAAAAAAAAAAAAAAAAAAAAAAAAAAAAAAAAAAAAAAAAAAAAAAAAAAAAAAAAAAAAAAAAAAAAAAAAAAAAAAAAAAAAAAAAAAAAAAAAAAAAAAAAAAAAAAAAAAAAAAAAAAAAAAAAAAAAAAAAAAAAAAAAAAAAAAAAAAAAAAAAAAAAAAAAAAAAAAAAAAAAAAAAAAAAAAAAAAAAAAAAAAAAAAAAAAAAAAAAAAAAAAAAAAAAAAAAAAAAAAAAAAAAAAAAAAAAAAAAAAAAAAAAAAAAAAAAAAAAAAAAAAAAAAAAAAAAAAAAAAAAAAAAAAAAAAAAAAAAAAAAAAAAAAAAAAAAAAAAAAAAAAAAAAAAAAAAAAAAAAAAAAAAAAAAAAAAAAAAAAAAAAAAAAAAAAAAAAAAAAAAAAAAAAAAAAAAAAAAAAAAAAAAAAAAAAAAAAAAAAAAAAAAAAAAAAAAAAAAAAAAAAAAAAAAAAAAAAAAAAAAAAAAAAAAAAAAAAAAAAAAAAAAAAAAAAAAAAAAAAAAAAAAAAAAAAAAAAAAAAAAAAAAAAAAAAAAAAAAAAAAAAAAAAAAAAAAAAAAAAAAAAAAAAAAAAAAAAAAAAAAAAAAAAAAAAAAAAAAAAAAAAAAAAAAAAAAAAAAAAAAAAAAAAAAAAAAAAAAAAAAAAAAAAAAAAAAAAAAAAAAAAAAAAAAAAAAAAAAAAAAAAAAAAAAAAAAAAAAAAAAAAAAAAAAAAAAAAAAAAAAAAAAAAAAAAAAAAAAAAAAAAAAAAAAAAAAAAAAAAAAAAAAAAAAAAAAAAAAAAAAAAAAAAAAAAAAAAAAAAAAAAAAAAAAAAAAAAAAAAAAAAAAAAAAAAAAAAAAAAAAAAAAAAAAAAAAAAAAAAAAAAAAAAAAAAAAAAAAAAAAAAAAAAAAAAAAAAAAAAAAAAAAAAAAAAAAAAAAAAAAAAAAAAAAAAAAAAAAAAAAAAAAAAAAAAAAAAAAAAAAAAAAAAAAAAAAAAAAAAAAAAAAAAAAAAAAAAAAAAAAAAAAAAAAAAAAAAAAAAAAAAAAAAAAAAAAAAAAAAAAAAAAAAAAAAAAAAAAAAAAAAAAAAAAAAAAAAAAAAAAAAAAAAAAAAAAAAAAAAAAAAAAAAAAAAAAAAAAAAAAAAAAAAAAAAAAAAAAAAAAAAAAAAAAAAAAAAAAAAAAAAAAAAAAAAAAAAAAAAAAAAAAAAAAAAAAAAAAAAAAAAAAAAAAAAAAAAAAAAAAAAAAAAAAAAAAAAAAAAAAAAAAAAAAAAAAAAAAAAAAAAAAAAAAAAAAAAAAAAAAAAAAAAAAAAAAAAAAAAAAAAAAAAAAAAAAAAAAAAAAAAAAAAAAAAAAAAAAAAAAAAAAAAAAAAAAAAAAAAAAAAAAAAAAAAAAAAAAAAAAAAAAAAAAAAAAAAAAAAAAAAAAAAAAAAAAAAAAAAAAAAAAAAAAAAAAAAAAAAAAAAAAAAAAAAAAAAAAAAAAAAAAAAAAAAAAAAAAAAAAAAAAAAAAAAAAAAAAAAAAAAAAAAAAAAAAAAAAAAAAAAAAAAAAAAAAAAAAAAAAAAAAAAAAAAAAAAAAAAAAAAAAAAAAAAAAAAAAAAAAAAAAAAAAAAAAAAAAAAAAAAAAAAAAAAAAAAAAAAAAAAAAAAAAAAAAAAAAAAAAAAAAAAAAAAAAAAAAAAAAAAAAAAAAAAAAAAAAAAAAAAAAAAAAAAAAAAAAAAAAAAAAAAAAAAAAAAAAAAAAAAAAAAAAAAAAAAAAAAAAAAAAAAAAAAAAAAAAAAAAAAAAAAAAAAAAAAAAAAAAAAAAAAAAAAAAAAAAAAAAAAAAAAAAAAAAAAAAAAAAAAAAAAAAAAAAAAAAAAAAAAAAAAAAAAAAAAAAAAAAAAAAAAAAAAAAAAAAAAAAAAAAAAAAAAAAAAAAAAAAAAAAAAAAAAAAAAAAAAAAAAAAAAAAAAAAAAAAAAAAAAAAAAAAAAAAAAAAAAAAAAAAAAAAAAAAAAAAAAAAAAAAAAAAAAAAAAAAAAAAAAAAAAAAAAAAAAAAAAAAAAAAAAAAAAAAAAAAAAAAAAAAAAAAAAAAAAAAAAAAAAAAAAAAAAAAAAAAAAAAAAAAAAAAAAAAAAAAAAAAAAAAAAAAAAAAAAAAAAAAAAAAAAAAAAAAAAAAAAAAAAAAAAAAAAAAAAAAAAAAAAAAAAAAAAAAAAAAAAAAAAAAAAAAAAAAAAAAAAAAAAAAAAAAAAAAAAAAAAAAAAAAAAAAAAAAAAAAAAAAAAAAAAAAAAAAAAAAAAAAAAAAAAAAAAAAAAAAAAAAAAAAAAAAAAAAAAAAAAAAAAAAAAAAAAAAAAAAAAAAAAAAAAAAAAAAAAAAAAAAAAAAAAAAAAAAAAAAAAAAAAAAAAAAAAAAAAAAAAAAAAAAAAAAAAAAAAAAAAAAAAAAAAAAAAAAAAAAAAAAAAAAAAAAAAAAAAAAAAAAAAAAAAAAAAAAAAAAAAAAAAAAAAAAAAAAAAAAAAAAAAAAAAAAAAAAAAAAAAAAAAAAAAAAAAAAAAAAAAAAAAAAAAAAAAAAAAAAAAAAAAAAAAAAAAAAAAAAAAAAAAAAAAAAAAAAAAAAAAAAAAAAAAAAAAAAAAAAAAAAAAAAAAAAAAAAAAAAAAAAAAAAAAAAAAAAAAAAAAAAAAAAAAAAAAAAAAAAAAAAAAAAAAAAAAAAAAAAAAAAAAAAAAAAAAAAAAAAAAAAAAAAAAAAAAAAAAAAAAAAAAAAAAAAAAAAAAAAAAAAAAAAAAAAAAAAAAAAAAAAAAAAAAAAAAAAAAAAAAAAAAAAAAAAAAAAAAAAAAAAAAAAAAAAAAAAAAAAAAAAAAAAAAAAAAAAAAAAAAAAAAAAAAAAAAAAAAAAAAAAAAAAAAAAAAAAAAAAAAAAAAAAAAAAAAAAAAAAAAAAAAAAAAAAAAAAAAAAAAAAAAAAAAAAAAAAAAAAAAAAAAAAAAAAAAAAAAAAAAAAAAAAAAAAAAAAAAAAAAAAAAAAAAAAAAAAAAAAAAAAAAAAAAAAAAAAAAAAAAAAAAAAAAAAAAAAAAAAAAAAAAAAAAAAAAAAAAAAAAAAAAAAAAAAAAAAAAAAAAAAAAAAAAAAAAAAAAAAAAAAAAAAAAAAAAAAAAAAAAAAAAAAAAAAAAAAAAAAAAAAAAAAAAAAAAAAAAAAAAAAAAAAAAAAAAAAAAAAAAAAAAAAAAAAAAAAAAAAAAAAAAAAAAAAAAAAAAAAAAAAAAAAAAAAAAAAAAAAAAAAAAAAAAAAAAAAAAAAAAAAAAAAAAAAAAAAAAAAAAAAAAAAAAAAAAAAAAAAAAAAAAAAAAAAAAAAAAAAAAAAAAAAAAAAAAAAAAAAAAAAAAAAAAAAAAAAAAAAAAAAAAAAAAAAAAAAAAAAAAAAAAAAAAAAAAAAAAAAAAAAAAAAAAAAAAAAAAAAAAAAAAAAAAAAAAAAAAAAAAAAAAAAAAAAAAAAAAAAAAAAAAAAAAAAAAAAAAAAAAAAAAAAAAAAAAAAAAAAAAAAAAAAAAAAAAAAAAAAAAAAAAAAAAAAAAAAAAAAAAAAAAAAAAAAAAAAAAAAAAAAAAAAAAAAAAAAAAAAAAAAAAAAAAAAAAAAAAAAAAAAAAAAAAAAAAAAAAAAAAAAAAAAAAAAAAAAAAAAAAAAAAAAAAAAAAAAAAAAAAAAAAAAAAAAAAAAAAAAAAAAAAAAAAAAAAAAAAAAAAAAAAAAAAAAAAAAAAAAAAAAAAAAAAAAAAAAAAAAAAAAAAAAAAAAAAAAAAAAAAAAAAAAAAAAAAAAAAAAAAAAAAAAAAAAAAAAAAAAAAAAAAAAAAAAAAAAAAAAAAAAAAAAAAAAAAAAAAAAAAAAAAAAAAAAAAAAAAAAAAAAAAAAAAAAAAAAAAAAAAAAAAAAAAAAAAAAAAAAAAAAAAAAAAAAAAAAAAAAAAAAAAAAAAAAAAAAAAAAAAAAAAAAAAAAAAAAAAAAAAAAAAAAAAAAAAAAAAAAAAAAAAAAAAAAAAAAAAAAAAAAAAAAAAAAAAAAAAAAAAAAAAAAAAAAAAAAAAAAAAAAAAAAAAAAAAAAAAAAAAAAAAAAAAAAAAAAAAAAAAAAAAAAAAAAAAAAAAAAAAAAAAAAAAAAAAAAAAAAAAAAAAAAAAAAAAAAAAAAAAAAAAAAAAAAAAAAAAAAAAAAAAAAAAAAAAAAAAAAAAAAAAAAAAAAAAAAAAAAAAAAAAAAAAAAAAAAAAAAAAAAAAAAAAAAAAAAAAAAAAAAAAAAAAAAAAAAAAAAAAAAAAAAAAAAAAAAAAAAAAAAAAAAAAAAAAAAAAAAAAAAAAAAAAAAAAAAAAAAAAAAAAAAAAAAAAAAAAAAAAAAAAAAAAAAAAAAAAAAAAAAAAAAAAAAAAAAAAAAAAAAAAAAAAAAAAAAAAAAAAAAAAAAAAAAAAAAAAAAAAAAAAAAAAAAAAAAAAAAAAAAAAAAAAAAAAAAAAAAAAAAAAAAAAAAAAAAAAAAAAAAAAAAAAAAAAAAAAAAAAAAAAAAAAAAAAAAAAAAAAAAAAAAAAAAAAAAAAAAAAAAAAAAAAAAAAAAAAAAAAAAAAAAAAAAAAAAAAAAAAAAAAAAAAAAAAAAAAAAAAAAAAAAAAAAAAAAAAAAAAAAAAAAAAAAAAAAAAAAAAAAAAAAAAAAAAAAAAAAAAAAAAAAAAAAAAAAAAAAAAAAAAAAAAAAAAAAAAAAAAAAAAAAAAAAAAAAAAAAAAAAAAAAAAAAAAAAAAAAAAAAAAAAAAAAAAAAAAAAAAAAAAAAAAAAAAAAAAAAAAAAAAAAAAAAAAAAAAAAAAAAAAAAAAAAAAAAAAAAAAAAAAAAAAAAAAAAAAAAAAAAAAAAAAAAAAAAAAAAAAAAAAAAAAAAAAAAAAAAAAAAAAAAAAAAAAAAAAAAAAAAAAAAAAAAAAAAAAAAAAAAAAAAAAAAAAAAAAAAAAAAAAAAAAAAAAAAAAAAAAAAAAAAAAAAAAAAAAAAAAAAAAAAAAAAAAAAAAAAAAAAAAAAAAAAAAAAAAAAAAAAAAAAAAAAAAAAAAAAAAAAAAAAAAAAAAAAAAAAAAAAAAAAAAAAAAAAAAAAAAAAAAAAAAAAAAAAAAAAAAAAAAAAAAAAAAAAAAAAAAAAAAAAAAAAAAAAAAAAAAAAAAAAAAAAAAAAAAAAAAAAAAAAAAAAAAAAAAAAAAAAAAAAAAAAAAAAAAAAAAAAAAAAAAAAAAAAAAAAAAAAAAAAAAAAAAAAAAAAAAAAAAAAAAAAAAAAAAAAAAAAAAAAAAAAAAAAAAAAAAAAAAAAAAAAAAAAAAAAAAAAAAAAAAAAAAAAAAAAAAAAAAAAAAAAAAAAAAAAAAAAAAAAAAAAAAAAAAAAAAAAAAAAAAAAAAAAAAAAAAAAAAAAAAAAAAAAAAAAAAAAAAAAAAAAAAAAAAAAAAAAAAAAAAAAAAAAAAAAAAAAAAAAAAAAAAAAAAAAAAAAAAAAAAAAAAAAAAAAAAAAAAAAAAAAAAAAAAAAAAAAAAAAAAAAAAAAAAAAAAAAAAAAAAAAAAAAAAAAAAAAAAAAAAAAAAAAAAAAAAAAAAAAAAAAAAAAAAAAAAAAAAAAAAAAAAAAAAAAAAAAAAAAAAAAAAAAAAAAAAAAAAAAAAAAAAAAAAAAAAAAAAAAAAAAAAAAAAAAAAAAAAAAAAAAAAAAAAAAAAAAAAAAAAAAAAAAAAAAAAAAAAAAAAAAAAAAAAAAAAAAAAAAAAAAAAAAAAAAAAAAAAAAAAAAAAAAAAAAAAAAAAAAAAAAAAAAAAAAAAAAAAAAAAAAAAAAAAAAAAAAAAAAAAAAAAAAAAAAAAAAAAAAAAAAAAAAAAAAAAAAAAAAAAAAAAAAAAAAAAAAAAAAAAAAAAAAAAAAAAAAAAAAAAAAAAAAAAAAAAAAAAAAAAAAAAAAAAAAAAAAAAAAAAAAAAAAAAAAAAAAAAAAAAAAAAAAAAAAAAAAAAAAAAAAAAAAAAAAAAAAAAAAAAAAAAAAAAAAAAAAAAAAAAAAAAAAAAAAAAAAAAAAAAAAAAAAAAAAAAAAAAAAAAAAAAAAAAAAAAAAAAAAAAAAAAAAAAAAAAAAAAAAAAAAAAAAAAAAAAAAAAAAAAAAAAAAAAAAAAAAAAAAAAAAAAAAAAAAAAAAAAAAAAAAAAAAAAAAAAAAAAAAAAAAAAAAAAAAAAAAAAAAAAAAAAAAAAAAAAAAAAAAAAAAAAAAAAAAAAAAAAAAAAAAAAAAAAAAAAAAAAAAAAAAAAAAAAAAAAAAAAAAAAAAAAAAAAAAAAAAAAAAAAAAAAAAAAAAAAAAAAAAAAAAAAAAAAAAAAAAAAAAAAAAAAAAAAAAAAAAAAAAAAAAAAAAAAAAAAAAAAAAAAAAAAAAAAAAAAAAAAAAAAAAAAAAAAAAAAAAAAAAAAAAAAAAAAAAAAAAAAAAAAAAAAAAAAAAAAAAAAAAAAAAAAAAAAAAAAAAAAAAAAAAAAAAAAAAAAAAAAAAAAAAAAAAAAAAAAAAAAAAAAAAAAAAAAAAAAAAAAAAAAAAAAAAAAAAAAAAAAAAAAAAAAAAAAAAAAAAAAAAAAAAAAAAAAAAAAAAAAAAAAAAAAAAAAAAAAAAAAAAAAAAAAAAAAAAAAAAAAAAAAAAAAAAAAAAAAAAAAAAAAAAAAAAAAAAAAAAAAAAAAAAAAAAAAAAAAAAAAAAAAAAAAAAAAAAAAAAAAAAAAAAAAAAAAAAAAAAAAAAAAAAAAAAAAAAAAAAAAAAAAAAAAAAAAAAAAAAAAAAAAAAAAAAAAAAAAAAAAAAAAAAAAAAAAAAAAAAAAAAAAAAAAAAAAAAAAAAAAAAAAAAAAAAAAAAAAAAAAAAAAAAAAAAAAAAAAAAAAAAAAAAAAAAAAAAAAAAAAAAAAAAAAAAAAAAAAAAAAAAAAAAAAAAAAAAAAAAAAAAAAAAAAAAAAAAAAAAAAAAAAAAAAAAAAAAAAAAAAAAAAAAAAAAAAAAAAAAAAAAAAAAAAAAAAAAAAAAAAAAAAAAAAAAAAAAAAAAAAAAAAAAAAAAAAAAAAAAAAAAAAAAAAAAAAAAAAAAAAAAAAAAAAAAAAAAAAAAAAAAAAAAAAAAAAAAAAAAAAAAAAAAAAAAAAAAAAAAAAAAAAAAAAAAAAAAAAAAAAAAAAAAAAAAAAAAAAAAAAAAAAAAAAAAAAAAAAAAAAAAAAAAAAAAAAAAAAAAAAAAAAAAAAAAAAAAAAAAAAAAAAAAAAAAAAAAAAAAAAAAAAAAAAAAAAAAAAAAAAAAAAAAAAAAAAAAAAAAAAAAAAAAAAAAAAAAAAAAAAAAAAAAAAAAAAAAAAAAAAAAAAAAAAAAAAAAAAAAAAAAAAAAAAAAAAAAAAAAAAAAAAAAAAAAAAAAAAAAAAAAAAAAAAAAAAAAAAAAAAAAAAAAAAAAAAAAAAAAAAAAAAAAAAAAAAAAAAAAAAAAAAAAAAAAAAAAAAAAAAAAAAAAAAAAAAAAAAAAAAAAAAAAAAAAAAAAAAAAAAAAAAAAAAAAAAAAAAAAAAAAAAAAAAAAAAAAAAAAAAAAAAAAAAAAAAAAAAAAAAAAAAAAAAAAAAAAAAAAAAAAAAAAAAAAAAAAAAAAAAAAAAAAAAAAAAAAAAAAAAAAAAAAAAAAAAAAAAAAAAAAAAAAAAAAAAAAAAAAAAAAAAAAAAAAAAAAAAAAAAAAAAAAAAAAAAAAAAAAAAAAAAAAAAAAAAAAAAAAAAAAAAAAAAAAAAAAAAAAAAAAAAAAAAAAAAAAAAAAAAAAAAAAAAAAAAAAAAAAAAAAAAAAAAAAAAAAAAAAAAAAAAAAAAAAAAAAAAAAAAAAAAAAAAAAAAAAAAAAAAAAAAAAAAAAAAAAAAAAAAAAAAAAAAAAAAAAAAAAAAAAAAAAAAAAAAAAAAAAAAAAAAAAAAAAAAAAAAAAAAAAAAAAAAAAAAAAAAAAAAAAAAAAAAAAAAAAAAAAAAAAAAAAAAAAAAAAAAAAAAAAAAAAAAAAAAAAAAAAAAAAAAAAAAAAAAAAAAAAAAAAAAAAAAAAAAAAAAAAAAAAAAAAAAAAAAAAAAAAAAAAAAAAAAAAAAAAAAAAAAAAAAAAAAAAAAAAAAAAAAAAAAAAAAAAAAAAAAAAAAAAAAAAAAAAAAAAAAAAAAAAAAAAAAAAAAAAAAAAAAAAAAAAAAAAAAAAAAAAAAAAAAAAAAAAAAAAAAAAAAAAAAAAAAAAAAAAAAAAAAAAAAAAAAAAAAAAAAAAAAAAAAAAAAAAAAAAAAAAAAAAAAAAAAAAAAAAAAAAAAAAAAAAAAAAAAAAAAAAAAAAAAAAAAAAAAAAAAAAAAAAAAAAAAAAAAAAAAAAAAAAAAAAAAAAAAAAAAAAAAAAAAAAAAAAAAAAAAAAAAAAAAAAAAAAAAAAAAAAAAAAAAAAAAAAAAAAAAAAAAAAAAAAAAAAAAAAAAAAAAAAAAAAAAAAAAAAAAAAAAAAAAAAAAAAAAAAAAAAAAAAAAAAAAAAAAAAAAAAAAAAAAAAAAAAAAAAAAAAAAAAAAAAAAAAAAAAAAAAAAAAAAAAAAAAAAAAAAAAAAAAAAAAAAAAAAAAAAAAAAAAAAAAAAAAAAAAAAAAAAAAAAAAAAAAAAAAAAAAAAAAAAAAAAAAAAAAAAAAAAAAAAAAAAAAAAAAAAAAAAAAAAAAAAAAAAAAAAAAAAAAAAAAAAAAAAAAAAAAAAAAAAAAAAAAAAAAAAAAAAAAAAAAAAAAAAAAAAAAAAAAAAAAAAAAAAAAAAAAAAAAAAAAAAAAAAAAAAAAAAAAAAAAAAAAAAAAAAAAAAAAAAAAAAAAAAAAAAAAAAAAAAAAAAAAAAAAAAAAAAAAAAAAAAAAAAAAAAAAAAAAAAAAAAAAAAAAAAAAAAAAAAAAAAAAAAAAAAAAAAAAAAAAAAAAAAAAAAAAAAAAAAAAAAAAAAAAAAAAAAAAAAAAAAAAAAAAAAAAAAAAAAAAAAAAAAAAAAAAAAAAAAAAAAAAAAAAAAAAAAAAAAAAAAAAAAAAAAAAAAAAAAAAAAAAAAAAAAAAAAAAAAAAAAAAAAAAAAAAAAAAAAAAAAAAAAAAAAAAAAAAAAAAAAAAAAAAAAAAAAAAAAAAAAAAAAAAAAAAAAAAAAAAAAAAAAAAAAAAAAAAAAAAAAAAAAAAAAAAAAAAAAAAAAAAAAAAAAAAAAAAAAAAAAAAAAAAAAAAAAAAAAAAAAAAAAAAAAAAAAAAAAAAAAAAAAAAAAAAAAAAAAAAAAAAAAAAAAAAAAAAAAAAAAAAAAAAAAAAAAAAAAAAAAAAAAAAAAAAAAAAAAAAAAAAAAAAAAAAAAAAAAAAAAAAAAAAAAAAAAAAAAAAAAAAAAAAAAAAAAAAAAAAAAAAAAAAAAAAAAAAAAAAAAAAAAAAAAAAAAAAAAAAAAAAAAAAAAAAAAAAAAAAAAAAAAAAAAAAAAAAAAAAAAAAAAAAAAAAAAAAAAAAAAAAAAAAAAAAAAAAAAAAAAAAAAAAAAAAAAAAAAAAAAAAAAAAAAAAAAAAAAAAAAAAAAAAAAAAAAAAAAAAAAAAAAAAAAAAAAAAAAAAAAAAAAAAAAAAAAAAAAAAAAAAAAAAAAAAAAAAAAAAAAAAAAAAAAAAAAAAAAAAAAAAAAAAAAAAAAAAAAAAAAAAAAAAAAAAAAAAAAAAAAAAAAAAAAAAAAAAAAAAAAAAAAAAAAAAAAAAAAAAAAAAAAAAAAAAAAAAAAAAAAAAAAAAAAAAAAAAAAAAAAAAAAAAAAAAAAAAAAAAAAAAAAAAAAAAAAAAAAAAAAAAAAAAAAAAAAAAAAAAAAAAAAAAAAAAAAAAAAAAAAAAAAAAAAAAAAAAAAAAAAAAAAAAAAAAAAAAAAAAAAAAAAAAAAAAAAAAAAAAAAAAAAAAAAAAAAAAAAAAAAAAAAAAAAAAAAAAAAAAAAAAAAAAAAAAAAAAAAAAAAAAAAAAAAAAAAAAAAAAAAAAAAAAAAAAAAAAAAAAAAAAAAAAAAAAAAAAAAAAAAAAAAAAAAAAAAAAAAAAAAAAAAAAAAAAAAAAAAAAAAAAAAAAAAAAAAAAAAAAAAAAAAAAAAAAAAAAAAAAAAAAAAAAAAAAAAAAAAAAAAAAAAAAAAAAAAAAAAAAAAAAAAAAAAAAAAAAAAAAAAAAAAAAAAAAAAAAAAAAAAAAAAAAAAAAAAAAAAAAAAAAAAAAAAAAAAAAAAAAAAAAAAAAAAAAAAAAAAAAAAAAAAAAAAAAAAAAAAAAAAAAAAAAAAAAAAAAAAAAAAAAAAAAAAAAAAAAAAAAAAAAAAAAAAAAAAAAAAAAAAAAAAAAAAAAAAAAAAAAAAAAAAAAAAAAAAAAAAAAAAAAAAAAAAAAAAAAAAAAAAAAAAAAAAAAAAAAAAAAAAAAAAAAAAAAAAAAAAAAAAAAAAAAAAAAAAAAAAAAAAAAAAAAAAAAAAAAAAAAAAAAAAAAAAAAAAAAAAAAAAAAAAAAAAAAAAAAAAAAAAAAAAAAAAAAAAAAAAAAAAAAAAAAAAAAAAAAAAAAAAAAAAAAAAAAAAAAAAAAAAAAAAAAAAAAAAAAAAAAAAAAAAAAAAAAAAAAAAAAAAAAAAAAAAAAAAAAAAAAAAAAAAAAAAAAAAAAAAAAAAAAAAAAAAAAAAAAAAAAAAAAAAAAAAAAAAAAAAAAAAAAAAAAAAAAAAAAAAAAAAAAAAAAAAAAAAAAAAAAAAAAAAAAAAAAAAAAAAAAAAAAAAAAAAAAAAAAAAAAAAAAAAAAAAAAAAAAAAAAAAAAAAAAAAAAAAAAAAAAAAAAAAAAAAAAAAAAAAAAAAAAAAAAAAAAAAAAAAAAAAAAAAAAAAAAAAAAAAAAAAAAAAAAAAAAAAAAAAAAAAAAAAAAAAAAAAAAAAAAAAAAAAAAAAAAAAAAAAAAAAAAAAAAAAAAAAAAAAAAAAAAAAAAAAAAAAAAAAAAAAAAAAAAAAAAAAAAAAAAAAAAAAAAAAAAAAAAAAAAAAAAAAAAAAAAAAAAAAAAAAAAAAAAAAAAAAAAAAAAAAAAAAAAAAAAAAAAAAAAAAAAAAAAAAAAAAAAAAAAAAAAAAAAAAAAAAAAAAAAAAAAAAAAAAAAAAAAAAAAAAAAAAAAAAAAAAAAAAAAAAAAAAAAAAAAAAAAAAAAAAAAAAAAAAAAAAAAAAAAAAAAAAAAAAAAAAAAAAAAAAAAAAAAAAAAAAAAAAAAAAAAAAAAAAAAAAAAAAAAAAAAAAAAAAAAAAAAAAAAAAAAAAAAAAAAAAAAAAAAAAAAAAAAAAAAAAAAAAAAAAAAAAAAAAAAAAAAAAAAAAAAAAAAAAAAAAAAAAAAAAAAAAAAAAAAAAAAAAAAAAAAAAAAAAAAAAAAAAAAAAAAAAAAAAAAAAAAAAAAAAAAAAAAAAAAAAAAAAAAAAAAAAAAAAAAAAAAAAAAAAAAAAAAAAAAAAAAAAAAAAAAAAAAAAAAAAAAAAAAAAAAAAAAAAAAAAAAAAAAAAAAAAAAAAAAAAAAAAAAAAAAAAAAAAAAAAAAAAAAAAAAAAAAAAAAAAAAAAAAAAAAAAAAAAAAAAAAAAAAAAAAAAAAAAAAAAAAAAAAAAAAAAAAAAAAAAAAAAAAAAAAAAAAAAAAAAAAAAAAAAAAAAAAAAAAAAAAAAAAAAAAAAAAAAAAAAAAAAAAAAAAAAAAAAAAAAAAAAAAAAAAAAAAAAAAAAAAAAAAAAAAAAAAAAAAAAAAAAAAAAAAAAAAAAAAAAAAAAAAAAAAAAAAAAAAAAAAAAAAAAAAAAAAAAAAAAAAAAAAAAAAAAAAAAAAAAAAAAAAAAAAAAAAAAAAAAAAAAAAAAAAAAAAAAAAAAAAAAAAAAAAAAAAAAAAAAAAAAAAAAAAAAAAAAAAAAAAAAAAAAAAAAAAAAAAAAAAAAAAAAAAAAAAAAAAAAAAAAAAAAAAAAAAAAAAAAAAAAAAAAAAAAAAAAAAAAAAAAAAAAAAAAAAAAAAAAAAAAAAAAAAAAAAAAAAAAAAAAAAAAAAAAAAAAAAAAAAAAAAAAAAAAAAAAAAAAAAAAAAAAAAAAAAAAAAAAAAAAAAAAAAAAAAAAAAAAAAAAAAAAAAAAAAAAAAAAAAAAAAAAAAAAAAAAAAAAAAAAAAAAAAAAAAAAAAAAAAAAAAAAAAAAAAAAAAAAAAAAAAAAAAAAAAAAAAAAAAAAAAAAAAAAAAAAAAAAAAAAAAAAAAAAAAAAAAAAAAAAAAAAAAAAAAAAAAAAAAAAAAAAAAAAAAAAAAAAAAAAAAAAAAAAAAAAAAAAAAAAAAAAAAAAAAAAAAAAAAAAAAAAAAAAAAAAAAAAAAAAAAAAAAAAAAAAAAAAAAAAAAAAAAAAAAAAAAAAAAAAAAAAAAAAAAAAAAAAAAAAAAAAAAAAAAAAAAAAAAAAAAAAAAAAAAAAAAAAAAAAAAAAAAAAAAAAAAAAAAAAAAAAAAAAAAAAAAAAAAAAAAAAAAAAAAAAAAAAAAAAAAAAAAAAAAAAAAAAAAAAAAAAAAAAAAAAAAAAAAAAAAAAAAAAAAAAAAAAAAAAAAAAAAAAAAAAAAAAAAAAAAAAAAAAAAAAAAAAAAAAAAAAAAAAAAAAAAAAAAAAAAAAAAAAAAAAAAAAAAAAAAAAAAAAAAAAAAAAAAAAAAAAAAAAAAAAAAAAAAAAAAAAAAAAAAAAAAAAAAAAAAAAAAAAAAAAAAAAAAAAAAAAAAAAAAAAAAAAAAAAAAAAAAAAAAAAAAAAAAAAAAAAAAAAAAAAAAAAAAAAAAAAAAAAAAAAAAAAAAAAAAAAAAAAAAAAAAAAAAAAAAAAAAAAAAAAAAAAAAAAAAAAAAAAAAAAAAAAAAAAAAAAAAAAAAAAAAAAAAAAAAAAAAAAAAAAAAAAAAAAAAAAAAAAAAAAAAAAAAAAAAAAAAAAAAAAAAAAAAAAAAAAAAAAAAAAAAAAAAAAAAAAAAAAAAAAAAAAAAAAAAAAAAAAAAAAAAAAAAAAAAAAAAAAAAAAAAAAAAAAAAAAAAAAAAAAAAAAAAAAAAAAAAAAAAAAAAAAAAAAAAAAAAAAAAAAAAAAAAAAAAAAAAAAAAAAAAAAAAAAAAAAAAAAAAAAAAAAAAAAAAAAAAAAAAAAAAAAAAAAAAAAAAAAAAAAAAAAAAAAAAAAAAAAAAAAAAAAAAAAAAAAAAAAAAAAAAAAAAAAAAAAAAAAAAAAAAAAAAAAAAAAAAAAAAAAAAAAAAAAAAAAAAAAAAAAAAAAAAAAAAAAAAAAAAAAAAAAAAAAAAAAAAAAAAAAAAAAAAAAAAAAAAAAAAAAAAAAAAAAAAAAAAAAAAAAAAAAAAAAAAAAAAAAAAAAAAAAAAAAAAAAAAAAAAAAAAAAAAAAAAAAAAAAAAAAAAAAAAAAAAAAAAAAAAAAAAAAAAAAAAAAAAAAAAAAAAAAAAAAAAAAAAAAAAAAAAAAAAAAAAAAAAAAAAAAAAAAAAAAAAAAAAAAAAAAAAAAAAAAAAAAAAAAAAAAAAAAAAAAAAAAAAAAAAAAAAAAAAAAAAAAAAAAAAAAAAAAAAAAAAAAAAAAAAAAAAAAAAAAAAAAAAAAAAAAAAAAAAAAAAAAAAAAAAAAAAAAAAAAAAAAAAAAAAAAAAAAAAAAAAAAAAAAAAAAAAAAAAAAAAAAAAAAAAAAAAAAAAAAAAAAAAAAAAAAAAAAAAAAAAAAAAAAAAAAAAAAAAAAAAAAAAAAAAAAAAAAAAAAAAAAAAAAAAAAAAAAAAAAAAAAAAAAAAAAAAAAAAAAAAAAAAAAAAAAAAAAAAAAAAAAAAAAAAAAAAAAAAAAAAAAAAAAAAAAAAAAAAAAAAAAAAAAAAAAAAAAAAAAAAAAAAAAAAAAAAAAAAAAAAAAAAAAAAAAAAAAAAAAAAAAAAAAAAAAAAAAAAAAAAAAAAAAAAAAAAAAAAAAAAAAAAAAAAAAAAAAAAAAAAAAAAAAAAAAAAAAAAAAAAAAAAAAAAAAAAAAAAAAAAAAAAAAAAAAAAAAAAAAAAAAAAAAAAAAAAAAAAAAAAAAAAAAAAAAAAAAAAAAAAAAAAAAAAAAAAAAAAAAAAAAAAAAAAAAAAAAAAAAAAAAAAAAAAAAAAAAAAAAAAAAAAAAAAAAAAAAAAAAAAAAAAAAAAAAAAAAAAAAAAAAAAAAAAAAAAAAAAAAAAAAAAAAAAAAAAAAAAAAAAAAAAAAAAAAAAAAAAAAAAAAAAAAAAAAAAAAAAAAAAAAAAAAAAAAAAAAAAAAAAAAAAAAAAAAAAAAAAAAAAAAAAAAAAAAAAAAAAAAAAAAAAAAAAAAAAAAAAAAAAAAAAAAAAAAAAAAAAAAAAAAAAAAAAAAAAAAAAAAAAAAAAAAAAAAAAAAAAAAAAAAAAAAAAAAAAAAAAAAAAAAAAAAAAAAAAAAAAAAAAAAAAAAAAAAAAAAAAAAAAAAAAAAAAAAAAAAAAAAAAAAAAAAAAAAAAAAAAAAAAAAAAAAAAAAAAAAAAAAAAAAAAAAAAAAAAAAAAAAAAAAAAAAAAAAAAAAAAAAAAAAAAAAAAAAAAAAAAAAAAAAAAAAAAAAAAAAAAAAAAAAAAAAAAAAAAAAAAAAAAAAAAAAAAAAAAAAAAAAAAAAAAAAAAAAAAAAAAAAAAAAAAAAAAAAAAAAAAAAAAAAAAAAAAAAAAAAAAAAAAAAAAAAAAAAAAAAAAAAAAAAAAAAAAAAAAAAAAAAAAAAAAAAAAAAAAAAAAAAAAAAAAAAAAAAAAAAAAAAAAAAAAAAAAAAAAAAAAAAAAAAAAAAAAAAAAAAAAAAAAAAAAAAAAAAAAAAAAAAAAAAAAAAAAAAAAAAAAAAAAAAAAAAAAAAAAAAAAAAAAAAAAAAAAAAAAAAAAAAAAAAAAAAAAAAAAAAAAAAAAAAAAAAAAAAAAAAAAAAAAAAAAAAAAAAAAAAAAAAAAAAAAAAAAAAAAAAAAAAAAAAAAAAAAAAAAAAAAAAAAAAAAAAAAAAAAAAAAAAAAAAAAAAAAAAAAAAAAAAAAAAAAAAAAAAAAAAAAAAAAAAAAAAAAAAAAAAAAAAAAAAAAAAAAAAAAAAAAAAAAAAAAAAAAAAAAAAAAAAAAAAAAAAAAAAAAAAAAAAAAAAAAAAAAAAAAAAAAAAAAAAAAAAAAAAAAAAAAAAAAAAAAAAAAAAAAAAAAAAAAAAAAAAAAAAAAAAAAAAAAAAAAAAAAAAAAAAAAAAAAAAAAAAAAAAAAAAAAAAAAAAAAAAAAAAAAAAAAAAAAAAAAAAAAAAAAAAAAAAAAAAAAAAAAAAAAAAAAAAAAAAAAAAAAAAAAAAAAAAAAAAAAAAAAAAAAAAAAAAAAAAAAAAAAAAAAAAAAAAAAAAAAAAAAAAAAAAAAAAAAAAAAAAAAAAAAAAAAAAAAAAAAAAAAAAAAAAAAAAAAAAAAAAAAAAAAAAAAAAAAAAAAAAAAAAAAAAAAAAAAAAAAAAAAAAAAAAAAAAAAAAAAAAAAAAAAAAAAAAAAAAAAAAAAAAAAAAAAAAAAAAAAAAAAAAAAAAAAAAAAAAAAAAAAAAAAAAAAAAAAAAAAAAAAAAAAAAAAAAAAAAAAAAAAAAAAAAAAAAAAAAAAAAAAAAAAAAAAAAAAAAAAAAAAAAAAAAAAAAAAAAAAAAAAAAAAAAAAAAAAAAAAAAAAAAAAAAAAAAAAAAAAAAAAAAAAAAAAAAAAAAAAAAAAAAAAAAAAAAAAAAAAAAAAAAAAAAAAAAAAAAAAAAAAAAAAAAAAAAAAAAAAAAAAAAAAAAAAAAAAAAAAAAAAAAAAAAAAAAAAAAAAAAAAAAAAAAAAAAAAAAAAAAAAAAAAAAAAAAAAAAAAAAAAAAAAAAAAAAAAAAAAAAAAAAAAAAAAAAAAAAAAAAAAAAAAAAAAAAAAAAAAAAAAAAAAAAAAAAAAAAAAAAAAAAAAAAAAAAAAAAAAAAAAAAAAAAAAAAAAAAAAAAAAAAAAAAAAAAAAAAAAAAAAAAAAAAAAAAAAAAAAAAAAAAAAAAAAAAAAAAAAAAAAAAAAAAAAAAAAAAAAAAAAAAAAAAAAAAAAAAAAAAAAAAAAAAAAAAAAAAAAAAAAAAAAAAAAAAAAAAAAAAAAAAAAAAAAAAAAAAAAAAAAAAAAAAAAAAAAAAAAAAAAAAAAAAAAAAAAAAAAAAAAAAAAAAAAAAAAAAAAAAAAAAAAAAAAAAAAAAAAAAAAAAAAAAAAAAAAAAAAAAAAAAAAAAAAAAAAAAAAAAAAAAAAAAAAAAAAAAAAAAAAAAAAAAAAAAAAAAAAAAAAAAAAAAAAAAAAAAAAAAAAAAAAAAAAAAAAAAAAAAAAAAAAAAAAAAAAAAAAAAAAAAAAAAAAAAAAAAAAAAAAAAAAAAAAAAAAAAAAAAAAAAAAAAAAAAAAAAAAAAAAAAAAAAAAAAAAAAAAAAAAAAAAAAAAAAAAAAAAAAAAAAAAAAAAAAAAAAAAAAAAAAAAAAAAAAAAAAAAAAAAAAAAAAAAAAAAAAAAAAAAAAAAAAAAAAAAAAAAAAAAAAAAAAAAAAAAAAAAAAAAAAAAAAAAAAAAAAAAAAAAAAAAAAAAAAAAAAAAAAAAAAAAAAAAAAAAAAAAAAAAAAAAAAAAAAAAAAAAAAAAAAAAAAAAAAAAAAAAAAAAAAAAAAAAAAAAAAAAAAAAAAAAAAAAAAAAAAAAAAAAAAAAAAAAAAAAAAAAAAAAAAAAAAAAAAAAAAAAAAAAAAAAAAAAAAAAAAAAAAAAAAAAAAAAAAAAAAAAAAAAAAAAAAAAAAAAAAAAAAAAAAAAAAAAAAAAAAAAAAAAAAAAAAAAAAAAAAAAAAAAAAAAAAAAAAAAAAAAAAAAAAAAAAAAAAAAAAAAAAAAAAAAAAAAAAAAAAAAAAAAAAAAAAAAAAAAAAAAAAAAAAAAAAAAAAAAAAAAAAAAAAAAAAAAAAAAAAAAAAAAAAAAAAAAAAAAAAAAAAAAAAAAAAAAAAAAAAAAAAAAAAAAAAAAAAAAAAAAAAAAAAAAAAAAAAAAAAAAAAAAAAAAAAAAAAAAAAAAAAAAAAAAAAAAAAAAAAAAAAAAAAAAAAAAAAAAAAAAAAAAAAAAAAAAAAAAAAAAAAAAAAAAAAAAAAAAAAAAAAAAAAAAAAAAAAAAAAAAAAAAAAAAAAAAAAAAAAAAAAAAAAAAAAAAAAAAAAAAAAAAAAAAAAAAAAAAAAAAAAAAAAAAAAAAAAAAAAAAAAAAAAAAAAAAAAAAAAAAAAAAAAAAAAAAAAAAAAAAAAAAAAAAAAAAAAAAAAAAAAAAAAAAAAAAAAAAAAAAAAAAAAAAAAAAAAAAAAAAAAAAAAAAAAAAAAAAAAAAAAAAAAAAAAAAAAAAAAAAAAAAAAAAAAAAAAAAAAAAAAAAAAAAAAAAAAAAAAAAAAAAAAAAAAAAAAAAAAAAAAAAAAAAAAAAAAAAAAAAAAAAAAAAAAAAAAAAAAAAAAAAAAAAAAAAAAAAAAAAAAAAAAAAAAAAAAAAAAAAAAAAAAAAAAAAAAAAAAAAAAAAAAAAAAAAAAAAAAAAAAAAAAAAAAAAAAAAAAAAAAAAAAAAAAAAAAAAAAAAAAAAAAAAAAAAAAAAAAAAAAAAAAAAAAAAAAAAAAAAAAAAAAAAAAAAAAAAAAAAAAAAAAAAAAAAAAAAAAAAAAAAAAAAAAAAAAAAAAAAAAAAAAAAAAAAAAAAAAAAAAAAAAAAAAAAAAAAAAAAAAAAAAAAAAAAAAAAAAAAAAAAAAAAAAAAAAAAAAAAAAAAAAAAAAAAAAAAAAAAAAAAAAAAAAAAAAAAAAAAAAAAAAAAAAAAAAAAAAAAAAAAAAAAAAAAAAAAAAAAAAAAAAAAAAAAAAAAAAAAAAAAAAAAAAAAAAAAAAAAAAAAAAAAAAAAAAAAAAAAAAAAAAAAAAAAAAAAAAAAAAAAAAAAAAAAAAAAAAAAAAAAAAAAAAAAAAAAAAAAAAAAAAAAAAAAAAAAAAAAAAAAAAAAAAAAAAAAAAAAAAAAAAAAAAAAAAAAAAAAAAAAAAAAAAAAAAAAAAAAAAAAAAAAAAAAAAAAAAAAAAAAAAAAAAAAAAAAAAAAAAAAAAAAAAAAAAAAAAAAAAAAAAAAAAAAAAAAAAAAAAAAAAAAAAAAAAAAAAAAAAAAAAAAAAAAAAAAAAAAAAAAAAAAAAAAAAAAAAAAAAAAAAAAAAAAAAAAAAAAAAAAAAAAAAAAAAAAAAAAAAAAAAAAAAAAAAAAAAAAAAAAAAAAAAAAAAAAAAAAAAAAAAAAAAAAAAAAAAAAAAAAAAAAAAAAAAAAAAAAAAAAAAAAAAAAAAAAAAAAAAAAAAAAAAAAAAAAAAAAAAAAAAAAAAAAAAAAAAAAAAAAAAAAAAAAAAAAAAAAAAAAAAAAAAAAAAAAAAAAAAAAAAAAAAAAAAAAAAAAAAAAAAAAAAAAAAAAAAAAAAAAAAAAAAAAAAAAAAAAAAAAAAAAAAAAAAAAAAAAAAAAAAAAAAAAAAAAAAAAAAAAAAAAAAAAAAAAAAAAAAAAAAAAAAAAAAAAAAAAAAAAAAAAAAAAAAAAAAAAAAAAAAAAAAAAAAAAAAAAAAAAAAAAAAAAAAAAAAAAAAAAAAAAAAAAAAAAAAAAAAAAAAAAAAAAAAAAAAAAAAAAAAAAAAAAAAAAAAAAAAAAAAAAAAAAAAAAAAAAAAAAAAAAAAAAAAAAAAAAAAAAAAAAAAAAAAAAAAAAAAAAAAAAAAAAAAAAAAAAAAAAAAAAAAAAAAAAAAAAAAAAAAAAAAAAAAAAAAAAAAAAAAAAAAAAAAAAAAAAAAAAAAAAAAAAAAAAAAAAAAAAAAAAAAAAAAAAAAAAAAAAAAAAAAAAAAAAAAAAAAAAAAAAAAAAAAAAAAAAAAAAAAAAAAAAAAAAAAAAAAAAAAAAAAAAAAAAAAAAAAAAAAAAAAAAAAAAAAAAAAAAAAAAAAAAAAAAAAAAAAAAAAAAAAAAAAAAAAAAAAAAAAAAAAAAAAAAAAAAAAAAAAAAAAAAAAAAAAAAAAAAAAAAAAAAAAAAAAAAAAAAAAAAAAAAAAAAAAAAAAAAAAAAAAAAAAAAAAAAAAAAAAAAAAAAAAAAAAAAAAAAAAAAAAAAAAAAAAAAAAAAAAAAAAAAAAAAAAAAAAAAAAAAAAAAAAAAAAAAAAAAAAAAAAAAAAAAAAAAAAAAAAAAAAAAAAAAAAAAAAAAAAAAAAAAAAAAAAAAAAAAAAAAAAAAAAAAAAAAAAAAAAAAAAAAAAAAAAAAAAAAAAAAAAAAAAAAAAAAAAAAAAAAAAAAAAAAAAAAAAAAAAAAAAAAAAAAAAAAAAAAAAAAAAAAAAAAAAAAAAAAAAAAAAAAAAAAAAAAAAAAAAAAAAAAAAAAAAAAAAAAAAAAAAAAAAAAAAAAAAAAAAAAAAAAAAAAAAAAAAAAAAAAAAAAAAAAAAAAAAAAAAAAAAAAAAAAAAAAAAAAAAAAAAAAAAAAAAAAAAAAAAAAAAAAAAAAAAAAAAAAAAAAAAAAAAAAAAAAAAAAAAAAAAAAAAAAAAAAAAAAAAAAAAAAAAAAAAAAAAAAAAAAAAAAAAAAAAAAAAAAAAAAAAAAAAAAAAAAAAAAAAAAAAAAAAAAAAAAAAAAAAAAAAAAAAAAAAAAAAAAAAAAAAAAAAAAAAAAAAAAAAAAAAAAAAAAAAAAAAAAAAAAAAAAAAAAAAAAAAAAAAAAAAAAAAAAAAAAAAAAAAAAAAAAAAAAAAAAAAAAAAAAAAAAAAAAAAAAAAAAAAAAAAAAAAAAAAAAAAAAAAAAAAAAAAAAAAAAAAAAAAAAAAAAAAAAAAAAAAAAAAAAAAAAAAAAAAAAAAAAAAAAAAAAAAAAAAAAAAAAAAAAAAAAAAAAAAAAAAAAAAAAAAAAAAAAAAAAAAAAAAAAAAAAAAAAAAAAAAAAAAAAAAAAAAAAAAAAAAAAAAAAAAAAAAAAAAAAAAAAAAAAAAAAAAAAAAAAAAAAAAAAAAAAAAAAAAAAAAAAAAAAAAAAAAAAAAAAAAAAAAAAAAAAAAAAAAAAAAAAAAAAAAAAAAAAAAAAAAAAAAAAAAAAAAAAAAAAAAAAAAAAAAAAAAAAAAAAAAAAAAAAAAAAAAAAAAAAAAAAAAAAAAAAAAAAAAAAAAAAAAAAAAAAAAAAAAAAAAAAAAAAAAAAAAAAAAAAAAAAAAAAAAAAAAAAAAAAAAAAAAAAAAAAAAAAAAAAAAAAAAAAAAAAAAAAAAAAAAAAAAAAAAAAAAAAAAAAAAAAAAAAAAAAAAAAAAAAAAAAAAAAAAAAAAAAAAAAAAAAAAAAAAAAAAAAAAAAAAAAAAAAAAAAAAAAAAAAAAAAAAAAAAAAAAAAAAAAAAAAAAAAAAAAAAAAAAAAAAAAAAAAAAAAAAAAAAAAAAAAAAAAAAAAAAAAAAAAAAAAAAAAAAAAAAAAAAAAAAAAAAAAAAAAAAAAAAAAAAAAAAAAAAAAAAAAAAAAAAAAAAAAAAAAAAAAAAAAAAAAAAAAAAAAAAAAAAAAAAAAAAAAAAAAAAAAAAAAAAAAAAAAAAAAAAAAAAAAAAAAAAAAAAAAAAAAAAAAAAAAAAAAAAAAAAAAAAAAAAAAAAAAAAAAAAAAAAAAAAAAAAAAAAAAAAAAAAAAAAAAAAAAAAAAAAAAAAAAAAAAAAAAAAAAAAAAAAAAAAAAAAAAAAAAAAAAAAAAAAAAAAAAAAAAAAAAAAAAAAAAAAAAAAAAAAAAAAAAAAAAAAAAAAAAAAAAAAAAAAAAAAAAAAAAAAAAAAAAAAAAAAAAAAAAAAAAAAAAAAAAAAAAAAAAAAAAAAAAAAAAAAAAAAAAAAAAAAAAAAAAAAAAAAAAAAAAAAAAAAAAAAAAAAAAAAAAAAAAAAAAAAAAAAAAAAAAAAAAAAAAAAAAAAAAAAAAAAAAAAAAAAAAAAAAAAAAAAAAAAAAAAAAAAAAAAAAAAAAAAAAAAAAAAAAAAAAAAAAAAAAAAAAAAAAAAAAAAAAAAAAAAAAAAAAAAAAAAAAAAAAAAAAAAAAAAAAAAAAAAAAAAAAAAAAAAAAAAAAAAAAAAAAAAAAAAAAAAAAAAAAAAAAAAAAAAAAAAAAAAAAAAAAAAAAAAAAAAAAAAAAAAAAAAAAAAAAAAAAAAAAAAAAAAAAAAAAAAAAAAAAAAAAAAAAAAAAAAAAAAAAAAAAAAAAAAAAAAAAAAAAAAAAAAAAAAAAAAAAAAAAAAAAAAAAAAAAAAAAAAAAAAAAAAAAAAAAAAAAAAAAAAAAAAAAAAAAAAAAAAAAAAAAAAAAAAAAAAAAAAAAAAAAAAAAAAAAAAAAAAAAAAAAAAAAAAAAAAAAAAAAAAAAAAAAAAAAAAAAAAAAAAAAAAAAAAAAAAAAAAAAAAAAAAAAAAAAAAAAAAAAAAAAAAAAAAAAAAAAAAAAAAAAAAAAAAAAAAAAAAAAAAAAAAAAAAAAAAAAAAAAAAAAAAAAAAAAAAAAAAAAAAAAAAAAAAAAAAAAAAAAAAAAAAAAAAAAAAAAAAAAAAAAAAAAAAAAAAAAAAAAAAAAAAAAAAAAAAAAAAAAAAAAAAAAAAAAAAAAAAAAAAAAAAAAAAAAAAAAAAAAAAAAAAAAAAAAAAAAAAAAAAAAAAAAAAAAAAAAAAAAAAAAAAAAAAAAAAAAAAAAAAAAAAAAAAAAAAAAAAAAAAAAAAAAAAAAAAAAAAAAAAAAAAAAAAAAAAAAAAAAAAAAAAAAAAAAAAAAAAAAAAAAAAAAAAAAAAAAAAAAAAAAAAAAAAAAAAAAAAAAAAAAAAAAAAAAAAAAAAAAAAAAAAAAAAAAAAAAAAAAAAAAAAAAAAAAAAAAAAAAAAAAAAAAAAAAAAAAAAAAAAAAAAAAAAAAAAAAAAAAAAAAAAAAAAAAAAAAAAAAAAAAAAAAAAAAAAAAAAAAAAAAAAAAAAAAAAAAAAAAAAAAAAAAAAAAAAAAAAAAAAAAAAAAAAAAAAAAAAAAAAAAAAAAAAAAAAAAAAAAAAAAAAAAAAAAAAAAAAAAAAAAAAAAAAAAAAAAAAAAAAAAAAAAAAAAAAAAAAAAAAAAAAAAAAAAAAAAAAAAAAAAAAAAAAAAAAAAAAAAAAAAAAAAAAAAAAAAAAAAAAAAAAAAAAAAAAAAAAAAAAAAAAAAAAAAAAAAAAAAAAAAAAAAAAAAAAAAAAAAAAAAAAAAAAAAAAAAAAAAAAAAAAAAAAAAAAAAAAAAAAAAAAAAAAAAAAAAAAAAAAAAAAAAAAAAAAAAAAAAAAAAAAAAAAAAAAAAAAAAAAAAAAAAAAAAAAAAAAAAAAAAAAAAAAAAAAAAAAAAAAAAAAAAAAAAAAAAAAAAAAAAAAAAAAAAAAAAAAAAAAAAAAAAAAAAAAAAAAAAAAAAAAAAAAAAAAAAAAAAAAAAAAAAAAAAAAAAAAAAAAAAAAAAAAAAAAAAAAAAAAAAAAAAAAAAAAAAAAAAAAAAAAAAAAAAAAAAAAAAAAAAAAAAAAAAAAAAAAAAAAAAAAAAAAAAAAAAAAAAAAAAAAAAAAAAAAAAAAAAAAAAAAAAAAAAAAAAAAAAAAAAAAAAAAAAAAAAAAAAAAAAAAAAAAAAAAAAAAAAAAAAAAAAAAAAAAAAAAAAAAAAAAAAAAAAAAAAAAAAAAAAAAAAAAAAAAAAAAAAAAAAAAAAAAAAAAAAAAAAAAAAAAAAAAAAAAAAAAAAAAAAAAAAAAAAAAAAAAAAAAAAAAAAAAAAAAAAAAAAAAAAAAAAAAAAAAAAAAAAAAAAAAAAAAAAAAAAAAAAAAAAAAAAAAAAAAAAAAAAAAAAAAAAAAAAAAAAAAAAAAAAAAAAAAAAAAAAAAAAAAAAAAAAAAAAAAAAAAAAAAAAAAAAAAAAAAAAAAAAAAAAAAAAAAAAAAAAAAAAAAAAAAAAAAAAAAAAAAAAAAAAAAAAAAAAAAAAAAAAAAAAAAAAAAAAAAAAAAAAAAAAAAAAAAAAAAAAAAAAAAAAAAAAAAAAAAAAAAAAAAAAAAAAAAAAAAAAAAAAAAAAAAAAAAAAAAAAAAAAAAAAAAAAAAAAAAAAAAAAAAAAAAAAAAAAAAAAAAAAAAAAAAAAAAAAAAAAAAAAAAAAAAAAAAAAAAAAAAAAAAAAAAAAAAAAAAAAAAAAAAAAAAAAAAAAAAAAAAAAAAAAAAAAAAAAAAAAAAAAAAAAAAAAAAAAAAAAAAAAAAAAAAAAAAAAAAAAAAAAAAAAAAAAAAAAAAAAAAAAAAAAAAAAAAAAAAAAAAAAAAAAAAAAAAAAAAAAAAAAAAAAAAAAAAAAAAAAAAAAAAAAAAAAAAAAAAAAAAAAAAAAAAAAAAAAAAAAAAAAAAAAAAAAAAAAAAAAAAAAAAAAAAAAAAAAAAAAAAAAAAAAAAAAAAAAAAAAAAAAAAAAAAAAAAAAAAAAAAAAAAAAAAAAAAAAAAAAAAAAAAAAAAAAAAAAAAAAAAAAAAAAAAAAAAAAAAAAAAAAAAAAAAAAAAAAAAAAAAAAAAAAAAAAAAAAAAAAAAAAAAAAAAAAAAAAAAAAAAAAAAAAAAAAAAAAAAAAAAAAAAAAAAAAAAAAAAAAAAAAAAAAAAAAAAAAAAAAAAAAAAAAAAAAAAAAAAAAAAAAAAAAAAAAAAAAAAAAAAAAAAAAAAAAAAAAAAAAAAAAAAAAAAAAAAAAAAAAAAAAAAAAAAAAAAAAAAAAAAAAAAAAAAAAAAAAAAAAAAAAAAAAAAAAAAAAAAAAAAAAAAAAAAAAAAAAAAAAAAAAAAAAAAAAAAAAAAAAAAAAAAAAAAAAAAAAAAAAAAAAAAAAAAAAAAAAAAAAAAAAAAAAAAAAAAAAAAAAAAAAAAAAAAAAAAAAAAAAAAAAAAAAAAAAAAAAAAAAAAAAAAAAAAAAAAAAAAAAAAAAAAAAAAAAAAAAAAAAAAAAAAAAAAAAAAAAAAAAAAAAAAAAAAAAAAAAAAAAAAAAAAAAAAAAAAAAAAAAAAAAAAAAAAAAAAAAAAAAAAAAAAAAAAAAAAAAAAAAAAAAAAAAAAAAAAAAAAAAAAAAAAAAAAAAAAAAAAAAAAAAAAAAAAAAAAAAAAAAAAAAAAAAAAAAAAAAAAAAAAAAAAAAAAAAAAAAAAAAAAAAAAAAAAAAAAAAAAAAAAAAAAAAAAAAAAAAAAAAAAAAAAAAAAAAAAAAAAAAAAAAAAAAAAAAAAAAAAAAAAAAAAAAAAAAAAAAAAAAAAAAAAAAAAAAAAAAAAAAAAAAAAAAAAAAAAAAAAAAAAAAAAAAAAAAAAAAAAAAAAAAAAAAAAAAAAAAAAAAAAAAAAAAAAAAAAAAAAAAAAAAAAAAAAAAAAAAAAAAAAAAAAAAAAAAAAAAAAAAAAAAAAAAAAAAAAAAAAAAAAAAAAAAAAAAAAAAAAAAAAAAAAAAAAAAAAAAAAAAAAAAAAAAAAAAAAAAAAAAAAAAAAAAAAAAAAAAAAAAAAAAAAAAAAAAAAAAAAAAAAAAAAAAAAAAAAAAAAAAAAAAAAAAAAAAAAAAAAAAAAAAAAAAAAAAAAAAAAAAAAAAAAAAAAAAAAAAAAAAAAAAAAAAAAAAAAAAAAAAAAAAAAAAAAAAAAAAAAAAAAAAAAAAAAAAAAAAAAAAAAAAAAAAAAAAAAAAAAAAAAAAAAAAAAAAAAAAAAAAAAAAAAAAAAAAAAAAAAAAAAAAAAAAAAAAAAAAAAAAAAAAAAAAAAAAAAAAAAAAAAAAAAAAAAAAAAAAAAAAAAAAAAAAAAAAAAAAAAAAAAAAAAAAAAAAAAAAAAAAAAAAAAAAAAAAAAAAAAAAAAAAAAAAAAAAAAAAAAAAAAAAAAAAAAAAAAAAAAAAAAAAAAAAAAAAAAAAAAAAAAAAAAAAAAAAAAAAAAAAAAAAAAAAAAAAAAAAAAAAAAAAAAAAAAAAAAAAAAAAAAAAAAAAAAAAAAAAAAAAAAAAAAAAAAAAAAAAAAAAAAAAAAAAAAAAAAAAAAAAAAAAAAAAAAAAAAAAAAAAAAAAAAAAAAAAAAAAAAAAAAAAAAAAAAAAAAAAAAAAAAAAAAAAAAAAAAAAAAAAAAAAAAAAAAAAAAAAAAAAAAAAAAAAAAAAAAAAAAAAAAAAAAAAAAAAAAAAAAAAAAAAAAAAAAAAAAAAAAAAAAAAAAAAAAAAAAAAAAAAAAAAAAAAAAAAAAAAAAAAAAAAAAAAAAAAAAAAAAAAAAAAAAAAAAAAAAAAAAAAAAAAAAAAAAAAAAAAAAAAAAAAAAAAAAAAAAAAAAAAAAAAAAAAAAAAAAAAAAAAAAAAAAAAAAAAAAAAAAAAAAAAAAAAAAAAAAAAAAAAAAAAAAAAAAAAAAAAAAAAAAAAAAAAAAAAAAAAAAAAAAAAAAAAAAAAAAAAAAAAAAAAAAAAAAAAAAAAAAAAAAAAAAAAAAAAAAAAAAAAAAAAAAAAAAAAAAAAAAAAAAAAAAAAAAAAAAAAAAAAAAAAAAAAAAAAAAAAAAAAAAAAAAAAAAAAAAAAAAAAAAAAAAAAAAAAAAAAAAAAAAAAAAAAAAAAAAAAAAAAAAAAAAAAAAAAAAAAAAAAAAAAAAAAAAAAAAAAAAAAAAAAAAAAAAAAAAAAAAAAAAAAAAAAAAAAAAAAAAAAAAAAAAAAAAAAAAAAAAAAAAAAAAAAAAAAAAAAAAAAAAAAAAAAAAAAAAAAAAAAAAAAAAAAAAAAAAAAAAAAAAAAAAAAAAAAAAAAAAAAAAAAAAAAAAAAAAAAAAAAAAAAAAAAAAAAAAAAAAAAAAAAAAAAAAAAAAAAAAAAAAAAAAAAAAAAAAAAAAAAAAAAAAAAAAAAAAAAAAAAAAAAAAAAAAAAAAAAAAAAAAAAAAAAAAAAAAAAAAAAAAAAAAAAAAAAAAAAAAAAAAAAAAAAAAAAAAAAAAAAAAAAAAAAAAAAAAAAAAAAAAAAAAAAAAAAAAAAAAAAAAAAAAAAAAAAAAAAAAAAAAAAAAAAAAAAAAAAAAAAAAAAAAAAAAAAAAAAAAAAAAAAAAAAAAAAAAAAAAAAAAAAAAAAAAAAAAAAAAAAAAAAAAAAAAAAAAAAAAAAAAAAAAAAAAAAAAAAAAAAAAAAAAAAAAAAAAAAAAAAAAAAAAAAAAAAAAAAAAAAAAAAAAAAAAAAAAAAAAAAAAAAAAAAAAAAAAAAAAAAAAAAAAAAAAAAAAAAAAAAAAAAAAAAAAAAAAAAAAAAAAAAAAAAAAAAAAAAAAAAAAAAAAAAAAAAAAAAAAAAAAAAAAAAAAAAAAAAAAAAAAAAAAAAAAAAAAAAAAAAAAAAAAAAAAAAAAAAAAAAAAAAAAAAAAAAAAAAAAAAAAAAAAAAAAAAAAAAAAAAAAAAAAAAAAAAAAAAAAAAAAAAAAAAAAAAAAAAAAAAAAAAAAAAAAAAAAAAAAAAAAAAAAAAAAAAAAAAAAAAAAAAAAAAAAAAAAAAAAAAAAAAAAAAAAAAAAAAAAAAAAAAAAAAAAAAAAAAAAAAAAAAAAAAAAAAAAAAAAAAAAAAAAAAAAAAAAAAAAAAAAAAAAAAAAAAAAAAAAAAAAAAAAAAAAAAAAAAAAAAAAAAAAAAAAAAAAAAAAAAAAAAAAAAAAAAAAAAAAAAAAAAAAAAAAAAAAAAAAAAAAAAAAAAAAAAAAAAAAAAAAAAAAAAAAAAAAAAAAAAAAAAAAAAAAAAAAAAAAAAAAAAAAAAAAAAAAAAAAAAAAAAAAAAAAAAAAAAAAAAAAAAAAAAAAAAAAAAAAAAAAAAAAAAAAAAAAAAAAAAAAAAAAAAAAAAAAAAAAAAAAAAAAAAAAAAAAAAAAAAAAAAAAAAAAAAAAAAAAAAAAAAAAAAAAAAAAAAAAAAAAAAAAAAAAAAAAAAAAAAAAAAAAAAAAAAAAAAAAAAAAAAAAAAAAAAAAAAAAAAAAAAAAAAAAAAAAAAAAAAAAAAAAAAAAAAAAAAAAAAAAAAAAAAAAAAAAAAAAAAAAAAAAAAAAAAAAAAAAAAAAAAAAAAAAAAAAAAAAAAAAAAAAAAAAAAAAAAAAAAAAAAAAAAAAAAAAAAAAAAAAAAAAAAAAAAAAAAAAAAAAAAAAAAAAAAAAAAAAAAAAAAAAAAAAAAAAAAAAAAAAAAAAAAAAAAAAAAAAAAAAAAAAAAAAAAAAAAAAAAAAAAAAAAAAAAAAAAAAAAAAAAAAAAAAAAAAAAAAAAAAAAAAAAAAAAAAAAAAAAAAAAAAAAAAAAAAAAAAAAAAAAAAAAAAAAAAAAAAAAAAAAAAAAAAAAAAAAAAAAAAAAAAAAAAAAAAAAAAAAAAAAAAAAAAAAAAAAAAAAAAAAAAAAAAAAAAAAAAAAAAAAAAAAAAAAAAAAAAAAAAAAAAAAAAAAAAAAAAAAAAAAAAAAAAAAAAAAAAAAAAAAAAAAAAAAAAAAAAAAAAAAAAAAAAAAAAAAAAAAAAAAAAAAAAAAAAAAAAAAAAAAAAAAAAAAAAAAAAAAAAAAAAAAAAAAAAAAAAAAAAAAAAAAAAAAAAAAAAAAAAAAAAAAAAAAAAAAAAAAAAAAAAAAAAAAAAAAAAAAAAAAAAAAAAAAAAAAAAAAAAAAAAAAAAAAAAAAAAAAAAAAAAAAAAAAAAAAAAAAAAAAAAAAAAAAAAAAAAAAAAAAAAAAAAAAAAAAAAAAAAAAAAAAAAAAAAAAAAAAAAAAAAAAAAAAAAAAAAAAAAAAAAAAAAAAAAAAAAAAAAAAAAAAAAAAAAAAAAAAAAAAAAAAAAAAAAAAAAAAAAAAAAAAAAAAAAAAAAAAAAAAAAAAAAAAAAAAAAAAAAAAAAAAAAAAAAAAAAAAAAAAAAAAAAAAAAAAAAAAAAAAAAAAAAAAAAAAAAAAAAAAAAAAAAAAAAAAAAAAAAAAAAAAAAAAAAAAAAAAAAAAAAAAAAAAAAAAAAAAAAAAAAAAAAAAAAAAAAAAAAAAAAAAAAAAAAAAAAAAAAAAAAAAAAAAAAAAAAAAAAAAAAAAAAAAAAAAAAAAAAAAAAAAAAAAAAAAAAAAAAAAAAAAAAAAAAAAAAAAAAAAAAAAAAAAAAAAAAAAAAAAAAAAAAAAAAAAAAAAAAAAAAAAAAAAAAAAAAAAAAAAAAAAAAAAAAAAAAAAAAAAAAAAAAAAAAAAAAAAAAAAAAAAAAAAAAAAAAAAAAAAAAAAAAAAAAAAAAAAAAAAAAAAAAAAAAAAAAAAAAAAAAAAAAAAAAAAAAAAAAAAAAAAAAAAAAAAAAAAAAAAAAAAAAAAAAAAAAAAAAAAAAAAAAAAAAAAAAAAAAAAAAAAAAAAAAAAAAAAAAAAAAAAAAAAAAAAAAAAAAAAAAAAAAAAAAAAAAAAAAAAAAAAAAAAAAAAAAAAAAAAAAAAAAAAAAAAAAAAAAAAAAAAAAAAAAAAAAAAAAAAAAAAAAAAAAAAAAAAAAAAAAAAAAAAAAAAAAAAAAAAAAAAAAAAAAAAAAAAAAAAAAAAAAAAAAAAAAAAAAAAAAAAAAAAAAAAAAAAAAAAAAAAAAAAAAAAAAAAAAAAAAAAAAAAAAAAAAAAAAAAAAAAAAAAAAAAAAAAAAAAAAAAAAAAAAAAAAAAAAAAAAAAAAAAAAAAAAAAAAAAAAAAAAAAAAAAAAAAAAAAAAAAAAAAAAAAAAAAAAAAAAAAAAAAAAAAAAAAAAAAAAAAAAAAAAAAAAAAAAAAAAAAAAAAAAAAAAAAAAAAAAAAAAAAAAAAAAAAAAAAAAAAAAAAAAAAAAAAAAAAAAAAAAAAAAAAAAAAAAAAAAAAAAAAAAAAAAAAAAAAAAAAAAAAAAAAAAAAAAAAAAAAAAAAAAAAAAAAAAAAAAAAAAAAAAAAAAAAAAAAAAAAAAAAAAAAAAAAAAAAAAAAAAAAAAAAAAAAAAAAAAAAAAAAAAAAAAAAAAAAAAAAAAAAAAAAAAAAAAAAAAAAAAAAAAAAAAAAAAAAAAAAAAAAAAAAAAAAAAAAAAAAAAAAAAAAAAAAAAAAAAAAAAAAAAAAAAAAAAAAAAAAAAAAAAAAAAAAAAAAAAAAAAAAAAAAAAAAAAAAAAAAAAAAAAAAAAAAAAAAAAAAAAAAAAAAAAAAAAAAAAAAAAAAAAAAAAAAAAAAAAAAAAAAAAAAAAAAAAAAAAAAAAAAAAAAAAAAAAAAAAAAAAAAAAAAAAAAAAAAAAAAAAAAAAAAAAAAAAAAAAAAAAAAAAAAAAAAAAAAAAAAAAAAAAAAAAAAAAAAAAAAAAAAAAAAAAAAAAAAAAAAAAAAAAAAAAAAAAAAAAAAAAAAAAAAAAAAAAAAAAAAAAAAAAAAAAAAAAAAAAAAAAAAAAAAAAAAAAAAAAAAAAAAAAAAAAAAAAAAAAAAAAAAAAAAAAAAAAAAAAAAAAAAAAAAAAAAAAAAAAAAAAAAAAAAAAAAAAAAAAAAAAAAAAAAAAAAAAAAAAAAAAAAAAAAAAAAAAAAAAAAAAAAAAAAAAAAAAAAAAAAAAAAAAAAAAAAAAAAAAAAAAAAAAAAAAAAAAAAAAAAAAAAAAAAAAAAAAAAAAAAAAAAAAAAAAAAAAAAAAAAAAAAAAAAAAAAAAAAAAAAAAAAAAAAAAAAAAAAAAAAAAAAAAAAAAAAAAAAAAAAAAAAAAAAAAAAAAAAAAAAAAAAAAAAAAAAAAAAAAAAAAAAAAAAAAAAAAAAAAAAAAAAAAAAAAAAAAAAAAAAAAAAAAAAAAAAAAAAAAAAAAAAAAAAAAAAAAAAAAAAAAAAAAAAAAAAAAAAAAAAAAAAAAAAAAAAAAAAAAAAAAAAAAAAAAAAAAAAAAAAAAAAAAAAAAAAAAAAAAAAAAAAAAAAAAAAAAAAAAAAAAAAAAAAAAAAAAAAAAAAAAAAAAAAAAAAAAAAAAAAAAAAAAAAAAAAAAAAAAAAAAAAAAAAAAAAAAAAAAAAAAAAAAAAAAAAAAAAAAAAAAAAAAAAAAAAAAAAAAAAAAAAAAAAAAAAAAAAAAAAAAAAAAAAAAAAAAAAAAAAAAAAAAAAAAAAAAAAAAAAAAAAAAAAAAAAAAAAAAAAAAAAAAAAAAAAAAAAAAAAAAAAAAAAAAAAAAAAAAAAAAAAAAAAAAAAAAAAAAAAAAAAAAAAAAAAAAAAAAAAAAAAAAAAAAAAAAAAAAAAAAAAAAAAAAAAAAAAAAAAAAAAAAAAAAAAAAAAAAAAAAAAAAAAAAAAAAAAAAAAAAAAAAAAAAAAAAAAAAAAAAAAAAAAAAAAAAAAAAAAAAAAAAAAAAAAAAAAAAAAAAAAAAAAAAAAAAAAAAAAAAAAAAAAAAAAAAAAAAAAAAAAAAAAAAAAAAAAAAAAAAAAAAAAAAAAAAAAAAAAAAAAAAAAAAAAAAAAAAAAAAAAAAAAAAAAAAAAAAAAAAAAAAAAAAAAAAAAAAAAAAAAAAAAAAAAAAAAAAAAAAAAAAAAAAAAAAAAAAAAAAAAAAAAAAAAAAAAAAAAAAAAAAAAAAAAAAAAAAAAAAAAAAAAAAAAAAAAAAAAAAAAAAAAAAAAAAAAAAAAAAAAAAAAAAAAAAAAAAAAAAAAAAAAAAAAAAAAAAAAAAAAAAAAAAAAAAAAAAAAAAAAAAAAAAAAAAAAAAAAAAAAAAAAAAAAAAAAAAAAAAAAAAAAAAAAAAAAAAAAAAAAAAAAAAAAAAAAAAAAAAAAAAAAAAAAAAAAAAAAAAAAAAAAAAAAAAAAAAAAAAAAAAAAAAAAAAAAAAAAAAAAAAAAAAAAAAAAAAAAAAAAAAAAAAAAAAAAAAAAAAAAAAAAAAAAAAAAAAAAAAAAAAAAAAAAAAAAAAAAAAAAAAAAAAAAAAAAAAAAAAAAAAAAAAAAAAAAAAAAAAAAAAAAAAAAAAAAAAAAAAAAAAAAAAAAAAAAAAAAAAAAAAAAAAAAAAAAAAAAAAAAAAAAAAAAAAAAAAAAAAAAAAAAAAAAAAAAAAAAAAAAAAAAAAAAAAAAAAAAAAAAAAAAAAAAAAAAAAAAAAAAAAAAAAAAAAAAAAAAAAAAAAAAAAAAAAAAAAAAAAAAAAAAAAAAAAAAAAAAAAAAAAAAAAAAAAAAAAAAAAAAAAAAAAAAAAAAAAAAP//AAAAAAAAAAAAAAAAAAAAAAAAAAAAAAAAAAAAAAAAAAAAAAAAAAAAAAEAAAAAAAAA//8AAAAA//8AAAAAAAD//wAAAAD/////AAAAAAAAAQAAAAAAAQD///7//v//////AAAAAAAA/////wEAAAABAAEAAAABAAAAAAAAAP7/AAAAAAAAAAAAAAAA//8AAP3//f8AAP////8AAAIAAQAAAAAA//8AAAEAAAAAAAMAAgABAAMAAwAEAAQAAgD//////v/8/wEA///7//7//P/8//7/AAABAAAAAgADAP7/+//2//X//P8DAA0AIgA8AEcAOwAgAPr/zf/R/+j/0v/Y//X/AQAyAE0AHADr/93/tf+0/97/s/+y/9v/4/8XADgAJQAKAC4ANwAAAAwAFgAMAAIA+v8LAAUA9f/o//P/+P/E/7z/0//L/7n/q//P/+7/5v/6/yIAMAASABUAKQAnADgAPwBHAE8ARAA+AD8AQwAvAB0AHAALAP//2/+6/7v/p/+e/6f/sv/G/9b/3//f//n/BwAGACAAIwAkADMAQABSAFQAUwBRAEoAPwApABwAHQAWAAgA/f/8//H/2P/V/8z/yv/X/9f/3P/e/9r/6f/8/wIACQAVABkALgA/AC8AMwA5AC4ALgAkAAwAAQD///b/9/////v/8//y/+r/4P/i/9//3//e/+L/7P/y//z////2//f/EQAZAA0ACwD5/+b/4//n/+X/6P/y//n/AAD///v/7v/v//H/6f/3//b/7//x//X/8//2/wkABwACAAYAAAD1//j/AwAAAAcAIAAoABgAFAAOAPP/5//1//r/AAAFAAIADAAGAAIABQD6/wAACgD2/+3/AAD6//T//P8EABQADgANABIACAD8//z/AADq/97/7//9//T/8P/4/+P/3P/2//X/3v/2/wMAAQAVAP//AAAUAAcAFgAQAPj/DQAiAA8AAAAGAAkAAgAHAAcA9////w8ACgD+/w4AEwD+/wcABAAAAP//8//y//T/9v/y//L/+f///wAA+f/1//H//P/z/wMAJgAaACoAFwDV/83/3//n//7/IgAgAAYAEQANAOX/0v/Y//v/JwBAAFcARwA4ACUA+P8RAC4AWgCLAHIAigB0AD0ARQAxAFYAZgBzALcAkgCIAHYAOgBBACQAGgAYAB0ARgAQAOb/+//j//H/+P/K/8//4P8AAOr/tP/B/33/Z/9e///+Bv8P/x3/J/+0/kT+7v3F/eH9Ff52/rf+Cv+B/1f/Pf+h/8j/PwAqAdMBTQKhAskC7gI+A+0DZgSkBCUFJgW9BCwEVAOvAiIC3wFvAeUAxwAXAF7/9v7F/hT/RP+x/83/UP8r/6b+Af65/V79OP0M/Yn8rPvZ+hH6H/n4+Hj5Lvo/+xT8aPxD/Ob7fPsI+/X6WPvv+5v8Xv0+/tr/1gLiBl0Lhw8rEuASVBHGDdYKigfSA44DlgJbAN0Alv6g+9L8a/3T/jACgwQ+BvIFAgSoAYT+Wf3i/S/+aP6h/Wb8Jfvk+fT5GvsB/Wb/tgDN/+n8FPnw9Efxfe828DfzSPeM+o77P/oB+Uz4dfcW+GX5IftN/nYBKwULCqwPtBU6GZgZ5BfuExMPowkVBGkAyf7k/eH8Ovzg+5j8HP/5ATgFKwjiCf0J2gZ3Aur+rvtx+iX70ftB/OL87P36/bP8N/y4/LP9gf/tAF0Auv0A+lb1dvAh7Qbss+7x8zb4k/vV/F/75vm296L0ZPPV8+z14/q6AQsK2xNoHBMh7SFyHhwY6RFvCksDeP+//Fv6FPm2+BD4zfi7/bIDvQhxDs4SyBE/DOEFHP9z+en2d/dG+c/5VPxIAMT/1f25/VL9bP2r/zoCAgFq/Yb6pvR87Hnn/ebA6Xnu3vUF/On8S/yV+sX1ffD27UbuTu+W8vP5LQMVDzkdoSjEL0UwjClcIX4WCQgY/xH8ZPci9Zf5Mvrd917+gwQtBpcN0xREFVISsQ3zBpj8TfST8jnyDfSz9wf6Xf7YAKsAMQIuAaD/kAJdBkYE0fy091fxsOZK4BLfeuL568T2W/33/FT5EPYx8XHrsedW6NzsYPLq+BgCGhA/IeQvCTkZOgk0XyoWHGUK9vuW9Vv1M/fz+D/6yfxqAFAFOQpGDT8TORmrFh8PYAV9+MnuCesw6mruKPal+6MB5QVhA4IB3gEHALT/gALHAsj9T/cI70Pkbtyk2oDgdOsM98YB9gRP/ij1NO3R5WXgq9/74/LrKPaKAgkShiPmNEJBwELpOqktQx2xC3z5++xl6h/sM/Ee9xP69AAfChkP7BPaFwoZExl9E/wGdvnS737pzeV76EfvYPU1/v8HugoXCc0IagdUApn9rftc99LvYelE417cOtm33hbqUvVw/0kFrAFc+WHxcej1327bT98B6n/1SgO+FFwntjjWRShJgD42MHkhegp695rtr+be6tf0Svnl/hUIfA63ErMWOhd4FmkWxxGtBg343OzC6LjlReWT7A71Of3bBj0LKQqoBzoEZQCI+4n2qPGi7PboruRV4DngkeVS77P5VwJwBrQBZvg57zblndr21KHa8uRX7mn97xA9JIQ3yUZsTOVFRjddJ3QUuv057fHoquoO8FX6sAH2Bm4QihVHFF8U5BXgFm0SNwd//XX2nu586PbldeXY6AD1zAIdCFMLjw6iCfD/BPjt8Wbuqe3Y7XTrl+cp51HosOg367Tz3v7SAuX+4ffv7qLl/d1U3N/guedp8+0CahF6IQk1w0UDS7REODlaKqUW4ACU8MLpleqF8Lj5EwKiB7kOFBQAE4URBBNdFPEP8AWu/LT15e+P6QfkTuMz6fv1HwOqCVIMOA4xDJAEgPu99Nnwle487MTpsueh5iHnL+m17Y/1Kf9bBLD/Qvai7ujmMd8/3L/fTOfr8LH9cQ1SHj0wC0FfSlZHwztmL9AeJgc08y/p0uZ56aPxnP5QCJYOlBWeGDgWchOnEtcNEgJi+L/0z/CC6cvkS+fy66zyvwCeDXAPEA1wDGEHIfsZ8K/soupl5lblYeiz7H7v9PJU+gsADgJeAtb8D/L96Bbk2+HR4NvitelI8r36dgPWDj4gwDOuQoVJXEU4OsQrDRVo+/jqyuND5LTstvZIAB4L8RIXF0wWdBBJDw8PWAUT+yD4CfZ38LTqrunT7Jvw6PgnBTwLKQy+DNYJPgFO9f3sSup86azp1eud8Gr0hPUL+CH8C/+e/4H7h/Qe8Ert3+mP6K7p/etE8e/31PzTAgUOVB64Lyw7Ij09OMUsGRyhCQ/3KOt56Int5vg9AokITA+1EWIPOww6CUEI3wfwA37+E/3Q+xjz8+i+5bboQfCN+6IIrBI4FJsP1wmpAFXz4ulh6Tnry+qt7KLx4PW89mv3iv0MBJkDvf2U9yzy7upD5a/lsuki8Gn6fQTHB+4GCgm4EJkbqiI/JyQqHCVhG+UOvwAB9gfwI/L1+SoBLwgAD2MTrhPGD7gIOwF6/Sr8xvrb+6P9aft198b0IfMh82L2Yf7EBxUNLg07CnMGvf879dbs8eq97EHv1vK89nL6Hf2p/nkAiwC4/R75sPWG9P/wcu618tr42v1MA64GQgU2AyoDeAMKBkgKyxAcGkwcMRUAEaMNCAJI+o/6f/q//7gH9goqDfMLOgZsAXX8Ivjn+B38cv66AIcCIQKhAJv+ZPuR+s37J/1GAcIEsgWDBX8AGflR9Mrw9e+C8yP2E/njAAEG7AUWB/UHdwSv/mD5y/Y++GX3xPRw+Iv9cwDlBPQGeQTJAYj/B/21+5z8DwD5BaQLkA2eDUIMLAetAeH9yfrt+Qn7Df1g/xT/Tf6JAMMCuAJuAXIC6QWwBg8FfwReBNwBA/64/D/9wPzu++b9TQFpAU7/Tv5Q/hL9NPta/QUDcwaPBpwHhAk7B/IAJf3E/eH78fYP9+n6fPys/Kn8s/3gAZYC2v5xAugF/v9//k0BaAASADL/0/x9/TX9zfdH91j7IPr2+Z/9hP9MABMB0QGxAlIC4gFyBPwGHQc+BxoHrATZAHj9ZvvH+jn6k/uzAMAFNgXfAQQE5ARO/8P+hgJ5AscDggYNBo4HYAaU/8H/UwBv+Db2JPp++Pj4BAHPBLMFSAY5AT8B0AAR+VH9/wNo/b78MgebBfj4h/b69tjw2esT7vf3Wf2k/dUDRAmABwMFHgVIA+X9c/oH/msGCwrbB38KVAxHA678P/2q+v/4k/0eAmAEBgmcCtkHPAreB8f/NwGKAez6p/qc/uX+UQACA4kBsgEUAGT4BPjL/b7+cf80BksKIga5AxABmPme9CryrfZb/7z/IwFTA7T8aPa88tXvT/G99az6AQMSDB0OCwweCCADv/7P+kX77f5pAS4C5QOCBXsEcQJ8AT0EoQRIAKf/OAPyBXYGpAVdBNwDCwGI/s0A4gAB/ZX4B/rI/mL5KvevAagFBgMJBLsFgwRP/9D9aAFQAVkAegKRAj79kfll+rT3+fVY+aD5vPmk/Rz9UPlV/OsA8wBqA7QHLQkkCLIFvQJKAHL/Sv1T/ooDLAIrAbAEqQKpAJMBGgEKAjMC6wEEBBMDxf52/u8AGQCB/7kBcwE2/mr7rPcr9236W/nC+8ACuASBBFEGGwhgAyL/AQGzAFIAPQEDABb+Hvzy+Sz4tPa89c314fhF/5b/3vzFAdIDCAFtAvMD4QO2BDYHRAlfB2kFOQSyAFn/j/+f/e//mgPqAoIEnQOO/hf/zv0i+T78cf5V/JMBMwYYBcgEDQCB+836qfJp7RDzQvbs+7kGbAuoCwYJCwQHAzz/5fSR9r7/7f1M/UYCYgCD/Kn+wv8H//3+g/vF/ckCQv6C/tIGDgdNBLwJkQ0gCfsGkghWBoYClgGiAvUCYwEDARkDPAPlAXABjf8u/V/7i/po+3D8tf0xAGsCcgBi/HL6oPaM8PHwFvQQ9En56/7zAMoDQwMhAksBnv8y/7v96vzi/kn/qf6zAPUASQAP/7j8dAAUBDwCGwKPBSkGTAIeBGAJDQr0CjwMvQvlCXIGggQOBe0EJgTEBXUGawOhABn+jPrV+bj8E/6x/mgAvf5S+qP2wPPE8XHxB/MY9nr4pfds9pz5MPz7+Wb6u/yv+1f7jvwl+x75dfoj/Er8iPyc/q4CTQWJBNoBSAH5BJcI/QfGCqwR3xHWEHwSzg8XDUQPyBDLD0kMHQVrAU4A8/z2/UgEngnBCzYL3QYe/if19O+J7PnpeOtn8LD0xfYL9+f1lvWS9Vr1Efq5/k38c/ik8+jsT+nC6MzoH+zE8mv39fsV//b8zvvU/T8BlwZoDlUYwCEaJtQkIyJ4HTEXERRxEscNggl2CWIKqAmoCGwIywdyCOkJMQnxB3gGWgTD/1j37O+06/zo7ugU7G/vvPI19ln29/GR7Vrtx/D09Z36WfxB+FXuR+QT3v/ZLtgR3H7k5u359Nz3UfjT/OUHhhWQJwI5v0GzQAozGSIGFpMHaf1nADQHGg6/FDQVIxGODr0N5A6MFB4bGx9vHEAPa/3n6+DdvNcV2MDfBe6a+/QGxQqnAkL3Me7E5T3eYN3p42Lrw+7263vjjdl51OnV/tvA40nriPER9Q725Pe9A44ZPy6tPCdCLz8WOPYovBIEAqj7+f2MBkIO5RCaE5cY8xlDGNIY0x0tIyIflRIMBXL3Oepy4crhqOds7cv2zABFAzUAGfrx76Hk0N7F3xLjguer69rqTOM92RLTKdSY12TXXNh83BHgHujZ+b8TbDFpS7dY1FO/QpUuchj4Ao30yvI2/EEGvgx1D8YMqgwpFAMd3CbdMgs4mi2mExn2IuIn1+7TatxT7Dn7vwblDkgNs/9n8rXqoeIL3NPc6OT76vDm6d0e1TzNQ8oWztPTHNYA10feUO3wAfYfF0LPWWNhr1jGRoYyjBVy+Uvvz+9K9jwCWweGAywDSQtDFZsg0jJUQcw5NCC1BNTrq9U/ypTQqeL68qX+FAvWDuIBefSe8mnwE+jB5ovsrukX3CDRE861yhrHSc3B15/Yz9QY2cbmi/6XIwpMSmgFb+5ePUNWJ0kPcv6n9sf3dv61Bd8ISwUSAdAE3xJ/JJwy2j4xPjAiWPvx4YzSSMaMzBrj8fEy+wIHVAhS+7PvTO9W8SntVemY6a/m09zY0I/JCMhvyzLQ/tEa0o/StNu99fseFk3XbiF6Jm0fTtYvKBtcB9r5Iftd/8MC6wOh+fPuUfQkByUflDktUAxPzS0vA7Di3sxGxAfLZdji5e3y1fg19kby7O/58of5i/lw9KPwaejr1ZfE6L9nwUfDJslG0nnX1Nqg6qQLSDTUWZd0MnqwYyBGGTRLHqYJgAX5Aen7WfnP8D/nxepF/uYZpTJUSCtQKznvEkHz89/v11PSxM/Z1WTdN98W3xrlau9m+S4DmwUHALb4muuW2OHIQcIPwfq/KcB5wITBtc9k8OIaoEd3bBp+A3cZXDxFszkfKZgdHhl8BgH0kOoD2vLRe+hgD/orkTvRRK49lCJMBo348fKh7IXste2B3FXEM78hxBfHndaJ8BUAaQLo+v/sb+E12abRRs6+z5nNK8OTtwm6AtdpCo1DJm//f0F2vFyFRSE6IDKfK/YrySN5A0rjt9lo2AXlBwucKuo0Xj3tOacZVfja7iLuKewE8Z/2rO5r2i/JZcVxyV3Tduaw9Vb1Yuza4GTTOMvdyvjJ78W6woe+LLzczCL2giiDVbNyfXowb0ZYb0g3RKc4XCr2IHUIEuvN35DYGt22/ywe9CQaLIUuLxtZB64DqAB6+s75ffE83VDOJcYtxefS0uOT7GDzcfiS8xDpk+L222DONcLpupKyLq/LsibAG+TFGINKh2uAdTVqSVhcUeFOgkcJP4Argws2853jr9XE3vMB8BnuIO0oxCbrGEgQYwiE/UL2Uu965cnYC83xyWzPmdYq37jnhOtX8O7xu+v45+jjAt221CbCW66MqY+uMcQa9UMqeU+6ZyZvKGK7WOdfZ1onRoQ92Ss5CVn37+pW3ETtVgkGCvgGZxFLFR8TERXmDQn9zvLh5jPWDdFz0sPQws+V0c3WHd+a6U70Lfce8V7oI9000nbGd7s1ulC+Y80y8UceCka3WmtfvFx6VbVgsWkJTgM77zCeCsr0F/O35t71WRbID5P9fASmCE8Hng8DC5T9lvxY8MnVGsyGyTXD2Mc5z3bNV9B34GTro+6/8EjqpeQx3wfP87+KvpjEa9NiAJg1Gk0ZVzhV40CMSQ9rJ2iEWS9TOiuoC5cLiPcl9voVmhCE+w3+Ffg68x8FUQXm8vf3r/eo38TZm9mny1PL2dNH0iLTMtx+3vHZ6NfF1lnYzdrx1MzKnMYvyCPU0vYfJDJEZ1MmUghK81QoZw1kmFa8RKotBRn9CJkFegemDuQYbA2zA4IPhhOZDcgILf3I7QPkz9hxzuPRidAgxIbD5cQvxyHa2+dh5n3mWeXj3N7T2sfbvAO+JsMH0vrzBhntM9g9UT9NRnJZ3XXwdnhZ/0bdNDIWSQ7QEt0Hggp8ECf5vPFVDtwdihdeEXwCl/Nc8wbpadrz1n/Jk7iAtOS358WI2ibjlt+h27zaaN/J3wHXh9JCzbXLOeEsAWQdHDLYMlkr5jNZS+JnBHH4XJZOMD+HIQkdLB5QD8oV0xFU8czwXAb/BzgItgmT+qLv5++x5mvcRdrn0OLAFrsIvSLERNTo29nWj9Kyz6HPdtDw0N/U+9hv42D6CxNbJYQyCjbfMEQ9JllJXftRJU6YPk0sOzDALWEduB68HFUGVvyAAFYCuQBj9QTmOeLp5sPpsunb5ErZIMubweXA+ck33Lrmzt0b0kjOhM7q0JTOxsbWyrrfl/fNEBwqgTbJNHsvpTjYU29jEVzeTKs3dSWqJycq6R77HxYciAJd/Y4LVxG/Ev0JgfPl4V7e+N132inX4c26wd/A1sVDzfzbOOWL3wjVEdKA10HdoNtq0UXLeNco8a4MciOfLM0oeCLFKTdLTGR9WrxQL0OiJkgs2T2RLn4lzx0+Al35AAa7DegNCgJt5xTanObz7BXnluE6z7G5RLmSxH/PJNki20fUe8+808/a09/V28LRI9Nz3zH2eBXuJxwqnSZiINsrw06TW4dP1UvFOaYmJTe5PXotPicJGTMD1gJoEGoWoBK8A6PoR9wl5Cnl2N/61CPBw7qhx9vRztPv1rjTx8cEyWHVmNzt4u3hctlJ3BHtpQUiHFYjTSHlI4sowzZbTWhMS0AtPR0wWywwPe4/LDKcIjYSJgjmDNgYHhVFAe/uIeb/6bzt2+cc3NjJCbpftx3CydCE1LbN/8T6wMzJfNmV4L3arNRY20HrFwPOHXcowCAKHdUjwi1ISOpWcz4mMq0wkiZvOT1JyjPtIdoYEA20DrAbESAlENX2Y+p770T1x/H25EjMWbo9vv7JStIx0nrLm8Oovi7EL9IE4H7i7da+0DzbWfEvDYIj2ya9HPsfhS7oPa1UbE9GMxYxQiwxKmhGD0EBHkkZ6hW1C0MaFCJTDgr6o+ha32juVvvK7Uva8cy0wlXHetQW0+HKi8g6xqLHUNES3O3fNNl/0nbZEezfAu8WbB7+GQsc9CZSMopJr1OvPZs1zjGWJCM6D0diJ3YXbRdNDAsRvBzbEMn+XvOU6vvvBff86vvdctWzyZzL8tU31QXPf8o2yPbJFs7401rdad9C2K7a2+Zx9lgMexrAGLMawiLwJyY+VlL0PqozFTxsL1g1p0hrN80l9SJ4Fv0OWRoIH1AFiejg4Znlduxl6pnZEM2GyEHIAc8w1gbVacv0x9LLz8y01UHhFd1b2PXdvue7+i4OChlvHLYYtBzAJ6I3yEugRqYzhjF8MTc1mkGcO8gjHhoHIHEc4xnXHUAOQ/gZ7kbrXe6d6ijdm86Sw+nCTsnezNbK9cjXzJfRMdLC0lPZtN7M2iTac+Or8xAHDhSLGmkcFR5OJLIxAEhRS1c26y/hM6wy7T8SRpIqRRgOHvYZihX4HeQWIvvw6+3wDvTQ8SPlgMzbw7bIN8r7zlDN3MNdwf/E38l50FjcaN/01pTcg+fZ740ESRbBGhYciR/hJLAtO0BjSJk4DzFQN6c3mT4SRDUvsxkDGgQdphiaFNYQlAFQ7vbqkO3q7fXqMtyn0CbPts9+0D3MQcloyZTJ+8ony5rTIt/+3abaid085s32egmiF28eqB8rIaop+TmrRQNCeDP/K0s0vj9kQwM4NSEVFtQbzRzjF50ZLQ6S9Sfvs+847I3qJNujybbIacxCzjrPlcw2xtvHaNCqz/DR6dyI3SDacd5W5PLwMAVNEOgTOxjwGwcmCzXAQYpIpj6zMA81ez38QKdDOjGUGM8egiSEF3EYcxDW9Fnw5/Oq7b3t8OLmzZ7IhMxOyYHIMs1qxifBpclOzjjRqdga3MHc0N9a4+7pzPp7CywRIhY6GoQb7yWLN21D+j54MIsuRD+6TNhGgTggJjgeQSrJJf4XYheTB4T0hfJX7lzqQuWM1YDLRMy7zGvJccd0x6bEBseJzKrNl9Pl2l7eE+Hm4Gzk1fJJBbcO6w/3EzEZoCCNMF8/FEFqNcIp/i8gQHRGWkGvMEYhrSYhLpwljhu/EKL/sPew+DryPOe12rHKTcRAyqbLPccbxQvDlMWfzHHPM9Ja2BfekOBN4IzjJO7m+mEF7BBJGM4ZwR/HIn0okT3JQOQu7C7JNdU5JkRcOJQfliEUKlUmhiQiGg8H8wAx/v/2ffVH7Vra+c8ozvfJf8Y1xQLC0sItyMbIy8lz0P/WLN4y5T3orey49j4ALQbtDaEWgByZIAIl/jAWPrY6rTFwMIkzGD68QfExViTYIDki7Sa5H1QRSQyyA7L2SvW39NfoKtvu0tnMYcrtyYnCar3SwF7DSccdzPPOFtXJ3Lvj0ueU6gv1XgFDCxQXOhzTHKgi2ilqMmU9OzxyL60xJTtTOhU9BzXlH/kfVCYFIHYbPhJ0BM3/YP4t+EPw7ejM3vPWlNPuzBvInMb5wr7BScRdxwPJ/ssm023Zid/e5dfoBfC8+wcFaQ9cGjMeHCBuK8I2RDwJPtIzxjAnPfY+VDskNrIlxB3PIuUgKBeFD8IKsgLC/M76j/FA6bLjXdhh0s3RL81ax/HEE8SSxMrKp86TzpDVxtqL2orgFeWx6Xf4+QNEDDQW7hgjHF8nGDJbOCs9XjoeMyo5OULPPb01RywvI4QljSXuGYMP1gfQAkj+y/Yg8SXsX+ZS3JjQts/E0m7NTccnxrvFEsdsyX3LEdKZ2cXbn94X5qHsavOR++cCWgy3FNIZEB/hJpIzAj7KO+0zDjbTPbZAHj0QL8wjqSbjJaMd0RY6De0EuwAz+CzxzvBd7OzglNULz6rNcc0SyhPGkMbzySXLkMqjz/vYQd233ibi1egq81z73f8YBzUTlhu2HdgjXy0/Nd45SzbVMYc2pT/2QWU5zC6lJq8gDiECH0wTgwo3Bm39rPVL8VHqT+PL3BHTyc5y0RDNh8bpxpHHz8jBy/bNZtPz2x/gueDS5Hjq+/Gf+8YCUgtUFTgcNiADJp0vGzZAO5g7djP9Nag+yzwdOB8vdSLWIFUkWB1oEVoKTQOB/GD4wu/W6BPndNu7zu/QbdKOzCjKvMejxmnNu88HzY3UU93g31Hlz+hD6lzzQP00AmwKlBVpHC0g7iR1LAc2kD0nO/MyuTUhPhU/WTiQK5Uj3yMlIYsX+Q31CsMHgf6Q9BruP+y66HrcpM/1zLzQc9B9ysrHBsznzovMDs3S1Uzf1+F94R3kKeuW9P/75wB6B6QTUx7EH8UiMywuNm4+cTvrMq42sT6pPcc2YS0JImgd5Ry1FN8QDw+nAKT3EPZM8VDwcell2M7PnNJm0UrLh8oAy+bKWMwUy8rOTNk73mDfxuIS5tbrmvPl91D9oAdpFAUecyBPJr0vYTXOPcY8JzEVNgI+qTc0NqUy/CDCGPsc5BeVEWkOxf9B9a30bPA17inoatmKzw3PONAwzI7JE8sNzATOYtAn0kHWhd254Yfj0+fS6orw2fnV/+4FfxAAHGUhvCMkK/00wztdOzAzjy/GN3k7LzUcLj4ipxeHGJ8ayhUsDxgGHPlJ9ez28PD66bff6dHCzlzTAtMuzUbK6MtBzmHSF9XJ1QbcWuGT4bXkL+e66131rfvyAQULGBYDIP0juin2MaY3yT5APygzbzL5OkY0NzCULRQdXReNGakTkBBSDtgChfel9MXvnusT6cPbY88TzvnO9821zSrNTss+zkXSitQ324HhW+M75KDlt+jS76j45f0DBPQQ4htlHegg6Co8M4E9b0EGNC8uIziqOkI4jDIEITIXBRvfGgkWtxAnBzj7t/a09X3yFvC442vShs1Sz0rQ083fyGPHUsp6z2jTTtU92UDfT+MI5qXnvOk88ZH5NQAgC6cXoBzQHvMl7SvDN+FCmDrWNAMzIS94Oks5GyiuIYsXNBMKHMkWLwvvBNL66fK38wP0Oevs3xDWH8wezDPR1cw0yVnNos1Qz0HYBdml2MXirOfK5k/pc+sF8K36LwRbDa8aOSB2H/gl4i2KOCJDJT3YMZ8uJDEwN9Q1FypMHcgVgxWlFoAT8g34BQX6efGY8A7wHuwH4wnVp8sYys3Kn8pCyrnL28yqz/bUxtiX4GLm+ONY5Trn/+iH88b6wv4FDGIXhhsjIpon4S1LPaNGHj/8MnAt7DLZOm063i5iGzoUJxo+GbYWahO0BEr2LfPF8ZXuee374WvO5sdpye7L6c9ZyzPEM8cj0WHYvdnj2pPded8E4lLmQOnr633yQvrsBokYriFmI2Yk0ymCOm9Iz0VSObowTzS/PF4/FzTlI2QfXx3RGccXfBKUDCwBiPIq7PbsXO/A5kLU1Mhyx2LMOc53yKLEHsg40dvWBtet2b7eo+Jj4vnhOOXb55jtgfZNAZ0S8B69Ie4jBym5NkNE8ERpPkA3OzN6NvA57zDCJeQi7RyzGE0Z2xNpEHkMxP348YjvWe686LrgUdmczUzGvccQx3jJbc9s0ZLT1tcp3cXhpeS+4prc/eBE6PPlyurK89H7Pg03HHggUyMqKs4xIT95St89rjbYPuE29DYIORgk/B9LI/4VQxS/E10INAPm/B7w3Opz7AjlT9xZ2/bRd8hZytrJ5MrZ0mHWsdVl2cre8OLW52Tm6d+u4cbo2+r265DwjvjGCqAflyiyK7YsBzGfP/xIDUohSYI+fzOpMpcyMC/KK9QfaAxDBxYJ8ARaBMr8kOu94z/lQuUR4vDeP9cxyz/Hmse5yJTQZdWr1LfVctig22rireqd5srgCeP34BPko+yQ8uABhhZbIb4jgSmFMmk/w1MBVjtIu0XQPI00Uz4OOKsm+iPlGjYJOAfiC1kEAPzY9e7lH9+26Nbm1t5w3eTRxchhzirL6sapz2jS29F817Hc1+Ob6jfp9OBM3IvfyOJi6DnvEfFm++sQkiGgLUc48jjNPRNS0la0TjBQikPzMn01xTCoI3UfehioCaYDAgWH/XP6oPsq7VfmT+r64NXevuJ516zPPNDczH3LGc+gz0nR6t6n6xXsiOq25RDco9295crid+DA5jjnnOxYAwAZgykGOA855zLYPU9TtlPQT8RSaTzmK1My+R9lEaMdYRTkAbj+dfli+n0Csfpv6vDmMuZJ4Ubi595g18DVD9Lvzz7RHtRU3YrjuOcs7CHsYPBx7z3mzeP03x3ahdkl2k7gw+w5/Q4ShiN9MMI6Lj1XQUhPPlQ2Tg9OCEOiKv0eShMmB+ANChCnAkX32vRC+uz94Po283Xql+eV56vlQOPs4b/gNN1T3e3d29z05ELpeuas7IT0DPfn8/jsSOiF4pHdBd3p3oPh0eN+60P5fxHRLbk3EDzrPhY+KFCoWCxMPUrYOrwcwBRoECsC4AFkBuX2W+cZ7FrvaPHo+cP0Nu2e7gXpJ+Yh7svtBeYQ5iblyOGr6PrrSOep63HynfWi+Gr3oPAM6HjkHN4d17bbZ94N4YTqHvcKEBYrjTxtQ5tAH0SZTE5QLE25QZUyXB76EHIIw/VG9H76LuyA5Krmy+yI/MAD4f0s9TDyVvVF+Wr7aPcj8hfvo+oH6LPqyO/Y75DtAO4C7ob3RgGZ9hDpRuJI2jLTfs/v0ODSsNZM4t7xkwz8LwpEHEtUTSdFiEZ6U8hJLTV/LZca6v8L9Vbpgd0y5wrzqO1465P34QEIBYwKPA1NC2sNQwnE/+388/Wc7xD0U/F86zbyHvg89Gbv+O8o8/73Cfw496PrQd5+0kPL8MNHwiLLktKV3oT2aw5OKbNBmEdvRjxGMki3SdI6OyjAHgUQCf/g81bo/OBQ7W/8KvjL/JAN4g5cEkwbghj+FWIUiAdR+P/0QfN47ePtmOq95uTtQvLQ8vH14PVW73jnnehe7Ezp9uEC1U/JOMSMwwzKw9HI2hPvlAhuIFw260MnSJ9CzjvkP2E8djO8LzUa5wWQ/hHsI+c59Ov5yAC4BzcI1Qf5DrUbrh2NHbwbWw6kBYb/H/YI7wnrnex27PnqVe3463bnAOes6ezp0ulj64zm19+A27vR1co9yo/Jiswc00bdhO36BHghPzhuRa5LfUogRaBBzUAJOFspziL6E0n7m/MO8Inqu/hACJ4GJQaQDfsRDRQnG+odzRfoEpIHsPNi6AHnUubV5YXnZ+bX5Zvpq+jG6WHuW+597BbmR+JK5Ozhu9z/1S7NmMmyzNXP7dMU3oPwZQwNKu09t0plUPtJ80SVRFo/cDr/M6MdxgLJ9Qfr4OYd88r7Wf6VBMIJzAmoCLULBQ2PDH0SuxN/CVD+4PNH6gfpQ+317QzviPTE+BX5xPZY88PuE+ox5uPgoOAG5QPjwtxm1EDLvcWBxfTM3NdJ5x//PxgxLg8+VkYWStRGckTkRrg8oDESLVQXHQKb9n7h1Npt54HwpvvzAwUE8AYhC94L1QwvE84Y2RZNEXcEfPYG9G7zmfHk8SnzhffZ+mX74ffN8ibxAeyG4iTbntjN3fnlCOZz3n3XaNECzCTLCc3G1GHpOwU0IdE3iEYNT2RNckbTQB05VzJMLCcfkApf9cbkn9in1rTjWPQIAlgPBRm8Gx8Y4xfLHFEcoRyoG64Mt/1u9zPxjO387EPtpPEw9lb4ffl599P1O/WZ7Xfiedw81zjTaNY02qjYPNaJ1YXQfckDzXfZXOphBNwjxj6STrVSokz3P7U5VzfYKqQf8xhfCBn2jOen2MjXpOsUBcwX9SM9LBosJSR7HDkUZw68D9gNQwO58jLjwN8S4/nmnvD1+fX+pAOIAhj96/l69aHwXOvr4CfVLs5/zKbP4tff3z7jMeJl2qjRLtGL1eDgJ/xMIMI+xE9EUvxHATs1OOE0/CroKBolSRawCOb3ueM732jslv5iDbQXSyDtIeUYpQ1PBGP+BQFtBPD+w/eH80nwJfDR8Sf2nP7mBUYH2gDW+bP4KPcA82TtWOQU2xHTYc0zz1rYx+Rj7e/r4eNU22PVMNE4zwXZ7/OYGF86JU4oUh1L0D5dN+kznym7I6sljRct/47tId0o2F7mTPh+CMMYdyZgKc0enRM/CXQBUwX9CMMHUgX9/Df2sfG+7djy7frjAfsGvwIz+6D1evDf7aHrSur36CjjXd3d2ejZj+D35/bqlOlR5EbcNdJEyq/LHdqP9KIUYS8WQlZOMk1RQkE4HS1qJH4hDh3cFg0OTAD+81DtPPBh+zoHGBQLHRgcMxMrBm/89fdc+cQAGgeuC7EMXgXy/fv4oPQw+fcDIwvqCugDhPuC8hHroegV5/Hkj+E83JzXLtRX04nXiNyY3X7dDd0Y2wnXbtGn0kniX/3CHJI6Zk/bV89UQ0mROQMp7CBNIBQdGRisDu7+fPEi6xrtAPXj/4QQvR+sIhMbxw8fB/D//PlF/REEmAcbCjoFxvkk7rfmpuld8YT4AQF4BnkGyAL1+TPwz+ju4sfemNk91mrVW9XF2Knb+dvM3WfgmeJy5ELktOX97Ff8kROeKng8AUj2S0lIJDzkLAQj0h0vGtcWGRGnCckAdvjY9E/0qPgnAzgMEhCKD7kLsAaO/+T4Jfgr+kb94gIFBhMFewL8/3X/sf/UANADZQQgAPD5L/Nt7KbnKuUc5GXit96z26Pa6trw3fHjZuqz7qvuNetg5yrjD+G/5VnyeQWDGros6TeaOgo51DW9L00n9x8HHKYZXBbMEZEJDwCc+//6mvtt/TEBWAbeCdsLfA3+C9cHZAVqBGsCHgCBAIMBc/4P+r330PVr8+rwFPCm8f7xqfCC8GTxFvJ88QDv6OyZ6//pwukL6o/p4uda5Pjgw97q3K7bYty439LmDPNgA4gVXCfrNgdB1UPrQVo8GDKwJXYcKBftEb8Mjgf9AX7+PfzD+dP4D/yuA/UL8w+XD0YLCQOj+3L1wO8G7dHu4/T6+Df4sPdT+IL3Rfe++d38Av/D/7/+hfv+9STwH+tO5iLjsuK540rlWuZG5iLmj+b259Lpfuo66xTt6u+z9kEDfBO7JGo0mj8hRGNCpzxiNDQqECCSGBITnQzSAyD7+vTL8JDvb/Fc9TT7zf9PAAb+rPkA85ruXPAt9Jf22/qqAegFTwUcAlj+X/sW/AkAbgMNBukHvQa+AJn3W/AW7f7quOjs59roQuuh7sPwZO9S7A7sDO3R6w3pKOb/43Tlm+5Z/k4RFSZXOpFIdkybR+Y7rCvZGoAN9wXXACP84veZ8Vfpq+IP4EbifOtH+3kKYxJvFCkTEgyxASb8h/wm/hkCpAmADZAJKwIl/Jn4Xvca+9MCFQipCFUH4ASH/sP0eexs6Mnnw+fS5pnkQeJ244/nC+o86TPnvOab58nmbuS85tjyiwgcIh042kaSTHNJcD5HLUIakwmz/s75EPfU8xbwA+y26Rjrde9s+HAG8xUJIVsiYhtBD0gAi/R18DvySfbU/AwG5Qp0Bqj+CfvF/SkENQvHEPQRuA6uB/j7Ae1Y4B3cDeD15D7lquKl4LXhmudN8B33Pvlg+Of0Guzs3mfUsNTe4j39cB69PdtRnlbUTQQ7XCQ/Ec4EW/5M/Pf6pvY579nmeOKY5kHy1wEYE/EiHitsJ3QaeQm89+bpkeVy6Yfv6/W2/a8EwgfECEgMPBIbF30aIxsJFR0JgvzW8DLm5t/C4HPmyut17avrpuo17TDyY/l6/23+t/Rr5R7WFcq2wyXHf9Q96loIxSpcRwZU2lAvRSQ1tSIsEGb/P/FN50/j5OH33+LgBugM9ScGYhmpKwo3oTY+K+QYqgNi8JzlxOWN62rykPvWBjwODA+8DkASLBdHGXIZhBbmDMP+EPEa5ULZqtF11Arf5eq+8zf4Zvmi+gf/gAOHAoH7KPCs4IzPGMMWv8PChc655dEG9imqR7tYA1gmSFgzMyBtDDb4MOhc35fdouC55UDqs/JYBfUcli9KOoM+5zj4Ju8PW/oM51Daqtr15Pnu+vXp/fYFRAqBDS4UvBrAG9kXABJkCaz85u915sfg/d9U5RTvKPa892/3fPZq9PfyHPRs9Gvw0+l44h/ZHc99zCPT9Ny46Jb6XhPmLd5EhFEgTUs5TiDoCuL4xeir3B7Y9dy16Tv5XAYcEx4hOS1bNHg1mzGuJjMUwv6X6fTXkc9F1DriQPHu/rAN3RsaJbkpVCy6KYQdnQvi+3/xwepz58DniuhO6Qjuf/bu+pX5CvlJ+w/8QPij807xE+/E68Dm097m1DzOQs+K1H3YJd7z7agJnSkJQiFLhUSzM7YgfA9J/0PwquUs47rpZ/aTA1sO4BlRJ2kwfjHyLfAmzhgzBOPwUOI71+rU5eBg9GID3g1rGzMpvy86L70o0RmoBNbybenp4y7fDt8P5v3v5veC/XQAnP4U+6j5TvdA8K7nJeRo5Zjneelv6ejl8+Bk32XheOGi357jgPGoBywj2jtpRZ88Fyu9GagK0/yj7wDnK+ix9HMHHxYcHKseMiKDJTQnbyUIHBgK4/bL6fnieeEn54TzigFQDsAasSTuJN4ZWA1iBtkAp/iS8azuDe7d8JD56QMqCG4GwQWjBnMDMPtn8aDnxd742uXdWOM86Lnsle8d7rrnC98M1/vRktEu1rLfDu/8BZMh4jcDQec8MzBxIMsRJwVx+dLvDuw989kD9RJWGyIgECPcIy4jMCBWFykITPev68Dnz+j27lb6zgf0FJQg6yhqK1cnFB+dE+0EyPVi6lPma+nL8LD5CALJB7YI3gWQAKj4Oe+m5l7goNmD0cDML89O2LflCvPo+JnzCuk74grg390M3NbfrOxEA9EgtzqTRd8/1zFSJAAZVwzs/MrupOdh7EL8gw28F10cdiAXJKAkUiD7FVsHO/mT8ITuN/Bp9YD/+Qt4FuMdUCM7JDgf4RdmENUH4vxg8q/sAOvN63fvjvTT94/2K/IW7t7q2Oe15VjlhORD4rbhT+RJ6Tbvs/V3+kv4BO/w4yjcidkY2yzgBOph+dYN4yQLNoc5ADFFIv0RHQWA/K30i+7379T7bA27HSMofCtmKsQoDCf/IHoULAQd9njvN/DX9V79NQaCEA0aiiFjJQcjfhqED+MFMP3o8+zrROgZ6ffr3PA49y76kPgt9Wjxnuwa5wfk0eTB5/3pHeqz6Yzqou1E8lv1hfPN60vh0NnS14PYwNva4wbwJwHLGBMwjDtMOJcr3RqLDPUCGfqv8b7uwPZzB/YXjiNKKQkquydsJBcgWxYUCN/7WfV39ZT5/v+0CBUR4xgWH10gkxv8ET8H7v0o9+3xIO0463jrC+oB6efsOvX//ZUDUASO/1X3zu/F6k/okudr537nX+iB6hTtj++48aPx0Oye5AfdCtga1UbVw9x+7QUGFCKOODo/gDSRIWsRFQktBusD1ACb/0YDrwtvFZgcFiFhJdIofyhQI/EXjQeg+UX0Rfb/+kABpAnTEcEWcBhzGAkVbwyfAWX3je7t6Kzo4ezN8Kbyd/Us+xACpAUyBHf+UvUp7L7kZd+p3K/bj91t41Xqye4w8H3vpe3f6kzmud8K2lrYSdoh3zLopvbtCp0iCjfoQMo8Uy5NHVoQJAlXBRIDygFxA3kJZBJJGz4hgiTkJbgkQyBdF1cKD/xL8QPua/F1+fgEpA/UFPYT8A/GCoUDXPtl9TjyvPBA8a/0ifjS+ZD5Z/k7+Vz4wPbb9CTyfe4F6xLo7uWh5fPmoulG7M/sH+3F7k3ws+8r7RPqQ+aU5LDnKO0v89P7KgmcGoQspznSPrc5vStUHI0Q9gYR/Zb0Q/FP9UEA5A3bGfMi1CccJ/MhYBmmDCT9JvEl7WbvgvTn+t0C1wrgD6URzRDWC8sCePqn9lD1gvMw8xf2g/l++t74uvYX9qT3hPoI+830MOnW36feMeRJ6zTwGPJ48inzjvSU9Vf2X/dN+NH4ZveY8zLviuwX7qH0Uv9GDnQfvizWMREuMyOTFU0L+wV1ASL8s/fR907/tQsPGMMgDiXVJPQf2BdtDbsAkfRR7R7t1vFQ+FoAHAjOC4ULGgs6C0sIVgLY+9f0m+0r6m3ugfYj+0f7vvpR/Br/JgC6/bT30vAI7fLsju2X7EHsyu4188f3GPt0/MX8ov4lArwDOQCH987tGeja59brpPLT+6oISxn/J64svyWGGCoM+gTqAIT8zfjl+Ej+qghkFKQbFh58H54fWxoMD78BIvVP7Ozr8PIi+4UBYgeQDeIQ3g6bC2kIjgK9+jbzQu3l6FXoJ+41+B0BwwXZBpUF0AIw/hb4UPGu687q9+2h8czz2/TP9vf6fP+nANL9Mvlg9kj3Pvpo+w74LfLa7aHtOvCI8pL0u/n7BGQVnCQ8KtQjcBbPCvQFyAQtA6MAmP9sAtoICxAzFCUVLRWDFP4R0wv+AfP3hPH38Nf1u/zMAaMEOAeICTULVAu3B/8A/PnB9HTxOe8t747ywPc6/QICiQRvBM8CXwAG/Cf2JfLK8ZzzMvV/9YH1k/ZO+Jb5ZPl29xH2tfep/GoBtwBa+szyzu1G7Hzt+fDb9hUASA0KHJ8lzyQUHP8R7AuLCU0GdQDk+e/28PteB3ESGxnhG/IajhXODEYDI/rU8bTs8+2g9Lj84QSWC58OwQ7cDcQLtAXi+0DzK+6n62fsXfF0+aECCwtKEUQTlQ8EB4r7qfAH6jbpZ+3H8gv25Pdv+kr+AwKYA4YBQvxU9hny9vBm8X7xt/EX8ijypfEM8Xjx/vKm97QCAhKqH0An8CWvG9wNAwSrAI0A9v+f/l7+MQEYCFYRrxnvHeIcjBegDkwDG/hH7+3qFe259O3+FQimDGAMqwmOB2cGoANz/a31YfAP8Br1+PzyA28HfAfgBq8G7QURA+39a/jF83/wbu/A70HwY/IC98z7AP3Y+S71yvEq8l/2RfsZ/Wb5VPEM6ajk+uUU7N/1EAPmEeUfESmEKM0dTw6fAnP+Jv6y/Rr8MPtG/nII4BbEIVMlHCJAGmEQRwbS/F70Ue6/7arzDv3pBTYMkA9WDzQNDAuZBvD+6fb58SLwYO8c8eT1Bfw9A/IKLhGoEmYNxAPs+Bvv3egq6C/sOvAP8kL0aPfq+R/7JvsG+vv3M/Yw9cTzZvEI8A/xZvNm9df17PTZ80D0j/nyBO8R7hurH2gbYBMwDjcOIBD/D4sN/wiqBMsEPQgWC+8MPw79DuYOXwz7BgoA6/kI+Jj67P3l/6cBEwS6BbMFJAXHAxYBSv85/9H+G/xW+fz6lP8gAzkEHgJe/fb4Wfm7/aD/LPxB9kTy+PCN8Pfwd/Hr8ErwQfEr9Dv36/kS/R3/iP2K9xTvDedL4YDf2OJS7Dv8tBBAJQMyWDGaJdwWvAyOB1ICuPqT8nHvPfZXBAETnByoH4YfyB0EGf0PrwI59PrpeOgT7yH5jALpCW8QuBXgF0gWjRCZB/79j/aT8Q3tOeoD7C3zyv3PB2QOkQ+ECyEGkgEl/DnzP+jo37LcFd/55Q3vxPd0/tECXwS/Akf9dfWx747sqOlS5gTjs+F45F/rcPaXBU0X0yhlNZg3Di0yGkcJ+v9w+2D4h/ab+O8Axwz4FyYeLh3yGA4V+xFGDXEEw/k+8cLuBPO/+TEASAczDwgV5RaTFG0NDgS1/OD4IfZC8a/t9e969TT6j/2tAOECBQNEA5YDwP8x98ztK+de4/jgXeKN5mfpv+2/9GT8kwO2Bv4FkgGD9yHs4OPP3s/cvN/K6Kr3DQyzIdQxyjbuL0wkIBlLDngDuPkw85jxjfaZAWIOyRhEIKolQye0IkUYqQrO/CjxT+tw7FvynvqwA0kNyxT6F00XLxKcCf7/tvZR7rjn4eWa6XXwC/hK/2wGbwzWDvMLJQRU+Ujvo+nE5rTjhOCn31TkRe009qT8AAAWAfUA4P8x+63wNeTo28nau96T45bpz/QbCNAghzXbPE812CVNF1cNXgX5+x7z9+/k9AcB1Q7uF0kd1CFjJYYl6h7BEfoAMvLe6wfucvMe+KP93QauENUWNBgoFPsLzQMB/v73ZPAB7EfuvPMO9xD44vkO/q4D4wfXB5oBzPdG8QLvf+t05NDdftsr3k3l/u6K9yf8z/2J/rz8M/Xp6rXjYt9b3WDgKOq9+lIQ3yavN3I8AjVLJw0a2w7VA0j6jfQm8wf3xgBLDWsYMiFzJmQnfCThHBIRAgJr8/Xqcun77Wf2qP9FCfcRmxcdGcUV3A4nBhL8rfEM6THlm+e27evzqPgu/TgD0wk3DfYJRgFY9y7vQ+nR45Tdh9gR2arg/uqN9Dz9KQP9A4L/Z/dw7gvmoN+D3BLcMuBB7XQEYiGsOe1Eu0GwM2Ej+RXoCSP9m/A26p3tA/j5BYAUOiArKEAt+C23J5kapwhS9i3poeLn4TDnFfItAf0Q9h25JXMmjyCSFj0LSP5U7zLjWd5h327j5umF8sX8RQd2DxMSggxzACn0NuzX5dHcxtM50B7TKdv65r3yAvtj/m3+Uf20+bzyP+qO41zhXuXv8fsFOxv/K/81OjiOM74q0h9yEtIDy/jY9Af4hP0UArUI+BFUG7AipSY0JcQcNBAnBSH+2/ht9IfzO/dE/BwBEQjBDzsU+hQeFf4SOglW+/TvaegT42jhludY8T73MvoE/nwBEgE1/ob6UPPe6LPfvtoF2ATW59gR4ibsAvPk9hb40/aa9V30DO/55F7d3+Dm8QYMlyWANhY8yTgeM6UuCygVGgIItfos9Zb1afir+2wBvwsfGnYoMTBsLMUezA+zBPn7PPVt8aPwUfLs9vP+8AdzEHQYUh4sH5EYmQzY/+XzHeg13cLWPth24WDuB/rzAUgGwwcSByAD2PmU7PjewtRM0EzRh9ak3RnkAenl7ejzbPlw/If6s/Ig6Vjlm+0UAQUX8CYmLgIudSpCKPomSiCIEy0IzQLhASQBW/9Q/7oDuw7gHLcmNieJH/YVNA1vBoMBNP0O+xb7j/xq/x0EzwrhEVwXhRjdEgQHnflV8MzsRuuX6GDlwOPw5cTrQfNe+RH8Jv3D/aX7YPNA5hXbO9YG13LaQt0T3mHeI+Lo6kbz+/ak9rvz0PBo8Of1MwLJEQggjSjqKpMogCRYIkYg4RrdEpIMMApyCSUIIQa0BZMJ8hHhGpIeWxvJFC0QIg+2DU8JOAM7/oL81Pyd/tIBiwVzCu4PjRJqDkoFDvzD9LLwju6G63jnF+TZ46Tnxu128x/2M/Z69ZPzO+9j6dzkR+J04HLeqtuP2dTawuCe6dTwyvOG823z2/ZR/s8IWhT9HkQmiij7JsgjvCCnHUMaHxeIE60OcQpaCKUGOgUoB+EMAhMhFooWthWGEicPVA8GESMPlQlJBdQCugBjASsGwgq6CcoETgEn/t35E/ch9TDxeevM58bn++eS5YHkp+jm7UvwU/DC7hfrSOdt5zrqX+l845LeU96m3+LgWeQt6fzsqPA+9or93QTnDBsYTCTgKokpZyV9Ip8elxozGYMY6RXyEscSWRNrEEwLxQlUDFkNrgzkDacOGA2aDCsPZhHQDtQKeQq9ChEIoQXIBUMEOv/0+1f8DfxI+oj5pPmV9n3wAu0U7Njpzeat5mHpNutF60DrO+v36ZPpzewt8Kbubur36Cnq9urB67btfe/h8E30F/pR/oH+s/4vAlkGJwmjCkQLugofCngMKxGfFRoYYxlZG14cMBsQGocZ7xcmFe0SWxJbEXcP2Q6DD3EP5A3gDEIMsQnQBWIC8P/S/cX7xfs3/XP9I/3k/e3+RP7J/D/8m/sX+sn4T/ig94X2/fXO9bH0fPK28JnvO+6Z7I3qqufd5KDjSeNm427kJuaR6H/rVO4s8EzxkPJu9Db3nPnf+sP72Py+/vIBJwZ9Cq8O2BIZFzUbBB4rH0wf1x65HrIfqyBtIJUfKx+AH1UgoSBRHx0cpxfcE0kROw6DCqQHDQbTBJADDQLf/1D9E/v7+TL5a/bQ8kvxOvHY8M3vre4X7STrbOqA6gvq8efY5DvjjOKl4DLeBd2j3DvcI92339bht+JC5MPn1evS7mvxZvR49sz3XvoB/t0BQgZ7C9ARWhhfHVghzSQoJ9go6CmJKlcrtCuuKyosyixcLLwqmykEKcQmFiP0HkkaKBXOD9ALSQn3BVsCZgBU/y/9Avpe95P0bPDJ7A7rzOmQ577kkOLf4PfeA96o3gXfu9372zjbttqd2djYmNjX12bXwNhm26He1eGm5EHom+yA8O/zAfec+Qv8bP9gBKwJhQ6lE58ZoB+FJJQo0Cs5LV8t6i1xLhkuAi7PLoAv1C4BLXsrwynpJrkjSSC1G0MW8xEfD3MLdQZfAjgAl/6X/MT6jPi09F7wEe7p7ELqT+cX5l3lYuMi4Tvgut/T3k/eCN6N3GTZFNdF18rXPdfR1m3XjNjk2QLcuN554Yjk7uiA7iPzQPY6+fP8bgElBgALKRBGFXoazh9cJHknXinvKo4ssC0ELqYtIS2ALfcuNjAoMLUuuSvpJ44kZiFXHUEYSBMCDwQLggdKBB8BWf67+6D5svfU9I3xuO7E7DrrUOlk50bl1OK+4DLfgt5C3pjd19wo3FPbbtqw2TnZStj31s/W99du2efawtxK33bivOYA7ADxNfX3+N/8FAGdBdMK0g8KFIMYYB29IVElgijwKiwsLS2cLqovjy93L4wwUzH/MFAw6i4rLEYobyT6IJwcsBeaE+sP5Av0B8wEJwIT/xf8Mfoe+EH16/K88IztM+oR6GbmpOO24Cbfc96u3U/dpN3s3MPaQdm12LjXA9Y91STW2tZ315/ZK9wF3ofg0+R/6evsffBG9bP5T/2fAeYGkwsRDzwTxBg/HXMgVCQZKJ0qgiy9LhkxxjHeMZ4zGDX0NIo0BjQjMtYu4Sv6KGIk3B4cGkAWGxLoDfAKygdAAx//R/xm+dX1r/Jv8Knt6+mZ5jzkHuLT39Ldhdw32+PZU9mr2CTXKdVY03jSFtLk0Y/STNMc1FTWZtk53Jje/eAy5AfoPez18Kj1yPnA/XACYgehC84PrBT0GS8fACTvJ8UqEC1iL9Ax5DMHNag1MDZdNjg2jjUCNLIxqy7+KgIn1iKUHqAawRaiEtoOegvfBw0EfgAT/XP5e/Zv9I/xT+1F6WXmGOT14YDgSd8m3dTax9kV2WHXg9VI1PzSZdGq0EXR/tGV0kjUNtdG2hLdUeCj4xTm0Oj27InxSPWS+HP8YgBSBLMJHhDfFawaoR+3JIQodSukLjsxsTIBNIQ1FTaZNbo1ZzaeNV8zMzGsLuYqJCc4JJ0gphv9FlYTcQ8BC/YGNAPq/sf6pfeJ9MTwEO006sHnCOUS4/Ph0t8O3WHbktps2fXXI9eN1ufUKtMi07jTptNO1E7WVdj+2XLcqd/y4ZvjHeYy6SfsVO878wr3SPpN/nIDnQhFDeIRqxYhG5cfLiQVKC8rnC2jL7IxZDOQNI01EjbkNSA1qjOgMesugCslKAQlxSE4HgUaUBWREDcMQghkBIAAV/wV+B30pvDA7QTrhehC5uvj2eFM4B7f693g3D7cVtse2gzZF9gY13vWz9aF1zrYLdlV2p7bBt3+3g/hhuJW5Kbm1Ogu61HuWvKi9u36T/+eA8kH/guoECkVVBm0HWwhoyQBKLMq7yxgL9gx7TPRNMg03DQ1NGMykTArLowq4SbJI8Qg7RxzGEAU6w8bC6wG1AKa/jX6+/Zm9IXxmO7m63Dp5Ob55FTkmeM24tvgXN+A3evbM9vV2hzacNkc2afYi9ik2fnal9uI3Evewt9x4MDhRuQk5rLnMuuB7+7yUfaK+sr+EQLGBc8KMw+BEn0W+RqLHhIiiyZSKocsgC6qMCUypTIeM7YzwTKoMBcvwCz8KEAlzCFXHtgaoxeeFHUQbQsVB/cCgP71+nv43vVT843xVvCi7jPshepg6Y3n7OXV5FLjFuEW3zLer93Y3LrbxNoX2pLZyNlQ2pja/tpa2/vbFN1j3hngDeJI5BLnUurR7Yjxq/X++R7+BwIqBp4KzQ7tEmUXCxyOIHAkDihyK+kt9C/eMSkz1jP5M8AzDzN+MYsvUC0kKoEmQCMCIEAcdRj0FPAQWwxoCCcFgQG3/fv61fgX9kHzIPGp7m/rCOme5+zl2ONM4ijhQ9+H3R/d0dyo25TaaNoC2vjY5dgA2nra9dmA2mHcnt1o3oLgUeMS5fjmo+rK7g/ymPV4+tD+OgLJBgYMKBDVE98Y6x1sISIlOSllLFguLzBcMr4yRzLvMggzxTH/L3wuTyywKE4lYSLBHnQalBY/ExQPhArmBt0DPgBf/Hn51PaH83XwZe4Z7PDozub15fnkaOML4kjhk9+C3fPcwNzm2xzbx9oh2hfZ19hR2ZzZfNkO2n3bUNxm3ZTfueGj4znmSOqK7krysfZ9+/7/FQRoCPUM2RDzFAYa0B5RIukljCnjK/0t2S8fMccx2DFjMjQy6jCfLwkunCtkKKMlySLlHg0bPBcBE6AOdQqnBjMDm//o+7X4XfU28rbvAO1R6lfo/eax5X3kdeNO4kDhH+BO3+ve0N3a3J/crNuB2gDa3dnh2eLZe9qC237c793K37vhWOMP5ZznyOqR7q/y1PYY+47/3gPcBxYMURCBFBUZdB35IEAk0yfAKuEstC4oMHIxcDKCM1Y0izMWMh4xWy9sLHYpbSbBIr0eMRvnF8gTGw/BCtkGsgJe/gL7v/f+8wPxfe4l7CvqIOiJ5kblouNL4iXhf9/+3eHc6ttt27PaXtll2KfXTNfT18jY99ns2vvb0t2X3w7hOOPw5VXoBev57o3zfvdK++v/UwRCCI4M+RDqFFsYSRxMIFojQiZWKQgsWS5HMJoxkTI1MzkzrDKAMQ4wPy5fKyMoEiV+IbgdPhqFFioSqQ0WCqgGOAIT/tr6ZvdB82Dw7O597BvqMemn6N3moeTj44fi+t803lbdjtwm24/ai9po2RTYltfv12PYMdnC2ifcLd2W3sHg3eLV5Hzn1OqC7o/yHPdt+1v/iAP3Bw8Muw+6E8YXuBu6Hx4jQiZpKekrzC1rL+Ew7TEqMiMy5zGHMLEuHS3TKionUSM6ILgcqhgrFQsSMw6pCboFBAIL/pn6MfgP9vjyb/AI70TtPutA6afnPuaV5DnjAeI94DLe+dwz3Fjb1tpn2tjZHNkF2d/ZgNoR2/Pbx9ya3WDf7eH04wjm6ehW7KzvOPMV+KL8FAA4BNUI5gzLEBQVaBnuHPcfpyNXJ6cpxStiLvMvnzBVMYEx2jC8L3EuyCwkKhwnOiQWIc0dpBpRF0QTQA/HC+gHKwT+ANj9v/p495T0qfLW8LLuzOwO6xHpEudd5ejjGeL3323ekt253KHbENvg2gvaTdlF2W7Zgdnf2dratNtx3CzecOBk4rDkhedV6nTt1fEP90379/5HA1wHLguODzsUYBgQHPsf7iOLJ00qbSxsLs8v9jDOMdYxYTGWMJkvyy1SK+go/iW9IoMfKByhGLYUKhH5DdQJfAUMAhj/Pfxh+bz2NfSS8Xrv7+1O7FrqY+jm5mPltuN+4mrh0d8b3jbd1dwi3E3bxtoV2grZ0NiK2QHaSdo2297cvN6k4OHiIuVT5zrqGe5y8uP2Qfti/4oDyQcODJUQzhTuGIcdrSFYJcEoiSvnLcYvSDE/MpMy+DLnMhEy0TD9Lq4skCkGJv4inh+QG7wXFRQKEMALAwicBLcA7fzj+Tv3YfRt8Wzvv+0/6zvpCOh55q/kcOO84p/hDOAK31vead2n3GPc6NvB2trZwdn+2WTaG9vn24zc2N0M4EXiguTu5prp4uy88Fz1Lvon/hUCtAZZC+4PgBS1GKccgSB7JGoojCsVLmYwKTJAMwQ0lDRINGUzpDIPMWoutivWKGwlsSHCHYAZGRX4EBgNUAl6BXAB1/3e+tT35fRb8uDvku2v6wDqMegy5qTkz+Pu4tThneAd3+XdAd003L/bbNvd2h7a69lZ2tfap9u23MDdsd7X3wnie+R85sfohuvS7rvyIfek+6z/cQOVBz0MuBCmFJgYkRxLIN0jcie1Ku4sfC44MMsxPzIEMswx1TBLL24tGCugKPwkFCE9HpMaURacEvQOKAvUBswCbP+9+3v4+vU/8zfwu+3b6wPqYujX5lrlGeSd4nfhouAX36Ld8dxY3Nfbs9vB26DbGdv52obbBdyQ3HDdnt7h303hPeNb5ZTn8umn7B/w+fM2+Lj84QC4BL8IXg2tEZAVzxnUHY8hMiW+KNYrdi25Lk4wGTEpMbww8C+ULnwsiSqlKNIlRSLqHqMb7xdGFMEQ7gwHCWoFNALH/r76fvdU9RbzwPCM7pbs2uoB6WbnNeah5Oji8OEX4Yrf1t0Q3dXcVdwm3GLcWtyi2z3bS9wt3W/dc97G3yzhseLG5K/ntemJ6/Tu8vLI9tH6Rv+JA+EGeAoxD8kTehdWGyYfGiJOJa4oeyt2LXIudy8kMN8vfy/HLlctXytQKRgn/yNsIOIcVxmBFYcR9w0tCiMGdALc/mT7Hvh/9Z7zYvEC7yrtbOup6Qfowuax5T/kD+Oc4uvhweDV3x3fqt5p3iPeIN7M3VHdeN323YPeH9/x3zvhzuJU5ITmDukk67jtEvHq9Ob42fwXARUF/AgeDVQRnBViGTMd/SAMJPcmeim9K40tWi4KL1AvtC7VLfEskSupKY4nsSQ0IYwd6hlrFnISkg4YC2sH0ANiAEb9SfpB97z0y/Lg8OvuRe1867XpsuhZ6OPn2ebj5VPlq+Sz49PiH+Jj4QLhw+Ch4HPgzd/i36PgO+Ha4WviYeNm5GLlH+f96JPqk+yU74zzpfcl+xr/rwOEByQLWg9lE+EWxRrOHh8i4yRMJzAqpyzbLdguwS/mL+0uAC66LKwpRSaKI6wglR1OGjUWRhEmDA8IAgbBA3gAev52/Jv5Gvfo9GjzRvI+8QTwU+176cLmNeWt4qvfqd1k3B/bKtn01ljVdNTe1DrWadYa1YXUvNU215zXj9gR20LeKOMw6dTuh/UY/q8IkhQkHmwkoCkDLgwxpzJFM3QzRzOzMicxuC1JKGojuiA2HpAbnxluF9oUfBHKDS8LwAhWB7UHegiuCPwHxwf8B2gHbAaZBlsHBAa1Aqr+1fnl9KrxPe/L65znw+Os4PDcitgT1V7U79WY1svVFdWm1KrV49iX3ELhlubn6mXt/+2b7pbwxvOu9QP2x/e++/UAtAWoCSkQCxtnJiguTTHPMMAw8DF6MNQsdygRJFQh7R0NGCgSzA8oEMwQhBHLD64Nfg0LDD8K2Qg+B44G6AUzBBABq/3M+yz7J/ub+iv6E/s++5L5NfYm8p/vOO+G72HuIeuO59DlIuUE5DrjauNi5GblEeVi42jhTuGE5N7ooexe7tHtneyR7Nru0fDW8T307vdO+6f+2wPdCmoUMCDyKl8xBjJWMJouvisUJ9Qh8B1iGZ0UDxA6CY8EBgVHCO0LCg7WDkAOsgznCasHzgcYB6UG+QXxAh3/D/zd+8X7ovuY/FH9yf0d/HD6NvkJ9yj27/Xz9Vv1kPLb7jTrfum96XfrL+2666rp9Ofv5WHjhOIA5kvqC+2i7Xfs/Ol96SvudPNz9OnzdvY8+un9EANYCmETah/5LJszTzFlK9YmzCTSIGQcExgQEpEOngqpBbACFwaHDmIRSBK3EawPYw5GC0AKnAifBv8FWwP1/hL6XflZ/N/9hP4e/4X/bP/O/CT4ffM78i70S/XJ80zwHO767ALshevx67Tt8u5P7uTpjeQW4ynk7+Oj4rTkTuql7nzuqusy64vw0/dB+zH6Nfje+jQAPAQVCtgTASAcKkIt+irtJt4kzCVcIxgdcBcRE7kP5gvwBroDaQa5DAQQyQ7tC4QLJQ10CzMI9gdUB2sE+wCX/PT4lPlk/Wn/LP7j/Az+RQA5ANL95/l19in1tPS99EzzQfJE8mDvFOxH6tHpJOot6vvomeWG4l7g8t4M4Obk8Owo8/Xzt/Ft8PDye/aH9nv1I/W/9mj8CQNLCvETaCAcLRwyjC5xKfsm/SOFHuQZexQUD+YK1AX6AZMA6wSRDEAQXxCsD+cO5wtrCcAHRQVuBDoCGP7L+EL23Pmj/bz+vf5I/y0AMQDE//f+vPwy+uf3R/Wv9CX2rfbF9KvyhPGw74Tt3Os/66rquujw5YPiat+b4PXl3Ot+8Rz0OvLx7x7xf/S29R30VvRI+G/9NwO5CW8RAR03K0kywC0yJpIj2yMpIBwYKA+hCR8IbwV0APr7E/+OCfMQABGhDhwPzA7ZC2cIPwVWBG8DPgEs/XT4u/j9/D0A3wByAf0CogTxBVkDrf0y+oT5r/gN+Lv3JfZE9Sz0F/HN7SHtR+8Y8GDuyepw5srib9+x3q/iMek577jx9+4b61fsSvFF833yjPLn82X42f8CCBQSZB9BKmMtGCq4I+shMyJvHZEYKBSdDgMKsQUEATMAMAbTDE8RCBMnEEYN0wuiCSsI/gdOB6cE4//T+qv45vk5/BP/DwITBBMEBwMaA04D+QLeAe7+kvpP98T16PQO9Qv04PGF7+Ls1+sL65/ovuYk56blMOHd3xbjbuhU7jzyivHe7cXt4PGA8wjyZfFA8nz1v/1WB1IPKxsYJ78rCCx6KLMi3yFTIeIaQxNuDIkGmQP3A40DKAW7C5UQrRO0EgIPMQ2aC+UKswiDBn4Da//f/Rz8WvxM/5UD0AfoBxsGTgNu/6r8N/uT+sj4R/c29RHxyO8j8W/yb/Fp7t/sW+td6dbnR+YU5bHky+OG4qjlL+2C8xj25vT08T7xjvOF9AbyifDU8Tn3RwEjCcUOARiBIvInTiigJkcjVyHmIMkc8BR7DbsI1waBBkoG5weoC6kNmA5kD/oN9AzBDGALvwn4B6UFJgO7AJf+Lv5B/+3/vADJASkBcv+Q/rr8FPkm9/b1OPS29Vz2rfO48Xrv5usK6h/s/eus6bjpLei+5bXkKeTf5NTpAvE79a/1kfFn7eXuWvIj86XxD+9w71z2cgB5CVoR+hr0JIQqQCvjKFsl0yJNIe4fQhyLFZsNrwa0BE0FwAgQD3oSMhN4EWcPSQ2fC7ALLQwdDI0GtwB1/hv8jvykALkDoQK3ASEBc/6h+x/5k/jw+KL52fk59rryTfIV8dfueO5h7orss+o16M/k8+P25AnlTeXy597tMPTz9efyCO/97rzyu/Q+8t7vTvKM92j93gEdBJ0MFR3kKPkruyrnJ4kmRiauIigbLxhFGE0UVw2DBK0BJQb0CskMmQuJCSMIGgszC60EjwG7BOEG9AEG/UP7ovqz/sMDrgOGADgATAL1AXX/fPst+FL44PmK+w/6q/X28W7uL+wa7DzsNum25jTn+uUt42rhOuNn6Nfu4PLz8cbuDe2277j00fX08WrvufFb92L+ogOzBYgM2hmLImklNibzJI0iTSPHI18eTxrsFskQCgrVBSIGMwkXDfcM5guXCgII/wfsB4MG+wRBBpAFGAFj/7n+/v5BACMBeQDW/10BhQDx/cH7aPoY+/78qf2m+hj3O/RY8V3vBe1E6k/oLOdj5RvkXOQl5RDnEOrN7vTz6/Uz9Jzw5e498c70c/SC8JHv4fKd+OL+9AHUBCAOgBsZIssh2SEPIZEgmCKxIecbqBgEF1oRmwtbCLgI2Aq+C3cKSQfJBk0HeQeRB4oFNQW2BVID4//7/oYAOwFmAugB3P+AAZICQwBO/Sj8FPyI/FH9KPpq9tDzXvB07Z3r++pA6YPoVOdJ5FzkROUb5d/mdOyi8cjyVfEU7vztDvL29PnzuPBT8LrzBfn5/NL9fwEtC0YVphr+HEweNSDeI+EkzyG9HV0cthszF8IQvAprCCwK4AsvCuMG9AYtCEQJFQmCBpIFVAbzBk0GCgUpBIEDXAPyAukCHgRFBMcAM/xL+bT50v08//X7bPgr9YHxGvAe8LzsO+lU6Ablg+GM4mbjteLS5RnrUe5W8JDwiu7e7rjxAvKQ8NTwzfG78yr37fei9wX96AZhEJUWwxgEGm0dwCF3I0QiOSCPHlYesRwQGKgSqw1dC0kMag7wDB8JsAf2Be4FFQhECOgG7gXsBIwCqQKeBMAF/Aa8BZcCAgEHAuICWQFZ/jr7qfrd++r65vZN8gbwUfBU7+bqd+ZS5BbkAOTq4qPi8ORW6aHsD+1a7MHsre9n89z0i/PJ8dLyMfbj+HP5Ffph/l0GcA6TEZwRDhLPE0sZYh1yHHEZuRfcGFMZYhfzEpcPFhCbEAAPdQs0CbgJQApACTcHeQVsBcYH9AjHBjAE0gPEBRAHDwXpAX4Ap/+V/7//EP78/Ab9oPta+PX0ZvNb89Ty8u8J7Hzp5+fH5rrlPuQ05Hbn0evK7YXtNu1o7ivy2van+Mf2wPS59Q/46vmD++H6UPpF/uACkwVrCDEL/w1kESoU+hTnFcAYXRu6GzcaQxiXFvsVaxQ8EWoPBQ4EDZMM7QrxCOEH5QeDBzcGRARiAsUBIQFGAM7/Kf8C/h/9Sv1v/Sb9OvzM+l76v/pz+uf4efYN9DryyPCX7kXrrOi75x/ouuk46xLs+OzG7WnulPB19Cn37Pdm94r2wPfQ+p/83fxd/dr+dgH1A+UELgXPBj0JdAs6DUwNvA1rELcSGRPpElYSyhGeEroRvg4aDaUMpwybDAgMiwr2CJ0IkAjoBy0HhwZPBX4DRwFp/wL+0/zP+yL6x/gZ+Pj3FPhI9xv3zvcI+Nj37fYD9Uzz7vIB85ny1vGW8PLvkvHS8+70YvXl9YL3k/ll+7D84/z//Cb9XP2a/eH9Uv/hAKIBSAIKA+4DagW3BxcJuQnoCqMLAwxmDPsMcg18DY8NbAycCs0JHAn+B2QHGge2BnUGyQUwBbwEmwT8BJ8EBwQLA8QB5QAAAGD/gv6D/c38HfyK+x/7R/tU+7n6Yfph+j/6zfkD+Yb4FPgc95f2j/a+9jb3ifcP+M74Vfnu+Q37a/zF/fL+dP+h/wAAvQByAYoBaAGSAQcCAAJwAWABBwJUA9gEUAWGBOcDswREBlIHVAegBjgGJQa9BQQFTQSUAyUDbwNSA2gCtwFRAYUBDAIkAgoCaQFtABcATAALAFP/7v54/jL+c/5Q/gf+7/09/sD+Xv6F/Qz9AP01/fP8wvuq+nr6X/ol+ib6Zvry+m377fuN/Pv8Mf4bABkBbgGIAVgBXAGLAYQBUgFPAS8BCAH7APgAZQHHAd0BmgFhAbQBGAJWAi4C8AEMAlwChAIbApQBRgEwASAB+gDBAGgAYQCAAFoAMgBFAGgAKgCy/0T/NP95/1n/Gf/0/s3+9f4c/yn/T/9n/1L/QP90/2n/IP89/0T/7/6Y/jL+zf2W/aX95/0C/hP+eP7+/oD/FACaAPIADgH7ANcApwCXAJwAjgCPAHYATwAwABAAUQCkALgAywDCAJsAjgCwAMIAogCkAMIAqwBlACUAAAAMABkA8//U/9z/+f/t/9P/+/8TACYARQAeAPL/4v/b/+P/7//t/8b/0P/y/+P/BAAgAPf/7//8//H/8v8BAOX/of9n/0n/S/9R/2z/jv+R/4v/kP/E/xYAUABuAHgAdABzAHQAVAAsABkA///4//D/vP+O/5b/vf/y/xUA+//9/0YAWgA8ACYAKQBPAGoAYQAuABMAJAAOAP7/7P/U/+r/BQAXAP//7P8BABsAQABFAEIASwBWAGEANQAhAC8AJAAyADAAFAATAAUA/f8QAAIA4P/s/w8AAADF/6j/lf+P/7D/xv/a/+X/1//e//P/GAA5AFMAeABzAFwAOgAGAP7/AgAEAPP/1P/C/6f/sf/N/9n/6v/2/wgADgACAPz/AQALAP///P/2/+T/8//2//H/AAAMABsAKgA9AEQAJAATACUAMgAqABoAAwAEABkAEQAGABUAIgAjAC4AKwAWAA4A/P/2//f/6f/i/9v/2f/B/6D/oP+g/6j/vP+5/8L/4//x/+3/8P8OACUAIwAsABgA+f/2//n/+v/6//b/1v/A/87/1P/R/93/7v/z//P/+v8OABcADgAOAAoACgAGAAQACwALAAkAAAAGABoAHAAbACMAMAAxAD0ASgA+ADUANgAkABkAHAAMAAsAEwASAAwAAAAFAAEA+//z/9P/xv/W/9f/0f/V/9X/3//c/9T/zv/B/9v/4v/Y/+H/4//1//7/+v/0/+3/8//2/+//3//p//n/4f/S/9v/4f/0/wkABAABAAYABAAHAAkACAALAAsACAAIAAYABwAEAAEABAAHAAYAAwAIAAkAFAAqAB4AGwArADMALwAjACsALgAoADcAMAAcACAAGwATAAwA7P/g/+n/5f/m/9X/tP+q/7T/uv+y/6j/q//E/9b/4f/3//L/+v8OAAIAEAAVAAwAFgANAAsADwALAPv/+/8VABIACQAMAA8AFgAWABYAEQAKAAsAEAAMAAgABgAFAAwACgAFAAYABAAHAA0ACQAHAAwACAAIAAoADAAGAAMADQACAP//BgACAAsAHgAPAPr/BQACAPv/AAD6/+n/2f/d/9b/z//W/9L/wv+5/8b/zf/e//P//P8GAAUAEQAbABsAIwAhACAAHQAbAA4AAgAHAAUABAD+//z/AQAAABQAJAAZABkAGgAYABkAFwAYABcAFQATABAADwAOAA0ACQAHAAUACAAFAAMABAABAAkABwAGAAYAAAAGAAMAAgABAAIAFAAZAAYA+f8BAP7/+v8CAPn/5f/Z/+X/7f/o/+z/7P/n/+n/9v8EAAYABQAHAAQA//8AAAEA///+/wAAAAADAAQABgAFAAMABQADAAQAAgACAAYACQAKAAAA+f/+/wQA/f/z//P/7//1/wAABQAHAAcABAAEAAcAAgD/////AAAAAPv/9P/w////EgAeABwAGAAXABcAGAAWABAA+P/s//j//P/3/+f/3P/Z/+j/8//r//j/8v/o//j/AAAGAAEA9//0//r//P/z//3/AQD9//j/8v/2//z/AQAHAAUAAAD9//v//v8AAP//AQACAP3/9//4//3/BAAKAAYA/v/y//L/AQAKAAQA+//7/wEABQAFAAAABQANAAsACAADAPr/+v///wMA///+/wYAAAD8/wQAAQD6//z///8CAAcAAwACAPv/AAAVAAQA9v///wYACAD9//P/7P8FACcAIgARAAAACgAKAPn/AQD///j/+v/6//r/9v/z//7/BgAAAP7/9v/p/9T/4P8HAAoADgAHAPj///8KADMAgADsAD4B+wD+/9r+Of6T/vH/ywBVAHb/0P4C//D/bAAgALH/kv/F/wUAJgApABUA/f/q/w0AYQCFAIUAdAAeANX/BwBXAGMAPAD1/7z/wP/g/wQAHwACAMH/of+7//r/KgAnAAkA4//N/wAAPwBBABYA6P/j//7/DwARABUADwDz/+v/BQAJAPb/9/8DAAwA7P/S//X/CwAZADEAYwDqAHABTwF4AGP/t/4W/xoAhQAaAFb/jP6H/kn/zP/Q/6n/kf+Y/77/5//n/+z/+f8YALMAfgEoAowCzAFUAD//8/7E/6gAmADv/1H///5C//f/3/91/3T/K//2/kP/tf/d/7b/Tf83/+z/ngDvAPUAoAAuAGUA1gDCAHsAFQAaADEA6//d//H/BgD2/7n/T/8U/1X/j/+a/2//af+7/xkAPQAAAAQAewD0ABEBmAAVACoAuADvAJ8AOQACAEYAegAyAOD/wv/j//D/oP9F/0r/ef+X/8H/wP/Y//X/8v8WADkAXAA+AP3/5v/u/0cAkgBuAOb/v/8eAGIAowBSACoADQCN//H/7P/g/+3/aP8t/zn/EgAkALn/EQD///L/UwCqACYADACgAFYAXABJAKv/lP9r/xb/W//T/5P/XP9D/1T/KwBXACEAFwCH/2X/PgDTALEAbAADAPj/EgALAF4ArAC0AJ4AzP8I/5r/MQCqADsB/gAaAMX/nP+J/1kAQwCJ//X+4P5h/7j/ff9V/kr+Pv9FAPAA6gCSAHD/jv7U/a//KAS6BJcCbgHG/2D/1wADAUr/J/70/rf+Bf6P/qf+5v6M/sj9hP7T/9IA7QAmAFD/3f5BAEkCDwI3AQYB8gB6AfMB8gFgAUEAoP/8/2MASADr/63+x/0H/rD+1P+Q/8f+AP+V/uz+///+////UwCoAOgACwELAcQA5gA/ARYB/gAhAboAQACW/x//o/8//xv/rf8v/7L+I/4F/jf/AAAXAB4Af/+J/4YA2QAAAYoA5/86AL4AGAHWAK4AkACC/x//7P9sAAUAU//h/lz/CADo/18Ax/9C/sX+AADRAL8AwQAUAXoAwgCrAUkBUwAUAF8AYgD1/3X/Ef/4/iv/Qv8xAKIA1/5B/mD/LAAjAXsAi/64/h8AnADGALwAAQDy/78A5wBmAJEAAgF0ABMAAQCj/9H/CAA6/wT/1//C/4f/nP8BAKMASwHVAaoAv/8LAEUA6QCcAHT/Ef8u/wkAGAG9AD7/jP6A/00AXAB8AKH/gP5P/3YACQGQAWcAFv9P//v/4gBfAakAZv/R/iX/+/+FAFcArf9j/17/6P5W/0UAhgBkABEAgP9P//H/cgDrACgBmADQ/+f/gwCGAO8AuQA+/0r/CQCC/zH/yv8VALn/sv9y/3P//gCpAR4B3gClAGwAawAcAHn/rP8SAJL/E/9A/zD/qf+TAB4Awv8kABQAqP+K/6j/KQAYAc4AjP9Z/7v/vP+jANcAPP/h/oP/sv/p//r/7f/4/x0Az/8s//f/JAEEAYQADgDs/58ArAGYAaEA0P95/+L/XgDJAK4Azf+W/kX+PP8IAKoAlwCO/2b/NQBrAEoAGwBg//H+bf/m/6b/yP9SAB8Apv/K/zEAPwBaAFIAk//e/vX+Yf+j/07/4v4a/9z/rACCAPf/BwBsAKoAqQB1AA4Azf+z/8v/dP9c/1gAtAA/AAAA7//F/9r/YACCAKAAJQGlAMX/lf8g/+f+lf/a/z3/M/+h/6r/y/8CANz/r/9fAPAA9wAOAXgA0v+3/73/8/8qAAwAiv8X/3H/7v/h/9n/2v/d/9X/gP8W/zf/9/9uAE8A7v+H/6P/JwBrAG8AOgAdACEA9P8AAEUAaAAxAKr/EP/u/pH/MABHAAUAwf/h/2EApwDQAMoAagBrAE0A8f8XAIAA9wBNATQBtQBRAHEAuQATAS0BZAA4/1v+av45/03/sP5T/h7+gP6L/yYAt/8l/z7/2P6Y/mD/Sv+N/mD+eP7u/gAA7ACwAEAAsQBYAQ0C1wK/ApwBegCr/0H/wf+nALUA7v+e/0EAlAG+AmwCPwH3AKEBuAH+ADEATf8M/6v//v+k/9H/8wBMAekAtwCIANkANwHEAIn/av5e/tz+B//Q/qH+wf46/9b/rf+g/if+df5Q/kT+Xv6g/eP8ovx5/Lf8dv3D/W79wP2c/mP/FgD8/9X/hABxAZ8CrQPCAyoD3AKYAq8C7QPCBE8EGQQQBHoDlAPoA8sDZgQmBcsE5gOgA7MDtwPRA+UCDwGt/4X+xf1b/lj/VP9G/qT8RvsM+9j7pPsg+qD4Yfeg95X5SfsC+wf5+/ZG9s73VfoB+y35MPfz9iL40flP+xj8r/zL/dD+HwAkA74GXwltC20M4wsEDeoPdhCQDg8MGAnbBuYHFAnmBlEFDgWABDQFswXIBP4DxwPbAoYBlgCm/lT9N/1m+/j4bvir+Fv4svdK9pn0bPRJ9gT5y/or+iz3Q/PL8BnxVfIq8nDw3O3Q68fr+e1z8WT2SPz/AeIJ+hMaGyUcrxlSFvcUkBcIGKESFgyBB5IEBgR/BAUEdQXvCLAJQwhGCQMMqQw3CpwFdQEc/47+2/55/av7W/yD/sb+3/y3+4P8Vvyv+cT12PBL7h3wovIP87Dxu+6M6s3obuzI8PLwHe5o6e7lrOin7033ogLtEZocGB9CHawXQhXCGpMazhHdCvwE8ACiASIB+f2L/z0GzAnYCKEIAgzRDysPpQp0BckBBAIiBDgDigCs/mX/vgFfAfEAmwJpAnoADf5o+fnyxO7N7KvqV+uv7o/wy++u7JPpt+py73fxD+7B53/hmOA452XyTAPWFW4ghyIoH+IZUhxkJK4hfxYpDAYBqPvD/aj+8v6cAtkFJQZYByEKjA5xEf0N+gmhCCQGBwWGBeUCeQFdBO4EPAOmA1IDYAJJAor/KPsh+GP0WO5u6Xjnw+dy7Jzy6fJZ7jzqzOnU7JTua+sn5eHf7d7f5CXxwAK3FmolcCo6JjwfLx9VJMMiNhjGDD4CcPrI+xsAUP/zADsH5Am4CzgQChIVEZgPYwxICIgELwPeAwUCUf+S/1IBKgFb/yj/4//F/z3/Af1d+HLyO+ws6K7ltOOj5s3t3fI184nu6eg+6DTrXuwz6M7fjNqw3nTq2/u+EsUl5C04MEEqjiGeJEIngx4yE1UIL/2m9w/6+fvZ/XcGyg6kD0wO9A9FEdwQkRDlDKMFKgHEAHYBJQAL/wYDBwRT/7D9n/33/GL+vP0j9xrw2Ot15wTktOF94VDoPPDR8dLufujl47Xlr+gi5iTfcNo22wfksPfwD9ElJzbKOyszHyZ0JPklpR/JFuAKCv7c9hb3O/qK/OcDBw5mEYAQQxKREsYO0A0qDZMH0QNIBAkCj/5d/tT/bwFkALD90v25/pL+Xf4g/Hz2ge+D6VTkQOAM3m7gKOgE7lzvW+0c6LXkweRW5D/h6Nx424TfCu3UBXggnDNtPe45wSreI7EnFCSZHQcTWP/y9Orz3PJU+CcDcAroDcMPVw8GEdMUZBOzD2cMZgYTBCwEtv8E/koBLwPeA9wBX/7X/1wC1QDp/DH4ZfFw6NXh6Nwd2dra1uGS6VDupO5661XnaORD47PgUNvF1xra4uO097gTuyx3OyBAzzfxKc0mOSc2ICcYvAtd+QvvMPA49fb+rAyNFfgXfhehFUUS0w7HDvMOognHArX/8/xi+pX+sgQnBrIGwgRcAJL9dPz/+275LfR869Lh3tuX2ZTb4+Aj6JLuf+6v6XXlTOFZ38PgWN6w2NDXlN5z7tQH9iLCNag/tz4iMe8mTybnI0weRBP6AgX3Z/I/9d/8jgUWDskSHxXsFY0SUhBcEFoOnwuQCKsFkQTWAoMAKADLADgCFwMvAeH9kPo4+fX4Wfa18JroeuCC2mDYMNoq3/jnzO3162voP+WQ4oLhLt8M2hrWXNg/4y74XhMeLSM/oELNNt8pUyhiKD8jLRw0DF375/YE9qX33AHsDYUT1RTJFhkWNROSEncRMw0jCVsHQQYeAwb+Bv7ZAB0B2gFmAcD/P/1K+/v6N/cJ8krss+Mw3DXZQdro3DLih+jd6tDpoubI4Qjetd2O3NDXttby3LLqfgACG5Qx9z1jQIc1ICobKDoj3h6GF/sFTfp/9vDz0fh6BIwNXxJPF8oaIRguFRkWcxTvEMYNNgqGB90Dw/7I/lYCLAGKAHsALv1c+hz5/fmb9w7yO+385vzgptsz2EbZYN425eTo2eZ64cDcLdqk2DjYhtc52N/eLushAWUdrTP4QHFBBDWPLNUvWS3ZI6Ub3AlO+uH3kfXE+twIARPKF5gW2RR1E/8PHxBvEKANWQnbBcgDKQA6/xUEIQgPBoIC9f7z+Yz48PkQ++r4fvIX6yjjLN/q3djbwN7t5Fzo7Oca5R3f7Nds17zZC9oB2gnZKtxL6fP/zBs6NVxC2j8lMjEpKCrSJfMiYR67CsL8Efql9lv7NgzkFcsTUBOqEmMQehBYEeYQ4g6sDNcJwAbtA98CWQUnBh0E4wH8/uL9i/w8+v74NPeE9VHwI+lT49/crdq43PbfKuTh5V/kgt912h7bKt7T3wjf0dmx14Pg0PR7EfsqkTluPSw1XCsAKtoopSbtIqYU0QFy+Ir4R/zyBcgR+RPwDpwOwRCND2sQdBIsEUsNJwrVCcUHOwZ6B9sG7ARrAbj+u/5Z/BT6E/sY+z74DPSy7i3mrt4d3B7bTNx04EDjteFf3hvcVdtJ3jPhit642h3aqt8I70IGBx5FLsQ3LTgwLn0pkyigJPUhihcgCisEVgDM/n8B2wdHDEMLMQvxDP4MaAyeDfUOzw7RDvIO6wwwCSoHXQUuBOMERgMRAo0BT/0k+lb5kvcT9QPxHutJ4xnd8Nq/2bfbwN+Q4VHg+NxB2y/cFOC04ibgqd0e3u7j2/KqBwMcMCumMjAxrSnuJo0ncyO9IPIbmhL7DG8HpwIvA0cGhgrNDAENZA37CmAIZArbDeUPJhEaEUsNjgfyBGsFVgZAB4kGLgFU+9H5cvlr+fD6RviO70TnteD920zbMN3B4FHjseK84ILeTt0d3tbg6eKr4GLdyd394sfuXQBnEgwgsCgAKtcl5SQrJfgltSgRJckdBBY+C/4EnwPrAxgHoQjZB2wGIQUnBssI1g2lEnEUehTTEAcMugnJCfMLlgxNCTQE0/9A/cD8pP1z/ZX5VfIS6mDivtzA2rDbmd2k3zXgKN+i3SDbEto83M3d9dtG2mrb8d7b52v2/wZfFqchTiYDJdolFSpDLRYwnC49KEgg8BW4DVIJIwfuCCkJCAZ2BJ8D3wO9BQsKPw+eEW4T2xFiDYMMwA35DmgOZwwrCvQFkQLjAED+2vtq+Wf19+/56YzlI+FE3EvbDd2Z3pnfKN5O2oPXqNjs2uraENuZ3N/dhOBu6Av1UQSIE80dBCMFJqgpeix4LDQt7SwJKUgjpBrUEPcJigb2BX8F4gRGBe8CPwGgA9YG/gtGELQQ0g4oDLkMBw6hDXMOtQ2eCskHTQT0ANv+6fy2+un2C/KK7dnn6OGe3ozeGeDu4Q3i4N5E24bZbtl22p/bw9zn3WLf3uIf6fLyWgCIDSoYbR9fIjkkiSYVJ0EnlydSJf4fihnuE0EO3AkoCXgI0QbkBvAGtwU9BtsIDwsVDHkM3QsqCjwKcwwlDfsL9Qo1CcQG0gQFAxACiAF2ABf99faq8t7vQext6h3pYed4517ny+VL40ngNN/K38bgpuEg4STh++M76SXvfPTL+QT/TQTaCacNQw8wEa0SrxLpEk0SYhB3DzoQ7w/SDr4PYRAsEMcRNhM2EvEQsBAbEOgO1g5cD08Opg35DSsNIgvWCWYJzAeQBr8FawOnALL+hf2E/K374voM+bX2A/Ue87Tx7vCL7grr1eff5IDihuFm4RjhaOFA4ifiheHJ4VDkEuna7Xzx4/N69Z33VPtc/2UCxgblC9cOXxH4Ew8WwxhdG9YcsRy+G+gapBmEGL4Y6xgbGMoXHBcoFbETlBOsEi0RcBCWDbUJ2AcTB1kG5wWlBboDnACD/qH8RPr5+G/46fZC9BDxSO0b6u/oA+ih5vXk+OEU3nTaANjm1v7Wa9iJ2r7ch9+s4nDmFusG8JX1mvrI/n8DhAioDbkSPBcNGoMaKxtpHBkcuhuzHMsdrh6hH1ofRR3RG1ccvhyIHFEcCxouFj4TpxH+ECcQIQ7WCvsGigNiASsA8/7a/Wj8sPmY9qL0AfRK9C70LPLs7fvo9+RM4ZPd+Nn81qTUUNK70FbQdtGP1JLY9dxu4f3kluhg7fbyGfnC/lEDcwfQC2MQsRPuFT4YIBosHKUeyiAiImwihyLEInIj3iQPJo4m1iXLI2whJh8QHcca1ReOFBoRPw1ICSgGUQTJAjUBKQBh/lz8rvuj+rr47vbO9CvxgOxz6EvkQ+DG3ULb2dcQ1W3TbdIw0tTSG9P700LXQNvv3gvjU+ft6hDvhPT5+OT8hgGmBakJ1A04EckTFBY/GewcCCDoIuokSCa2J7ko/CmzKvEp1ijuJqgj5h8bHecavBeTFAURvgyeCdkHDAehBkIGbgWlAwUBdv0S+sb3ofXt8hPwqexx6HLk7uAY3jfcfdp+16XTkdHx0PLQoNIi1HDVIthY27zeGOJV5rfqpO6K81f3qvo4/5oDZwghDukTgxi6HG8hpCRQJ6sqJyzpKxIsCSzLKswpVilBJ4IklCIYH2oa7hdYFqATfRHND7MMmwkZCBEG3gITAUMA/P1w+4j5QPat8uPw+u4f6zDn7+Ok387bWNpG2RDXHNVb087Qks/70ArTftRG1l3YMtoU3QLhgOQV6cXv9vWP+wUCTQgLDlwUghofHv4fkCKTJFwlbyfHKU8qwiokKxsqhCjuJ9YnYSbPJIQjsyBYHWwagRdRFDsRqQ7JC9oIlgYsBIMBtf9q/jv8Gfl+9drxB+9e7R7s7+nM5m/jM9+h2zTaQ9hx1bDSr8/HzALLaMsBzD7N7dAl1V7ZRt5t5OfqiPFE+YD/6wOcCGUNMBIXFzscJCADIuAjsSU4JyApKitkLAwsoStsK8kqByoKKUonvSRoIpofexypGbsWNRR5EcEO5wtrCGIFyQJEAXQA+P4F/S76n/ZA88fwOO8u7WHqdOYD4b7bj9ci1CnRVc6vy2fJMMjNyMLKes3b0L3U7tgV3TnhleWq6pzwEPc5/TUC2AaiC60Q4xVvGlIeWSETJHcmtyfwKDgqIivPK2Ysyyx/K+wpmSnkKHknWiW2IgsfUhsuGWQWeROnEdkPkg0KC2AJRgcKBcsDcQHX/bT5LfV68DDs7ujj5PPfpdtA133TXdHrzzXOJswBy3fKGsoly+fMmM5P0UXVT9lM3dvhSudB7X7zKvqx/1QEiQktDoMSKRc7GxkeMCD+It4l+ieCKhUtny6HL+gvCS+ALWws2itOKxcqcyjyJZ0i2R8wHaQaChjvFKARsQ0iCgQHvQPZAKr9wPmW9Rvy1O7c6tHnUeXe4frd4NmV1X/RRc9fzmrMbMpTya/IpcjaySbMBM5g0DDUQtil3HLhS+b76qHvPfW4+i7/fASqCnkQ6BUJG10fhCKFJQUpjyvILdQwzTIaNPM08TQONdg0JjWBNOgxCC/6KqgmYCNsIL8cORgPFLcPZQtkCCIGgANDAD39z/kF9bjwF+0M6XPlUuK43lzaTdbb0nLPOs1RzBbLgsnzx1PG/MVQx+bIKMq9y8HO19It1y/ce+Ga5trs7fNX+iQAWAXECtYQ4xbuHDYiRCbuKbMtpjFQNSM4GjrBOpA6ajpSOu45QTj4NdYzEDGzLSEqWSbqIWMdTRm6FPUPcQs5B5cDuP/y+4n41/R+8RPum+pU57HjcOC43bzaF9dc07fPD8wqyQLHLMWxw7TCi8Jaw+jE38akyAjL+86+0xrZxt6p5FDqHPCq9zT/mwWiDKIThRlLHyQlpioXLyAzlDd0Oqw8Kj9CQFhAMECwP4U9cDrkN380ijALLZ4pyyWeIZYdfhn5FLAQKw2OCdYFXgKg/gb7nfdN9VXzJvCC7OXmq+CS2qjVb9M+z4zLq8hsxOzBoMBRwf3A+79ewf/AFsBPwWPEf8hAzt3XguK36j/ycPpQAoELLxUrHXIjsCfDK4svejIiNSo3djmiOjs6RTllN+c0LzJqMO4ubCydKSQmMiIUH/ccShuZGYoXghQNEBUMoAmDB44GDgVfAaf8Tffw8v7uuuv06H7jptx+1WTOK8n9xSzEyMG6vm+7Drg9t7C5hr2NwAzDAsYTycLOn9fH4tTvGv1WCmUV5x1bJdQrjzFgNaE3cjnKObs3GjXUMTctFSpQKLom3yQwI88hCx8zHLsaBBteHFwcSBttGgwZWBjMGFAYgBcoFpgTsA+oCmwGFwM6/yX5K/La6szikdyI14zSgc1kyDvDK77guzG8tb2+v7HAysDhwBLDsscRzAzQUtTZ2PzdZOUv7776rQkXGMAitCmxK2Utyi/SMPcwVC8xLlArNCeCJakidyK5JUInYScMJi0maCVxImMiRCLYIR0h9B3DGnoX6RVTFUMStg66CwgI7gKG/tb7yPh79enwJ+rE5N7g5tvy12DVmNIY0PvMi8lpx4PIDsz4zrPRjNKM0crPG84s0LLSStXf1xPYStuR4unu3v8hEi4j9CzBMesyUTM7N6U2GTSGMecqySQyHxccXhp9GoEflCApILkhTCJgIykiFCJwITUcwhg+FoYT6hH/EAwQxQuiB74G9QThAcH+vfqt9hnzQO6O57Xhw92v2n3ZENlv16nVM9Sp0sXRfNJ61I/Xltn511TUe8+/zKPPXdS/1+3YY9q/3ybp3vf4CoYemC0rNQM2cjKKMWAzWzFNLbEoACL4GjkWnRNiFO8a0CD5IdIhfCLFJEwkCiH8HkkcYRjjEl0NYAl2B6QJHgmaBV8F1wVdBhYE9v/f/dX51fO26lXik9/p3O/a99iz1/bZKdsv22zaKNsN3QLcOtty2mjZ+dem03fP8M+O1h7dF+Aa4h7l6+vx9pIHCxsqLAk5dDzwN4YyVDAxMH8tmChzIqwdJhlSE+gSQBfoHBoh2yBLHlwclxy6GUUV8BJnD+IMngn0BrMGQwaYCEMJ9QcWCNAHqQZJAS78Dvic8JrrI+gI5CHgbdwR2wHau9vs4FnjbePK4lPhHN6s2RfYydid2ZzZytbU0lDSr9i04tboburQ6xLwO/idBRoYYypFOVlBzD7WNXIvPy+eLM4lECClF/0OZQshDA8QbRZFHvEinyJ8H4obZxg9FN0P6AyeB+8B8P9j/0oBzwTQBl0H2wUuBecEXwLE/Wv35PE+68rjFt813lHiuubp6Azpd+dd6BDrJe2T65Tl0d4w10nRvs+x05PdheUg55bky+Md6nvzSvoU+if24PZ7/RUKFRo/Ky47b0IqP3Y2xy4qKWEkviBbGp8Q0ggCBVYElwkEFUQeDSHjHrUZXRVqEucO8gqJBhMB0Psd+An2SPeA+2f/igCe/oD7OPgs9R/x2eys6Svmx+Q95Rnm4OeF633x6vMO9Jf0F/NL8Pjq3uUI4RDaFtZk17ncfuS/7QH2GfnN9/b1m/b2+If5Lvm1+Wf8rQabGC8tNz4pRG4/wjVPLTAn/iB+GdoPegghBHcCUQS1CGwScxyJICEeqBdqEScKQQSb/2357vSo8h7zZ/PO8wb57P5HAscC0QH//o74QfPO7pDq4ujd6J/qCewJ7tbyHPh7/Gj/Ov9F+jn0kvB57WHoDuGD29fZY9wg5NLv8fxgB+IKhgZd/yP7+vng+J/0APCP8tr8AQw3HjkuxjhPPPw3pi4AI/4WuQshAzn93/iA+H/7mAAKCgIWcx20Hf0Z2hM+Cm7/kfhj9eXyUPAn8LrzIfhs/y4KOxHAD2IJsQP9/an2mu/26ijnLORk5q/t+vWD/dMEaQmiB48Bsvux96P0kvBK6aXgstxV4LHoZ/Hi+EIAnAgkEBgT7w7RBLn4ue1r5unhQt7e3v7m8/iREvcpAThsOrsyXSjUIOcZTRAiBGL5VPS29DD52P/OB3gSTh0uIX4cCBUuDCcCMvmz8rXwR/HX8+z50v+iA7sHRA3oEGANoAXY/uT3JvCo6MPkcuVw6ODu3vecAKoHHA2aEOUOTAjqAOT65fT07N7lc+P35evsn/W5/Pr/y/8/APAB5AGO/Q71Ceu64hDeI9wu3fDhiuyG/58XVi0TOds3cyxSHtAUEQ6jBQr9a/YE9Yr5XgHDC+QUpBzuIgkj7h1AFd4Klf+L86rrU+uY8Lj27vzaAvMGAgyvEjcWdxFKBrX7ivS279/t2O+085/4P/5eBJoKFw+sElATOwuF/Czw6+py6m7qCOnd5qbl5+fj7RT1nPho96X1efPg8Pvu4e137abs/Oyy71Dz4/U7+LL9BAiDFigkhSoFJn4YDwxWCM0J6wsAC6QEwf1f/DUDYQ7mFpYaxxmpFbgQQg1GCH3/yvcA9hD6DP/7AlwGlwczCJgLExE2EkoM/wPC/dL6f/kw+kT8Vvxl/Kr+iAF1Ar8A6P40/A/3FvIq7+ntR+1E7QjuJe3R6v3qLe8c9az5XPsR+d3zw+/h70Pzt/XM9Gfx5u7N7ijwSvH78Pjzpv/oElwl0iw5J8AZDA9BDj8RSBAMCZL+Ofnm/XwJsxNmFx8X2BYqF2sWVBKFCc/+fvcP94H7JwAGA4IEsAZjCpIPqhJ9D0YI7gA8/AP5efXn8pXxs/B08Cnz4/gl/j0A1v6A+9X3d/T08Sfwj+567ZjtjvD09B33J/iP+Rz6Gfpg+d723PJZ71LvXfJj9f31/PTI9VD5V/7qAQYByv1rAAYN6h2GKYAoHxzxDREJFA43FAoUAQu+AS4AaAXoDUMS8hDEDecKAgwuDcMIMwE3+ob50v5cAzkExQKiAoECWwOqBTcE1/8j+tv1xPOj8UfyrfRl9vv11PTG9xL9egGkAvD/Q/ua9V7y6PLE9M31xvQO83fyxPLC8zX1ovah+CP7xf1H/+P+Vf7a/jsAhP/j+1n4Nfa79r74uPif9kf2X/3IDTwhHy21K8UfLBJDDOYNeA96C6oCPfsV+r7+8gUrDSQSAhTxE34RCgyUA7P46O8u7nDxtfXd+Vb8A/6GAHEEZgk8C2EHqP+S9+3xHPCP8rD2PvkP+TD4IPqX/r8DqwauBFj/+/lv97P23vTj8crvmPD783b3CfmS+Q76Svuk/rkBwAE4/977ufkk+Vv54/m0+br4/Pdv+Gb5g/kc+wUCmA/6HtwnOiYyG3cNIgQWAeoBKgIhAO/8EvuD/XMD7AkiD+IRNxIoEOkK+AII+zT2afWy9yH7CP5oACYDKwZ6CNAJLglLBUD/jfg/89XwIPHT9E76Fv+EAiEEKQTaAtgARf9S/rj7mfZp8Yft3+s/7YrxEvcp/KcA1gPMBJ4CYP7E+vP43PhK+Un5wfis+DT7UwAMBQoG/QF2+jbzL/FD90kDeA/gFgEYLhRED6MMPQ3yDl0NaAfV/0f6gPme/boE4gtKEGESBBPgEU0PFgqwAjv7l/UZ9Fv25Pq5/zQCIgPPBKIHJAoXCrwG3P/l9s7vzu3u8H/1yPg7+3/9D/8LADwAF/4i+gr2IvNk8v7zOvfv+VD6GPlL+Cf5dvsq/uj/gP+g/S/8B/w5/Gn64/Xb8Mztg+6r8uD3QfxGALsGNBANGhsgix4dF3APugptCTIJLAbkAND9LwD4ByARPBanFdUR/A3sC9IJ/wQO/sb33PRp9T/47vtu/+UCeQUnB2cHOgVoARb9kvjm853wHu898B30/vi2/qUDuAXQBDYC/P5o+zb4u/VB9ILzvfKq8yL3Nfun/iEAQv/W/MT5SPfE9bn1OPfZ+Xz8MP1a/FD77/rp+5H8VfsO+d73lfogAvsMEBjsHkkeJBfkDssJKAhxCLUHBwVfAggCIAUzCrMOlhBNDwgMjwg8BTQB8PvU9lr0afXM+Sj/KwL0AbcAVgG6BGwIfAj0A1f8YvUe81L1AfkT/F79yvyb+2/63/nE+hn8wfxY/AH6IfcY9bHzhvOz9P/29/mY/Iz9k/wO+xj6yPre/UYBFgLi/638efvx+8r7dfpN+LX2V/Ze9z/6BQBOCq4XkyKLJPwbuQ79BBICnAS4BzgGXQEi/VD9EwMdC6ER4xPhEVENxAerAgb+6flR9+71b/YJ+aD8KwF4BSQJYQsCCs0ECv4O+F/zfvDF75XxovUz+nv9E/8I/9r99/1rABEDsQIl/on3p/Le8br0jfil+rL6avpt+4D9sv/CAN//rP2N++D64fsc/SH8Gvki9yr4ePuE/pL+J/sY+Oz6sAVCFP4dcB0jFKoINALUAsUHsQopB3AAVPy+/TEEwgxEE18VPhODDs8JoATe/ZP3q/Pu8hr1/Pj7/CwAkwI4BdwIdApkB1wBePv29+L2+fZ89zz4pvmV/HsAyQK7AnMCfwK1AQ7/pfo69jLz+vGn8v/zm/S29Qv5H/4mAxAGdQW8AUb8fvcn9ir3fPfI9V3yD/Dt8TT3pfzG/6gBIQaqDloYxxzLF4YMnAMEA/sHcAy+C1oGNgFNAKUE6gqUD7YRZxAzDJQHKARZAeP95/qt+Xn5P/pR/Db/jgGoA0oHjgolCoIF2v9j/B76S/h790L35/b09lr51f3QAZEDRAOAAQ/+g/oJ+T/4KPYm877wR/DW8OjxWPWB+jb+Af+L/sD9gPsc+R/45PZB8//tWuth7nv0IPkA++j6NPy3A1wSFyFsJWYdrxDGCTILZA3KC5wFuf2O+zEBDwqVD2IPkg0LDmwQbxL2ERQMRQL9+sr4C/oH/KL9SwCPA0sGLwlNCjAH8wKQAP3+pPyy+Bb19fNm9NX13vjY/NL/YwHBASUAb/0N+yP6O/rK+O/0qO5B6GPla+iP8dH6df7k+3L3YfZc+BH8Yf4q/Fn27O756XXp2Os677jy7/b8/dULyB0rKtsqSiCIE1kPSRJRE2kML/4/8rzxxPx5CxgUeRUCFWwXERxpHFEVuwjR+9L0+fNc9WT19POD9bX7wAQgDQIRdBCRC9AD5fwi+Kf1WPTK8pPw0u6O8FH3MAACB1QKjgmJBXr/j/hh9OjyRvHJ7pnqneZn57XtmvWN+iH8ofxK/eD9Zf0U+yr21u+o6p7ojepV7g7y7PW5+5YGiBdJKCQvXilNHMcSMhFpEHoLPgLx+YX5aQChCSkPrxCnE+8YxRyaG1wV9Aqr/vX2mPXz9uP3lPiO+67+BAHgBT4LbQxSCbwE9P9I+vr0cPK68cTwK/A08yH5r/3vAAYDRQNSARj+UPug947z3u9L7Nrob+ZG5x3rpfAR9AP0cvQb+Nv+0wNDA/H9gfYU8BrsFOtz6xjreuyN8xwB4hOIJUgv4C5zJZ0d4R3nHV4WSwiZ+fPxIPX0/pMIqg1LEPQU0xlvHJAaeBP6CkcDvvxy9u3whe/78vf3Xfw1AoIHfgkYCtkJsgj+BNr+Rvl180TuAe3n8NX2KfmQ+If43vpJAKcFBAdaAsz4t+8y6ynqmOk+6G/nS+jK6ZXrsu/r9kz+WQJHAc/7ofXQ8ebwl/AS7sDrGO8y+mcLzx1NK3Uw5CxYJmMjyyBsGq0QqwQ1+iL0DvRG+A/9agS5DUIWMhxNHBkY9RGODLQH3/+E92Pxl+8l8QXz1PfM/jUFUwkjChoKlAhPBtIDkf6r+Gf0cfJ18b/veO/U8nT5Vf9hAdP/mP1C/eX7jPet8KHoROM14ijjQuRA5kLq4u8z9Vf58PvJ/HH8ifrl9rPxI+3T6zfvJvksCWkawiaYK1gpgSaMJ9snVyKuFAQFV/ql9pP5z/zs/r4BMQYFDysYqRx+G/kV5hA8DBYG0f3+80PuYe1X8dr4e/0F/97/pQQmDBIQEg9ZCGEATfpk98j2zvNl8FvuQO8W8gz0kfYT+Sv7wvs++ij3yfIr72jriuel5LDiQeRI6XPuEfJJ9cP4j/o7+gz4pPSD8drvQ/G+9vEAdg4XHG8mlyliJkYknCdYKu0k6hcKClcA4f1FAEX/0Pzu/cYELw+TFTUYYxVUEdwRIBELDT0DYvpu9uDyyPOJ9lf66Pyq/Pv/mAP/B+ILgApeBPf6l/fu+WD6SvcR8absfeqd6xHx3/RW9abzxvJv82zy3PCV7grroOfL5A3lmucC6QrqBezx7mzxUPIE85TzhPP99E/7Pwf0FbAjfCwdLeonDCZoKM0nWCJMF48LWgQhAgIEcQNPAxIHhgpqDqURKxWYFvsSlQ8lC8kFrQJKAE794/d385j0svjf+6H8hP04AA8CXAHw/kf9C/3Z/P/7YviJ8srute5N8DDxjfGM8sjysfG68J7wK/Ie8tPt0ujy5P3kkei/68buUu/07uLvbe9a7+nvE/GC8jj0BvzeCuMbFSh8K5Mp9ydIK/QuZStWIIEUdA/LDKoI7QIz/XYA0gh2DgEQRg0QDmYRvxHfDrgIhwb3Bp8DNP7K9k707fjl+5z6OfY99q38nAB//8r7dftH/48BtgD6+7H2VfSU8+DwwuoO5yDo++pC7G3qKelR6rjroesl68nrO+1I7h/ueu2w7Y7vvvDv7yDuW+yW7iH1Uf1kB4YTAiA8KMYpSyiEKU4tDi0FJ+gcgxHACoQKMQsIB5oD4QQVBtUHaQsFDzEQ3g2qCY4FGgWdBwkIQAOX/HH6Ff2lAG4AA/53/Xr+DQEGAaj9jfuk+jT6W/n/+Ef4iPS98V7ww+2y67XqHOo76cnoT+n16QTr0OtR60bqdutI70/xkO9l7CHqROoG7GfssepS6Irq6PaTCdAaXiTfJUAkuiN7K700UjJyKCUcHBM7EFQQnRAVCnsD6gLwAbMCLQZYCYYIZgOAAvEFaggFCsEJzQZpAhsAKgK5A4IBxv+t/+T+k/0T/ff/1gGi/m36bPe993345vbe9Bjxse7/7uDuKe4f7fTrY+mu513p4epb6xjrTemv6JPqzeyz7ZrsLup66Kzo3eqQ7uD06/+lDkodvSaTKYMqNy5hNL41oi33IdsYBxWfFAYRTgmsA98EogdcB8UHEwlRCNEFrQRZBKoD1APwAocAfP2F/Hn/VgJRAuz/8f8SA+QEiAWqA1UBkQCK/jv9Y/sw993yv/BX8RTvJurc5mnl3Oaf6PvoI+li6O7oD+tY7H/s0+st60vqaumN6YXpEeh15t3mZeog8yQCXxKLHd8iHSVrJ0gt9TRyNZstEyTrGz0Y9xcEFeoOYgphCCIFPwOSBWcHSweiBUMCN/+v/sEBlASSAywBfQBrAcAB0wIMBbUFmgYCB0gFZgM8AsgBz/+I/YL7cPf389jxGvCa7azq8+ih5lnk0eJ84UzhFeMo5wPqN+rG6uTrLu187rPu8OxC6YDmIebg5/LrDfNZ/q8KwhOSGkYgPiXdK0owCC8XLNwomCSaH0kadRT8DxoPGg0vCEUFEQVoBT0EzgK9AmkB5v88ANcARQCC/y0ANQEfAmQDEAVeBn0GlgYiBhIF9QP9AbT/yPwZ+UH1jPK88NHsJunJ5xvlYOED343d3Nxb3lvhAuTY5pXpA+sm7Lzu1/A08bzxKPHR7yPwZfJU95j++gbdDbARoxU/Gy8iECf9JrImLSc/JjslDCS+IZMdRBnhFU4RXQ4VDmgLnwVuAcwBSALr/yf+Ff2A+4X7Ov3j/Zb8QPyu/Uj+Vf69/3kCsAP8AloCjwGMAdoB/f///O36g/hr9DvwJezF5/bjEOCx3JrbK90M4L7i1eS75ezmhenj63/tB+5r7Q3tZu277vLxs/df/2YHww2bEdUVCRxUIe0j3CVAJycn8iazJTQj6CFjISMgdR3dGa4WSBLWDLYJZQiSBS0B6P6u/rn8BftV/Az9yfsD+1j75vuK/JP9gf0q/UP+7v7L/7cAwv9z/sb9Ff3p+vv3FfVV8CPraefr4y7gxt2B3RreOt7V3e/dkN874jblKujX6RHq1uor7UDxd/eF/qcEJgnGDNoQDhaKHO0hdSQ0JtInPyjJJxUnDScaJ2El3SHuHbMaXhemEuQNaQpaB3oDvf9M/Y37Z/p3+cv4Vvjw92b4h/kE+xv8zfx//l8AXgH9AU8CzgL/AqEBVf9C/fz7ZvqF9nbxJe0C6ZzkL+ED36HcANtY2jTZEdmb2mLcPN4n4S7kheYA6tnuRPWX/aYFrgwvEnkVWhgAHf4hHyV3J+0nfSZiJgonmibVJVAlciKKHSUblhmFFOwN6gm0B5sC3vxv+wr7G/rL+s37B/xU/FT9bv5J/+0A2QJcA8YCtgIlA8YCwwHxANr/jv0g+j72cfKW74bsEOfA4UPfmt1L233ZQtip1o/V5dU+19nZPd2Y39vhCOUJ6ufyj/38BnUPGRddHPofHyWRKt4soy2wLX0rVykKKGYlYSOaIn8fVxrqFYkTQBFgDe0JWgYdAif/5Pva+MP4wvlq+R74LPim+Zb7Ev/vAsIE0ARhBE4EiwOJArcCzADv/O/5Bfdd86zvee046ofkFuAL3Qfb8NpT2mvY8db/1mXYFNoS3L3e4+GD5Xfpau2Q8vH6ogX5DcQTbhokIb4myysBL+EvpjCvL2QrJSfJI2wgYh5bHEEXvRE5DwQNJgnrBSkExgE3/VP66PpN+4b8/f1r/Tv9x/4IAvUEeQXOBWsGcwaVBj8FaQKkAIL/gfsG9UHxXu+m6g/ltuCj3O3ZTNlu2V3Z79mQ2rLaIdxR3g7gTOIV5b7mtOdX67/x0vi+AboLAhPTF7IcySHWJ5Mtvy7QLDQrDikgJjEkBiNGIAgckhegEgsQ3g9VDR4J3ARLAQ0A9P8cAN8A/QAHAI7/ZQBhAisFagesBggFBQWXA8YBiQJnAoj/dvwq+cj0cPB17RfrFudk4T7cQtkg2IjYrNgk1zbW0daE2Yrdt+DX42vmOuhk61LwSvdrAEwJIg9uEpEX/h1AIl8nRSq+KH4qVyyiKaAnBSelJPQfPxzzGJgTaBHlD5cJvgTXA+ACCQBj/tb/Zv8X/sn+5f6GAOgCsARTB2sHbgb/BaYFBgc9BosC5f4/+7T2A/FQ7RnqUeNm3ZvafdeQ1ZTWQ9Zx05jSA9Q/1SbX6tm52wPdbOBz5mfu+PeJAoUM5xO1GSwfgSRGKwsxuy9cK/wqVyp8JxQmpSN9HTIZrRfZE1IQKg+pDEYH7QHEAJgBgQB9AAMArPwY/FX/cgJjAwUEggXsBaAGJggZCn4McAuIBjUCDQCO/dn4E/L96TjjQN2J10fUUtKU0F3PJc3xylbNXtIe1bzWFdgD2lLesOT663zzL/7JCuwTUBpqICgnuS2CM4M2SDQhMAYvjC81LOYlXCDpGqAVCxKrDg8LHQc/As79TfxR/3QAaP7Z/bn9VP9JAhoFqwdYCJ8JkQpSCggNXg6ADKAKKgdqA9L/KfyB95nvIelf5CfeqNlg1mjTVNGnznzMScvAzNLP19D60rTUHdbJ3Fflqu4z+dwDQA4JFikenCXLK1AygTJuL+ovYDC1L+csdCYkIMwc6RrLFisRvg3KCrAEaP8k/sH9j/0w/eL78Plp+w0BOQMIBWwJ9wnfCacLHw2tDq0OlgyzBwUD7wB7/fL39u/E5z7ied302azW4dKl0PjN8suizcnQy9K10rnTrdVh1xTfbekm8Bj4NgQKEAgYlh/aJ2QuYzKOMjsxDzHUMRUxMixnJhEiqh45G54WHBJeDYoIlgOT/4j+/vsk+U/54fiL+Nf6Qv7TANwC+QMHBpkKVg1LDoIPqg6vCl0HIQckBHP8g/R67GvlMOFc3YbYQNLLzAXLmMrayoHKSsmZynDLjs0K1UHdD+be8Mz8rQg4E3Ed3SXeLf4zNTWaNuI27zWkNj40qC7QKb0lPiAbGroWQBQ0DTwERv9h/M/5GffO9IvzgPJ59ff42vqY/gYASQK/BvQKdg+ZEJ8Qtg7JC8gK9QYqAgn7APJq7AXovePY3tbYjdGPy7jJxMj+xwHH3MXfxdbIMNCQ13Tf3el69T4C+g36GCoh+yfEMfc2WTj3Oeg4djjzNy40pCwtJhUjbBtHFEESiQzWBMT+pvpt+Sz2PfS79PPyH/Rs96v6Gf2d/m8D5Qc7DCgPWQ+LEYEQXQ50DfMIoQPr+2P0tu/q6V/loN8V2ZXUhs8MzX7L3smcyfnGeMVtyBPPH9en3EnjQ+4Q+9EGfxF6G/4hVimXL5wxdjerOXs2WjUXMgMuQCqyJ6Ai2BcZEn0PLQpTBrYB0ftS+N/2sfW59bj3tvji+cD6o/ulAS0HLwl1CicM1Q7fDm8OaA06CugGtgB/+mD2RPI57vznauDq2ULV9tAyzQTMxMc6w+vC1MReyxnRNNfg4Njr1vh+A+8O2hgHIAApzS1PMUU1rDexN1w0SjOBMngvxis3JMQdNByqFewNRQlQAvX9iflP9mH1WPL58yL13PTM9wT6Nv0PAB8D3AbYCAYLVgyvC+cJ5AczBcYAHfy4+IP1pu+A6Rfltd9h2kvWndKKz9jMqsiRxx/MJ89G0/zZX+L87Tr4dALOCX8RyRwII90o4i3yMIQz0zMtNo808DEeMcwqGibgIuAbthTlDpYJkwNA/V/4jvVo84vxMPE98ozz4fVc+XX7rv4ABEoGHgeuCQMLeApzCcoGKQL+/oT9hfkq9aPwD+oN5a/gl9xX2QLVKtDHzHDNbdAN0u7Todix4NbroPR8+wAE/gonFWweRSFpJdwoHS3zMN0vzC83LaIr9SuGJuoicB0mF6sSowv3Cg8E+fmZ+Rb3gfU087DxTPMO88f18PeU+jj8RfwSAQkF3gW3BHUErwWWA3gB0gB5/hT6evRa8ATsF+dV5NvfRtkP1FvSttOp1OLUf9WV2brhWup68Rr3xP2YBUAN2RTAGmsf3COPJ2MscjA7McEwwS5xLJsrNigsI5IdnRSkD9MMrgamAPL46/Qo83HvRu/l7vXs4etg7jn02fXx9jX7wvwh/zgDaQRLBE0ChAGhAoACawDn+oL2//ML8Z3t3ehT4x/dttkX2mrZGtda1kHZTODx5RLp0++P9iD8MgUjDWgRyxWhG64h3iVYK2cuCizXLlYvJix2LqsrsCO7HH0ZeRfeEN0KeAIx+pX5yfXn70Dvg+tK5/PpLu7g7qPulvHd9Gv33Pr8/Vv/8P47AFwCMwNzAxkAQPp4+Mr4ffZ98SHq7eSo4lrhj+Cd3ZfabNrv3tDlw+m67NHvyPPy/EgG/AjmC6AR1BW9HcQkRib9KEgoIirZLostiC1kKNIhJh80HGIbFRIFCjUG9/2R+l34m/Ub70rqZO177CjtJe9N7hbv5e9D9F332vfU+B731fkA/wYAd/5V+5T6+PoE+6j5hPQs74LrRuqV6cnmJOPx4KHiKeb16Krr3+7G8KHza/tzAgsFHAdSDZgTIBeIHuEiVSMIJxcqDSzYK94sHiuSIuMgqCFwG+0R0Qt1CgYDm/yB+xz02+8L78zrYuwA63/owOiA6pTtDu5m76PxPPNc9o35AvyW++r6cfsi/HP9KvwA+Qv1AvOH82nxH+957ETpDerI7C7vMvCV8fnyR/TG+cT/MQIEAiQGeg1QEMgU7RiYGsseUiFDJFInUCYwJfsj1yHaIBkfoxihER0PhwsjBjEBhvtO93j0AfLc7zfvw+136eXp1+1I7a7rfu1u8D/yRvP79Wr4vveN+OL5MfvY/Tn7Hvhx+PL2mfXT81Pymu+b68vt6O6k7ObtZ+988XTzePQr+NH5svwbA6oDxwdEDcUNuRU6GjYbVh/uIDUlkyX+JQ4oYCMgIm0f4Bq9GY0TFQ5nCSAEbAHo+/73b/Tb71zu9+wU7aDre+kr6ozqXOwV7n7u4O8A8RvyZfSV9e32DvkM+Bf3sPei+Hb5cPdc9EHyffM/9ZvzgfOF9Nf0FfXC9mL5kPqx/Gn8vf7IBGkF/Qd/CwYODxIYFfsZiBs0HKUfACAXIPUgMCDfHPMYvBfkFWIQxAvSCNUD3f/Q/F74C/Y69DLxmO+N74bvjO0A7Q7vtu+Z8NPxBPNw9Hj0P/Ua+B/6Cfke9z732/lW+ib30fU/9X/0PvSf8+7zNvPG8SbyYPTD9oD3SfdU+EH9hQH5AU0E0wjFDEcPvBIOF/4X0BmKHHwdxh8QIPUcHxvHG9UapRYDEvIOXwyJB4sDMgDh+xL4j/Mb8lzxIe6X7FrrCOtp7JjtR+8H8Wny2PIW9HL4Kfuy+pH6HfsU/Ub+E/0c/FH7WPol+s75kvhu94/1nPTY9Vz26/XZ9N30z/Z4+e/7Yv17/1UC2QURCr0NmRByEi0UHBdgGhEc1ht3GuYZBhoZGcUWwBK6DykOwwr8BYMCcADp/Oj4ZPdw9b/ydvHe74zvkPAx8DDwTPK+9Kr1afYy+N/6Y/zw+878qf42/oL8+PzZ/Sz8MPo1+uv5A/jw9j32pfSK8/Pz9PML9C71pPUi99z4P/tK/tP/cQLHBfMICQs4DW8Q4BGrE3cVyhVtFjcWSRUpFewTiRGdD0YN4QoBCdQGWwPh/yH+zfwu+2r5JvfG9U727/XU9K71nfeo+On4NPpY+7H7sPx2/WL9Bf2x/Kn8yPwz/Cn7wfmH+FP46Pe49mn11vOX8irzjfPS8pvynvPQ9VT3L/mH+9z86f5iAuMF3gdtCa8LXg1nD1ESqhK+EVIS6RJqEzQSqxDhD14NvQuvC4gKzwZIBEwETAL6AKoAVv6M/DD8fPwf/D/76vqH+oL7kPwK/P/7l/sO++v76fzC+3P5Ovn0+Dr4kffF9XT0cPNR8y/z6PKH8r3w//Bx8m/zaPQs9YX21vd++nb95f6+AKcDMAaKBykJUQvUDBcOTw/AD6QPexB5Ed4QxBCVDysNUg12DBcLPQpwB5AFuASHBOYDswEgAY0B3wBbANgAXwGsAPT/TwBOAOX/iP9D/5L+Pf0w/Jz7x/rf+Bz3CfZK9WX0xvLn8Jrw/vDy7o/uv+9t74nvivCz8n7zEPTt9Yf4RvtP/Ij+GAE6A5QEswVnCXcKQAoKDJYMag1VDrANjA1cDjcN9gsJDXEM4ApzClgKtQkbCdUJrwiMBxQI/ge7B9wG9AaPBm4FIgU4BCUDmQFhAGj/9v2q/KL6ivgN93L1PvQl80vxau/u7WXtFO6Q7pbs/ev67u/vnfBy8u7yc/Ql9zD4KfrD/f399P5IAi4EDQVWBawHTAkyCQoK2wkDCq8K2wnXCSoLigpsCVQKiQoMCpcKSAroCYwKyQoJC5cK5grOC8YKAAoSCm8K3gn1BzcGiQVOBBwBSwD5/qD7t/qj+GH2b/W48rDwy/BP70Hthu3X7JPszu2O7TvuOfBz8Mfx9vXy9qT2uvkD/H/8gP5aAFQARwIMAzIDEAb/BD0EVAaEBn0GKgZrBooG4gbwB0wHRAggCS0IdQm3CucKHAu3C1gN5gxUDDAOCg69DKoMRgyTCzELewkcBt8FjgRHAf0AbP3D+tz5dvcX9430WfLU8MLvCvCz7o/tJexE7Rnu3+1H8MrvYfD/8qDzB/bH9zv4DPrr/OX+0f4EAaoBywFNBRgFEwUlBV4FdgcABvsGCwj7BVwG4wdSCM0ISQmyB9IIRQr7CE4LfAwyCpoK8AxjDTsM6wtiC6IK1wqvCGkHwQd6A6cBAwLp/ij++PtD+Db4Mfep9MLycPEd8GnvUu+37ubu9u3B7ULwT/HR8Yjyz/JI9db4ZPn5+U786P1//y8AtwFnA1QDpANrBGgF+QSjBJoEpASdBmMGVgWVBiMHVgdqB9UH3gkFCUIH8gn/C1YLJQtAC/YLUw1UDDELrgz9C+II6QfNCGsHwAOUAZ8B0ADY/UD76Pmc+Xz35PQM9SD0b/KL8dDxv/LL8nLxgPD58jX0q/Nm9F31Pva49pv36PhK+8v67Plt/Ub+Qf8IANr+gACGAZ8CnQIXA0UFvgN5BCYHdgcxB3cHgggJCTcLDgvLCfELSwwNDLUMQg1dCx0KaAxLC8IJtgmAB+UEvQVFBj0DiwL6/3r+wv8K/cr7h/qH+dX4s/e7+Mb29fQw9B31hva09AD2j/VQ9ff3d/ax9+34Rfd5+Ln5jfuD/IT61PlQ+6L7JPy0/lT/m/9wAMQAnwGoAYoCHAMHBbAH/gWkBXUHBAgYCLsIIwojCsIKxgt6CloKOgqoCNEJVQrLCBAHZQXQBSoFoAP0AUwAgQC7/z/+2f31/LX6qfoE+8v5vPkI+Yn3kvdO+Wj3DPa992H3XPjI9/z3HPn191L4k/gB+jL68fnP+mn6g/vI+177yPyd/pP+5P3i/0QBWgHRAa8B1QMYBTwEMwZcBj0GvAfyBs8H3wkpCRII8QmvCqsI+weVCFkIgweAB3wGPgY3BmADbwL0AgsBFgDWAOz/7P5t/Xb8fP0H/Zz7yfoS+4r6C/pB+pX5MvlR+LT4VPkG+Tj5/PgS+Zn54fl6+XP6jvvf+kT7dvtS++38S/0l/QL/zv6k/vcAEAHbAPIBEAI+A7kEIQSHBFEF1wSfBYcGpwVvBboGNwbgBdQGswUiBUAFiwQaBX8ELQPiAzcDcgFjAeEBUwG/AI4AZQB2AMH+Jf8jAMz9nv3T/bv9f/6W/Y38Ff3V/FP7MPxJ/N76F/vN+jT68foA+0b6Yvue+5771fwA/Nj7df2v/fD9eP95/2H/dQCYADECdQNSAcYBXgTfA7ADsgNGAx0E8wPOA/IDkwM5A+gC1QMCBdcDHgLcAtgDRgMhA9EC0gApAfQCdwJEAqkA+v4HAbUB9v87APT/7/1L/mf/Vf9I/pD8h/wu/hD/xP1N/ML8Lf3E/Jv9wP1k/Ar84vwU/kL+Rf0G/GL9Wf9J/v/9Zv7m/Yb+0P/e/mr+4/8l/5n/+ABrAHYA/f+3AOoC+QElAXICrgGHAe0C1AJPAncC6QLPAvICYAITAg4DkALoAcoBtwLXAj4AFQDOAasBXQEtAf3/CwAIAZ3/j/+FATgA+P4gAK4A8/8T/zn/of8sAMb/KP/Y/6T/F/+0/kj+if6z/hv+/P1M/l39W/3N/Q/9zv2P/hb+f/5C/zP/DP5//osAUgDN/o3+AACjAAcAMgBuANIA1gDEAKsBAwKSAdwB4QJrAk4B1wGPAuACyALBAS4BgwEfAloCHALfASEBzwDHATkCxwEHAVIAsAAYAZsAoQDVAIgAkgD1/xsAnQBn/4X/nP8h/9j+VP7f/nr+6/1q/X/9cP4Z/TP80fy0/Pf7eftU/Nr8DPxC++j7XP2h/eL9ev3z/Cf+zf45/ywAbQCk/yQALQLKAQcBlwFyAQoCtAK0Aq0CFAKTApQDHASSA2ICFQPSAy4EZwTTA4YDhgPWA+cD9QPsA0cDuQKsAlUDVQNdAvABlgEbAVEAqf8jAN//3/75/YD9HP5T/pH9Uvww/Mv8D/xV+636T/rD+t75PvmW+k77Svr0+XT6efqP+7j77/o7/JP9mf1Y/Un+4f+wAGsBDAI9AmMC4gIMBAsFEgWyBMQEVQUNBiUHIgfLBYoFYQYlBy8H1gZIBqUFuAXABZQFhQW5BJUDnAOvBO4EhgO3AQoBVwGsAfYBRwE5/+b9ZP5I/h394fy4+/L5svnK+Uv6NPq6+Bz3L/bo9iH4n/gP+Kv3mfhn+BL40vgc+Yf5Zfkx+Wj61vuO/Pr8WP3q/dv+yv98AZ8DnwSRBJ0ErQUnB60InwkhCdEI4AmyC28MLwzNDC0M1wp5CzkMGwx+C90KognaBzwHigamBZsEbwLpAK8AAAGkAOX+w/wC/Dj8gPuE+2X7dfmH+Jr4RPj89/33Y/dK9t31WPUo9er1OfYu9i326fW69ez1CvYh9mP2LPZw9iz3uPeM+M34MvmZ+gH9o/+QAN4BpARqBr8HGQp6DCwNow2TDyMR6RGiEsoSHhIVErIS5hGsEIcP+w3dDBUMHAsjCWwGKQQGA6EC/gBN/u382fyZ/Kn7tvrp+bb5//kh+Yz4e/if99b2YPY29gn2RvV485TxVfE68v7yNfPA8lLyjfJ28pvyZ/OL8/jzhPQ69Mf0APbM9vr3SvpD/Xf/vwHcBFUH7QljDcAQWBT5F48ZsRgaF5QWuRdGGAgXYRUpE3MQ/Q00DDgLGwrDCCYGGAPfAmAD+gEYAAn/rf0h/Dn8QvyJ+zj77PpE+jX58vhj+dv4aPdM9pD1IPSF8kLx0+8L7gfsu+up7eDu2+5A7vfsWu0P8J7xifAp8IPxsvL38zv1u/bh+HX7qP5tAikIDBACF9IZVhpPHOAc5Bt6HYMdWRpAGPoU2Q9YDTkNNwyhC5MMRQvOCFkIZgcwBfUDyQMPAx8B3/7U/fX9Vf2v/A794fzt/PH9pv5x/rH98Pza+x/6PfgV94b1u/Ks8IvvS+7A7LjqiumQ6fXp2+vC7+X0pffG9APwae7t8Kf0CfUK8//yS/SZ9X732Pk//UQEHQ74FOMXEBpGHKIc2RqZGi4bdRgtFeUTYxBjC8cJvgpAC98LYQysCvkIAQlpCPQGwQYsBhsEZgISAOr8vvsG/cD9Yf0r/az9c/4c/rb99v2u/Xf8Ovu2+VH37vTY8W/vJe8l7nrtpe5z73/vVu8+71zvKvEN9WH4fPmU+ED27vNM86TzCvQD9Vv2HPe09xf5K/w8ArAKUhOCGXccZx1MHF4Z2xaRFYsUaxMTEcYNqwn8BfUFYAeLCVINoA9UD4cMcghlBbgDBQNzAo0B3QBJ/6T87vmP+A/6Wf07/2P+Jv0M/Ar7/vnO+HX4Uvg3+Mr3+fUD82fxZ/L08+j0Lfbc9oX1kfOl8RnwD/EQ9Hv30Plx+eP3WfVE8x30MvaO+LX6JfwY/bj9Bf5m/xcETgsTE5AZ0xv0GXcWuBL8D9wNkwyADZkOeA3PCiwIHAaYBZIH6QnYCjwL0glTBi8DlADY/sz+UP/Y/lj9Ufug+cj5e/r3+lj8T/2L/FT7+Pn69133DvgD+S76EfpV+PX1MPTO8y30DvXS9mX46fhR+B/36/as95T40vmQ+7b9kf4n/fn7zfsf/Ov9ef/g/3IApgDJANIBNgOlBLIGnAhbCcIJQAtBDXIO3A7tDZAMpQs3ChIHTgM0AhgDjATMBXQFLQXHBWEF6wMIAkMAuf93/7v9SfwZ/Vb9QPsF+bL3lPiF+/v8N/2o/SX9hvsZ+/z6MvkT+Xj7kfzH+kz5AvkH+DT3GviO+sr9DQHjAs4CNwAS/hj+7P2I/sf/1ABzAsMD3wKZAAABNQOXA88DnwSfBPEDfgMxA3ICqwLLA9gEAQa+BZAEbQR4BKQD7wAR/y//Ov/hAREEkAKQAnwDUgGC/j/92fus+xL+Cv9a/r7+6v4m/on9DP17/JD+OQGs/zT+Uf0n+8H80P/+/9MAtgPFA1oAsP4H/hz8wPs4/VL/wwONBpEDT//9/Tn/9P9RAJ0AegH2AmIBz/2E+gX5VPom/UQAAQQWCR4LAAixBHQAofqs+FX53vpf/h4B8wLuBcAG8wEq/Qf8cvvH+xv+QwBjAoIFJgUwACb8Hvsb+5X7kf0LAVYEsATDAh0Aff1Q+y75LPsWAT0F3Qa4Bk8FugI9/2T8wPvq/awA5QPmBpYFOwGO/Sr7Rfox+4H9jQDUA5wFywOa/3T72fkd+8b7jvzF/5MD+QP7ARgBCADQ/k79kfwM/n0AfgJEA+sEfgXYAY39jvwE/AL6kftzAHcEpQYfBv0DAgI5/5/75/m4+1L+CgDoAc8CrQJNAUr/eP4j/r3+ZgCMAmMEdQSVA6ACTALSAXEAAQB9AFYAvf+p/9L/8//z/pj9Gf6a/ob99fy2/Zf+kf9jAN0AAgDK/qX+YP73/YX9Bf4k//D/RgC3/zH/pf8qAM//Jv+r/o7/rgCgAMkA8gD2ALgAIwC4/zj/Rv/M/1kA1gDkAOYA+AD1ANEA2QCbABQALwC1AMwAUwAJANX/9P8PAM7/GACbAI0A2wCNAW4BAwG0AFkAeP+5/rn+l/6G/uf+Kf9S/4//Qf///jz/mv97/0v/7P/GAGUBDgEZAHz/KP8i/yD/Ff9l/8v/HQBFAPz/n/+q/xgAWAATAN//QgBaADgAWwD8/7H/DAAqAMr/xP9LALwA1ADAAK0AjQBZAJwA8gDRAMEAnwCKAJAATQD//yQAYgAAAKn/v/+7/7b/5//j//P/ZQAsAJD/qf++/47/dv9g/5H/8/8HAIn/c/8oAHQAFQDF/+D/GgABAK7/qv/n/+7/zP/H/9//pf9H/2P/xv/l/8D/z/8fADYAEAAJAAkA+/8UADoARwA3ACUARAB2AHsARgAoAIQAsABkAEMAPgBSAH0AhABJACYAYwBRANv/p//F/9z/4//d/67/uP8FAN3/of/v/xUA5//h/+v/2f/h//X/+f/y/wQACADW/7b/lf99/5//uP+R/5f/4v/0/9b/4P8HAPL/zP/p//v/7f/y/wQAGQAPAOr/yf/k/xMA9P/a/xQAXQBbAFkAfgBoAD4ALwAZABAAHgAtADoARgBZAFIATwBWADcAFQAeABwACwAPAPH/6P/7//D/1f/M/93/4//i/+j/9v8DAAoAEgAgACcAAQDW/93/3P+y/57/v//f/83/t/+t/7n/1v/P/7b/x/8BAA4ABgAdABkABAD0//r/9f/d/+//+v/4/wcAAAD//wcADQAkAC8AKgA+AFUAYABOADEALgAcAAYABgAGABQAGgAIAAAABAACAO//4P/d/93/2//R/9D/2P/h//T/AADy//L/AAAGAAAA9f8DABMAAQDx/+b/8//6/9n/xf/O/97/4P/e/+f/8P/m/9b/4v/n//n/GAAMAA8AHAAOAAwABwD+/wUACgD8//L/AAASAA8ABQAFAAgAEwARAAcAIQA2AC0AHwARAAUA/P8AAAUA/f/+//b/8f/8//D/7v/9//7/AQAHAAEAAADx/+H/7v/r/+b/6//s//X/BQATAAwACgANAAgADAALAAQABAAEAAUABQAEAPP/5f/x/+//+/8QAAYAAQAIAAkABAAEAA0ABgAAAAgACAD/////CAAJAAYAAgD9/wIAAAACAAYABAALAAcABgAHAAAAAQAAAPr/9v/t/+X/6//u/+n/9/8IAAEA//8AAP7/AADw/+T//v8OAAkACAADAAAAAQAAAAgACwAOAA0AFwAjABAAFAAXAAAA9v/5/wAAAAAAAPz/+P/8//X/5f/i/+f/6P/5/wcA/v/9/wAA+/8AAAMAAAAAAAAAAgACAAIABAADAAYABwABAPz//f8BAAQA/v///wcAAQD//wAA//8BAAAA/f/+//v//P8AAP//AAABAPz///8FAAIAAAABABIADQD8/wAAAwAEAAIAAgATAB4AGAAPAAMA9//0//b/+P/8//3/+//9//z//f////b/+P/7//r//v8MABkAEwAPAP7/6//0//r/8//5/wAA+//9/////f/8//r/+//8//n/+P8BAP7/+v8CAP3/+f/7//X/8v/5//3//f8AAAMABAAHAAQA/f/8/wEABAADAA8AGAAUAAkA+/8AAAUA+//6//3///8BAAAAAgABAP//AQADAAMAAwACAP7//v/7//f//P/8//n//f8CAAAAAAD///v/AgAHAAUAFgAlABEAAQD///v/AAD///v/+f/9/wEA//8AAAMA/P/5//3//v8AAP7//P/8//z//v///wAA/P/8/wAABgAAAPr/AQACAAgADAAGAAQA/f/7//7//P8AAAAA/f8BAAIA/v/6//X/9//8//v//P8CAAEA+//+/wAAAAD+//z///8CAAIAAgAAAAAAAwACAAMABAAEAAEAAAD8//z//v8AAAAAAgAHAAgABgABAAEA/v/8//r//f8BAAEABQACAAQAAgABAP///f////3//v8AAP////8AAAQABAAAAAEAAAAAAPz/+/8DAAMAAAAAAAEAAAD9//7/AAABAAAAAAAEAAIAAAD8//z/AAD+//P/8f8BAAAABgAMAAMAAAD7////AQD7//v/AQADAAoACwADAP/////7//r/+/8AAAMAAgAGAAUA/v8AAAUABQAFAAQAAwAAAPz/9v/7//n/5//q//z/DQAMAAMAAwAGAAoAAwD///z/+//6//z//v///wMAAwABAAEAAgABAAMACAAKAAMA/v8EAAAA/P/7//f//v8EAAgABgADAAMAAAD+/wEA/f/4//z//P/8////AgAEAAEAAgADAP//AAABAAAA///9/wMAAgAHAAoABQAGAAgAAADu//b//P/3//z/AwAOABUAGAADAPL/+f/4/+r/6//9//7/AQAKAAkADAACAP3/8//w//z/7f/q//f/+/8PACkAQABsAHcAeQBjAOv/hv8L/+v+TP9O/9n/UQCMAA0B5gCaAAYA0f+4/2f/hv9t/6r/5/8hAGMAbQCIAEIAPQBTAPD/if9n/4//uv/f//X/DABRAHwAZwA2AB4A8v/B/8L/2v/u//P/+P8WAEYATwArAPn/+/8IAPP/4f/y/wIA7//w//n//v8IAPz/9v/r/+D/7f/4/wsAEAAVACkAIQANAAIA/P/f/+L/AQD0/+n/8P/5/wAA/f8PAA4ACgAgACIACAD3////8f/p/+X/3f/j/+H/9v8QAB4AIAAiACQAFwAJAPH/4P/T/8v/2P/q//f/AwAQACUALwAnACMAGQD//+j/4v/n/+////8QABsAFwASABIADAACAPf//P/y/+f/9v/3/wMAFwAXABAABwADAPr/8v/p/+X/7v/z//j/AQAbADAAMgA7AC8AEwD9/9//wf+i/6b/vv/h/x0AQABiAGsALgD9/9b/pf+N/5X/uv///z0AZgCIAHwAWQAlAMr/mf+A/2f/hf+w/+X/MwBqAIcAggBiADcABADg/73/of+Y/6f/wv/o/xoANgBKAE8ANwAMAOf/yf+u/63/tf/g/w4AOABgAGAAWAA3AAkA4f/P/8L/uP/Z//7/IwA4AFIASAAjAAgA2f+5/5//uf/o//L/GwBdAFYARQBOAAsA6v/h/7H/yP/m/9//AAAQAAUAKwBIABgA7P/y//b/AwD+/+T/IABjAEAAAAACABsA0P9w/6P/GgA6AA8A0//1/3oA1QBjAW8ChwNrBFMEwgGL/Zj6PvhT+Hf85P1e/4UFjgjABl0E3AB3/A37Ufr+99j5/f6XATcCcAP5AzkDiQHe/nn+OP8z/QH8If9OAVj/ef4gACwBSACi/kP/vQEFAioAlQCiAtgBQf+k/rj/7//2/tD+0QCYArwBqwB0ASQC6gBB/1z/WwBRAHH/of+pAHwAb/9E/zkAywCOALkAqgETAgcBAADO/3L/iv4I/o/+Hv8z/3b/UADvAIoAAQDH/3r/0P7K/TH9Hf0m/Y79bf47/+L/twBvAcwBzwF8AR4BDAFAAXUBhQGtATcC5gJuA0UDdALQAYYBlgF5Ad8AWAAjAFwA0gAGAfYA4gADAVIBgQGZAVIBOADc/rz98vxd/GD7j/rz+mb7vPoD+sP5rfkL+rr6i/uX/GX9jf0b/eP7tvkY96z01fKH8nf0TvgL/iUG/Q9QGcofJSLCH4AZAxEcByH9APVY8A7wUPNV+ML98wKTB/4K3AxJDSoM0wn7Bq4Dqf90+/f3ufUs9e71tffb+9cB2Qb1CWcLpwoOB2oB2Ptg98jzbvAk7l7uQO9273Pwk/Lf9df5Rf3V/yEAv/za9qnwSuvw54noDe8p/agPliAjLmQ1IzNxKvAd3w2T/e3wAupK6nPv8fQd+6UCWggIDGkPdxGOEUcQTg3cCBoD/fpW8/PvRu9A8D30nPraACUFdwgfCwcLYAj8BV0FOwRUAMb74Phy9pfyjO5M7VzuU+8C8UP0Effr+LX6yPvs+v72oPCp6hvnl+bo6ZbzUAS+F6IpBTafOOEyPSgHGf4HwPkS8Hrs9O6987f4qv0iAcYDFAjTDK8PtREaE88Swg/+B1/+QPeu8e3tCu6Q8en2Lfz8AK4FtgivCPsHHAnsCdwIMAajAc/7E/UH7ono6uWJ5TznHOzf8Qv15/YK+Sz6BfnR9R/ykO1m6BrmkehP8NT9vA+nIvMxmTjPNbkt/CCjD9T/kvW48LTxyfXH+GL7bv6TAAkEAgrUDmsSHhbUFkIT3grh/sv13/A37TfsHPAd9wj90gCYA9YFegZ1BekFjQcEBx4FfQNKACL7avV38FbthupB567leeYz56nnz+oE8LTzbfWW9g/2l/I/7lXssu9S+pMLrB8SMR86Wjk6Mz8oIhZsA2f2xe+S8ML1avl0+2D+FAHmA1oHugmcDAkRihOgEVkL1AGF+fv0C/Ic8Q30Lflw/an/QgDt/3b+gP2P/08DbQZTCLQJmgnzBfb+C/fL8GTrU+Zt40riMeK14zTnB+xA7/TvdvFq8+DxG+4T7djwHPotCbkaHiq7M2o1LTKZKz0eLw5SA8H9rvve/F79qvtO+/T5wffv+d39+wGoCDoOwA81DhYIggC4/Oj57vbi9/j7G//yAD0BLACN/7j+sP5IARMEhAU2B9YHCwUCADP7X/c/81juJuoX6IrmieSd5G3n8Oo57j7xD/MS80rxGPC68e/1lv7mC3QZVCMsKH0o4CUzIIUXgA/uCiIJ4witCEEGSAMOAU3+4PyI/YL/kwIXBkcIfgcABCv/CvwX++D5X/mC/AYB9QKLAt8BTQIuAi8B6AENBd0HigjNCJ8HlQNK/gH55vM37x7s9+pv62jsOu317i7xoPJQ9Cz2qPaG9mT2YfY092j5wfzfAEgFeghYCo8KXAkqCLwGrQVHBaUF1geEChAMVg3VDvYPghClEBgRQBHIDxQNGwppBroB7v29++j6RPss/Fr97v3j/Sv+q/4b/z4A+QHzAqMDuQT1BIcDcwG9/9r+Y/6U/cP8Jvxd+/P53vgx+Az36vbq9wn5hflc+Ev28fQN9Hny4PCD8G7xxfJ/9Mv2Dfm7+tH7/vwx/l7/owD0AaADyAVPCJcKcgwYDmMP2w9YD5YO1Q2kDKwLowvOCwUM0wsSC3IKWgnaB+0G6QalB5UIBwkyCfYITge4BGQC2wARAPb/tQDOAfIBvAC+/kj8h/ls9h30nfPs8yL0DPSB88HyFvL28M3vX+9s7wLwD/EG8kjy+vGY8Wvxo/F28h30TfYk+Y/8yP9JAvsDUgW7Br4HJQjLCLoJpQr6C2cNIQ5bDncOxw6dD0cQ1xAxEhYU0BXMFokWBhW0Eu0PcA0yCwYJ4we8B+UHjQcvBgYEmQFA/7780fp9+ef3jPaF9Rn0FPLW77/tSOxA63jqfuoH673rrey27c/u2u8n8czyGPTa9Cj1RfW69VT27PYs+A36L/yz/skALQJOAzME6QR4BWgGwAeKCW4LMw2lD/gRhRO0FIoV5RW2Fb4UfxPtElQSuxGNEVQRzxAkEIMPdw74DEMLzgmTCOIGjAT5AXH/U/yc+N303vHZ71/uZO3o7Cjtke3Q7Srunu5L7/DvwPCX8fbxr/Hx8Crwhe8z7znvFPCg8WPze/VC90v44fi++SH72fwK/50BXQTUBtIIOAoeC6sLNQyBDREPbRC0EfISMBQYFbcVJRZ9FtEW6hYMF88W8BUHFeoTfhJuEKIN3wpfCLkFqgKj/878Z/ph+HX2wPQg8+7xZ/FS8ZTxQvIO87HzIvTu8+3y8/Ci7tfsjev56hDr1utg7VvvIvFI8krzgfTj9Wn3DvkD+/D8h/4nALAB5gLwAxcFlQY3CDUJ8AlJC1wMMw3TDtQQrBIgFMwUOxWKFQUVFhRLE7YSWxLHEWYQ0g50DYcLOAkMBw8FOQOZASsAxf4//XP74fnj+BH4SvcL92z3yvdk9xn2mfTa8pvwe+4f7bvsEu2r7Vnu/u4j77XuX+5R7pvutO+F8RP06/aC+en7zv1F/5YA9gE9A8cE0gbOCNUKiQyPDSIONQ64DRINegzxC/cLYwz+DKMN/g0fDgUOrQ35DDkMoQv2CnQK+gkQCcoHMwZTBLsCxAFGAUYBmgE4AtcCiAIiAQL/ePyc+av2O/Sa8t3xjvF88VfxtvDS74vuLe1B7K/rteuW7BHu5O/L8cXzy/Wf90X5Ifte/Xr/cwF5AyoFYAYwB3QHdgedB8QH3QfCB7IHzQfQB60HgQeXB+cHRQiYCGcJYwrtCkQLZgttC/MKFQqOCToJ8wgACWQJtAnnCdQJ8wiYBysGMQTmAQcAh/5g/ZX8xPvc+t75Z/il9sL0xPI+8T3wSu/F7i3v6u+w8JTxhfLd84319fZa+BH6XvtZ/E/9Gv4L/6//+/+PAPoAFAFAAX4ByAEDAj8CrAJDA9sDVwT4BLsFVAbsBqUHWgj3CF0JsAnUCfYJgQr5CnQL9wskDP4LTQswCsUIPQfhBdMEWQRaBCEEmgPlAo0BtP91/QL74Pgm9/b1ZPU79WX10fUw9qH2RPfV9yT4Xvip+Pj4Nvk0+Wb51fk1+tP6hPsq/Mb8Hv0d/cH8Gvyc+0z7Bvta+2X82v1z/wMBpQIWBBkFywU8Bn0GkwauBuYGHQduB+MHRgh2CIUIdghMCBsI0gdyB0kHMQf9Bq4GAgZIBV4EGwPcAa4Aj/+a/uf9UP30/KD8K/wv/Ir8n/yf/Kr8tPy6/FX88Pvf+w38Dfz3+2b8kvxx/EL8s/vi+hf6cfnT+HT4Yvix+Fz5Ofo4+yX8HP0i/p3+xP5S/9r/HQCqAGoB9gGsAl8DqQP7A1cEiASiBJkEggSNBJYEgQR3BJMElwR+BG0EJwSYAwkDpgITAoQBWQFSAYUBHALEAjEDUwMYA68CLAJ6AZwA9P+q/2z/SP84/zH/Dv+P/tX9J/2i/Az8XPvl+qD6V/on+hv6bfrx+lH7m/vW+w38Nfwo/Cj8efyn/Lj8Mf0F/or+/v7p/9cAsQFfAswCigIEAtcBZgEFARwBxgE2A/MEZga6B54IUAd/BGICegD7AKoDEQO2AZ8BigDt/9j/TP/W/un/CQHx/8/+3P7Q/jX+xv0t/r3+Cf92//D/6f9O/2n/XQDbAJAAGQAeADIAwv8j/+P+f/61/Tr9y/wM/Bf7qPow+xv8Pv2X/mMA9QFtAiACKQFk/2v9Wf2r/aX8vPzB/Ff8rPyx/Aj9c/6IACsCcAOcBAgF1wS0BFoF5QWjBQYG1AZaBuQESQODAmIC9QHlAUYCRgJiAXIAOAAnAMn/hP+x/4H/3f6E/oT+lP7X/ib/gf+5/0j/p/4D/kj9Wfyo+8D78vu6+2/7ifuw+5T7e/u6+8b7E/ve+mn7zvvk+9z7tvwM/m7+Tv5n/h3/PgAfAekB2wLOA6oEiQVdBhYHIQhhCWoKBAvXCmoK8QkECd8HCgdnBrwFQgV8BK8D5QK1AdsAWwATAL//Hv+C/gv+f/22/F/8Zfwa/Kb7Kfu5+o36MPpF+Wr4tvfm9k/2EvZF9sL2QPfE97L39PaJ9o/2nfbF9sr2kfbH9kX3SPcM92D3gfgR+if8Bf9SArcFPwmpDIwP1xENFHcWmxhKGtwaixo+GhgZDReiFFAShhCLDpMMBApBBs4Cw////Bb7QPku97b1xPSN8wHy7/AT8e7x0PKi83r0v/X/9hL4ivmd+hD7NPsL+/n6WfpQ+aX4+PfF9mD08PHF8PvvGu/f7avsFezc6yrs1exb7ozx4PYj/nsFHwy6EQ4WmBn+HOogGCS6JXMmaCZ6JaMjBCF3HRwaqxexFFIQzwrUBE7/2/oZ96XzmPDM7bLrjOrb6drp/uqx7azx6PWw+Xf8DP9qAjwGgglLC/MLDwx8C9kJ+QbjA3sBVP8f/Cj3kfGI7PHoguZ65JTj1+Mk5IbjyuKG483la+l07Vjwi/Jp9ZP5uP7kA/sI6g6cFd8aYB2zHdQd/x5JIHIgwR4UHF8Z9BZ+FJoRFA9FDScMgAryBqYCfv8d/mz9bvxW++D6Nvt5+3/7UPsU+yj7V/uD+337ePuV+7L7Tvw2/RX+Ff9t/7L+t/2x/JD7xPoI+jX5MPjI9kn1ivOt8b3wg/BJ8LLwOfFh8TTxyPBQ8cryQfTT9LT00/R89YH2pveA+cH8wQBuBM0H7wrYDdoQohPSFacXLRl7Gp8bdxwaHYIdkh0rHRIcfhqpGLAV6hFgDvAKYgeYA9r/uvxp+kn4Cvau82PxzO8W7xjvV+9672jwOvLj8zz1X/bs9/356vvw/BD9f/0n/jv+Kf2X+3X6ePlk+Av3U/XO89TyWfEr7yztxOsV60/qZenZ6CbpwupA7XjwXfQD+an9lAFlBV4JoA0XEggWlRmqHZUh9CP+JPMlGifMJ2onvyUoI48gvR2FGaMUTRC1DNAILwSg/0j7q/e39IDxWu407ODq4Ok86QPpoemN6//tw+/u8IPy8PRY9xT5pvrE/NL+tv9Y/4f+2P22/K76k/jq9n/1FfSJ8hPxee8e7intXOyQ6xHqCulV6Urqm+vJ7fPxavdN/CQAagTOCQoPkBNaFyQbcR/5Iugk+CVdJ0Mp9ComK8Mpeye3JPIhrx2UF/sR5A2rCQYEv/2C+Jj00PBl7ZXqeeie5+HmsuUk5Srmyujb61TuMPC08mr20fmz++v8Hf+XAb8CfAI1AUcAaQD5/4f9Pfos+LT2bfRd8XfusOzs62br2ump54nmJueL6GrpJeq57OjxXfcs+2b+4AM2C5ARVhY2GnweZSMvJ7EoNSnHKvAsSC1XK5YorCWjIk8fYBoGFKcOfgptBZj+zvfW8m7vE+x46Inl6uPq4zXkl+T+5YXoIuzI76DyZvUZ+Wv9dwGoBMwGighgCpULAQsLCWkHYAZkBIIACvwe+F301vAg7VzpLObT437i+eBn3wbf7t9x4SXjfuUU6TzuVfT2+qYBZQixDg0UzBkzHwsj/SVNKQYsdyxsK5kqByqPKPImgiQ1IAocoBiIE7QMhgcuBM3/6/nK9LbwGe3x6vHp4ujn6LjqnOwX7rfv+fFP9V75bPwd/ioALgOtBZ4GcQcECEMIfQjvBrsDkwCQ/oD85fhN9B3wPe3O6pTnMuTN4mvjvOPW4kjiaeOj5dznn+nS64TvKfTV+KT9/AIVCXAPEhWOGUEdLSFYJVUocCnHKT4q5CnsJy8lzSKsIKYdGxmUFMYQTQztBv4Bgf73+lv2NPJt70vt/+rV6ZrqCuxR7Yju5fAK9E72kPhE/J8A3QPfBbMHKAlBCX4IJAg/BwcF1wLWALj9Rfki9bbxY+5D6xnoluUR5AfjAeID4WfhDuOt5Krm4ujc6p7tH/H19Bb5of0yA0kJ3A58E9YXhxyyINEinSM0JeMmnCZlJJoiyyEWH9waehi9FvcS4g6sDJwJ/gOr/6P91fqX9gn02PNk803ygPEq8hn0j/VN9tX3IPqe++X8L/+rATkDlQQ3Bg8HOAaUBEYDhAHw/kP8CvqP9z30E/GB7nzrY+ij5s/l7+QH5BrkH+Uc5kvnSun061DucvAi86/1E/h5+4//iwOcB8YMXRKGFmoZnhsWHqogiCEqIYohFCIgIG4cAxo7GCEW5xREE9UPuQzRCkgH/AE2/zX/of0w+kr4pvc59tP0kPRG9XP2S/fu9xn5K/qy+uj7VP5rAJkBYQIsA1UDCgKtAFP/6P3s/E37+PhD9kfzmPAU7iTrz+gm6MHnJeZS5abmx+ck6H3ps+za777xSvRd9835aPsI/ff/uAPHBxcMvxA0FfQX9hmDHL8eVSBLIewhqyGOH9McYRoMGAAWYxSTEmkPiwtFCNUEsADE/fD8yfum+Mb1LfVl9I3y5fIE9hz5aPoX+zD8Kf3j/YP+GADrAicFkgXgBKQEpAPYAJn+Kf1l+yv5gPap87rw/e0X62Po++am5rTmTuYE5vDmKOnH65Pt+O/u8xj3qviw+nr9Qv9SAHwCawULCJEL9BBBFn0ZShv2HL0e8x/wH3of+h64HSkbpBf1E8YQ4g6HDfoKLgi9BhQFeAG5/Zn85vvO+G/2uvZf94P2ifXe9v347vmJ+vb7gP4NAFUAUQHFAqQDIANZAhEC7wDC/jP88fnX91f1uPLx7+LtpuwF67XpD+nW6GnpOeo36/Tsde/a8sL1pffG+ff7lP1Z/hD/JQARAM7/6AAzAysGMgmODcUR2BNFFRUXABn1GZkaVBsGG8QZtxdpFSMTDhG+D/ENPgtWCDEFVAKU/1f9FPy3+uz5uPnu+MH3fPeY+HX6Zfwi/cj9gf9BALv+n/3r/lUA/P+0/iz+bf1t+236vfnP94H1D/Nh8b/vDO6g7b3uru+g7nztru1F7q7v8vFP9A73Evmc+ZL50fl1+hf7BPsD+oL4tveu+J77ogAYCF4S5hvXIFMiTyPRJEkkayGTH6oc0hYlEEEIHwBk+7f80P/O/rH+qgGWAuABbAHuAVEDvQSJBWUDpf5p/IT9fv5f/Q37IPq3+bv5l/o1+9H8/f5jAF3/RPsJ+f/4Dvna+CT3IPbo9bn0TPLF7xLwV/LD8/XzGfIs8A/xRPPI9Hn2bPkp/KX8wPpO+ML2APYn9QXz8+9G7lvvMPXX/UcIKBX1HxIlZCIkHAAZlRjJFlMRwggHAYv8E/os+d/5OP42BYYLAxA8EYAQkQ53DNULsQjHAZT65PTZ8abxr/Og9wz8GP/8/2UAfwCyAF0ClQOkAuz+tvlh9VHz3PKm9E349vrW+9L6P/k3+Hv3bfhK+6f8Vvr89FTvtut/6n3sIvFt9kH7o/3b/Zn9Iv2y/VT///4u+531JPAN7o3xOfvlCJ8XbCTdKiAp7iE8G10WrxAlCtcDfv2Z+Fj1mfOw9Yz94gqVFzUdPBs7FZwOIgkEBaEAB/sp9TfxHfA577DvpvTb/AUG7wyYD0ENmgf/AhcAOf1F+cH0hfAl7mnuqO8k8wH5AP8pBFoH0gbcAqz9U/nT9Prv9OxZ60Lr8esj7lP0+/vhAsQIrwtPCvoEKgBW+z32bPG/7Kbqsejc78L7/wPiDpgZHCM2J0wkPx2hEzILVAQqAGT9Svp5+fD7EgHWCMwRzBl7HysghRvWE1kJTf+S94Lx4+8G8S/yDPVI+sT/jQW1DBkRPhCEC2sD8Pkk8mTspemo6vDtSvIU+E7+oAOVB1cJqQqvCfQFXgB4+EPwkeo76bbqk+7b89L51v/0BGUIxArnCyAJsAMj/LXzk+2R6mbqqet/7izzFPia/MAAPQWdC18U7BzUIV8h5RqrERAK3gRCAcH9Sfte/KEAaQZFC/INyg/iEVoTbhJvDqEHX/8M+FTzdvCI7tDub/IM+g4DzwniDU0OTQtRBiwA6/nH9FXxu+8i8JXxkfM/9279dgREChENlQzICAAC7vq29GXvAutV6SbrYu7V8uL3e/15A8oIyQxSDbsJiQL1+bTySe7T7PPsGe707p/wHfV2/GoG3hCqGlgj5ifqJf4dDhIVBjj+ufrt+U76cPs1/QoARgTuCXsRUhinGxoanhLTByf+evdP9Cf0C/UH91T6fv2i/8gA+AEfBCQHEAnaB9cCLvuc9Ojxv/Jg9fb4Rf2JAc4EdAVIA4AARf5a/Dj7DPla9JDvoux37RvyUfeZ/MoBpwQoBuMGpwVWAzsAsfya+ET0svEO8k71Gfk6/Nz+pQA7AjMEDwd1CzsRGxYpGAMWGg9iBpr/n/xU/Z0AdgRpByMIAwf3BjQIagq2DMcMHwq+BAT+lfha9Yz0SvaG+Zn9QAFWA/8DPAP4AVkB6wGjAq4Bcv5A+tb3x/fB+aX8Vf6u/vX9cf2u/Vz9h/z++g/5uPem9uf1f/Vh9Z/2yfnu/RwB8QHDAEn/bv/VAMABkQBl/JL3mfQE9Gf1Q/cx+f37rP9XAxYGLgjzChIPZhPcFNsRQgueA+b+S/3z/NH8fPyo/WkBcgZeCg0M7AsODD4NPw0YCuMC8vm78+3yw/aB+8D9b/6XAOoE1QnpC9sJTwXFAEf+jfy0+cz1rvKE8vf18fpx/tj/tf+o/7YABQEW//H6bPXt8IjvDPFr9E/4bvtI/r0BBwWtBhAGvAN3AEr9Wfqr9wH2S/Wb9j76L/4jAa8CUwNdBA8G6gfQCRcLhgsaC7wIwQQmAV3/DADfAqkFBgduBz0HCQfVBmoGRwZjBq4GHQcNB9YFcQPAAND+9/3K/e/9Af6f/QP9n/wT/YP+KgD+AJEA9P7W/H/7F/tH+637evut+hf6N/rq+nH7Xvsm+0b7wfs3/FD8/vvD+078zv2r/7EA3QCiAEIA+f86/8n95Psg+ib5A/l4+Vr6KvxD/70CbgWWBosGqQbBB7EJZQtfCzIJmgX0AVz/Iv5v/icA4gIuBhwJjgqOChAKOwkoCAsHYQUlA4kAx/2n+7f6bPrg+pj8Ov/6AYoDgAP0AXL/G/2J+9f6GPrp+Dn46Pi7+qT83P1U/mj+pf74/i/+nfuq9yb0WPN79ZP4Xfs7/U3+KwCrAsgEZQW6AwMBwv60/AX6Yvf39Rj3xfpb/+EC2wOuAqEBcAIYBIIFQAaBBscGZgYHBfACOgE8AVMDpwZbCcwJEAjYBRsE5gJ5AskC4AOTBZoG8wXCA78AKv5s/T/+TP+z/wf/Hf7B/Qj+pf5b/9P/8P8YANn/rv6n/Jb6nPmA+rL8jf7c/kz98vpm+cb54ftR/vX/lAC9/yj9Dvrd9x342vq//nUCHgRrA1kB7/7l/I77uPsy/eH+qf9w/vH7Qfrz+iL+8gGWBO4FAQd+CPEJfAqsCdQHoQV5A4QBk/8W/gf+4/9oAz0H7Qn2CnUKqggkBkUDdAA2/oD8kfut+7r8+f3J/k3/1f/tAFgCAQPdAfb+Bfwg+kv5/vh++KH4mfqE/rECnARbA7L/Y/xO+4H7Fvsy+cX2SvUn9gT5jPwVAF0DLAaYB0EG7wGE/Or35/Vb9476Qv1H/k/+/P75AAoENgdkCRQKkgmLCIwHLQa4AxEBcv/V/08CIwW1Bo4GLwVnA5ACxgIfA/kC5QEIASUB6QF6AncCpgHa/1b+3/0m/tb9dvzn+u/5RPrs+xT+Vv9Y/5j+BP4p/in+lv0n/Pn5PPiy91v4Vfme+Uj5Nvlu+u/80v/lASMC4QBs/1n+jP1Z/KH6h/m5+Wj7J/4oAVkDGwQGBIwDBQNyAiMCwQJXBD8GpAegCDkJ9QgcCGIH+gbyBuIGTwawBJoB/v3X+6D8sP+FAykHjAnJCXkIVwZxAzkA/Pzf+l76Wvr++aH5Evob+8r8sv78/68A9QAEAUUA5f0p+nn24fTj9Tb4Xfo++w/7+Pr4++X9iv+SADoBlwFtAdT/lvzJ+An23fV4+Jj8ZQClArsDdQQFBUoFwgRiA9YB6wCLARoDtgQXBi0HFwmCC+8MkQzzCdcF9AG0/4z/7gCTAjMDtwIRAusBoQLWA5cE9wP6AQEASP4a/E/5AvcS9zP6F/9vA1kF/QO7AKf9D/y9+0b7Evqr+PL32vcj+HX42/gS+gj8uf4iAdIB1QCQ/gj8Kfrh+FX4fvgW+SX6B/zO/sMBGQQuBZwETQLu/mr8Vfy3/r0CAweaCkgNnw7iDhkOpQvKB8kDKQEPAKb/oP80AM0BYwSsB9IKOQwXC8wHZQM6/4z7Sfj/9Qn1FvZu+TD+ngLWBHsEWAJeAL//Tf+Y/ev5SPW28fzwBPMH9uL4W/vq/XkAPQJVAswAmv4w/NP50feE9j32Ife9+Kv6Hv3q/+QCcQVTBvkEGgLy/lf8NPv1+53+JAO9CEkOXBKGE7gR+w24CVUGTwQSAxMCWAFNATQCwgPEBbYHyAhyCK0GGgQzAU3+o/uk+Yv4Nfjy+I76fPxD/pL/XACmAEMA3/6y/PP5M/dA9a/0XfU49uT2pPcK+Tb7xf0OABABgQCd/uf71/iv9azyvfD48JHzEfha/XoCLAZJBwgGtgMJAjgC5AR0CTIOvxA+EAoOEQvoBzkFDwQhBZwHDwpgC1ILqQnRBqIEJwTpBGgFaQRlAtn/Sf3Y+4X7yfui/Oj9fv+yAM3/jvzk+ND2BPfr+Br71Pul+jb42fXB9Kf03fTa9FL1SfeX+mD+kgCc/wr83/ft9O/ztPS79QT2bvYD+Ez7mf/aAi0EYgT7BDkHUgsZEHITchSBEzkRdg3pB/sByf3y/M7/8gQkCv0MmwwHC04KvgoSDI8MpgqWBlMBVPzk+En3PfeT+Xr+3AOpB1UItgWRAfb9XvxI/If75PjT9NLwFO5J7dfuM/Kd9uD6zP1Q/6j/5v7s/Lf5evUg8ertb+y57APu6O8w8yH4lP0cAlQFWwjlDEATJBoWH48f0BpgEjMJFgFp+mb2lvZc+1wDDAxNE2oXWBf/E2gPwApZBlgC6P5d/E76WfhX9zH4EPuU/zIFaArkDKsLnAeZAgz+0fnM9azytvAB8FnwHvEZ8nfznfVv+MX6s/ua+2v7ePuk+pz3BvOG7mzrZerJ6oDrb+zG7oTzTvpYAl8LQxXRHtIlCShvJF4cLRK4B2n+5fYi8qfxx/Xk/BgF6g3zFuIeiSNJIqQa2w7BApX5r/MP8H3u7e/j9GH7QgEQBpoJJwwIDhAOpQqAAyj6h/Gk6xHoJ+Z95lDpmO3H8TT1Cfhp+hD9RQBDAiUBRvyb9Jns6uWJ4cbg5+PZ6QXxNfih/3EIJhMMH90pADBmL8EoqB1ND6//dvLk6urqF/LY/NIH/hCLF0scmB+tICAemRfBDsgEb/r08JzpCObG5y3vOPrcBNILWw7BDYgL/wfyAlr96vf78ejrpOa64p/hgeTE6hTyy/eA+1n+HwC4/vL4TfFV6yfoKOf55l3m5+Wp59Lt7fh7B6wXSieDM4Q5VTcbLjwgeA8V/z/ySutl6x/xjfryBAwODhYlHWwjsycXKBgkZBo1C935mOo54QzfXeO061j1KP/JBwcO7hCVEIUOGAtvBZf8ZPHr5bvb0NUU1lvbQuTN7yX8uQWoCY0H2wB0+B/w4efh39vY79RV1yvhKvCpAfMTQSWhM6E8rT1ENvcoBxkiCh3/nPYr8IPt2+6o9Cn+VQl/FDMeqiUAKbUneSLEGO4MxgEv+BLxHuzX6Mjn/ukX8Jr4JgEFCNwLNgyiCRoEOfzf80LsNOZQ4hThoeJz5lHsu/JQ9xf5kPij9tDzPvB061/m1eJk4cXjZOvd+NsLAiCsMCo6NTokM0Yovhs1DxcE7/tF9jzyOfC/72nyO/vFCH0Y6SZ3LjkuGyc5GvMLq/9k9wnzmvAs70/t4Otx7Try0PlwArQJEg4MDQEGYfvY79bmHuP05Cbrj/HU87zxnO236p/quuyX75jw1u4D7Lnpf+jS6SLwc/y1DU0fvSxENGs0BC47I/4WJwykA+r+cfyl+d72c/Wb+DwApwlBFOMdaCQ6JeUeRxSIBzv7SPKT7Xzsa+zw7aLxD/U8+DL77f5cA18FywRDAbP6EvOU7ADq5un96RzqAuq56i7sge6V8bnyT/HJ76Hvsu+f78bw8vSV/fIJDhgdJSsuezDfK70kvBxPFE4OgwnyA23+ufrk+cr7SgE4CBsPeReyHSweGRmdEOwGCP0Z9pDyW/AZ75buRu/D7+Dv2PF59U75Rful+0j8DvxB+nz3QvR18Dfsr+mU6DDngea05pTniemF61Dua/OL+Tz/YwSyCiYSZBm6INUlwCbvIysgah2sGIETDw+aCQ8GcgVVBgYGgwXjBkQHvAjxCqUKPgkIBvYCVgCY+3j2MfLG8LXwqO/U773vOO+Y7gDte+wL7S7wE/aL+hX70/fI9BX0oPNM8rnvve187r7wmvLD8ibyRvTL+fL/ZwRHCL8OIxfsHlAk7iVjJY0kFiTRIpUehhkYFrETNg96B3EBvf5E/pL/IP+R/Lj6TPuA/ef+ov5A/ZP8BPzq+JDzQu9d7aTrYek+54vm9udr66HwvPOf9PL2VPrJ+7b4ffNS8IXvg+8H8Nrx+vPn9of70/75AIAFBgzXEuAXwhmjG68eaCC1Hz8eTh3qG3wcZRwpFmkP0gv4CYMHCQOYACUA7v/N/ib8L/pC+Kr4ZPvb+lr3P/QN8yLxReyT5xDlZOR25e/nAuod673tn/Ev9K71EPdE+AH5kvhP9672FfbO9IH09/W4+P/70v5IACACwwYoDLoRjBcoHEogOyS6JiYlBCGKHt0b5RaIETQN3QkBCP0GcgQtATwAVwKJBPADyABo/jr/b/4M+wj3gfIb8a/vgeya6Kjkj+RI5p7qze3Y7GTvP/PI9QL3m/YX+Hz5uvkM+Q/3vfbC9235pful/Jz8vvzf/hsBEwKqBgkNZw+QEKgTNReqGUobQx2UHQUa+RVIFFkRJwwgCPEGLwgWCD8GoAVjBWEDtwHnAI7+GP1z+g/3SPVz8uzvce5n7oHt8uqC6Urruu2p7tTwAvGP8Tn0RPgY+rj4bvyR/tf+wP5l+7z5bvqv/M39iv+m/90A7gXCB3IJuQlyCGoLEw97DqcNfA3iC/kLqAxWC34J/AvLDWwMoQqdCJ4IvwUaBZoFkwIdAeX+kv5H/hX8l/wi/iz8xPnw+Ir0pfEl8zP0VfKT86L2AfQJ82vwze449Gb2PPkU/moAiQFOAfUAsQBDAowCrgEWBEUD+v98/28AjgJCA+gDCAiCC7ILIQr2CakLUwmgBR4GLwZxA7oCgQQVAoX+AgCfAk8CuQEhAkUDfASJAFsCXwelAE397wCL/2z5D/my+633+vY3+c73wfg7+tD18Pds/dj2t/dw/7r76/gD/7n/sflB/R4DSgDY//UEHAaBAwIEQAXnAykEsgRmAE0BmAVgARcCUAbdAHMBqwdhBPUEdQoEBOH+ngZxBOT6V/9ZAs78S/t7/tn/6fy5/Cf/sQKWAaj7qQF+ATD5AgLU/hT2C/10+ez4wPpd9yf7Svl4/KECjf79//gBYAGSBPz/8/7OBgcDx/tPAxII/PnlAdoP8v/YAfgIjAJ9A9D/AwIgB9D9Ef3JBdoAE/m3/6IGPf1o/uAKjwS+/VIERgT5/vYBg/br+QwLyPK288gIdPfI8l8FwQZ9+K39JAcJ/en9wgKx96D8fQNd9h35JwGY/Hv9pQAh/5j/NwIHAcP/zQWjBQT98wVPCa/6YfsYDO8JkfLwAcEPA/X6/N4P9/wq98cK6APx/DkDPftQBxAESPeJCZ4Bo/jtA938V/wt/gr1mwEABi7yXPn7Bsn5IfgmAy38ugCrAtLzggQZBu7xUwIvC9n5n/vN/+r4wwQfAMfysgUWCQ34x/jFDCQJF/e/CXINKgXeAwb5zAyYCBv42gNYARIHevzb9mwGCP++AL8B9wB/C28ArvfLB/cDTPvn+0j75gsQ9ZDo4A3L9zfnkgzABV7w2flhCX0FxeonAHwTFvbD+w8DEQP5ARbyNgKgCuD75vaW/nwM5PUo8dcTUAHm9QMKWAXNAjn/zQe7Cw8AVAQ3AZQJtAT365UJfRBS8TD+hARuBIoB7O0rBIMRK/Q29zkIaAWjAf3vNfvuFZP4G+oIB8EN9e+E6hAK0AXO8fH0wguZCqfpGAF0Ev73wv3VAwUJawQx8F0FdQ2p9A36EQKEBBoCq+8qCIgRBPW1BPAHBgQbCz33mwOqEJj3MPpNB4D/CvlwApIFd/c4A8IEHvo6BC36dgGnCZPzzfrXDZQAzvAsACQLMvuS8WEBAgQJ+nz8qPQeALAHG/GV+S8JUgFI+zMA9wU1AmMClv9j/z8IIf1/+5gFdv2M/fn8/fu7BzP9l/j/DxsDfvOrCzUJTvdn/ikLwQiX9n/6LA68BljudvbgGxcBr99zEDgTYum49y8UVgtu6/P3uRyTA/rg0wbgHuvrweIpFGgO1+Gc7wQd3QPF3vUDnhR1/NXxQ/2fG+f9z+KuFsUMNOXhBjUJp/ePCPr4yvmGFGf4fukjE1EQYeg0/cMdx/2x6mQRaQXQ8LoOyPiR+u0WousX7iEiOwNX1qkUeiTW0r3+gylS4FL4Txzl9K75igYy++z7vgL39S/4Bgy++W3scgm6EubnNPUbJ5H4OuJaGA4NzOQtBBcRpvEVAz4EV/21Cgj0sP3zDlz9qfpLBuUDhvLC/gUMIP1X99kGRQ2F/kT2X/7+EW76r+1NFzwDMezdAhcEXAMY+UX8ABO6/r/xrgA/Bj0HJe/i+m0b+fQ85tAL7wtj7L/zzBg3Akvr2QahAuP/qgAd7gkNjBM26C31KBhv/3vlUhUCE0HicAehDNf1tQa99eT8Ww8b+Zf5oQZ+/4b7wQP1BSoBsv/7/7oBhgNa9836YxL//WLvhAbvBRr9g/+/BdYCn/suBBMGh/pl+a8BAwXt/5b0Yf9SEEH+3PRpAksGnvus+HUIRQZK+eP7CgfpAgTsNv0yGEj9ZfCnBskEdPsUANX9FAAkBaz93f/wA+P1M/rcCj4AaPwJBJ/8QwCJBT/34vZwBiIF3//lBKQB0vp/AVQFbP5XA6gAJvvrCeP+c/GmAE4GmQGQ/pMIVAA69UYPT//Q7X0MvAKP+doD8fag+xID+/uJ+2cAtQQI/q0CHgo784bzDRP9BunqXP6uDM35o/v2AAv7IwT2/9r9pQjv9zj4GA6zBPf6R/8EAGQCjwFu+eL4dwXaBK75pgQuBhv0egPaCrn3gQBXBl8AZQHq/UP/awIAAhH+JgLAB8L4sv3gDQ762PTGCtAFt/aI/oYGR/wN+JwCWQEq+zUD7gBq+LMB0f1h9gEGDQNq+PoCmAVJ/d/51gBGBPf/bgXN/Qn38wYTAwf57/79/tgA9wYk/xD7EAIcAeIAuACT/yv+qQCOCSkC0vcW/3IIMQft//n95watB3j9Ev4NAmn+nvtVA4oB5/jf/48ATf3p/Iz5Bf8WA/H/gf1r/y8Cuv1BAfwFGPv//zwJR/yX+db/EP9g/zf/S//xANcA4P0bAfkCnPo8/c0Fjf/q+H7+jwPvAIr+IgEcBPYCywDNAGUC2QPXAE8BeAHf/dMAwf2W+8P/ygBrAJL/ugFU/9H+ngIeANr+uAE7AQb/AgBGAOn+Hf9QAbQAc/+t/8r/7gFG/+H78P61AAf/Xvw7/SsApf5l/Xz+nAE4Ajb9sP82A1X8rv0LBbsACf40A3oEwP+9/qoAlACmA0ID8wCWA+ICIP6d/uEBof87/pwBLwGu+zf7cv/LAMUABP8KAKsCof7J/gEC3v93/94BHgKm/xD/Ev+o/zwC2wB3/rUBSgJC/UL9hgGzADL96v/wAef9Kf1q/6/9Hv42AXj+4vuJ/6MBh/1O/74ELwJB/wQBAwIlAP7+bP+GAikESv9P/eIBNgHo/gkDYAXxAdr9HwC2Aan+v/2u/s4AeP99/Gb+9P7M/dT/pAA0Ab//Av2sAToCofw8/goApP/u/0n/Nf+U/UX/3wEGASMC1gI1ASAAkP/A/8sARP+a/gv/cP7l/5L/6vy4/SQBfABpAK4DkwHm/28CjwFz/8YADAUyBYv/uv7VAXP/nf20/zIBDQMMAAD+eABE/ln8mf/kAd3+XP2j/tv9cPu/+y0AMwDB/QcB/wFI+zL8jATbAnj+OQFwAycCav8O/zAAMQCZAtkDk/8W/BL/7wCS/4v+x/7VAmoDzP+s/bb+JwL6Ai4AG/40AKAA+v4BAKT+6P52AVL+y/1mAFb+e/6GAxMCkvrd+70C9QCB+/j/UgNk/iUBEwSZ/oT9/wDGAn8A9/zs/igCLf8l/r0CAgLQAMQCqAP5Atv+DwBQBDcB/foa/RkDg//7/D3+T/0rAOsCCQJS//79cwHwA77+Ifql/oEAD/6W/qv8o/syAIgBIv47/uL+uQAMBQUCYf1e/9wBXv8d/aIA4gFEAIYBh/85/VgBigTcBNMEwQI0AgUDgQG6AA4B+gBa/zn9P/4p/zn/1wBIARAA//8XAIj/0ACTAUYASABQ/5D8bP3A/ij+vf8wAOf/egCB/8L/xf9rAJcC1wGTAKL/sP86ALr+DQCtAYT+gf3n/xT/PP75/y8AVADo/wb/rwDSAAX+lf3JAOoAfP6IAGIB7/2p/V0AaAF/ARsCLAKxAcAAQwCPAr4DtABQAD0CJf8g/eP/OQC0/pr+PAAKAfX+Qf8SATIBBwJ7ATUAxQCgADP/Bf4k/nr/egBq/xX9bfzl/nMBEgCZ/xkBTf/b/m4Av/9l/uj++gDw/pz7d/0qAOcAnQAPAcgA4P65AO8CtACAAFgDVQK7/0cAMwGoAZ8BCQFtAf8BXgGPAEkB5gADAP4A1QA+AAgBDQGO/+v+2P4r/jr/jwBm/3v+w/8O/639nv9ZALv/8f+e/0b+bf3e/w0BLP/n/kb/MQBxAX8Ap/8BAMcAQwG4/57/0gDT/9v/owDw/0//3/85AXwBKgCn/ycBNQEKAP3/0v+wAKUABf8e/+f/xQDSAGwA4wAwAHIAIgL5AN7/9gAVAK/+zP58/gT/f/9P/gr+Uv5a/tj+df8CALv+J/7u/wr/qv3w/hb/Yv56/kT+QP5H/u7+DAEZAaD/OwCuAXsBYgDTAacDXQJCATkCtwIYAokCrQNvA6cBRwE3A4MCMwAhAaMCcQExACIBSQE2AJEAiQEjAU7/Dv+AAKD/AP64/mz/UP45/cr9cv7A/S39hP1o/Xj8Zvy6/L37wfpL+xr8/fpy+qz8uPz8+nP8df4S/9z/8//y/woBsgGgAc0CSARQA+UC7AQJBcYENQcLCDMGjwXRBlcHhgY+Bs8FCQWpBGsD1QJwA58CgwGJASYBJQAHAHEAk/9u/vb9NP1Z/bT9gfw1+xL66fiB+Hj48/fD90z4vvcF94r3V/j6+KD5CPp2+Rr5P/pP+8/6xvpL/NL9Vv/x/+EAWQOcBKYG2QneCYgJ6wvFDGYMYA1FDYoMgQwwDBgLrwnpCDIIXAeUBjkF4gLKAY8BpP/J/jb+T/3V/Jj6ovm3+Rz4yPc5+NP2FPbh9uP2qfY39/n3ZPkW+m74JPjR+QX6H/mc+N74HPmW+bn6vfpw+rT7E/7v/+r/dgB7ApsDWgSKBfIGHwhtCZUKwQpgCxsMpQw6DSAMPwtGC64KnglYB4YGfQZBBIgCHQJGAUX/4/0a/ub9P/yC+nH6oPo1+f33QfiN+An5yPj591f56Ppv+237Z/o7+yH9Avza+vn7pfu1+p77ZPs6+p76tftb/JP82vxv/fX+sf/G/+oAsgGmA/kFWQX/BGgHCwm0COEIXgocC8EJ0gijCaQJ2gffBnAHzAYNBBICBQLdAUsAx/5+/qD9hfxt+3L6mvpZ+nL5T/kB+o75uPgP+iX8fvvj+Xj7g/wO+2v7G/xc+h/6+/sd/Jr63fly+4v8yPvH/E79Zvzr/iMBdgAEAfMCLwUfBqMFjgZkCH4I+AgyC3kLTAoNCyEM7AqACbIJswkSCLcFWQTxA8cCKABw/iX+4Pyn++76lvnv+Iv41/e59+T38/f192/4OPkk+W/5y/qy+uj6E/w++9/6N/tP+mf6HPs6+nP54fqG/MP7jft+/bL+yf9RAYoC+gMCBdAFFAgZCvIJRQtCDokOAw1eDeYOxw54DT8NxQw+CnEI4AdmBt0DggEPAPX9dvst+db34vdf9tL0kfTp8qHyvPRr9Yf1vfYt+Bv5ifkU+mD7Of2j/WT9BP0Z+1b7c/0j/DD6ePvq+036aftA/S/8lf35AEQBCAJHBPsFKgewCEgLfwyJDUEP/A/FENIQ6xDEEecQUw8vDswMwAouCPQGQgV8AWn+dPx4+q73Y/UC9evzDfJ+8QDxmfAV8aHykvRN9R724fZm97f4hfmh+lX7WfqL+rf61/lX+kb62/l1+lr6gvr/+lz7J/2D/+EAQwK8BIEGqQaQCBQMdQ22DkQRMxKFEvMSKxOsFIYUjhIFEg0RSA5EC9gJNgidA6P/2/2y+r72N/SI8kHwUe647nvuAO0i7Svuqe+X8bPzbfVC9iv3Hfjj+Er6a/v0+4z8ZPuD+l37QfsE/Mb8C/yU/Ob8FP06//IB7wNvBGkFGgfSBz4KIw2dDtkPTxDKEWsTNRO/E0QVohXAEykR7A8vDkILdQi5BXgCVP7M+k34hvVr8gfwX+7b7ATrr+l2667ssOuT7F3ut/A888r0Ffbl9sj3Dvme+p/7+vqm+uH7F/wG+936tfun/N78NP0R/oT/egJ0BGkFDgcLCCEKtA10EJsR8xEJFL4WIReFFxEZ2RmaGRwXehXjFCkRaA6WDCAI7wGk/YD8e/j58tPwE+7z6XHoPugq5/rmQOeE5jjnQOon7evvuvE08k3zLPVl+Aj6Mfkz+Vr5Wvpw+wr7tvpU+3X8g/2E/z0CZQRNBeQFfQaMCCoNVhASElQTvhKgEzIYmBxVHB8bVR1tHbAaKRmmGAkXXBNAENsLmgVZAZr+SvrJ9ATwJOzP6SrotOXv4mzj1eRE5AblxOa96AfsBPAK8dvwKvP79VT3dfiP+cP4NPjp9233Z/fp98b40flH+7r7/f2yAs8FkwVOBjwKzQv8DCASyRV8FlQYxBr8HGAewiC3IiYhxiBcH7YbuhqDF2MRDA1zCAAEs/7m+MD1bfKm7nXre+gT5n3lk+Zb5rDk2eTP5uToyevN7THud+4w8FLykvOO9Sf2b/Q083rzQvWH9tL2SPca98v5df6vAI0BKQOHBe8GzAo2D0oRmhMnFlUZlhs5HvghwiPYI84jQyNVIr0hdiD7HDAY3BOlDssI4ARdAcf6ZfSH73LrP+nr5r7lveN04cfhX+IG5I3mE+iE6a7rMO2H7svwMPI484b1k/UY9a31z/QX9br1lvY/91T3v/ib+hD9WQCFA8wExgTsBxINiRDWE9MUJBbxGEcbVB/tIB8hdiLBI0cihCHSIuEeWxorF9MSaQ8VDBMIkgEo+m72BvNK8ADuU+l25t/kI+R545fj8OT55CblRuhn6/bsuO90753vxPHk9NT2TPSV8uTxOfMP9Yj18fRC9HL14vev+U/7h/6gAfcCGAXFCZ8NGhHTEsIWMRZkGucgdx6hJWoP7vdz/gv7Cvym/Mf9SP/x/er9xfvc/JL9G/8K/or/y/88AEgBDwEGBewEYgeKCXMHmQjvDTgQPBLjE/IQYBLtFF0XqRbjEwcSQQ82DloLuAYRBG4Buvxg+qD4Ffa58wfyYvAP74vw1+8e8NTxO/Cu8NnzlfWC93f4yfds+RD7JPwA/qD+cP48/00AOgEEAQwAHgDR/tn+wP+y/iL+yfyc/FL9+vwR/vf+c/4J/0z/0wADBKkDxgQiBycHHgn5CUwKCAzHCsoKMAtUCVUJOAlQB+0EwQN2AiABPwB9/q38MPyu+6X5avhE+Br40/Zp9xv5Ivkg+vT6Lfsa/CT9mf4gAC0AIwBrACkBlQAZAVQCNv+Y/x0ARv4i/w/+NP17/FD71Psd+437S/z6+lz8O/53/T7+lACu/j/+WALrAZgCYgTpArUDUgTmBKwERwMoBNACRwIbAy4C2gI3AWsADAFx/0MAAwHP/zH/bADTAEQA+wHNANn/zwIZArMBnwPpAmUBNAHHARgCEgI+APn/wP9z/wUB1f3L/U7+Q/wd/lf8HvzR/NT8cf3L+0L98PzA/I3+Yvyl/Kf+RP3I/Sj9nPwP/yf/1P0N/Tr+MP6O/k//D/8Y/+X+JgAXAJb/+QEKAoYBUANcAT4DogRfBIwFuQMJBl4E3wNJBi4EIwaAA3sDCAYTAdYGOwR1/w4F8/9WAlUB+v3uAhz+xv2aAKf93v1o/jX/i/1a++f+YvxN/bL/y/l2/P39Vvro/Gb9W/k8+378PvrZ/I37TfkZ/Fb8bvsP/gD+4/zM/S39PP8B/0gAqAAGALMBxQAvBakC+wP3B0sDWwctBpYFPAnYBZ8GowblBWUF9AXVB4oAWAT8BXf+9QRLACv/RwMJ/AEAZ/2t+iYCjfta+68ACPms/Fz/HPi8/gv9PPme/3n6HfvO/UD8Iv3h+s79d/kd+r7+6vWt/SH9V/YxAFX65/xOAUL79QDFAOD/KgJ4AiYDUwNSAlYFfAX+AOAJ9QSqAuEKkgKBB4IFIwNhCLb+GwZLBIH8TAVjAM8AwgGi/oQBwfxGAab/QvqhAXz9Ivwg/pL8s/xn/L3/+PsC+k/+AvtL/OH+W/r0+0b82Pzh+Wf56gHo+E/7kQC+9gj/8v6y/QoALvzQA6f+uQCoBIH+BgYDARwDDwXn/j0JIQLJA0QIbf42CmUDZQH+Ccv9xAV0A2UAFQWy/m0EP/1kASADQvxbA9r7LgCp/2f91QKG+33/5f9n+ukAIf7l+qIBlPre/NT/5PlTABr9Gfpj/9D6GPxf/bP61f2n+fD+cvuW+z4CmPldAYn/G/38Ag0ASQC+AHYCogEfAVIEAQKmAsEDYAImBTAB5QQDBOv/nAYzAL4BMgXJ/ZYDQQDr/koDSv2PAu/9xf9EAkb7DQT1/jr9CQSI/RIANwKy/O0BTv6H/sgBQfvlAS/9CvwCATf7LP8Z/t/7pP1h/jn9Sfyb/5H8nv3P/8L9ugCn/sf/WAMP/dsCygIJ/ogF/v9XAZcDt/9vAwEBcwDJAnX/pwGn/8X/8gKR+38DjP33/QEEdvktBD39Dv4XBBn8NgTY/hf/kgTp/cwB4gLZ/0YBHQFoAU4ArgABAhf/Uf72AAH//v14ADX+Kv3y/oz8YP7A/V/8QQG4+2v+GQEK+1oCnP/e/IoERf42AAoEL/1lBP8Bb/0kBRL/8P+TA5P+6QCj/8gA/v8P/YYCQf2m/pwCnPxs/8L/2wCK/93/ZQLc/psCYQADAUADCwGeAgUCYQF/ASgERQE2AccBvwB+AEYAXAIN/IIAWgCa+SkAaf3g+lX/Cf3e+cL/Fv2n+5EALvpOATH/x/yaA/389wB4ADwA8gDO/+kCp/7MAGMBi/4zAQsAbv8z/oX/xAEu/dEBO/4T/ooCH/xeAn0AGgBWAgr+4QI+AYoBnQQbAoQBRANwBDcASQRxBHj+3AKRAnn/u/9DA37+JP2DAeb7tP5jAAz8bvxa/TH+y/vp/J8AAfnC/WsBfvgYA079avyTBDL4BQQUAEL7ugar+soAdAEe/LgDiP0b/rcCrvwIAEYBBP3UAnj8zAAHAlT8wAWq/ZYBHgQ0/gcElgJ6A0YBawNZBLP/CwX9AtEA5QM0AUMBvAHnANgAVv+R/97/3v2T/vn+nPyM/pH9lPw+/rH86P4r/CT9OQAB+x//qP5l/K4ABv2J/nn/yf2iAPH9YQFL/9n8UAK2/WMBJgBX/lICBP1qAgIAav5xBFr9fgJtAqL+lwWY/gsDwAPI/lEHxP6MA+sFdf1mB3cAigD9Bcn97wLLAHv/hwJ9/F4DRP7Q+wgGbfnK/3IDFfiQAlL+Y/tiATz8yf4R/o39Xf8e+7sAEf7E+wUC8/z6/sIA3P3j/qkAcf0s/iMCY/yuAGb/j/22AVL+NQF6/1EAhQCa/rIC/P+PAegC4P6hASoCBgGBAzsBDQOCAqAAowQ2AEsDDgRs/koESQHI/nEDSgBAAZH/5/6iARD92gBJANj8HAAa/jf9Mf/R/rH9Gf6P/SP+xP01/vn+vf5u/9z9KwDA/r/+vQFA/pH/eQAT/goAogFf/dUALAAv/cIC5f2HABQCbf5HAh3/bgBNAnf++wM7/6f/mwU4/PMEWgNW/e4FGQAzAnMDLP/0BFP/4QBgA1/80QNz/5X+JgE//a8BqfyQ/3sBAPtGAVr/s/q6AWv9yPzgAPX61gCy/QH90gH8+o4Bff0w/8UB8fpSA5r9Hf/RAoH7SAMmAKD+1gPk/S4CYwDPAO0DM/5oAxQBmP49BBr/GwDxAy/9YgF9Ahv/YwEyAEsCagD4/VwCagA//9EBq/13AG0AxP3mADD/+P6l/23+OAAX/6D+kQGY/JL/+v9y/HsBD/6y/Qv/mv7G/zH+0//L/17+h/+eAHv+j/+cAcj+J//z/wsB3P+TAM//0f6zApn/PAAWAdwASAI7/wYCmAHS/cwCRwCe/m0Duv0eAYECevxbBDj/xf6IBMz7iQAVArL+HAC9/9AB0f14/m0Dgf03/tEB+f2q/uD+BAHi/pH8TwJ3/Fj+cQRp/Fn/D/9j//X/PP0VBGv9nP2+AVz/kgHC/54CeADf/dUEl/0QAOIGfvqLAbQB5PzfBN/9CwI/AJ786AS4/AoDqAE5/VMEffs9A44C0/suBHP+v/5MAoj9jAPh/tD9ngSh+ysBBgIK/mcBEv1BAP/+yP9yAiz7jwFo//r7ywMN/N//ZQHG+mgCV/8C/McCwP+a/Wz+w/+gAjT87wDWAfT79QJ4ADT97wLkAtf6tAFRA0r65QReASH+7gKJ/RUDNgGZ/lQDYgAsAM4ArQCEAKH/ZwLS/fX8TASL/Qj/SwK7/a0BvfwcADgDHPwDAp0Acf1FAtkAlf9EAIAAhgCe/tj/mwAG/+v/nQAI/yj+WAJuABD+bAKZ/UQAMQOy+5kCLQDt/YMCa/s1A4oAvP1nBSf8XgFMA0b/BAI6/U4EKP/E++MGc/v6/vMEXPtjAcgAEAAbAcr9ZAJz/mP/iwLV+3oBVgHn/dsBff6XAQEBjP+oASz/5wEZ/zIBMgFx+zwETQCi+4EEIf77//YChvwGAu3/pADi/pP9bwQ4/JcAigFu+2wEnv1O/4MEsvhuA24CZPlYBaj9If15BGb98//+/1H/mQCy/SoCff/X/UADnf1ZAE4BgfxaAi0AqP57AIj/xwHT/7P/HwAC/rwBzv/o/dACE/48/6gDdfynAaACmftVA6L+9PyFAzP9dQAvATv98QCv/48AmgHR+zsBKANP+4UC3P/i/GED2/zcAKcBNPxfAYABJP40AB4Blf3IAY3/Av17AiIAI/88/5X/ZQCSAAMAQ/9F/87/UAG6/tn/av+y/u8Abf4XAZQAYf0pAQ0ClP5kAfwBtv0HAgQB5f86AjL/xABtAOr+LQNLAeH91gEp/1IAcAHQ/dYDtP1//YMDDvw2ATgCfvzjADj/lv7yAbX+V//YACv+4P/l/5f/OwJ8/+j+kQGV/6oA5QH1/ncAwAA//3MB7P55AGYCjv0dAYIAD//4AXn+qwA6AYv9tAGXAKL9pQK4/8r9PACMAOYAE/42Aan/OP4qAin/Sf+MACUAKgCS/jcADAIr/ikA8gB6/mEBa/+RAGb/cv6VAU/++v9pAdD+//9QADn/ugAi/3AAKgHR/H4BZwA1/okCwf4e/kIBnwA1AAAA+P6iABYBsv5VAVcA6f4MAgv/Jv/iAb0AGAAh/zr/ywA9AFf/uACG//f/eQBa/3UAkQALAQ3/bP9NADIAuABs/84Bff8c/+IBvP8xAV0AS//NAGT/4gBNARz/twDZ/8n+lQFpAIn/XAB5/kMAowD5/ocA/P7b/hAApv/T/08Aif+p/skAMgBRAIwAlf65/+kAQQA9ANIA4/4xAN8Aw/+UAYf/pv9hAB7/wgG9AFv+2f8e/ysAzQDH/qQAe/8+/tf/8v/iABH/av7IAEr/U/9sAbH/If/R/8X/GwAwAHQAjP+g/x8AyP9vABIAlv/4/7T/+/9mAGj/xP95AMH/NgD5/xsAygBb/97/JAFyAIn/8f+wANf/mwCYAFf/zgBWAIX/ZgD4/2MAAwAB//3/awAmAEv/Kv/N/8//+f+K/9//5/+Z//n/h/8zAJkAX/+n/08A4P+2AFgAnv9GAEn/cgAXAWX/PQDf/zb/swChAKf/pf/8/wMAhP8pANQApf+Y/+f/6f95AFQASQCc/7H/pQAjAEMAOACQ/+X/JgA6AA0A7P/6/4L/uP8zAMv/c/9x/8D/zP+g/wMAxf+H/+z/zv/N/77/vP/P/3//6v/F/1T/DQCP/0L/KACY/5//CABk/+X/BQC//wkArP+t/zMAVAC//5//HgAnADgA/v/e/x0AYwBkAA0AHgAoADUAJwBLAFsAFgBCAAsAEwA9ADoARAAGAAsADwBmAHwA/P+s/+T/QQAOANv/1/8QAPn/DwANAMn/VgD+/4n/3/9FAB4Ak//h/9z/1//v/7//yP+p/8r/0/+y/8D/m/96/6X/mP+e/8L/n/+s/67/zf8GABMAw//T/2EAIAAdAC0APABpABUAZABQAAkAZgBeAEgAXABeAAkABwCBAFsAIgAeABQASgBKAGMAdwAVAF8AdwAkAI0AWQAvAHIAIQA0ACUACwBYACEA1P/T/+T/zv/E/7H/lv+1/4D/Nf9A/3r/Yv8V/y//Ev/6/jX/GP8D/xL/Hv9S/zr/If9h/3T/t//s/9X/BgAIADgAeQBlAOkAxQBRAO8A9wDXAEgBNQECARQBYQGOAWkBeAE+ATUBcgFKAXQBIgHnAEEB0AC/AN0AZQBMAF4AHAD0//H/gf9D/17/Gf///sT+Xf6q/l3+JP52/uL93f3p/dP9B/7H/dX9x/2w/cj92P3k/f/9Jv4X/mv+rv6M/rX+Rf9L/z3/x//p/zcAowDAABUBlgG7Ab0BSQKuAskC4AJMA4YDbAPVA6oDmwPwA14DaQPGAyIDAQPRAj0CIAJbARMByAC0/6v/Gv87/j/+e/2f/H78DvyK+1v7Dfug+kr6UPod+tD5GPr5+b35+/k7+lr6Ovpg+sz68voT+0f7j/vi+xD8SPzJ/IX99P0j/ur+t/8+ADcBNALaAmYDWwRZBSEG6gZwB0sI5whbCSsKgQqpCoEKfwrSCkwKvgkaCQoIaAdQBvkEzQNDAsYASP8+/if9V/s0+m35ifiZ98v2S/Zs9f/0zfTg9Fn1IfVA9cX1T/b09k/3Dvh6+K74ofkg+rn6RPtz+0L8wPxk/R7+cf5M/2AAfwEmAjUD2gQTBa0GgAg8CCgKNgtHC8ANBA7MDeUO1A7vDssODw43DRkMvQqACXkIeAaUBCkDTQEFAGT+5fxA/K764fm3+TT5TfkO+QD5mvka+jv6e/oZ+5D7Vfs/+8z7E/tF+oD62PkL+W34MvdS9tD1HPVL9Knza/NI84/zMvQC9Xn23feQ+bH73P16AKECEQZlCB4Jkg3JDy0Q3ROFFPgUZhc5F6gXdhcyFhUWoBMqEpUR7g28C8cJPQerBdUC8wAW/0r9yPzr+mH6ivob+UH5CPrT+SP6fPqL+iL7fftL+4z7Nfs3+qL54fgC+HX2jvRs8yfydvAG78vtjeyG6+HqXep/6jLrwOsL7QbvNvFC9O32pPmj/ZUAfQTHCKcKkg4BEpoTOxc0GZsaDxw0HA8ePR3JG3ccvxnxF+gWmBO+EQwPAQw2Ch8HAQX1ApUAff9t/Wr8IfwW+9f6hPq/+gP7pvo/+4T73PrG+hf7qfqB+Wr4fvd49tv0EfN78Urvm+057AzqoeiW52jmtuV05azlSubV5vDn9+qD7eTvvPMF92X7ev+0AvcIeAxgDikUgxcgGpkd4R74IHYiiCJuI6EisCANIHwdXRo2GQAWwhFPD2sMmwmfBlUD+wGL//T8//uy+gH6FvnO+Nv4g/ib+UT5P/kU+0j6U/l3+rr6S/mn92f37fXh8uXxFvCu7LfqwuhO5lrkKuNI4sfgSODp4Nng5uHT43jlbujv66rv2vMi+FD91AHABvsMWxD0E4EZjRxzH1Aj2iRNJVMnNyjEJocmbiVYIuAfHB3JGjMXsBJNELgMDQmMBm4DDAFp/mT89PoU+Qn58ffF9rL3N/eA9wP4uPfK+Fb4Rfci+DD4cvby9A/0rfJn8D7ufuwQ6nvngeUa5CHj4OFZ4OHfyuD74JThOuR35WHmneoU74HyD/en+2cABgaKCxURJBV1GIYdMiGZIysnAykgKQEq/CqIKrwoByf2JD0hLB62G5gXdhO8Dw0M/wjvBZ4C+f/w/dH71fnZ+HT4BPdu9gb3jvaA9k/3Yvcw9zj3Gvfn9hD2Z/VG9FPyX/FS78/sqOry5wDmd+Nd4W/g2d783XndlN0Y36nfDuHb4wLm9egF7ajxK/YV+0oASQU0CxwQ/RQuGoUdeyHyJFknFSorK0EsKyxJK/UrAykFJvok/CA8HaQZHxb3EtwNOApqB1EDIgA7/eL6BflY9ur0RPRR87LyFfJ98r/yOvLQ8ozzo/Nk81Lzr/Mw85HyBPJO8DXvMu7/61/qpeh35pjkCOOr4trhjuC84D/hAOIO44HkleZ36BfrhO4/8nb2n/oH/wcEDAlzDfQR2xYnGhId/yBVIzElRifYJx8oCyhwJxMmZSNoIeQesRpwF2MURRBKDMkIjgUGAo3+CPyh+RD3HfWY85jy3vHw8AbxwPF/8YrxtvKO80H0K/WS9Xz1vfVt9sz1wPQ09EryIfDZ7mDtN+uX6OLmEeaQ5MDj/uPf4z3kD+Wv5uzouOoo7RzwcvOH97n7AABrBOUIyw0vErQWdhv7HR0htCQ0JpwoDiqnKTYq7imnKFcnLyXhItcfoBwLGksW0BKBD3ULWQhLBTACQf+u/Nv6bvhu9oD1D/TJ8ljyQfIz8orxkfEm8ubxN/KQ8ivy5vFl8e/wQfDT7tvtn+y56tPpp+gs557muuX75PnkJ+WH5S/mV+et6C3qVezS7lXxXPTp94v7e/+CA1oHmgvED6oTbRdtGrIdmSDTInIlxCbDJ6ooHihLKMMnnCX7I60hOh+bHEYZ3RZZE3sPygypCccGWwNjAIr+qfuH+RX4UvYy9Rn0rfOn80jzi/PO8270JfUF9bb1DPbT9Ur28vV+9Qb1D/QL8/bxSfEK8Kruue2r7P3rP+vY6vzq1urx6rXroeyg7b7uUfBp8mr05PbG+bb86P87A9oGSwrMDS0R7BOzFlkZohuDHbceoR8+IP8fwB9YH6Ed7xtHGv0X5xVfE4MQ/w0mC40INgaEAycB8v6u/Mb6M/kJ+Bb3Kfay9X/1WvW09Qr2Sva39vT2b/fc97z3ifcQ92T21PW+9JHzefLa8IHvSO7L7I/rbuqQ6QHps+ig6LjoTOka6ijrnuwo7jXwZ/KL9IT3mPqd/f4AQQS+ByELEA49EQsUNhZqGDMa2xtTHeQdLB4lHtcdLB3qG70aLBn/FgYVJRMJEboOTww4ClEIXgZgBC0CfAAR/3n9SPw/+0v6Y/mP+DH46fc+9532UPbP9U710/Tn8/Hyz/Ga8JvvKe637E/rl+lp6GznO+Yh5QvkpeOd4x/jK+O44y3kKOVU5rrni+lU623tAfCN8jf1a/iW+7b+8gE1BYEIjgu2DoIRthMNFkcYDBquGxYdJx4TH3Ifsh/SH24fJh92HmEdZxxDGwAaXhhqFroUqRJKECUOZwu7CEoGugOUARf/pfyv+qH41fYt9Z3zPvLJ8IfvK+787Cvs8er/6THpL+iN59/mSObD5TDlG+Xc5Inku+S75OnkgeUT5uLmy+fK6L/p+uq+7IPuavCH8uf0kPdx+pf9qQCwAwQHYAqdDc8Q4RO8FkMZsRv7HQIguSHMIrEjeiSvJI8kFSQrIx0i0SBSH2wdARuTGP4VLRNWEH0NWQoqB3gEuAHv/oT8cvpu+Jb2K/XH83vya/F/8MXvN++R7s3tMe3F7EXsWuuK6vzpXunA6BvosOeC50Tn8eby5jbnZOe75znoCun46d7qZ+wF7o3vp/EL9JD2LvkD/CP/ZAK1BfYIXAy+D98S0xVrGMwaNh1WHwwhUyJDIwMkEyT1I6cjkiJ+ITggfR6MHH8aSRi5FTgT1BA/Do0LJwm+BjoEDwLq/7L9wfsk+or49va69aH0g/O68vTx9vBM8HDvge7M7czs6ev06t7pH+lH6EXnceas5fzko+SN5KXk+ORF5d3lGedo6Nbpmuub7crv+fGX9GH39vny/B0ARANuBm4JngytD4cSVxXAFwAa/hugHREfDSCfIAohIyHDIDwgYh8eHtUcRht5GboX3hXoE6MRHg/9DOYKhAgXBsYDlAFG/zv9Y/uP+er3P/bj9NDzrPKq8cjw1e/a7gTub+3J7Njr7uoR6jDpXeiY57LmwuUk5bTkXeRW5ITkruQ/5TjmNed06PXpg+s87TzvdvHC8w32i/gu+9390QDgA9EGtAmlDIsPZxIaFW8XkBlgG/wcbh6gH2kgliC9ILQgHyBvH5Aedh0hHHAa2BghFxMVAhONEB8OxQsNCWoGywNNAcT+O/w3+iD4E/Z59PzyvvHL8OzvQu/D7kru3+2Z7XPtAO1W7PTrnOsO65zqSOq66UPpBunp6PToC+k96XPp/Om66ljrVex17Yju5++n8Y7zb/V+98b5T/wX/+0BxATDB+EKDw4zEQoUwhZTGbgb4R21H1IheCI3I7gjDyQDJJAj4SLDIVUgqx7eHNYahxj8FTYTkxDWDc8K2Af6BA0Ccf81/QD7Bfk595P1PfRK84DyrvEI8YvwNfDV73fvHO+D7uftSu2U7NDrG+tp6rTpJOms6FzoKOgY6ETonOgX6bjpfup167fsHe6k723xcfOU9eH3VPrl/Nf/5QLYBbQIewtbDhcRsBP/FfYX1xlyG8gcyh1sHt0e7B64HnIevx3jHMMbHhq2GBMXIBVuE0oR8Q6tDFEKJgj+BZwDUwFa/7b9O/yS+jL5MvhB94b20/U09Zn0/PNz89jySvKW8Yzwce927l3tQuwz6xfqL+lV6KznS+fz5rHmv+Y059/nzOi86c/qYewW7v3vIPJd9Lv2Ovn8+9L+kAGABI4HawotDd4PdxLRFOAWrBgsGqgb6xysHQ4eNR4xHgsenR2iHJQbhRoxGc0XKRaGFPMSBREXDxsN7wrvCM0GwQTLAo8Auf76/EL73vlB+NH2pvWA9HHzXfJu8ZfwtO/e7gLuAO3+6+7qzenH6OjnXeex5gvm5+Xh5SPmreZY5y3oL+mJ6u3rbO0f79TwzvLv9A/3dfnV+yb+5wCaAzkGGgm9CzcOqRABExMV9BbqGIIamBuHHFgdsh3OHZYd/xyBHKcbvhq3GUsY6BZOFeYTaRKPEL0OoQzGChUJ0ga5BPkC3QDn/mb9wvvr+Uj49va/9aj0Z/Mc8g3x6u/r7trtwuzL65jqe+mh6NfnFudu5vnl0+Xp5TbmpuYD59rnROmX6szrNe3X7rPwwvLm9Ar3HflW+8D9YQAXA6cFPwjsCqQNKBCIErAUpRZzGPwZlxucHO4cNx05HQgd1xwrHAQb7xmWGDQX6xUrFFESVRBXDrMMzAq0CM4GsATQAjIBWv+8/RH8dvo7+f/36/bt9ef03/MV82HygfHm8ATw3e4K7hrtJOwe6/HpCOkp6IvnMuec5nLmuOYk58nni+jV6VbrsOw37vzvEPJv9KT27vhi+8L9kQBOA88FZgjYCnwNKhCLEqoUlBZWGN4ZQRtaHNocLh09Hfcc3RwfHAsbGxrAGIMXJxZyFJ4SthABDxANDwtDCTIHDgUKAxEBY/+F/Xj7Bvqp+In3hfZZ9bn0+vNI89nyP/LX8STxI/CG79Du0O3P7Kfr1urg6ejoougf6OXnBOgx6PXouume6hzsmu3s7s7w0vLx9Ez3KvlC+9X9aADBAhMFkgffCT0M8g5qEX0TkRUqFwEZuRpmGzscphzkHOocVxznG/YazxmrGJUXQhaVFOsSDREcDyINUwsvCRcH6wTbAiYB1f78/BT7RPkP+ND20PWl9MjzOfPH8knycfHT8JXwCvAn70ruKO1P7EPrGuqS6bvo/ueF52Tnteft55ToJun56b3rL+2J7lXwC/Ib9Ff2iPjo+uf8M//zAVIEuQZICbALKg62EBoTQRX4FrYYYhqqG4YcyxzgHO0c5hw/HD4b7hmPGGoXzhVPFH8SaxCbDs4M8wruCKMGQwRXAl4Aj/6V/In6/fhC9yr2JPXV8xTzaPLo8avxkfEC8XrwdfAa8HXvz+4o7lHtr+wc7G/rzeoP6vfpMOpf6pvq6Oqz69jsJe5j74Lw7vH38w72DvhG+jr8Tf4SAdkDTgamCC0L+w2nEDcTaRURF8gYVRruGwUd5BwHHRcdnxwTHFMb/hlEGAwXrBUhFDASEhBPDpQMxgq0CJUGSgSBAosApv4W/Rv7qflF+Bj3WvZ49Yj0+/O984rzGPNp8jDyp/Hg8EjwTu8o7gntBexH63DqZOm46GLoGOhD6L7oHund6fDqfewq7pTvGfGy8t30WveJ+Xr7ov0wABcDxAVJCAgLQQ34D+wSDBUFF2wYsRlIG5AcuhxpHGsckxsdG40axxhjF6cVORQNE+0QMA9TDf4K5Qk3CAkGyQQ7Aq4A0f/s/fL8LfvG+Vn5ZPjm90b3Nfay9Y71SPXj9A70h/NL86byI/JB8T7wVO+G7t/t9OwS7EnrDusG6zTrf+tm6wvsSO2T7gnwJPEX8uDz1vXG99P5oPu+/eH/ZwIwBVgHuwk+DEAOHRG6Ey0V6xY9GIUaVhx/HCMd0RuoGY8YOhfkFbgUHBPLEcARGBADDaoKDQmoBwcGnQRcAgcBmP9U/VL81PrR+f34Dfh591z3MvcY9jH2ZvZj9t/1M/Uw9TH0TvOj8ubxQvCi7hbu++z/6xDrf+pE6ujpY+rO6iXrDOzp7E7uHvBA8abys/QA9zH5P/ug/YX/6QHNBPEGkgkZDA8OshAiEwEVsBbPFyUZJBrWGjQb2xrpGp4ZzhjEGLUWcRX7EycSaBGWD9sNOAwLCsgIawdbBbsDPAJwAN/+jP0P/PP6Jfri+E74AfgO95D2FPan9Xb1dvTw89DzefJ88cfwdu8t7vnsQOwt6yLqsulQ6VHpc+nj6WvqY+tw7MHtr+/K8GXyQ/RA9qH4SPqE/O/+JAFyAwYGZghBChgN0g+iEYwT1hU1FwIYthmZGoQarBoKG3caexklGbMXSxYXFWATbBKoEI4Oew2pC2oJBQi2BVcDlwK+AGT+gf08/Ln69/kI+Tb4n/fp9vj2l/Z/9WL1RPWg9Df07fNm8ynyCPGC8Dvv/e2j7VTsVutn66nqgOrp6tLqieuN7C7tmu5g8HXx7/L79Br3/Pi4+jH9Pf81Ae0DcAbSCCALxQ0GECcScBTgFYQXzhgAGvQafhqkGhYbQxpPGboYYRf4FecUdhMmEnIQwQ5TDcULQgpCCEcGZgTZAvgA9v7e/SL8vPqs+Yv4D/gG95n2YvbG9Xj1EfX39Gb0wvNu84XyYvE38PzuFu4v7bnr/epN6l3pgelS6WDpJeq16qPrNe3V7ujvDfFw8or05/bQ+AL7Fv2J/yACnAR6B/gJcgxZDyoSQxQ5Fg0YORkMG0ccuBthHMMcEhvDGs8Z/xd6F6sVPBQKE4wQHw/nDYILzQmwCGAGigQLA/0Akv8w/r38w/u/+mv59Phi+LX3zffe9oH2aPay9Wn1kfTx81PzIfLz8CDw7e5Z7czsEOz16kPq+ekU6g7qeuor6/jrAe1F7ijwrvHh8p30j/bA+B/7Iv0O/0kBtANUBs0IBAtMDXAPvhHcE6QVXRdKGGIZjhrNGuYawRoxGkwZmhirFzQW/BQjE4QRaRCeDuwMIQtOCd0HJQZ0BNICCgGX/07+LP0A/Gv6c/kd+Y741fc/97/2LPbS9Yv18vQ99KHz8PIv8lvxPPD87ujtRe2P7KbrCevV6r3qwOql6zbsZexE7XzuXvDf8d7yMfTx9TD4d/qF/Br+IAC/Al0F6QcRCjcMgQ7pEPsS2BRTFhoXOxhAGZIZVBnFGGoY1xerFqAVnxQCE3EREhDGDnsNqwvxCcwIcge9BSUElQIwAdf/wv5y/S38rfuK+ur5rPnh+Hj4+ffY95H3wvYX9oX1zvT28x7z+fHo8K3vvO4I7uTsMOyj6zzrTOu860TszexA7fXt0+9N8XryHPQ89e/2V/lN+yv9H//dABoD3wVXCFYKeQzRDqgQrBKrFKsVyxYSGEgYqBguGXoYExiNF0cWaBVWFCUTphEHEOAOig3rCxwKewgYB3wFqQNaAjgBYf/M/fX8Pvws+zn6x/kz+YL47vfU94/3s/Ya9sj1WPV09HjzkPKJ8X3wfu+m7sjt9ewX7K7rruua6w3si+z67Krtlu7m73bx7vID9FH1Cvf3+On6sfxf/isAfgLhBEkHowlcC1UNpA+CEWMTtxRgFWYWCRdIFzcXphY1FoAVdhRhE5gSbxGyD10OMA0ZDJUKugh0B1IG5gR7AzMC/wCj/wv+Sv2x/H77lvq/+Wf5MfmD+Br4qfcL95H2N/bW9QP1ufPK8knycPFS8BfvGO6l7Qztf+xu7D3sb+w57Qvu1u5l75LwaPLz8zv1l/ZT+Cz6LPwQ/rn/pAGMA9YFWwiDCokMjg5yECUSNBSgFUwWHhecFwMYFBjbFy4XARYyFVwUUxMKEmYQ2Q7NDYAMkAo0CdIHKQZ/BM4CowE0AHL+FP0f/Bf7Hfpm+dH4cPjk95v3dPcI95r2I/a29Rn1T/R/857yhfFh8G7vlu7O7RjthuxG7IXsw+wv7RXu2O6o793wgvIW9E71aPbs9975yPvJ/Yj/XAGxA3kGFAlKC9kN2g+pEQUU3xUuFwkYKRhiGLIY5hhjGM0WAxYlFRQUrRP8EToQ+w6NDY0M9AooCZEHBwZyBPICsQEUAID+KP1T/LP7pfqc+Rf5wPhk+B/4jfcP95r2JPbp9TT1GPQS8y3yWfFX8CLvt+3O7Hzs5+t361rrU+uP65zsBO7q7sTvQvFD8w31gfb+94P5PPs6/QX/BgHJAqEERQeQCfkLOA7fD94RihMkFSEXbBfBFmMXfxdfFyEXIRUsFKMTThKWERgQdg7yDG8L1wqbCb8HQwZbBOwCzAEMAOn+df3O+0z71fpi+tj5C/nZ+NX49Pjk+FL4t/cW99b2mfa89an0SPMo8sDxzvC/77Puh+067SXtKe017QDtkO2n7qnvBfEs8l3zvPQi9jP4I/qi+1r9WP+RAUAE4QY7CXULwA0sECkS+xOSFW8WBReaF7kXoxc+FxUWJhUMFM0SJxJYEIMOZg3mC9cKhgn5B8wGigU+BAQDoAF6AEf/Uf6p/Vr8uPs++6n6m/pm+iT6v/lW+Uf5FvlQ+JH3k/Zy9c30wfNo8jTxEvAa7xzune0I7RjsDuxU7KvsVu047lnvl/AN8qbzn/VZ94P4KPrt+6j9rv+OAUwDOwW1B20KhAwgDtoPdBH+EqIUORVcFb8VbBWQFWkVLxQOE90RBBFgEA8Peg15DFkLeApfCSEI4AZGBQ4EwgLyAa3+n/tz+9L62/rR+mf6Bfqz+Yj5Uvns+Bf4a/eD9r71AvXi88by1PH38FTw6+9/7xXvFe9U76DvdPAt8bbxiPLY8y71Uvat9634y/mU+279OP/yAKwCvwT3BkMJkQsLDSEOng/wEO4RrBLREsASzhKPEioSgBGIEKgPtA75DQ0NzwuuCmMJagieB3QGKQXzA9sCuQF7AEX/Uv46/Tb8lvvR+oD6UPrY+aD5f/lg+TL55Pha+Oj3dve19vD1GPVY9KLzB/Of8iTyAvIQ8iHyi/Ln8k/z+/PJ9Kv1lvae96r4xvka+3b8dv1a/m//egCPAYwChQPEBLoFtAbpB9cIpgmPCnULEgzODIUNzA0SDhQO+A0SDuINgA3oDE4MxwsOC0kKWwmXCLkHnQavBZQEUQMgAsUAcv9m/g79wPvP+rP5BPmb+Br4EPgf+Dn4kfjk+Bj5Pvlp+WD5KfkI+eP4gfgq+N73hvdX9xH3yPbw9i/3Kvdy99b3Gvir+C35gPne+U36zPpC+/T7v/x8/Vn+T/9zAJYB1AIgBHEFuAayB84IwglfCt8KNQt/C6MLpAuACxkL6Aq/ClsK3wlFCeUIgAjtB0AHYAZkBXkEfgNvAmsBTQBh/4L+ov3w/Hr8MPzd+8/7xfut+7b7n/ti+yT71/pW+tL5Z/nF+BH4hvcF93f27/Wp9ZX1g/WE9cP16vUh9pX2+/Zg9+X3rPg++eP5+vr5++H8z/21/rX/vwDPAesCrwN8BFEF/AXbBqEHKgiYCAEJfgkOCm8KuAr4CvMK+AoaC/EKnQpNCgIKsgkrCb4IZAjVB0AHtQYPBk0FgAShA4ECZwGXAHT/RP4v/Rb8HvsW+lv5tfj/93H37PZk9tT1b/UT9ZX0KvTu87PzavNN8yvzFfMp8zfzhPPX8yj01fRy9Rf2AfcH+Ev5lfrr+2394f6YAJICbQQtBt0HhwkPC2AMuQ3zDsUPdxD3ECERTBFiERMRsBBNENwPOw9HDmwNdQxeCz0KEwnuB6QGZAUqBAMD2wHJAOL/+P4g/mz9xvwB/EP7ofr6+Sv5XPix9+n2APYq9Vf0bPOG8szxafEC8YnwXvBM8GbwwPA68aLxFPLV8qXzqfTh9SH3a/jg+Wv71PxR/sT/KwF3Aq8D6gQLBhEH5QeZCCgJxwlWCtkKSwuwCzoMawybDNIMygzKDLMMlwxZDOMLdAsLC34KzgkyCZEI2wcoB0UGcwWLBIQDowKSAZcAmf+D/mn9NPwr+yz6QvlX+Ir33fYe9oP19/R/9P7zkfNx82/zPPP98gLzRvOE87PzMvSm9BX11vWS9kf3/vfV+ND54/oB/Cj9cf7I/y4BmwIwBMEFPwejCKwJ1AoKDPAMpg01DsoORw+AD5wPlg92DzgP/g6iDvQNQw1oDG8LcgpBCfAHoQZnBR8EywJyAToAMf8r/lP9YfyG+xL7T/px+b748vc29272sfUN9T/0b/PG8ijyrfFQ8fzwy/Ca8JnwxPDp8Ezxu/FX8gzzrfOR9Kb1zPYO+Hn52/pX/Pf9af/tAHkCwQMABSMGIgc3CBwJzAltCgkLpwssDLIMMQ2QDccN6Q0DDukNsw2DDRQNewzwCzULcQrBCfIIEwhTB4sGpAW0BKUDswKyAaEAm/9m/jf9APzo+uH5sfiw9/D2B/Yd9Y/0EfSN8w7zyPKm8njyhPKj8s/yBfNF857z+/Ny9BT1wfVu9jr3EvgC+Qb6NfuE/Lr9DP9sAPABewPbBFQGrwfPCPYJEgsFDNQMeA0RDoUOrg75DjwP/A63DosODQ6CDeQMKQxvC4gKkgmHCFAHMwYjBdwDnQKUAZIAeP9c/mb9cfxy+4v6wPni+P73LPdS9oL1tfTy8yHzT/Kg8Qbxm/BD8BDw8u/z70DwnfD/8IXxUvI28zX0YfWK9vL3a/ni+of8Ff6d/1YBFwPDBGYG9wdyCcUK8wv4DNUNnA5CD7QP8w8xEEoQHhDND3wPKQ+QDhAOiw22DNoL6Ar1CfUI3AexBnEFWAQuA9sBtACs/47+Tf0L/Bf7N/ow+R34Ifcx9jH1avSd85vy0fEo8ZHwPfD877jvt+/c7wPwSvC48GjxKvL+8gr0MPV29tP3Sfnx+pH8Rf4fANUBnANoBeEGVgjNCcgKqAulDGUNDQ55Ds4OIQ8nDxgP7g6pDnAOJg6eDekMOgxxC4YKtwnkCN4HvAalBa0EjgNxAmkBUABQ/zb+Q/1V/Dn7Qfo1+Q74DvcW9gT1H/RJ83TyyfEy8djwlPB38ITwmfDe8DPxl/Eq8uTynPNp9F31UvZq96f46vlU+9n8Tv7N/0gB0AJJBJUF5gYHCAIJvwlmCisLswsmDIgM4AwhDTwNbQ1yDVsNMw34DMUMXQzFCxYLUgqBCa0IywfGBswF0QS1A50CegFuAG7/V/5W/TL8Hvs++kT5R/hd95v21vXw9ED0tPMn89byo/Jj8lfyZ/KC8sryIPOS8zL01/Sm9Yv2ZPdv+H75hPqL+8L8NP5w/6oA6QENA0QEfwWJBm4HUAj4CJcJTQrkClYLrAvwCyMMPgxIDEAMEAzpC58LKAvCCjEKjwnVCOoHEgclBg8FJwQ9A1ICWgEkACv/I/4g/VX8XfuB+rT55vhI+Kv39vZ99gf2jvVk9RP1zPTJ9Nb0+PQ39Xn1z/U29pP2Jve590f46/ij+XP6Sfsf/OP84f3e/tX/4QDpAd8CqQORBEUF+gW4BjIHywdJCJ4ICAl2CboJ4QkOCiYKDwrhCbUJaAkSCa8IOAitBwcHdQbgBS4FdgSvA8cC6AEPAUUAgf+t/uf99/wc/HX7tfoF+nX58vhm+OX3ffcW99/24fbc9uf2B/cc91n3pfcA+G/42fhu+QP6ifo8+/H7jfw7/Qb+xf5z/z8AEgHUAZUCPQPgA3sE/AR6BdkFLgaoBhoHbAesB9MH2QfjB90HuQekB20HFAe6BloG8AV6BfwEfwQIBGMD1gJbArsBKgF8ANf/Pv+P/t79NP2p/Cf8n/sr+9P6Zfrp+Y75S/kf+e/40PjW+OH4+Pgn+Vr5qfkR+mb6xfpO+9X7QPyr/EX9/P2G/hD/rv84AM8AYgHlAWMCzAI3A4gDugMJBEwEiQTgBBAFNwVOBVsFiwWPBXAFeAV9BVIFLwUDBeIEswRYBBUEtgNUA+oCbwIMAqUBOAGqACAAqP8v/6z+G/6M/Qb9pfxQ/Av8vvtn+xf7xfqU+mv6UPpV+lv6bvqT+qj61/o6+377t/sM/Ff8r/wK/Vj9wP0t/o3+9f5k/8f/IQCLAPYAWQG8AR0CcAKpAtQCDANBA1IDcgOxA8sD5gMWBBsEIgQoBAkEAgTkA7gDngNvAzoDCAPaAo4CQQIDArUBdAElAc4AjwBCAOz/pv9o/yX/2/6N/kX+G/4P/uD9pP2M/Wz9Ov0n/Sn9G/0X/Sj9PP1M/W79j/2p/cr92/0E/jL+X/6l/tn+BP88/3H/rP/s/yoAdACXAMEA/wADATQBYwFyAYkBhgGwAdIB2AHtAe0B6wHtAdIBpwGeAZkBdAFUAVQBQgEeAQ0B4wC7AI0AVgA1ABIA/P/R/5b/g/+E/1//Ov86/yH/Iv8l/xT/F/8V/xj/Ef8O/wr/E/8l/xX/Ef8f/zn/S/9E/0v/Xv9h/2f/fP+D/53/sP+y/8n/yP/R/+v/+f8AAAkAKABDAFQAbACCAIEAjQCZAI0AlgCmALcAtQC1AL4AqACkAJwAjgCZAJIAfQByAGsAXABHADYAJAAWAA0A+v/t/+r/2P/Y/8//vf/P/9H/zP/d/9v/2f/Z/8z/y//S/9P/wP+z/8H/u//A/8f/vf/A/8H/yP/L/8L/x//L/8f/wf+0/7n/0v/c/9n/2f/m/+r/6v/y//D/9f/r/+3/9v/r//b/+//3//n////+//7/CgANAAkA9f/2//z/8//0/+///P/9//n//v/4//v/AAAOAAYABQAVAA0ACgAXAA0A9/8HAA0AEAAYAAYAFAAUABcAIgASABsAEgD+//H/6//u/+7/9P/x/+v/6P/l/+T/4f/k/+r/8P/y//X/9//1//b/9f/y//H/9//7//L/8f8CAP//8//z//T/AAD5//r/AgD2/wcACwAFAAwAAQAHAAgAAwAHAAEAAwAEAAAAAAD//wEAAgD//wIAAwABAAkACgACAAMABQAGAAUABAAEAAcABwABAAQABQACAAkABgD//wEABQAAAP7/AAAAAAIAAwD+//7/AAD+//z//P/7//r/+P/1//X/6f/f/+P/5v/o/+b/5f/o/+j/6v/t/+z/7f/v//L/9f/7/wwACgAHABgAEwATABwAGAAYABEADwARAA8ADAAJAAoACQAKAAcABgAIAAcACQAFAAIAAgAEAAgABwAIAAoACgAGAAUABgAFAAcAAQAAAAIA/v/+//7/+//8//3//P/9//7//P/9//T/5//p/+z/6f/q/+n/6P/q/+n/6//x//H/9P/1//b/+P/1//P/9//6//n/+v8AAAsAFAALAAsAEwATABQAEAAPAA0ADQAKAAcADgAOABMAHQAiACAAHQAfABsAGAAUABQAEwASABMADQAQAAwABAD+//j/AwD8/+7/6//s/+z/6P/t/+j/6f/v/+3/8//x//L/9f/0//b/+P/3//f/9v/0/+r/7/8AAPr/+f/8//f//P/4//n//P/5//v//P/8//z//v/9//3//f/8/wAAAwAEAAMABwAFAAMABAAGAAcABgAKABEAFQAPABAAFgASAB0AGAAUABgAEgATAAsABwAAAPX/9//x//f//P/4//z/+f/1//j/9//5//j/9//7//v/+f/8//r/+v/6//j//P/+//v//P/9//r/+P/8//3/+//8//v//f/9//z//P/7//z/+//8//z/+//+/wAAAQAAAAAAAQAAAAEAAAD9/wAA//8AAAEAAgABAAEAAgABAAIAAQACAAEAAQADAAIAAgACAAIAAwABAAAAAQACAAIAAgABAAEAAQACAAIAAgACAAIAAgABAAIAAgABAAIAAQAAAAAAAAAAAAAAAAABAAEAAQABAAAAAAAAAAAAAAAAAAAAAAABAAEAAAAAAAAAAAAAAAAAAAAAAAAAAAAAAAAAAAAAAAAAAAAAAAAAAAAAAAAAAAAAAAAAAAAAAAAAAAAAAAAAAAAAAAAAAAAAAAAAAAAAAAAAAAAAAAAAAAAAAAAAAAAAAAAAAAAAAAAAAAAAAAAAAAAAAAAAAAAAAAAAAAAAAAAAAAAAAAAAAAAAAAAAAAAAAAAAAAAAAAAAAAAAAAAAAAAAAAAAAAAAAAAAAAAAAAAAAAAAAAAAAAAAAAAAAAAAAAAAAAAAAAAAAAAAAAAAAAAAAAAAAAAAAAAAAAAAAAAAAAAAAAAAAAAAAAAAAAAAAAAAAAAAAAAAAAAAAAAAAAAAAAAAAAAAAAAAAAAAAAAAAAAAAAAAAAAAAAAAAAAAAAAAAAAAAAAAAAAAAAAAAAAAAAAAAAAAAAAAAAAAAAAAAAAAAAAAAAAAAAAAAAAAAAAAAAAAAAAAAAAAAAAAAAAAAAAAAAAAAAAAAAAAAAAAAAAAAAAAAAAAAAAAAAAAAAAAAAAAAAAAAAAAAAAAAAAAAAAAAAAAAAAAAAAAAAAAAAAAAAAAAAAAAAAAAAAAAAAAAAAAAAAAAAAAAAAAAAAAAAAAAAAAAAAAAAAAAAAAAAAAAAAAAAAAAAAAAAAAAAAAAAAAAAAAAAAAAAAAAAAAAAAAAAAAAAAAAAAAAAAAAAAAAAAAAAAAAAAAAAAAAAAAAAAAAAAAAAAAAAAAAAAAAAAAAAAAAAAAAAAAAAAAAAAAAAAAAAAAAAAAAAAAAAAAAAAAAAAAAAAAAAAAAAAAAAAAAAAAAAAAAAAAAAAAAAAAAAAAAAAAAAAAAAAAAAAAAAAAAAAAAAAAAAAAAAAAAAAAAAAAAAAAAAAAAAAAAAAAAAAAAAAAAAAAAAAAAAAAAAAAAAAAAAAAAAAAAAAAAAAAAAAAAAAAAAAAAAAAAAAAAAAAAAAAAAAAAAAAAAAAAAAAAAAAAAAAAAAAAAAAAAAAAAAAAAAAAAAAAAAAAAAAAAAAAAAAAAAAAAAAAAAAAAAAAAAAAAAAAAAAAAAAAAAAAAAAAAAAAAAAAAAAAAAAAAAAAAAAAAAAAAAAAAAAAAAAAAAAAAAAAAAAAAAAAAAAAAAAAAAAAAAAAAAAAAAAAAAAAAAAAAAAAAAAAAAAAAAAAAAAAAAAAAAAAAAAAAAAAAAAAAAAAAAAAAAAAAAAAAAAAAAAAAAAAAAAAAAAAAAAAAAAAAAAAAAAAAAAAAAAAAAAAAAAAAAAAAAAAAAAAAAAAAAAAAAAAAAAAAAAAAAAAAAAAAAAAAAAAAAAAAAAAAAAAAAAAAAAAAAAAAAAAAAAAAAAAAAAAAAAAAAAAAAAAAAAAAAAAAAAAAAAAAAAAAAAAAAAAAAAAAAAAAAAAAAAAAAAAAAAAAAAAAAAAAAAAAAAAAAAAAAAAAAAAAAAAAAAAAAAAAAAAAAAAAAAAAAAAAAAAAAAAAAAAAAAAAAAAAAAAAAAAAAAAAAAAAAAAAAAAAAAAAAAAAAAAAAAAAAAAAAAAAAAAAAAAAAAAAAAAAAAAAAAAAAAAAAAAAAAAAAAAAAAAAAAAAAAAAAAAAAAAAAAAAAAAAAAAAAAAAAAAAAAAAAAAAAAAAAAAAAAAAAAAAAAAAAAAAAAAAAAAAAAAAAAAAAAAAAAAAAAAAAAAAAAAAAAAAAAAAAAAAAAAAAAAAAAAAAAAAAAAAAAAAAAAAAAAAAAAAAAAAAAAAAAAAAAAAAAAAAAAAAAAAAAAAAAAAAAAAAAAAAAAAAAAAAAAAAAAAAAAAAAAAAAAAAAAAAAAAAAAAAAAAAAAAAAAAAAAAAAAAAAAAAAAAAAAAAAAAAAAAAAAAAAAAAAAAAAAAAAAAAAAAAAAAAAAAAAAAAAAAAAAAAAAAAAAAAAAAAAAAAAAAAAAAAAAAAAAAAAAAAAAAAAAAAAAAAAAAAAAAAAAAAAAAAAAAAAAAAAAAAAAAAAAAAAAAAAAAAAAAAAAAAAAAAAAAAAAAAAAAAAAAAAAAAAAAAAAAAAAAAAAAAAAAAAAAAAAAAAAAAAAAAAAAAAAAAAAAAAAAAAAAAAAAAAAAAAAAAAAAAAAAAAAAAAAAAAAAAAAAAAAAAAAAAAAAAAAAAAAAAAAAAAAAAAAAAAAAAAAAAAAAAAAAAAAAAAAAAAAAAAAAAAAAAAAAAAAAAAAAAAAAAAAAAAAAAAAAAAAAAAAAAAAAAAAAAAAAAAAAAAAAAAAAAAAAAAAAAAAAAAAAAAAAAAAAAAAAAAAAAAAAAAAAAAAAAAAAAAAAAAAAAAAAAAAAAAAAAAAAAAAAAAAAAAAAAAAAAAAAAAAAAAAAAAAAAAAAAAAAAAAAAAAAAAAAAAAAAAAAAAAAAAAAAAAAAAAAAAAAAAAAAAAAAAAAAAAAAAAAAAAAAAAAAAAAAAAAAAAAAAAAAAAAAAAAAAAAAAAAAAAAAAAAAAAAAAAAAAAAAAAAAAAAAAAAAAAAAAAAAAAAAAAAAAAAAAAAAAAAAAAAAAAAAAAAAAAAAAAAAAAAAAAAAAAAAAAAAAAAAAAAAAAAAAAAAAAAAAAAAAAAAAAAAAAAAAAAAAAAAAAAAAAAAAAAAAAAAAAAAAAAAAAAAAAAAAAAAAAAAAAAAAAAAAAAAAAAAAAAAAAAAAAAAAAAAAAAAAAAAAAAAAAAAAAAAAAAAAAAAAAAAAAAAAAAAAAAAAAAAAAAAAAAAAAAAAAAAAAAAAAAAAAAAAAAAAAAAAAAAAAAAAAAAAAAAAAAAAAAAAAAAAAAAAAAAAAAAAAAAAAAAAAAAAAAAAAAAAAAAAAAAAAAAAAAAAAAAAAAAAAAAAAAAAAAAAAAAAAAAAAAAAAAAAAAAAAAAAAAAAAAAAAAAAAAAAAAAAAAAAAAAAAAAAAAAAAAAAAAAAAAAAAAAAAAAAAAAAAAAAAAAAAAAAAAAAAAAAAAAAAAAAAAAAAAAAAAAAAAAAAAAAAAAAAAAAAAAAAAAAAAAAAAAAAAAAAAAAAAAAAAAAAAAAAAAAAAAAAAAAAAAAAAAAAAAAAAAAAAAAAAAAAAAAAAAAAAAAAAAAAAAAAAAAAAAAAAAAAAAAAAAAAAAAAAAAAAAAAAAAAAAAAAAAAAAAAAAAAAAAAAAAAAAAAAAAAAAAAAAAAAAAAAAAAAAAAAAAAAAAAAAAAAAAAAAAAAAAAAAAAAAAAAAAAAAAAAAAAAAAAAAAAAAAAAAAAAAAAAAAAAAAAAAAAAAAAAAAAAAAAAAAAAAAAAAAAAAAAAAAAAAAAAAAAAAAAAAAAAAAAAAAAAAAAAAAAAAAAAAAAAAAAAAAAAAAAAAAAAAAAAAAAAAAAAAAAAAAAAAAAAAAAAAAAAAAAAAAAAAAAAAAAAAAAAAAAAAAAAAAAAAAAAAAAAAAAAAAAAAAAAAAAAAAAAAAAAAAAAAAAAAAAAAAAAAAAAAAAAAAAAAAAAAAAAAAAAAAAAAAAAAAAAAAAAAAAAAAAAAAAAAAAAAAAAAAAAAAAAAAAAAAAAAAAAAAAAAAAAAAAAAAAAAAAAAAAAAAAAAAAAAAAAAAAAAAAAAAAAAAAAAAAAAAAAAAAAAAAAAAAAAAAAAAAAAAAAAAAAAAAAAAAAAAAAAAAAAAAAAAAAAAAAAAAAAAAAAAAAAAAAAAAAAAAAAAAAAAAAAAAAAAAAAAAAAAAAAAAAAAAAAAAAAAAAAAAAAAAAAAAAAAAAAAAAAAAAAAAAAAAAAAAAAAAAAAAAAAAAAAAAAAAAAAAAAAAAAAAAAAAAAAAAAAAAAAAAAAAAAAAAAAAAAAAAAAAAAAAAAAAAAAAAAAAAAAAAAAAAAAAAAAAAAAAAAAAAAAAAAAAAAAAAAAAAAAAAAAAAAAAAAAAAAAAAAAAAAAAAAAAAAAAAAAAAAAAAAAAAAAAAAAAAAAAAAAAAAAAAAAAAAAAAAAAAAAAAAAAAAAAAAAAAAAAAAAAAAAAAAAAAAAAAAAAAAAAAAAAAAAAAAAAAAAAAAAAAAAAAAAAAAAAAAAAAAAAAAAAAAAAAAAAAAAAAAAAAAAAAAAAAAAAAAAAAAAAAAAAAAAAAAAAAAAAAAAAAAAAAAAAAAAAAAAAAAAAAAAAAAAAAAAAAAAAAAAAAAAAAAAAAAAAAAAAAAAAAAAAAAAAAAAAAAAAAAAAAAAAAAAAAAAAAAAAAAAAAAAAAAAAAAAAAAAAAAAAAAAAAAAAAAAAAAAAAAAAAAAAAAAAAAAAAAAAAAAAAAAAAAAAAAAAAAAAAAAAAAAAAAAAAAAAAAAAAAAAAAAAAAAAAAAAAAAAAAAAAAAAAAAAAAAAAAAAAAAAAAAAAAAAAAAAAAAAAAAAAAAAAAAAAAAAAAAAAAAAAAAAAAAAAAAAAAAAAAAAAAAAAAAAAAAAAAAAAAAAAAAAAAAAAAAAAAAAAAAAAAAAAAAAAAAAAAAAAAAAAAAAAAAAAAAAAAAAAAAAAAAAAAAAAAAAAAAAAAAAAAAAAAAAAAAAAAAAAAAAAAAAAAAAAAAAAAAAAAAAAAAAAAAAAAAAAAAAAAAAAAAAAAAAAAAAAAAAAAAAAAAAAAAAAAAAAAAAAAAAAAAAAAAAAAAAAAAAAAAAAAAAAAAAAAAAAAAAAAAAAAAAAAAAAAAAAAAAAAAAAAAAAAAAAAAAAAAAAAAAAAAAAAAAAAAAAAAAAAAAAAAAAAAAAAAAAAAAAAAAAAAAAAAAAAAAAAAAAAAAAAAAAAAAAAAAAAAAAAAAAAAAAAAAAAAAAAAAAAAAAAAAAAAAAAAAAAAAAAAAAAAAAAAAAAAAAAAAAAAAAAAAAAAAAAAAAAAAAAAAAAAAAAAAAAAAAAAAAAAAAAAAAAAAAAAAAAAAAAAAAAAAAAAAAAAAAAAAAAAAAAAAAAAAAAAAAAAAAAAAAAAAAAAAAAAAAAAAAAAAAAAAAAAAAAAAAAAAAAAAAAAAAAAAAAAAAAAAAAAAAAAAAAAAAAAAAAAAAAAAAAAAAAAAAAAAAAAAAAAAAAAAAAAAAAAAAAAAAAAAAAAAAAAAAAAAAAAAAAAAAAAAAAAAAAAAAAAAAAAAAAAAAAAAAAAAAAAAAAAAAAAAAAAAAAAAAAAAAAAAAAAAAAAAAAAAAAAAAAAAAAAAAAAAAAAAAAAAAAAAAAAAAAAAAAAAAAAAAAAAAAAAAAAAAAAAAAAAAAAAAAAAAAAAAAAAAAAAAAAAAAAAAAAAAAAAAAAAAAAAAAAAAAAAAAAAAAAAAAAAAAAAAAAAAAAAAAAAAAAAAAAAAAAAAAAAAAAAAAAAAAAAAAAAAAAAAAAAAAAAAAAAAAAAAAAAAAAAAAAAAAAAAAAAAAAAAAAAAAAAAAAAAAAAAAAAAAAAAAAAAAAAAAAAAAAAAAAAAAAAAAAAAAAAAAAAAAAAAAAAAAAAAAAAAAAAAAAAAAAAAAAAAAAAAAAAAAAAAAAAAAAAAAAAAAAAAAAAAAAAAAAAAAAAAAAAAAAAAAAAAAAAAAAAAAAAAAAAAAAAAAAAAAAAAAAAAAAAAAAAAAAAAAAAAAAAAAAAAAAAAAAAAAAAAAAAAAAAAAAAAAAAAAAAAAAAAAAAAAAAAAAAAAAAAAAAAAAAAAAAAAAAAAAAAAAAAAAAAAAAAAAAAAAAAAAAAAAAAAAAAAAAAAAAAAAAAAAAAAAAAAAAAAAAAAAAAAAAAAAAAAAAAAAAAAAAAAAAAAAAAAAAAAAAAAAAAAAAAAAAAAAAAAAAAAAAAAAAAAAAAAAAAAAAAAAAAAAAAAAAAAAAAAAAAAAAAAAAAAAAAAAAAAAAAAAAAAAAAAAAAAAAAAAAAAAAAAAAAAAAAAAAAAAAAAAAAAAAAAAAAAAAAAAAAAAAAAAAAAAAAAAAAAAAAAAAAAAAAAAAAAAAAAAAAAAAAAAAAAAAAAAAAAAAAAAAAAAAAAAAAAAAAAAAAAAAAAAAAAAAAAAAAAAAAAAAAAAAAAAAAAAAAAAAAAAAAAAAAAAAAAAAAAAAAAAAAAAAAAAAAAAAAAAAAAAAAAAAAAAAAAAAAAAAAAAAAAAAAAAAAAAAAAAAAAAAAAAAAAAAAAAAAAAAAAAAAAAAAAAAAAAAAAAAAAAAAAAAAAAAAAAAAAAAAAAAAAAAAAAAAAAAAAAAAAAAAAAAAAAAAAAAAAAAAAAAAAAAAAAAAAAAAAAAAAAAAAAAAAAAAAAAAAAAAAAAAAAAAAAAAAAAAAAAAAAAAAAAAAAAAAAAAAAAAAAAAAAAAAAAAAAAAAAAAAAAAAAAAAAAAAAAAAAAAAAAAAAAAAAAAAAAAAAAAAAAAAAAAAAAAAAAAAAAAAAAAAAAAAAAAAAAAAAAAAAAAAAAAAAAAAAAAAAAAAAAAAAAAAAAAAAAAAAAAAAAAAAAAAAAAAAAAAAAAAAAAAAAAAAAAAAAAAAAAAAAAAAAAAAAAAAAAAAAAAAAAAAAAAAAAAAAAAAAAAAAAAAAAAAAAAAAAAAAAAAAAAAAAAAAAAAAAAAAAAAAAAAAAAAAAAAAAAAAAAAAAAAAAAAAAAAAAAAAAAAAAAAAAAAAAAAAAAAAAAAAAAAAAAAAAAAAAAAAAAAAAAAAAAAAAAAAAAAAAAAAAAAAAAAAAAAAAAAAAAAAAAAAAAAAAAAAAAAAAAAAAAAAAAAAAAAAAAAAAAAAAAAAAAAAAAAAAAAAAAAAAAAAAAAAAAAAAAAAAAAAAAAAAAAAAAAAAAAAAAAAAAAAAAAAAAAAAAAAAAAAAAAAAAAAAAAAAAAAAAAAAAAAAAAAAAAAAAAAAAAAAAAAAAAAAAAAAAAAAAAAAAAAAAAAAAAAAAAAAAAAAAAAAAAAAAAAAAAAAAAAAAAAAAAAAAAAAAAAAAAAAAAAAAAAAAAAAAAAAAAAAAAAAAAAAAAAAAAAAAAAAAAAAAAAAAAAAAAAAAAAAAAAAAAAAAAAAAAAAAAAAAAAAAAAAAAAAAAAAAAAAAAAAAAAAAAAAAAAAAAAAAAAAAAAAAAAAAAAAAAAAAAAAAAAAAAAAAAAAAAAAAAAAAAAAAAAAAAAAAAAAAAAAAAAAAAAAAAAAAAAAAAAAAAAAAAAAAAAAAAAAAAAAAAAAAAAAAAAAAAAAAAAAAAAAAAAAAAAAAAAAAAAAAAAAAAAAAAAAAAAAAAAAAAAAAAAAAAAAAAAAAAAAAAAAAAAAAAAAAAAAAAAAAAAAAAAAAAAAAAAAAAAAAAAAAAAAAAAAAAAAAAAAAAAAAAAAAAAAAAAAAAAAAAAAAAAAAAAAAAAAAAAAAAAAAAAAAAAAAAAAAAAAAAAAAAAAAAAAAAAAAAAAAAAAAAAAAAAAAAAAAAAAAAAAAAAAAAAAAAAAAAAAAAAAAAAAAAAAAAAAAAAAAAAAAAAAAAAAAAAAAAAAAAAAAAAAAAAAAAAAAAAAAAAAAAAAAAAAAAAAAAAAAAAAAAAAAAAAAAAAAAAAAAAAAAAAAAAAAAAAAAAAAAAAAAAAAAAAAAAAAAAAAAAAAAAAAAAAAAAAAAAAAAAAAAAAAAAAAAAAAAAAAAAAAAAAAAAAAAAAAAAAAAAAAAAAAAAAAAAAAAAAAAAAAAAAAAAAAAAAAAAAAAAAAAAAAAAAAAAAAAAAAAAAAAAAAAAAAAAAAAAAAAAAAAAAAAAAAAAAAAAAAAAAAAAAAAAAAAAAAAAAAAAAAAAAAAAAAAAAAAAAAAAAAAAAAAAAAAAAAAAAAAAAAAAAAAAAAAAAAAAAAAAAAAAAAAAAAAAAAAAAAAAAAAAAAAAAAAAAAAAAAAAAAAAAAAAAAAAAAAAAAAAAAAAAAAAAAAAAAAAAAAAAAAAAAAAAAAAAAAAAAAAAAAAAAAAAAAAAAAAAAAAAAAAAAAAAAAAAAAAAAAAAAAAAAAAAAAAAAAAAAAAAAAAAAAAAAAAAAAAAAAAAAAAAAAAAAAAAAAAAAAAAAAAAAAAAAAAAAAAAAAAAAAAAAAAAAAAAAAAAAAAAAAAAAAAAAAAAAAAAAAAAAAAAAAAAAAAAAAAAAAAAAAAAAAAAAAAAAAAAAAAAAAAAAAAAAAAAAAAAAAAAAAAAAAAAAAAAAAAAAAAAAAAAAAAAAAAAAAAAAAAAAAAAAAAAAAAAAAAAAAAAAAAAAAAAAAAAAAAAAAAAAAAAAAAAAAAAAAAAAAAAAAAAAAAAAAAAAAAAAAAAAAAAAAAAAAAAAAAAAAAAAAAAAAAAAAAAAAAAAAAAAAAAAAAAAAAAAAAAAAAAAAAAAAAAAAAAAAAAAAAAAAAAAAAAAAAAAAAAAAAAAAAAAAAAAAAAAAAAAAAAAAAAAAAAAAAAAAAAAAAAAAAAAAAAAAAAAAAAAAAAAAAAAAAAAAAAAAAAAAAAAAAAAAAAAAAAAAAAAAAAAAAAAAAAAAAAAAAAAAAAAAAAAAAAAAAAAAAAAAAAAAAAAAAAAAAAAAAAAAAAAAAAAAAAAAAAAAAAAAAAAAAAAAAAAAAAAAAAAAAAAAAAAAAAAAAAAAAAAAAAAAAAAAAAAAAAAAAAAAAAAAAAAAAAAAAAAAAAAAAAAAAAAAAAAAAAAAAAAAAAAAAAAAAAAAAAAAAAAAAAAAAAAAAAAAAAAAAAAAAAAAAAAAAAAAAAAAAAAAAAAAAAAAAAAAAAAAAAAAAAAAAAAAAAAAAAAAAAAAAAAAAAAAAAAAAAAAAAAAAAAAAAAAAAAAAAAAAAAAAAAAAAAAAAAAAAAAAAAAAAAAAAAAAAAAAAAAAAAAAAAAAAAAAAAAAAAAAAAAAAAAAAAAAAAAAAAAAAAAAAAAAAAAAAAAAAAAAAAAAAAAAAAAAAAAAAAAAAAAAAAAAAAAAAAAAAAAAAAAAAAAAAAAAAAAAAAAAAAAAAAAAAAAAAAAAAAAAAAAAAAAAAAAAAAAAAAAAAAAAAAAAAAAAAAAAAAAAAAAAAAAAAAAAAAAAAAAAAAAAAAAAAAAAAAAAAAAAAAAAAAAAAAAAAAAAAAAAAAAAAAAAAAAAAAAAAAAAAAAAAAAAAAAAAAAAAAAAAAAAAAAAAAAAAAAAAAAAAAAAAAAAAAAAAAAAAAAAAAAAAAAAAAAAAAAAAAAAAAAAAAAAAAAAAAAAAAAAAAAAAAAAAAAAAAAAAAAAAAAAAAAAAAAAAAAAAAAAAAAAAAAAAAAAAAAAAAAAAAAAAAAAAAAAAAAAAAAAAAAAAAAAAAAAAAAAAAAAAAAAAAAAAAAAAAAAAAAAAAAAAAAAAAAAAAAAAAAAAAAAAAAAAAAAAAAAAAAAAAAAAAAAAAAAAAAAAAAAAAAAAAAAAAAAAAAAAAAAAAAAAAAAAAAAAAAAAAAAAAAAAAAAAAAAAAAAAAAAAAAAAAAAAAAAAAAAAAAAAAAAAAAAAAAAAAAAAAAAAAAAAAAAAAAAAAAAAAAAAAAAAAAAAAAAAAAAAAAAAAAAAAAAAAAAAAAAAAAAAAAAAAAAAAAAAAAAAAAAAAAAAAAAAAAAAAAAAAAAAAAAAAAAAAAAAAAAAAAAAAAAAAAAAAAAAAAAAAAAAAAAAAAAAAAAAAAAAAAAAAAAAAAAAAAAAAAAAAAAAAAAAAAAAAAAAAAAAAAAAAAAAAAAAAAAAAAAAAAAAAAAAAAAAAAAAAAAAAAAAAAAAAAAAAAAAAAAAAAAAAAAAAAAAAAAAAAAAAAAAAAAAAAAAAAAAAAAAAAAAAAAAAAAAAAAAAAAAAAAAAAAAAAAAAAAAAAAAAAAAAAAAAAAAAAAAAAAAAAAAAAAAAAAAAAAAAAAAAAAAAAAAAAAAAAAAAAAAAAAAAAAAAAAAAAAAAAAAAAAAAAAAAAAAAAAAAAAAAAAAAAAAAAAAAAAAAAAAAAAAAAAAAAAAAAAAAAAAAAAAAAAAAAAAAAAAAAAAAAAAAAAAAAAAAAAAAAAAAAAAAAAAAAAAAAAAAAAAAAAAAAAAAAAAAAAAAAAAAAAAAAAAAAAAAAAAAAAAAAAAAAAAAAAAAAAAAAAAAAAAAAAAAAAAAAAAAAAAAAAAAAAAAAAAAAAAAAAAAAAAAAAAAAAAAAAAAAAAAAAAAAAAAAAAAAAAAAAAAAAAAAAAAAAAAAAAAAAAAAAAAAAAAAAAAAAAAAAAAAAAAAAAAAAAAAAAAAAAAAAAAAAAAAAAAAAAAAAAAAAAAAAAAAAAAAAAAAAAAAAAAAAAAAAAAAAAAAAAAAAAAAAAAAAAAAAAAAAAAAAAAAAAAAAAAAAAAAAAAAAAAAAAAAAAAAAAAAAAAAAAAAAAAAAAAAAAAAAAAAAAAAAAAAAAAAAAAAAAAAAAAAAAAAAAAAAAAAAAAAAAAAAAAAAAAAAAAAAAAAAAAAAAAAAAAAAAAAAAAAAAAAAAAAAAAAAAAAAAAAAAAAAAAAAAAAAAAAAAAAAAAAAAAAAAAAAAAAAAAAAAAAAAAAAAAAAAAAAAAAAAAAAAAAAAAAAAAAAAAAAAAAAAAAAAAAAAAAAAAAAAAAAAAAAAAAAAAAAAAAAAAAAAAAAAAAAAAAAAAAAAAAAAAAAAAAAAAAAAAAAAAAAAAAAAAAAAAAAAAAAAAAAAAAAAAAAAAAAAAAAAAAAAAAAAAAAAAAAAAAAAAAAAAAAAAAAAAAAAAAAAAAAAAAAAAAAAAAAAAAAAAAAAAAAAAAAAAAAAAAAAAAAAAAAAAAAAAAAAAAAAAAAAAAAAAAAAAAAAAAAAAAAAAAAAAAAAAAAAAAAAAAAAAAAAAAAAAAAAAAAAAAAAAAAAAAAAAAAAAAAAAAAAAAAAAAAAAAAAAAAAAAAAAAAAAAAAAAAAAAAAAAAAAAAAAAAAAAAAAAAAAAAAAAAAAAAAAAAAAAAAAAAAAAAAAAAAAAAAAAAAAAAAAAAAAAAAAAAAAAAAAAAAAAAAAAAAAAAAAAAAAAAAAAAAAAAAAAAAAAAAAAAAAAAAAAAAAAAAAAAAAAAAAAAAAAAAAAAAAAAAAAAAAAAAAAAAAAAAAAAAAAAAAAAAAAAAAAAAAAAAAAAAAAAAAAAAAAAAAAAAAAAAAAAAAAAAAAAAAAAAAAAAAAAAAAAAAAAAAAAAAAAAAAAAAAAAAAAAAAAAAAAAAAAAAAAAAAAAAAAAAAAAAAAAAAAAAAAAAAAAAAAAAAAAAAAAAAAAAAAAAAAAAAAAAAAAAAAAAAAAAAAAAAAAAAAAAAAAAAAAAAAAAAAAAAAAAAAAAAAAAAAAAAAAAAAAAAAAAAAAAAAAAAAAAAAAAAAAAAAAAAAAAAAAAAAAAAAAAAAAAAAAAAAAAAAAAAAAAAAAAAAAAAAAAAAAAAAAAAAAAAAAAAAAAAAAAAAAAAAAAAAAAAAAAAAAAAAAAAAAAAAAAAAAAAAAAAAAAAAAAAAAAAAAAAAAAAAAAAAAAAAAAAAAAAAAAAAAAAAAAAAAAAAAAAAAAAAAAAAAAAAAAAAAAAAAAAAAAAAAAAAAAAAAAAAAAAAAAAAAAAAAAAAAAAAAAAAAAAAAAAAAAAAAAAAAAAAAAAAAAAAAAAAAAAAAAAAAAAAAAAAAAAAAAAAAAAAAAAAAAAAAAAAAAAAAAAAAAAAAAAAAAAAAAAAAAAAAAAAAAAAAAAAAAAAAAAAAAAAAAAAAAAAAAAAAAAAAAAAAAAAAAAAAAAAAAAAAAAAAAAAAAAAAAAAAAAAAAAAAAAAAAAAAAAAAAAAAAAAAAAAAAAAAAAAAAAAAAAAAAAAAAAAAAAAAAAAAAAAAAAAAAAAAAAAAAAAAAAAAAAAAAAAAAAAAAAAAAAAAAAAAAAAAAAAAAAAAAAAAAAAAAAAAAAAAAAAAAAAAAAAAAAAAAAAAAAAAAAAAAAAAAAAAAAAAAAAAAAAAAAAAAAAAAAAAAAAAAAAAAAAAAAAAAAAAAAAAAAAAAAAAAAAAAAAAAAAAAAAAAAAAAAAAAAAAAAAAAAAAAAAAAAAAAAAAAAAAAAAAAAAAAAAAAAAAAAAAAAAAAAAAAAAAAAAAAAAAAAAAAAAAAAAAAAAAAAAAAAAAAAAAAAAAAAAAAAAAAAAAAAAAAAAAAAAAAAAAAAAAAAAAAAAAAAAAAAAAAAAAAAAAAAAAAAAAAAAAAAAAAAAAAAAAAAAAAAAAAAAAAAAAAAAAAAAAAAAAAAAAAAAAAAAAAAAAAAAAAAAAAAAAAAAAAAAAAAAAAAAAAAAAAAAAAAAAAAAAAAAAAAAAAAAAAAAAAAAAAAAAAAAAAAAAAAAAAAAAAAAAAAAAAAAAAAAAAAAAAAAAAAAAAAAAAAAAAAAAAAAAAAAAAAAAAAAAAAAAAAAAAAAAAAAAAAAAAAAAAAAAAAAAAAAAAAAAAAAAAAAAAAAAAAAAAAAAAAAAAAAAAAAAAAAAAAAAAAAAAAAAAAAAAAAAAAAAAAAAAAAAAAAAAAAAAAAAAAAAAAAAAAAAAAAAAAAAAAAAAAAAAAAAAAAAAAAAAAAAAAAAAAAAAAAAAAAAAAAAAAAAAAAAAAAAAAAAAAAAAAAAAAAAAAAAAAAAAAAAAAAAAAAAAAAAAAAAAAAAAAAAAAAAAAAAAAAAAAAAAAAAAAAAAAAAAAAAAAAAAAAAAAAAAAAAAAAAAAAAAAAAAAAAAAAAAAAAAAAAAAAAAAAAAAAAAAAAAAAAAAAAAAAAAAAAAAAAAAAAAAAAAAAAAAAAAAAAAAAAAAAAAAAAAAAAAAAAAAAAAAAAAAAAAAAAAAAAAAAAAAAAAAAAAAAAAAAAAAAAAAAAAAAAAAAAAAAAAAAAAAAAAAAAAAAAAAAAAAAAAAAAAAAAAAAAAAAAAAAAAAAAAAAAAAAAAAAAAAAAAAAAAAAAAAAAAAAAAAAAAAAAA=\" type=\"audio/wav\" />\n",
              "                    Your browser does not support the audio element.\n",
              "                </audio>\n",
              "              "
            ]
          },
          "metadata": {},
          "execution_count": 27
        }
      ],
      "source": [
        "import IPython.display as ipd\n",
        "import numpy as np\n",
        "import random\n",
        "\n",
        "rand_int = random.randint(0, len(common_voice_train)-1)\n",
        "\n",
        "ipd.Audio(data=common_voice_train[rand_int][\"audio\"][\"array\"], autoplay=True, rate=16000)"
      ]
    },
    {
      "cell_type": "code",
      "execution_count": 28,
      "metadata": {
        "colab": {
          "base_uri": "https://localhost:8080/"
        },
        "id": "JH7Qfc1X2IBu",
        "outputId": "2ee94d73-86e6-42df-8d90-88c153a11415"
      },
      "outputs": [
        {
          "output_type": "stream",
          "name": "stdout",
          "text": [
            "Target text: اليابان هي جزء آسيا الشرقي \n",
            "Input array shape: (63360,)\n",
            "Sampling rate: 16000\n"
          ]
        }
      ],
      "source": [
        "rand_int = random.randint(0, len(common_voice_train)-1)\n",
        "\n",
        "print(\"Target text:\", common_voice_train[rand_int][\"sentence\"])\n",
        "print(\"Input array shape:\", common_voice_train[rand_int][\"audio\"][\"array\"].shape)\n",
        "print(\"Sampling rate:\", common_voice_train[rand_int][\"audio\"][\"sampling_rate\"])"
      ]
    },
    {
      "cell_type": "code",
      "execution_count": 29,
      "metadata": {
        "id": "4WHw94Tj2H-v"
      },
      "outputs": [],
      "source": [
        "def prepare_dataset(batch):\n",
        "    audio = batch[\"audio\"]\n",
        "\n",
        "    # batched output is \"un-batched\"\n",
        "    batch[\"input_values\"] = processor(audio[\"array\"], sampling_rate=audio[\"sampling_rate\"]).input_values[0]\n",
        "\n",
        "    with processor.as_target_processor():\n",
        "        batch[\"labels\"] = processor(batch[\"sentence\"]).input_ids\n",
        "    return batch"
      ]
    },
    {
      "cell_type": "code",
      "execution_count": 30,
      "metadata": {
        "id": "p2rSKnS32H7v",
        "colab": {
          "base_uri": "https://localhost:8080/",
          "height": 387,
          "referenced_widgets": [
            "f1e218474dd14326ac8eafb99efe18aa",
            "5b0cd8395d154b3292dea9b843163d0b",
            "ca9cf22c22804aad87117f9565298637",
            "ca28e4e527e545bf9306c5d0d712f42f",
            "b73a018d6eff40db86cc79bcd24c27ab",
            "ecff14571d3f41d2bb3ed2e4686ea0cb",
            "29c6029a15914caaabcee75f79d5f4b5",
            "8ad377b57c8a4109a95c8ef9456c50f3",
            "626e826fe3734a0385c5d3b8888c1ca9",
            "3492beea563642be9a7ce257f656aecc",
            "db72f58bbb184e898bbc037d7ac1247e",
            "1b2567713759479cb47e35f2cec3ca6f",
            "0588863782a04833a96ea40c04512112",
            "ec20287441b541b99f66ead33f324576",
            "166a06cbb8444bfb98655cc41be88172",
            "eaf61cdbe65d40aa89a9f76cb3d38692",
            "2e0852917259469f9863db5019c3ad19",
            "34049c2f74cf4163a5b4ec8f1752089a",
            "7b91d620026c45cfbd89d5166202c92f",
            "b707775d35494e619355a4bd0ab10db8",
            "41587a64e3b24e5d812d689923b4e5a5",
            "c4fadcbd31c24a4193e021f8b48c55da"
          ]
        },
        "outputId": "5ba62f4d-aa8d-4f1d-8dec-75e9a6ae3f84"
      },
      "outputs": [
        {
          "output_type": "display_data",
          "data": {
            "text/plain": [
              "Map (num_proc=4):   0%|          | 0/21744 [00:00<?, ? examples/s]"
            ],
            "application/vnd.jupyter.widget-view+json": {
              "version_major": 2,
              "version_minor": 0,
              "model_id": "f1e218474dd14326ac8eafb99efe18aa"
            }
          },
          "metadata": {}
        },
        {
          "output_type": "stream",
          "name": "stderr",
          "text": [
            "/usr/local/lib/python3.10/dist-packages/transformers/models/wav2vec2/processing_wav2vec2.py:155: UserWarning: `as_target_processor` is deprecated and will be removed in v5 of Transformers. You can process your labels by using the argument `text` of the regular `__call__` method (either in the same call as your audio inputs, or in a separate call.\n",
            "  warnings.warn(\n",
            "/usr/local/lib/python3.10/dist-packages/transformers/models/wav2vec2/processing_wav2vec2.py:155: UserWarning: `as_target_processor` is deprecated and will be removed in v5 of Transformers. You can process your labels by using the argument `text` of the regular `__call__` method (either in the same call as your audio inputs, or in a separate call.\n",
            "  warnings.warn(\n",
            "/usr/local/lib/python3.10/dist-packages/transformers/models/wav2vec2/processing_wav2vec2.py:155: UserWarning: `as_target_processor` is deprecated and will be removed in v5 of Transformers. You can process your labels by using the argument `text` of the regular `__call__` method (either in the same call as your audio inputs, or in a separate call.\n",
            "  warnings.warn(\n",
            "/usr/local/lib/python3.10/dist-packages/transformers/models/wav2vec2/processing_wav2vec2.py:155: UserWarning: `as_target_processor` is deprecated and will be removed in v5 of Transformers. You can process your labels by using the argument `text` of the regular `__call__` method (either in the same call as your audio inputs, or in a separate call.\n",
            "  warnings.warn(\n"
          ]
        },
        {
          "output_type": "display_data",
          "data": {
            "text/plain": [
              "Map (num_proc=4):   0%|          | 0/7622 [00:00<?, ? examples/s]"
            ],
            "application/vnd.jupyter.widget-view+json": {
              "version_major": 2,
              "version_minor": 0,
              "model_id": "1b2567713759479cb47e35f2cec3ca6f"
            }
          },
          "metadata": {}
        },
        {
          "output_type": "stream",
          "name": "stderr",
          "text": [
            "/usr/local/lib/python3.10/dist-packages/transformers/models/wav2vec2/processing_wav2vec2.py:155: UserWarning: `as_target_processor` is deprecated and will be removed in v5 of Transformers. You can process your labels by using the argument `text` of the regular `__call__` method (either in the same call as your audio inputs, or in a separate call.\n",
            "  warnings.warn(\n",
            "/usr/local/lib/python3.10/dist-packages/transformers/models/wav2vec2/processing_wav2vec2.py:155: UserWarning: `as_target_processor` is deprecated and will be removed in v5 of Transformers. You can process your labels by using the argument `text` of the regular `__call__` method (either in the same call as your audio inputs, or in a separate call.\n",
            "  warnings.warn(\n",
            "/usr/local/lib/python3.10/dist-packages/transformers/models/wav2vec2/processing_wav2vec2.py:155: UserWarning: `as_target_processor` is deprecated and will be removed in v5 of Transformers. You can process your labels by using the argument `text` of the regular `__call__` method (either in the same call as your audio inputs, or in a separate call.\n",
            "  warnings.warn(\n",
            "/usr/local/lib/python3.10/dist-packages/transformers/models/wav2vec2/processing_wav2vec2.py:155: UserWarning: `as_target_processor` is deprecated and will be removed in v5 of Transformers. You can process your labels by using the argument `text` of the regular `__call__` method (either in the same call as your audio inputs, or in a separate call.\n",
            "  warnings.warn(\n"
          ]
        }
      ],
      "source": [
        "common_voice_train = common_voice_train.map(prepare_dataset, remove_columns=common_voice_train.column_names, num_proc=4)\n",
        "common_voice_test = common_voice_test.map(prepare_dataset, remove_columns=common_voice_test.column_names, num_proc=4)"
      ]
    },
    {
      "cell_type": "code",
      "execution_count": 31,
      "metadata": {
        "id": "7zpxWwxS2H5H"
      },
      "outputs": [],
      "source": [
        "import torch\n",
        "\n",
        "from dataclasses import dataclass, field\n",
        "from typing import Any, Dict, List, Optional, Union\n",
        "\n",
        "@dataclass\n",
        "class DataCollatorCTCWithPadding:\n",
        "    \"\"\"\n",
        "    Data collator that will dynamically pad the inputs received.\n",
        "    Args:\n",
        "        processor (:class:`~transformers.Wav2Vec2Processor`)\n",
        "            The processor used for proccessing the data.\n",
        "        padding (:obj:`bool`, :obj:`str` or :class:`~transformers.tokenization_utils_base.PaddingStrategy`, `optional`, defaults to :obj:`True`):\n",
        "            Select a strategy to pad the returned sequences (according to the model's padding side and padding index)\n",
        "            among:\n",
        "            * :obj:`True` or :obj:`'longest'`: Pad to the longest sequence in the batch (or no padding if only a single\n",
        "              sequence if provided).\n",
        "            * :obj:`'max_length'`: Pad to a maximum length specified with the argument :obj:`max_length` or to the\n",
        "              maximum acceptable input length for the model if that argument is not provided.\n",
        "            * :obj:`False` or :obj:`'do_not_pad'` (default): No padding (i.e., can output a batch with sequences of\n",
        "              different lengths).\n",
        "        max_length (:obj:`int`, `optional`):\n",
        "            Maximum length of the ``input_values`` of the returned list and optionally padding length (see above).\n",
        "        max_length_labels (:obj:`int`, `optional`):\n",
        "            Maximum length of the ``labels`` returned list and optionally padding length (see above).\n",
        "        pad_to_multiple_of (:obj:`int`, `optional`):\n",
        "            If set will pad the sequence to a multiple of the provided value.\n",
        "            This is especially useful to enable the use of Tensor Cores on NVIDIA hardware with compute capability >=\n",
        "            7.5 (Volta).\n",
        "    \"\"\"\n",
        "\n",
        "    processor: Wav2Vec2Processor\n",
        "    padding: Union[bool, str] = True\n",
        "    max_length: Optional[int] = None\n",
        "    max_length_labels: Optional[int] = None\n",
        "    pad_to_multiple_of: Optional[int] = None\n",
        "    pad_to_multiple_of_labels: Optional[int] = None\n",
        "\n",
        "    def __call__(self, features: List[Dict[str, Union[List[int], torch.Tensor]]]) -> Dict[str, torch.Tensor]:\n",
        "        # split inputs and labels since they have to be of different lenghts and need\n",
        "        # different padding methods\n",
        "        input_features = [{\"input_values\": feature[\"input_values\"]} for feature in features]\n",
        "        label_features = [{\"input_ids\": feature[\"labels\"]} for feature in features]\n",
        "\n",
        "        batch = self.processor.pad(\n",
        "            input_features,\n",
        "            padding=self.padding,\n",
        "            max_length=self.max_length,\n",
        "            pad_to_multiple_of=self.pad_to_multiple_of,\n",
        "            return_tensors=\"pt\",\n",
        "        )\n",
        "        with self.processor.as_target_processor():\n",
        "            labels_batch = self.processor.pad(\n",
        "                label_features,\n",
        "                padding=self.padding,\n",
        "                max_length=self.max_length_labels,\n",
        "                pad_to_multiple_of=self.pad_to_multiple_of_labels,\n",
        "                return_tensors=\"pt\",\n",
        "            )\n",
        "\n",
        "        # replace padding with -100 to ignore loss correctly\n",
        "        labels = labels_batch[\"input_ids\"].masked_fill(labels_batch.attention_mask.ne(1), -100)\n",
        "\n",
        "        batch[\"labels\"] = labels\n",
        "\n",
        "        return batch"
      ]
    },
    {
      "cell_type": "code",
      "execution_count": 32,
      "metadata": {
        "id": "S12e7PQ-2H2W"
      },
      "outputs": [],
      "source": [
        "data_collator = DataCollatorCTCWithPadding(processor=processor, padding=True)"
      ]
    },
    {
      "cell_type": "code",
      "execution_count": 33,
      "metadata": {
        "id": "j2S5sNZc2HzU",
        "colab": {
          "base_uri": "https://localhost:8080/"
        },
        "outputId": "c99fe14b-1382-44b2-9bb7-96bdaea8b725"
      },
      "outputs": [
        {
          "output_type": "stream",
          "name": "stderr",
          "text": [
            "<ipython-input-33-605de035dfd7>:1: FutureWarning: load_metric is deprecated and will be removed in the next major version of datasets. Use 'evaluate.load' instead, from the new library 🤗 Evaluate: https://huggingface.co/docs/evaluate\n",
            "  wer_metric = load_metric(\"wer\")\n"
          ]
        }
      ],
      "source": [
        "wer_metric = load_metric(\"wer\")"
      ]
    },
    {
      "cell_type": "code",
      "execution_count": 34,
      "metadata": {
        "id": "8sKU4uOb2Hvf"
      },
      "outputs": [],
      "source": [
        "def compute_metrics(pred):\n",
        "    pred_logits = pred.predictions\n",
        "    pred_ids = np.argmax(pred_logits, axis=-1)\n",
        "\n",
        "    pred.label_ids[pred.label_ids == -100] = processor.tokenizer.pad_token_id\n",
        "\n",
        "    pred_str = processor.batch_decode(pred_ids)\n",
        "    # we do not want to group tokens when computing the metrics\n",
        "    label_str = processor.batch_decode(pred.label_ids, group_tokens=False)\n",
        "\n",
        "    wer = wer_metric.compute(predictions=pred_str, references=label_str)\n",
        "\n",
        "    return {\"wer\": wer}"
      ]
    },
    {
      "cell_type": "code",
      "execution_count": 35,
      "metadata": {
        "id": "fylCr52WDPya",
        "colab": {
          "base_uri": "https://localhost:8080/"
        },
        "outputId": "982fb52c-1ddc-4a7d-df2e-47aea586c9ce"
      },
      "outputs": [
        {
          "output_type": "stream",
          "name": "stderr",
          "text": [
            "Some weights of Wav2Vec2ForCTC were not initialized from the model checkpoint at facebook/wav2vec2-large-xlsr-53 and are newly initialized: ['lm_head.weight', 'lm_head.bias']\n",
            "You should probably TRAIN this model on a down-stream task to be able to use it for predictions and inference.\n"
          ]
        }
      ],
      "source": [
        "from transformers import Wav2Vec2ForCTC\n",
        "\n",
        "model = Wav2Vec2ForCTC.from_pretrained(\n",
        "    \"facebook/wav2vec2-large-xlsr-53\",\n",
        "    attention_dropout=0.1,\n",
        "    hidden_dropout=0.1,\n",
        "    feat_proj_dropout=0.0,\n",
        "    mask_time_prob=0.05,\n",
        "    layerdrop=0.1,\n",
        "    ctc_loss_reduction=\"mean\",\n",
        "    pad_token_id=processor.tokenizer.pad_token_id,\n",
        "    vocab_size=len(processor.tokenizer)\n",
        ")"
      ]
    },
    {
      "cell_type": "code",
      "execution_count": 36,
      "metadata": {
        "id": "ARGQAmSLDPrJ",
        "colab": {
          "base_uri": "https://localhost:8080/"
        },
        "outputId": "d13d5854-4184-4f72-bbc2-f0e084b50760"
      },
      "outputs": [
        {
          "output_type": "stream",
          "name": "stderr",
          "text": [
            "/usr/local/lib/python3.10/dist-packages/transformers/models/wav2vec2/modeling_wav2vec2.py:1914: FutureWarning: The method `freeze_feature_extractor` is deprecated and will be removed in Transformers v5.Please use the equivalent `freeze_feature_encoder` method instead.\n",
            "  warnings.warn(\n"
          ]
        }
      ],
      "source": [
        "model.freeze_feature_extractor()"
      ]
    },
    {
      "cell_type": "code",
      "execution_count": 37,
      "metadata": {
        "id": "hVJJRz3mDPnP"
      },
      "outputs": [],
      "source": [
        "model.gradient_checkpointing_enable()"
      ]
    },
    {
      "cell_type": "code",
      "execution_count": 38,
      "metadata": {
        "id": "Cg9yvVlED2xx"
      },
      "outputs": [],
      "source": [
        "#!pip3 install transformers[torch]"
      ]
    },
    {
      "cell_type": "code",
      "execution_count": 39,
      "metadata": {
        "id": "gRtaqdywEvIg"
      },
      "outputs": [],
      "source": [
        "#!pip3 install accelerate>=0.20.1 -U"
      ]
    },
    {
      "cell_type": "code",
      "execution_count": 40,
      "metadata": {
        "id": "ogIHLOEwr84Z",
        "colab": {
          "base_uri": "https://localhost:8080/"
        },
        "outputId": "34bbab88-ff2c-4762-e803-b36e589ed0e0"
      },
      "outputs": [
        {
          "output_type": "stream",
          "name": "stdout",
          "text": [
            "Collecting git+https://github.com/huggingface/accelerate\n",
            "  Cloning https://github.com/huggingface/accelerate to /tmp/pip-req-build-g_apmkc6\n",
            "  Running command git clone --filter=blob:none --quiet https://github.com/huggingface/accelerate /tmp/pip-req-build-g_apmkc6\n",
            "  Resolved https://github.com/huggingface/accelerate to commit 0b36ca6e64245b123e9455521c1bd985f4b72679\n",
            "  Installing build dependencies ... \u001b[?25l\u001b[?25hdone\n",
            "  Getting requirements to build wheel ... \u001b[?25l\u001b[?25hdone\n",
            "  Preparing metadata (pyproject.toml) ... \u001b[?25l\u001b[?25hdone\n",
            "Requirement already satisfied: numpy>=1.17 in /usr/local/lib/python3.10/dist-packages (from accelerate==0.22.0.dev0) (1.22.4)\n",
            "Requirement already satisfied: packaging>=20.0 in /usr/local/lib/python3.10/dist-packages (from accelerate==0.22.0.dev0) (23.1)\n",
            "Requirement already satisfied: psutil in /usr/local/lib/python3.10/dist-packages (from accelerate==0.22.0.dev0) (5.9.5)\n",
            "Requirement already satisfied: pyyaml in /usr/local/lib/python3.10/dist-packages (from accelerate==0.22.0.dev0) (6.0.1)\n",
            "Requirement already satisfied: torch>=1.10.0 in /usr/local/lib/python3.10/dist-packages (from accelerate==0.22.0.dev0) (2.0.1+cu118)\n",
            "Requirement already satisfied: filelock in /usr/local/lib/python3.10/dist-packages (from torch>=1.10.0->accelerate==0.22.0.dev0) (3.12.2)\n",
            "Requirement already satisfied: typing-extensions in /usr/local/lib/python3.10/dist-packages (from torch>=1.10.0->accelerate==0.22.0.dev0) (4.7.1)\n",
            "Requirement already satisfied: sympy in /usr/local/lib/python3.10/dist-packages (from torch>=1.10.0->accelerate==0.22.0.dev0) (1.11.1)\n",
            "Requirement already satisfied: networkx in /usr/local/lib/python3.10/dist-packages (from torch>=1.10.0->accelerate==0.22.0.dev0) (3.1)\n",
            "Requirement already satisfied: jinja2 in /usr/local/lib/python3.10/dist-packages (from torch>=1.10.0->accelerate==0.22.0.dev0) (3.1.2)\n",
            "Requirement already satisfied: triton==2.0.0 in /usr/local/lib/python3.10/dist-packages (from torch>=1.10.0->accelerate==0.22.0.dev0) (2.0.0)\n",
            "Requirement already satisfied: cmake in /usr/local/lib/python3.10/dist-packages (from triton==2.0.0->torch>=1.10.0->accelerate==0.22.0.dev0) (3.25.2)\n",
            "Requirement already satisfied: lit in /usr/local/lib/python3.10/dist-packages (from triton==2.0.0->torch>=1.10.0->accelerate==0.22.0.dev0) (16.0.6)\n",
            "Requirement already satisfied: MarkupSafe>=2.0 in /usr/local/lib/python3.10/dist-packages (from jinja2->torch>=1.10.0->accelerate==0.22.0.dev0) (2.1.3)\n",
            "Requirement already satisfied: mpmath>=0.19 in /usr/local/lib/python3.10/dist-packages (from sympy->torch>=1.10.0->accelerate==0.22.0.dev0) (1.3.0)\n"
          ]
        }
      ],
      "source": [
        "!pip3 install git+https://github.com/huggingface/accelerate"
      ]
    },
    {
      "cell_type": "code",
      "execution_count": 41,
      "metadata": {
        "id": "FFoFpiF4KcC9"
      },
      "outputs": [],
      "source": [
        "import torch\n",
        "from transformers import TrainingArguments"
      ]
    },
    {
      "cell_type": "code",
      "execution_count": 41,
      "metadata": {
        "id": "qPJ4VQ7Zr37n"
      },
      "outputs": [],
      "source": []
    },
    {
      "cell_type": "code",
      "execution_count": 42,
      "metadata": {
        "id": "3W9aVWtLDPjF"
      },
      "outputs": [],
      "source": [
        "training_args = TrainingArguments(\n",
        "  output_dir=\"/content/gdrive/MyDrive/wav2vec2-large-xlsr-arabic-demo\",\n",
        "  group_by_length=True,\n",
        "  per_device_train_batch_size=16,\n",
        "  gradient_accumulation_steps=2,\n",
        "  evaluation_strategy=\"steps\",\n",
        "  num_train_epochs=30,\n",
        "  save_steps=100,\n",
        "  eval_steps=100,\n",
        "  logging_steps=10,\n",
        "  learning_rate=3e-4,\n",
        "  warmup_steps=500,\n",
        "  save_total_limit=2,\n",
        ")"
      ]
    },
    {
      "cell_type": "code",
      "execution_count": 43,
      "metadata": {
        "id": "pLEveaqoDPau"
      },
      "outputs": [],
      "source": [
        "from transformers import Trainer\n",
        "\n",
        "trainer = Trainer(\n",
        "    model=model,\n",
        "    data_collator=data_collator,\n",
        "    args=training_args,\n",
        "    compute_metrics=compute_metrics,\n",
        "    train_dataset=common_voice_train,\n",
        "    eval_dataset=common_voice_test,\n",
        "    tokenizer=processor.feature_extractor,\n",
        ")"
      ]
    },
    {
      "cell_type": "code",
      "execution_count": 44,
      "metadata": {
        "id": "wM3KluDtWGoz",
        "colab": {
          "base_uri": "https://localhost:8080/",
          "height": 870
        },
        "outputId": "d7a231b8-f90d-4611-877c-bb7358acbb64"
      },
      "outputs": [
        {
          "metadata": {
            "tags": null
          },
          "name": "stderr",
          "output_type": "stream",
          "text": [
            "/usr/local/lib/python3.10/dist-packages/transformers/optimization.py:411: FutureWarning: This implementation of AdamW is deprecated and will be removed in a future version. Use the PyTorch implementation torch.optim.AdamW instead, or set `no_deprecation_warning=True` to disable this warning\n",
            "  warnings.warn(\n",
            "/usr/local/lib/python3.10/dist-packages/transformers/models/wav2vec2/processing_wav2vec2.py:155: UserWarning: `as_target_processor` is deprecated and will be removed in v5 of Transformers. You can process your labels by using the argument `text` of the regular `__call__` method (either in the same call as your audio inputs, or in a separate call.\n",
            "  warnings.warn(\n"
          ]
        },
        {
          "data": {
            "text/html": [
              "\n",
              "    <div>\n",
              "      \n",
              "      <progress value='352' max='20370' style='width:300px; height:20px; vertical-align: middle;'></progress>\n",
              "      [  352/20370 1:18:56 < 75:15:22, 0.07 it/s, Epoch 0.52/30]\n",
              "    </div>\n",
              "    <table border=\"1\" class=\"dataframe\">\n",
              "  <thead>\n",
              " <tr style=\"text-align: left;\">\n",
              "      <th>Step</th>\n",
              "      <th>Training Loss</th>\n",
              "      <th>Validation Loss</th>\n",
              "      <th>Wer</th>\n",
              "    </tr>\n",
              "  </thead>\n",
              "  <tbody>\n",
              "    <tr>\n",
              "      <td>100</td>\n",
              "      <td>7.641000</td>\n",
              "      <td>5.696074</td>\n",
              "      <td>1.000000</td>\n",
              "    </tr>\n",
              "    <tr>\n",
              "      <td>200</td>\n",
              "      <td>3.484400</td>\n",
              "      <td>3.419553</td>\n",
              "      <td>1.000000</td>\n",
              "    </tr>\n",
              "    <tr>\n",
              "      <td>300</td>\n",
              "      <td>3.428800</td>\n",
              "      <td>3.395977</td>\n",
              "      <td>1.000000</td>\n",
              "    </tr>\n",
              "  </tbody>\n",
              "</table><p>"
            ],
            "text/plain": [
              "<IPython.core.display.HTML object>"
            ]
          },
          "metadata": {},
          "output_type": "display_data"
        },
        {
          "metadata": {
            "tags": null
          },
          "name": "stderr",
          "output_type": "stream",
          "text": [
            "/usr/local/lib/python3.10/dist-packages/transformers/models/wav2vec2/processing_wav2vec2.py:155: UserWarning: `as_target_processor` is deprecated and will be removed in v5 of Transformers. You can process your labels by using the argument `text` of the regular `__call__` method (either in the same call as your audio inputs, or in a separate call.\n",
            "  warnings.warn(\n",
            "/usr/local/lib/python3.10/dist-packages/transformers/models/wav2vec2/processing_wav2vec2.py:155: UserWarning: `as_target_processor` is deprecated and will be removed in v5 of Transformers. You can process your labels by using the argument `text` of the regular `__call__` method (either in the same call as your audio inputs, or in a separate call.\n",
            "  warnings.warn(\n",
            "/usr/local/lib/python3.10/dist-packages/transformers/models/wav2vec2/processing_wav2vec2.py:155: UserWarning: `as_target_processor` is deprecated and will be removed in v5 of Transformers. You can process your labels by using the argument `text` of the regular `__call__` method (either in the same call as your audio inputs, or in a separate call.\n",
            "  warnings.warn(\n"
          ]
        },
        {
          "output_type": "display_data",
          "data": {
            "text/plain": [
              "<IPython.core.display.HTML object>"
            ],
            "text/html": [
              "\n",
              "    <div>\n",
              "      \n",
              "      <progress value='401' max='20370' style='width:300px; height:20px; vertical-align: middle;'></progress>\n",
              "      [  401/20370 1:23:49 < 69:55:34, 0.08 it/s, Epoch 0.59/30]\n",
              "    </div>\n",
              "    <table border=\"1\" class=\"dataframe\">\n",
              "  <thead>\n",
              " <tr style=\"text-align: left;\">\n",
              "      <th>Step</th>\n",
              "      <th>Training Loss</th>\n",
              "      <th>Validation Loss</th>\n",
              "      <th>Wer</th>\n",
              "    </tr>\n",
              "  </thead>\n",
              "  <tbody>\n",
              "    <tr>\n",
              "      <td>100</td>\n",
              "      <td>7.641000</td>\n",
              "      <td>5.696074</td>\n",
              "      <td>1.000000</td>\n",
              "    </tr>\n",
              "    <tr>\n",
              "      <td>200</td>\n",
              "      <td>3.484400</td>\n",
              "      <td>3.419553</td>\n",
              "      <td>1.000000</td>\n",
              "    </tr>\n",
              "    <tr>\n",
              "      <td>300</td>\n",
              "      <td>3.428800</td>\n",
              "      <td>3.395977</td>\n",
              "      <td>1.000000</td>\n",
              "    </tr>\n",
              "    <tr>\n",
              "      <td>400</td>\n",
              "      <td>3.439100</td>\n",
              "      <td>3.345433</td>\n",
              "      <td>1.000000</td>\n",
              "    </tr>\n",
              "  </tbody>\n",
              "</table><p>"
            ]
          },
          "metadata": {}
        },
        {
          "output_type": "error",
          "ename": "KeyboardInterrupt",
          "evalue": "ignored",
          "traceback": [
            "\u001b[0;31m---------------------------------------------------------------------------\u001b[0m",
            "\u001b[0;31mKeyboardInterrupt\u001b[0m                         Traceback (most recent call last)",
            "\u001b[0;32m<ipython-input-44-3435b262f1ae>\u001b[0m in \u001b[0;36m<cell line: 1>\u001b[0;34m()\u001b[0m\n\u001b[0;32m----> 1\u001b[0;31m \u001b[0mtrainer\u001b[0m\u001b[0;34m.\u001b[0m\u001b[0mtrain\u001b[0m\u001b[0;34m(\u001b[0m\u001b[0;34m)\u001b[0m\u001b[0;34m\u001b[0m\u001b[0;34m\u001b[0m\u001b[0m\n\u001b[0m",
            "\u001b[0;32m/usr/local/lib/python3.10/dist-packages/transformers/trainer.py\u001b[0m in \u001b[0;36mtrain\u001b[0;34m(self, resume_from_checkpoint, trial, ignore_keys_for_eval, **kwargs)\u001b[0m\n\u001b[1;32m   1530\u001b[0m             \u001b[0mself\u001b[0m\u001b[0;34m.\u001b[0m\u001b[0m_inner_training_loop\u001b[0m\u001b[0;34m,\u001b[0m \u001b[0mself\u001b[0m\u001b[0;34m.\u001b[0m\u001b[0m_train_batch_size\u001b[0m\u001b[0;34m,\u001b[0m \u001b[0margs\u001b[0m\u001b[0;34m.\u001b[0m\u001b[0mauto_find_batch_size\u001b[0m\u001b[0;34m\u001b[0m\u001b[0;34m\u001b[0m\u001b[0m\n\u001b[1;32m   1531\u001b[0m         )\n\u001b[0;32m-> 1532\u001b[0;31m         return inner_training_loop(\n\u001b[0m\u001b[1;32m   1533\u001b[0m             \u001b[0margs\u001b[0m\u001b[0;34m=\u001b[0m\u001b[0margs\u001b[0m\u001b[0;34m,\u001b[0m\u001b[0;34m\u001b[0m\u001b[0;34m\u001b[0m\u001b[0m\n\u001b[1;32m   1534\u001b[0m             \u001b[0mresume_from_checkpoint\u001b[0m\u001b[0;34m=\u001b[0m\u001b[0mresume_from_checkpoint\u001b[0m\u001b[0;34m,\u001b[0m\u001b[0;34m\u001b[0m\u001b[0;34m\u001b[0m\u001b[0m\n",
            "\u001b[0;32m/usr/local/lib/python3.10/dist-packages/transformers/trainer.py\u001b[0m in \u001b[0;36m_inner_training_loop\u001b[0;34m(self, batch_size, args, resume_from_checkpoint, trial, ignore_keys_for_eval)\u001b[0m\n\u001b[1;32m   1895\u001b[0m                     \u001b[0mself\u001b[0m\u001b[0;34m.\u001b[0m\u001b[0mcontrol\u001b[0m \u001b[0;34m=\u001b[0m \u001b[0mself\u001b[0m\u001b[0;34m.\u001b[0m\u001b[0mcallback_handler\u001b[0m\u001b[0;34m.\u001b[0m\u001b[0mon_step_end\u001b[0m\u001b[0;34m(\u001b[0m\u001b[0margs\u001b[0m\u001b[0;34m,\u001b[0m \u001b[0mself\u001b[0m\u001b[0;34m.\u001b[0m\u001b[0mstate\u001b[0m\u001b[0;34m,\u001b[0m \u001b[0mself\u001b[0m\u001b[0;34m.\u001b[0m\u001b[0mcontrol\u001b[0m\u001b[0;34m)\u001b[0m\u001b[0;34m\u001b[0m\u001b[0;34m\u001b[0m\u001b[0m\n\u001b[1;32m   1896\u001b[0m \u001b[0;34m\u001b[0m\u001b[0m\n\u001b[0;32m-> 1897\u001b[0;31m                     \u001b[0mself\u001b[0m\u001b[0;34m.\u001b[0m\u001b[0m_maybe_log_save_evaluate\u001b[0m\u001b[0;34m(\u001b[0m\u001b[0mtr_loss\u001b[0m\u001b[0;34m,\u001b[0m \u001b[0mmodel\u001b[0m\u001b[0;34m,\u001b[0m \u001b[0mtrial\u001b[0m\u001b[0;34m,\u001b[0m \u001b[0mepoch\u001b[0m\u001b[0;34m,\u001b[0m \u001b[0mignore_keys_for_eval\u001b[0m\u001b[0;34m)\u001b[0m\u001b[0;34m\u001b[0m\u001b[0;34m\u001b[0m\u001b[0m\n\u001b[0m\u001b[1;32m   1898\u001b[0m                 \u001b[0;32melse\u001b[0m\u001b[0;34m:\u001b[0m\u001b[0;34m\u001b[0m\u001b[0;34m\u001b[0m\u001b[0m\n\u001b[1;32m   1899\u001b[0m                     \u001b[0mself\u001b[0m\u001b[0;34m.\u001b[0m\u001b[0mcontrol\u001b[0m \u001b[0;34m=\u001b[0m \u001b[0mself\u001b[0m\u001b[0;34m.\u001b[0m\u001b[0mcallback_handler\u001b[0m\u001b[0;34m.\u001b[0m\u001b[0mon_substep_end\u001b[0m\u001b[0;34m(\u001b[0m\u001b[0margs\u001b[0m\u001b[0;34m,\u001b[0m \u001b[0mself\u001b[0m\u001b[0;34m.\u001b[0m\u001b[0mstate\u001b[0m\u001b[0;34m,\u001b[0m \u001b[0mself\u001b[0m\u001b[0;34m.\u001b[0m\u001b[0mcontrol\u001b[0m\u001b[0;34m)\u001b[0m\u001b[0;34m\u001b[0m\u001b[0;34m\u001b[0m\u001b[0m\n",
            "\u001b[0;32m/usr/local/lib/python3.10/dist-packages/transformers/trainer.py\u001b[0m in \u001b[0;36m_maybe_log_save_evaluate\u001b[0;34m(self, tr_loss, model, trial, epoch, ignore_keys_for_eval)\u001b[0m\n\u001b[1;32m   2231\u001b[0m \u001b[0;34m\u001b[0m\u001b[0m\n\u001b[1;32m   2232\u001b[0m         \u001b[0;32mif\u001b[0m \u001b[0mself\u001b[0m\u001b[0;34m.\u001b[0m\u001b[0mcontrol\u001b[0m\u001b[0;34m.\u001b[0m\u001b[0mshould_save\u001b[0m\u001b[0;34m:\u001b[0m\u001b[0;34m\u001b[0m\u001b[0;34m\u001b[0m\u001b[0m\n\u001b[0;32m-> 2233\u001b[0;31m             \u001b[0mself\u001b[0m\u001b[0;34m.\u001b[0m\u001b[0m_save_checkpoint\u001b[0m\u001b[0;34m(\u001b[0m\u001b[0mmodel\u001b[0m\u001b[0;34m,\u001b[0m \u001b[0mtrial\u001b[0m\u001b[0;34m,\u001b[0m \u001b[0mmetrics\u001b[0m\u001b[0;34m=\u001b[0m\u001b[0mmetrics\u001b[0m\u001b[0;34m)\u001b[0m\u001b[0;34m\u001b[0m\u001b[0;34m\u001b[0m\u001b[0m\n\u001b[0m\u001b[1;32m   2234\u001b[0m             \u001b[0mself\u001b[0m\u001b[0;34m.\u001b[0m\u001b[0mcontrol\u001b[0m \u001b[0;34m=\u001b[0m \u001b[0mself\u001b[0m\u001b[0;34m.\u001b[0m\u001b[0mcallback_handler\u001b[0m\u001b[0;34m.\u001b[0m\u001b[0mon_save\u001b[0m\u001b[0;34m(\u001b[0m\u001b[0mself\u001b[0m\u001b[0;34m.\u001b[0m\u001b[0margs\u001b[0m\u001b[0;34m,\u001b[0m \u001b[0mself\u001b[0m\u001b[0;34m.\u001b[0m\u001b[0mstate\u001b[0m\u001b[0;34m,\u001b[0m \u001b[0mself\u001b[0m\u001b[0;34m.\u001b[0m\u001b[0mcontrol\u001b[0m\u001b[0;34m)\u001b[0m\u001b[0;34m\u001b[0m\u001b[0;34m\u001b[0m\u001b[0m\n\u001b[1;32m   2235\u001b[0m \u001b[0;34m\u001b[0m\u001b[0m\n",
            "\u001b[0;32m/usr/local/lib/python3.10/dist-packages/transformers/trainer.py\u001b[0m in \u001b[0;36m_save_checkpoint\u001b[0;34m(self, model, trial, metrics)\u001b[0m\n\u001b[1;32m   2334\u001b[0m         \u001b[0;32melif\u001b[0m \u001b[0mself\u001b[0m\u001b[0;34m.\u001b[0m\u001b[0margs\u001b[0m\u001b[0;34m.\u001b[0m\u001b[0mshould_save\u001b[0m \u001b[0;32mand\u001b[0m \u001b[0;32mnot\u001b[0m \u001b[0mself\u001b[0m\u001b[0;34m.\u001b[0m\u001b[0mis_deepspeed_enabled\u001b[0m \u001b[0;32mand\u001b[0m \u001b[0;32mnot\u001b[0m \u001b[0;34m(\u001b[0m\u001b[0mself\u001b[0m\u001b[0;34m.\u001b[0m\u001b[0mfsdp\u001b[0m \u001b[0;32mor\u001b[0m \u001b[0mself\u001b[0m\u001b[0;34m.\u001b[0m\u001b[0mis_fsdp_enabled\u001b[0m\u001b[0;34m)\u001b[0m\u001b[0;34m:\u001b[0m\u001b[0;34m\u001b[0m\u001b[0;34m\u001b[0m\u001b[0m\n\u001b[1;32m   2335\u001b[0m             \u001b[0;31m# deepspeed.save_checkpoint above saves model/optim/sched\u001b[0m\u001b[0;34m\u001b[0m\u001b[0;34m\u001b[0m\u001b[0m\n\u001b[0;32m-> 2336\u001b[0;31m             \u001b[0mtorch\u001b[0m\u001b[0;34m.\u001b[0m\u001b[0msave\u001b[0m\u001b[0;34m(\u001b[0m\u001b[0mself\u001b[0m\u001b[0;34m.\u001b[0m\u001b[0moptimizer\u001b[0m\u001b[0;34m.\u001b[0m\u001b[0mstate_dict\u001b[0m\u001b[0;34m(\u001b[0m\u001b[0;34m)\u001b[0m\u001b[0;34m,\u001b[0m \u001b[0mos\u001b[0m\u001b[0;34m.\u001b[0m\u001b[0mpath\u001b[0m\u001b[0;34m.\u001b[0m\u001b[0mjoin\u001b[0m\u001b[0;34m(\u001b[0m\u001b[0moutput_dir\u001b[0m\u001b[0;34m,\u001b[0m \u001b[0mOPTIMIZER_NAME\u001b[0m\u001b[0;34m)\u001b[0m\u001b[0;34m)\u001b[0m\u001b[0;34m\u001b[0m\u001b[0;34m\u001b[0m\u001b[0m\n\u001b[0m\u001b[1;32m   2337\u001b[0m \u001b[0;34m\u001b[0m\u001b[0m\n\u001b[1;32m   2338\u001b[0m             \u001b[0;32mwith\u001b[0m \u001b[0mwarnings\u001b[0m\u001b[0;34m.\u001b[0m\u001b[0mcatch_warnings\u001b[0m\u001b[0;34m(\u001b[0m\u001b[0mrecord\u001b[0m\u001b[0;34m=\u001b[0m\u001b[0;32mTrue\u001b[0m\u001b[0;34m)\u001b[0m \u001b[0;32mas\u001b[0m \u001b[0mcaught_warnings\u001b[0m\u001b[0;34m:\u001b[0m\u001b[0;34m\u001b[0m\u001b[0;34m\u001b[0m\u001b[0m\n",
            "\u001b[0;32m/usr/local/lib/python3.10/dist-packages/torch/serialization.py\u001b[0m in \u001b[0;36msave\u001b[0;34m(obj, f, pickle_module, pickle_protocol, _use_new_zipfile_serialization)\u001b[0m\n\u001b[1;32m    439\u001b[0m     \u001b[0;32mif\u001b[0m \u001b[0m_use_new_zipfile_serialization\u001b[0m\u001b[0;34m:\u001b[0m\u001b[0;34m\u001b[0m\u001b[0;34m\u001b[0m\u001b[0m\n\u001b[1;32m    440\u001b[0m         \u001b[0;32mwith\u001b[0m \u001b[0m_open_zipfile_writer\u001b[0m\u001b[0;34m(\u001b[0m\u001b[0mf\u001b[0m\u001b[0;34m)\u001b[0m \u001b[0;32mas\u001b[0m \u001b[0mopened_zipfile\u001b[0m\u001b[0;34m:\u001b[0m\u001b[0;34m\u001b[0m\u001b[0;34m\u001b[0m\u001b[0m\n\u001b[0;32m--> 441\u001b[0;31m             \u001b[0m_save\u001b[0m\u001b[0;34m(\u001b[0m\u001b[0mobj\u001b[0m\u001b[0;34m,\u001b[0m \u001b[0mopened_zipfile\u001b[0m\u001b[0;34m,\u001b[0m \u001b[0mpickle_module\u001b[0m\u001b[0;34m,\u001b[0m \u001b[0mpickle_protocol\u001b[0m\u001b[0;34m)\u001b[0m\u001b[0;34m\u001b[0m\u001b[0;34m\u001b[0m\u001b[0m\n\u001b[0m\u001b[1;32m    442\u001b[0m             \u001b[0;32mreturn\u001b[0m\u001b[0;34m\u001b[0m\u001b[0;34m\u001b[0m\u001b[0m\n\u001b[1;32m    443\u001b[0m     \u001b[0;32melse\u001b[0m\u001b[0;34m:\u001b[0m\u001b[0;34m\u001b[0m\u001b[0;34m\u001b[0m\u001b[0m\n",
            "\u001b[0;32m/usr/local/lib/python3.10/dist-packages/torch/serialization.py\u001b[0m in \u001b[0;36m_save\u001b[0;34m(obj, zip_file, pickle_module, pickle_protocol)\u001b[0m\n\u001b[1;32m    666\u001b[0m         \u001b[0;31m# Now that it is on the CPU we can directly copy it into the zip file\u001b[0m\u001b[0;34m\u001b[0m\u001b[0;34m\u001b[0m\u001b[0m\n\u001b[1;32m    667\u001b[0m         \u001b[0mnum_bytes\u001b[0m \u001b[0;34m=\u001b[0m \u001b[0mstorage\u001b[0m\u001b[0;34m.\u001b[0m\u001b[0mnbytes\u001b[0m\u001b[0;34m(\u001b[0m\u001b[0;34m)\u001b[0m\u001b[0;34m\u001b[0m\u001b[0;34m\u001b[0m\u001b[0m\n\u001b[0;32m--> 668\u001b[0;31m         \u001b[0mzip_file\u001b[0m\u001b[0;34m.\u001b[0m\u001b[0mwrite_record\u001b[0m\u001b[0;34m(\u001b[0m\u001b[0mname\u001b[0m\u001b[0;34m,\u001b[0m \u001b[0mstorage\u001b[0m\u001b[0;34m.\u001b[0m\u001b[0mdata_ptr\u001b[0m\u001b[0;34m(\u001b[0m\u001b[0;34m)\u001b[0m\u001b[0;34m,\u001b[0m \u001b[0mnum_bytes\u001b[0m\u001b[0;34m)\u001b[0m\u001b[0;34m\u001b[0m\u001b[0;34m\u001b[0m\u001b[0m\n\u001b[0m\u001b[1;32m    669\u001b[0m \u001b[0;34m\u001b[0m\u001b[0m\n\u001b[1;32m    670\u001b[0m \u001b[0;34m\u001b[0m\u001b[0m\n",
            "\u001b[0;31mKeyboardInterrupt\u001b[0m: "
          ]
        }
      ],
      "source": [
        "trainer.train()"
      ]
    },
    {
      "cell_type": "code",
      "execution_count": null,
      "metadata": {
        "id": "RQ_6HudHWRW6"
      },
      "outputs": [],
      "source": []
    }
  ],
  "metadata": {
    "colab": {
      "provenance": [],
      "machine_shape": "hm",
      "gpuType": "T4",
      "authorship_tag": "ABX9TyPsOFFr6rIHt7yqvQNjc07b",
      "include_colab_link": true
    },
    "kernelspec": {
      "display_name": "Python 3",
      "name": "python3"
    },
    "language_info": {
      "name": "python"
    },
    "widgets": {
      "application/vnd.jupyter.widget-state+json": {
        "d9d96dcc46aa4eb2b2c77b6fc80f4652": {
          "model_module": "@jupyter-widgets/controls",
          "model_name": "HBoxModel",
          "model_module_version": "1.5.0",
          "state": {
            "_dom_classes": [],
            "_model_module": "@jupyter-widgets/controls",
            "_model_module_version": "1.5.0",
            "_model_name": "HBoxModel",
            "_view_count": null,
            "_view_module": "@jupyter-widgets/controls",
            "_view_module_version": "1.5.0",
            "_view_name": "HBoxView",
            "box_style": "",
            "children": [
              "IPY_MODEL_e1d76346b5634ab28a5c914f3665393b",
              "IPY_MODEL_8bff7f3472d24da584c4ba95255288f5",
              "IPY_MODEL_66e9034622384d7f83fbd1498d0e9141"
            ],
            "layout": "IPY_MODEL_1f162ee5356c4dce9c8b1a8917542323"
          }
        },
        "e1d76346b5634ab28a5c914f3665393b": {
          "model_module": "@jupyter-widgets/controls",
          "model_name": "HTMLModel",
          "model_module_version": "1.5.0",
          "state": {
            "_dom_classes": [],
            "_model_module": "@jupyter-widgets/controls",
            "_model_module_version": "1.5.0",
            "_model_name": "HTMLModel",
            "_view_count": null,
            "_view_module": "@jupyter-widgets/controls",
            "_view_module_version": "1.5.0",
            "_view_name": "HTMLView",
            "description": "",
            "description_tooltip": null,
            "layout": "IPY_MODEL_a5cfa97e3c694108ac189504e417ffeb",
            "placeholder": "​",
            "style": "IPY_MODEL_b89c0c06985b41248e08c01044022256",
            "value": "Map: 100%"
          }
        },
        "8bff7f3472d24da584c4ba95255288f5": {
          "model_module": "@jupyter-widgets/controls",
          "model_name": "FloatProgressModel",
          "model_module_version": "1.5.0",
          "state": {
            "_dom_classes": [],
            "_model_module": "@jupyter-widgets/controls",
            "_model_module_version": "1.5.0",
            "_model_name": "FloatProgressModel",
            "_view_count": null,
            "_view_module": "@jupyter-widgets/controls",
            "_view_module_version": "1.5.0",
            "_view_name": "ProgressView",
            "bar_style": "success",
            "description": "",
            "description_tooltip": null,
            "layout": "IPY_MODEL_bc55c73d30f54eae8648f8bec3e19e54",
            "max": 21744,
            "min": 0,
            "orientation": "horizontal",
            "style": "IPY_MODEL_adeb0c310ca544c382e5b627534e4a0c",
            "value": 21744
          }
        },
        "66e9034622384d7f83fbd1498d0e9141": {
          "model_module": "@jupyter-widgets/controls",
          "model_name": "HTMLModel",
          "model_module_version": "1.5.0",
          "state": {
            "_dom_classes": [],
            "_model_module": "@jupyter-widgets/controls",
            "_model_module_version": "1.5.0",
            "_model_name": "HTMLModel",
            "_view_count": null,
            "_view_module": "@jupyter-widgets/controls",
            "_view_module_version": "1.5.0",
            "_view_name": "HTMLView",
            "description": "",
            "description_tooltip": null,
            "layout": "IPY_MODEL_bf96738fe7c248acb0660e4bf0251156",
            "placeholder": "​",
            "style": "IPY_MODEL_72508f1c8fe241beb197e6328a41a6fc",
            "value": " 21744/21744 [00:00&lt;00:00, 165341.01 examples/s]"
          }
        },
        "1f162ee5356c4dce9c8b1a8917542323": {
          "model_module": "@jupyter-widgets/base",
          "model_name": "LayoutModel",
          "model_module_version": "1.2.0",
          "state": {
            "_model_module": "@jupyter-widgets/base",
            "_model_module_version": "1.2.0",
            "_model_name": "LayoutModel",
            "_view_count": null,
            "_view_module": "@jupyter-widgets/base",
            "_view_module_version": "1.2.0",
            "_view_name": "LayoutView",
            "align_content": null,
            "align_items": null,
            "align_self": null,
            "border": null,
            "bottom": null,
            "display": null,
            "flex": null,
            "flex_flow": null,
            "grid_area": null,
            "grid_auto_columns": null,
            "grid_auto_flow": null,
            "grid_auto_rows": null,
            "grid_column": null,
            "grid_gap": null,
            "grid_row": null,
            "grid_template_areas": null,
            "grid_template_columns": null,
            "grid_template_rows": null,
            "height": null,
            "justify_content": null,
            "justify_items": null,
            "left": null,
            "margin": null,
            "max_height": null,
            "max_width": null,
            "min_height": null,
            "min_width": null,
            "object_fit": null,
            "object_position": null,
            "order": null,
            "overflow": null,
            "overflow_x": null,
            "overflow_y": null,
            "padding": null,
            "right": null,
            "top": null,
            "visibility": null,
            "width": null
          }
        },
        "a5cfa97e3c694108ac189504e417ffeb": {
          "model_module": "@jupyter-widgets/base",
          "model_name": "LayoutModel",
          "model_module_version": "1.2.0",
          "state": {
            "_model_module": "@jupyter-widgets/base",
            "_model_module_version": "1.2.0",
            "_model_name": "LayoutModel",
            "_view_count": null,
            "_view_module": "@jupyter-widgets/base",
            "_view_module_version": "1.2.0",
            "_view_name": "LayoutView",
            "align_content": null,
            "align_items": null,
            "align_self": null,
            "border": null,
            "bottom": null,
            "display": null,
            "flex": null,
            "flex_flow": null,
            "grid_area": null,
            "grid_auto_columns": null,
            "grid_auto_flow": null,
            "grid_auto_rows": null,
            "grid_column": null,
            "grid_gap": null,
            "grid_row": null,
            "grid_template_areas": null,
            "grid_template_columns": null,
            "grid_template_rows": null,
            "height": null,
            "justify_content": null,
            "justify_items": null,
            "left": null,
            "margin": null,
            "max_height": null,
            "max_width": null,
            "min_height": null,
            "min_width": null,
            "object_fit": null,
            "object_position": null,
            "order": null,
            "overflow": null,
            "overflow_x": null,
            "overflow_y": null,
            "padding": null,
            "right": null,
            "top": null,
            "visibility": null,
            "width": null
          }
        },
        "b89c0c06985b41248e08c01044022256": {
          "model_module": "@jupyter-widgets/controls",
          "model_name": "DescriptionStyleModel",
          "model_module_version": "1.5.0",
          "state": {
            "_model_module": "@jupyter-widgets/controls",
            "_model_module_version": "1.5.0",
            "_model_name": "DescriptionStyleModel",
            "_view_count": null,
            "_view_module": "@jupyter-widgets/base",
            "_view_module_version": "1.2.0",
            "_view_name": "StyleView",
            "description_width": ""
          }
        },
        "bc55c73d30f54eae8648f8bec3e19e54": {
          "model_module": "@jupyter-widgets/base",
          "model_name": "LayoutModel",
          "model_module_version": "1.2.0",
          "state": {
            "_model_module": "@jupyter-widgets/base",
            "_model_module_version": "1.2.0",
            "_model_name": "LayoutModel",
            "_view_count": null,
            "_view_module": "@jupyter-widgets/base",
            "_view_module_version": "1.2.0",
            "_view_name": "LayoutView",
            "align_content": null,
            "align_items": null,
            "align_self": null,
            "border": null,
            "bottom": null,
            "display": null,
            "flex": null,
            "flex_flow": null,
            "grid_area": null,
            "grid_auto_columns": null,
            "grid_auto_flow": null,
            "grid_auto_rows": null,
            "grid_column": null,
            "grid_gap": null,
            "grid_row": null,
            "grid_template_areas": null,
            "grid_template_columns": null,
            "grid_template_rows": null,
            "height": null,
            "justify_content": null,
            "justify_items": null,
            "left": null,
            "margin": null,
            "max_height": null,
            "max_width": null,
            "min_height": null,
            "min_width": null,
            "object_fit": null,
            "object_position": null,
            "order": null,
            "overflow": null,
            "overflow_x": null,
            "overflow_y": null,
            "padding": null,
            "right": null,
            "top": null,
            "visibility": null,
            "width": null
          }
        },
        "adeb0c310ca544c382e5b627534e4a0c": {
          "model_module": "@jupyter-widgets/controls",
          "model_name": "ProgressStyleModel",
          "model_module_version": "1.5.0",
          "state": {
            "_model_module": "@jupyter-widgets/controls",
            "_model_module_version": "1.5.0",
            "_model_name": "ProgressStyleModel",
            "_view_count": null,
            "_view_module": "@jupyter-widgets/base",
            "_view_module_version": "1.2.0",
            "_view_name": "StyleView",
            "bar_color": null,
            "description_width": ""
          }
        },
        "bf96738fe7c248acb0660e4bf0251156": {
          "model_module": "@jupyter-widgets/base",
          "model_name": "LayoutModel",
          "model_module_version": "1.2.0",
          "state": {
            "_model_module": "@jupyter-widgets/base",
            "_model_module_version": "1.2.0",
            "_model_name": "LayoutModel",
            "_view_count": null,
            "_view_module": "@jupyter-widgets/base",
            "_view_module_version": "1.2.0",
            "_view_name": "LayoutView",
            "align_content": null,
            "align_items": null,
            "align_self": null,
            "border": null,
            "bottom": null,
            "display": null,
            "flex": null,
            "flex_flow": null,
            "grid_area": null,
            "grid_auto_columns": null,
            "grid_auto_flow": null,
            "grid_auto_rows": null,
            "grid_column": null,
            "grid_gap": null,
            "grid_row": null,
            "grid_template_areas": null,
            "grid_template_columns": null,
            "grid_template_rows": null,
            "height": null,
            "justify_content": null,
            "justify_items": null,
            "left": null,
            "margin": null,
            "max_height": null,
            "max_width": null,
            "min_height": null,
            "min_width": null,
            "object_fit": null,
            "object_position": null,
            "order": null,
            "overflow": null,
            "overflow_x": null,
            "overflow_y": null,
            "padding": null,
            "right": null,
            "top": null,
            "visibility": null,
            "width": null
          }
        },
        "72508f1c8fe241beb197e6328a41a6fc": {
          "model_module": "@jupyter-widgets/controls",
          "model_name": "DescriptionStyleModel",
          "model_module_version": "1.5.0",
          "state": {
            "_model_module": "@jupyter-widgets/controls",
            "_model_module_version": "1.5.0",
            "_model_name": "DescriptionStyleModel",
            "_view_count": null,
            "_view_module": "@jupyter-widgets/base",
            "_view_module_version": "1.2.0",
            "_view_name": "StyleView",
            "description_width": ""
          }
        },
        "66601f18c08149edb31808dc960e803c": {
          "model_module": "@jupyter-widgets/controls",
          "model_name": "HBoxModel",
          "model_module_version": "1.5.0",
          "state": {
            "_dom_classes": [],
            "_model_module": "@jupyter-widgets/controls",
            "_model_module_version": "1.5.0",
            "_model_name": "HBoxModel",
            "_view_count": null,
            "_view_module": "@jupyter-widgets/controls",
            "_view_module_version": "1.5.0",
            "_view_name": "HBoxView",
            "box_style": "",
            "children": [
              "IPY_MODEL_6b948a5447ff42318049dc80a72a4d75",
              "IPY_MODEL_3b7aeec7462641a6bdcf82545c62aea9",
              "IPY_MODEL_cfa67f326abf45b491886cee4f8399f1"
            ],
            "layout": "IPY_MODEL_b1070d3cb13f4004a04d4dc6cdee3f33"
          }
        },
        "6b948a5447ff42318049dc80a72a4d75": {
          "model_module": "@jupyter-widgets/controls",
          "model_name": "HTMLModel",
          "model_module_version": "1.5.0",
          "state": {
            "_dom_classes": [],
            "_model_module": "@jupyter-widgets/controls",
            "_model_module_version": "1.5.0",
            "_model_name": "HTMLModel",
            "_view_count": null,
            "_view_module": "@jupyter-widgets/controls",
            "_view_module_version": "1.5.0",
            "_view_name": "HTMLView",
            "description": "",
            "description_tooltip": null,
            "layout": "IPY_MODEL_ec2dcbb94f4048518a1ce4000b7933a2",
            "placeholder": "​",
            "style": "IPY_MODEL_c9b68631ebd2478484db772f6a2e5ca7",
            "value": "Map: 100%"
          }
        },
        "3b7aeec7462641a6bdcf82545c62aea9": {
          "model_module": "@jupyter-widgets/controls",
          "model_name": "FloatProgressModel",
          "model_module_version": "1.5.0",
          "state": {
            "_dom_classes": [],
            "_model_module": "@jupyter-widgets/controls",
            "_model_module_version": "1.5.0",
            "_model_name": "FloatProgressModel",
            "_view_count": null,
            "_view_module": "@jupyter-widgets/controls",
            "_view_module_version": "1.5.0",
            "_view_name": "ProgressView",
            "bar_style": "success",
            "description": "",
            "description_tooltip": null,
            "layout": "IPY_MODEL_0de50fdd15bc4d3c81a28a493c84c875",
            "max": 7622,
            "min": 0,
            "orientation": "horizontal",
            "style": "IPY_MODEL_f32e2350f90d4517921a158dfa4202ad",
            "value": 7622
          }
        },
        "cfa67f326abf45b491886cee4f8399f1": {
          "model_module": "@jupyter-widgets/controls",
          "model_name": "HTMLModel",
          "model_module_version": "1.5.0",
          "state": {
            "_dom_classes": [],
            "_model_module": "@jupyter-widgets/controls",
            "_model_module_version": "1.5.0",
            "_model_name": "HTMLModel",
            "_view_count": null,
            "_view_module": "@jupyter-widgets/controls",
            "_view_module_version": "1.5.0",
            "_view_name": "HTMLView",
            "description": "",
            "description_tooltip": null,
            "layout": "IPY_MODEL_fafbcb97236b43388922cad18ecb98a1",
            "placeholder": "​",
            "style": "IPY_MODEL_9df792cdc73647089f933526360b793b",
            "value": " 7622/7622 [00:00&lt;00:00, 158148.00 examples/s]"
          }
        },
        "b1070d3cb13f4004a04d4dc6cdee3f33": {
          "model_module": "@jupyter-widgets/base",
          "model_name": "LayoutModel",
          "model_module_version": "1.2.0",
          "state": {
            "_model_module": "@jupyter-widgets/base",
            "_model_module_version": "1.2.0",
            "_model_name": "LayoutModel",
            "_view_count": null,
            "_view_module": "@jupyter-widgets/base",
            "_view_module_version": "1.2.0",
            "_view_name": "LayoutView",
            "align_content": null,
            "align_items": null,
            "align_self": null,
            "border": null,
            "bottom": null,
            "display": null,
            "flex": null,
            "flex_flow": null,
            "grid_area": null,
            "grid_auto_columns": null,
            "grid_auto_flow": null,
            "grid_auto_rows": null,
            "grid_column": null,
            "grid_gap": null,
            "grid_row": null,
            "grid_template_areas": null,
            "grid_template_columns": null,
            "grid_template_rows": null,
            "height": null,
            "justify_content": null,
            "justify_items": null,
            "left": null,
            "margin": null,
            "max_height": null,
            "max_width": null,
            "min_height": null,
            "min_width": null,
            "object_fit": null,
            "object_position": null,
            "order": null,
            "overflow": null,
            "overflow_x": null,
            "overflow_y": null,
            "padding": null,
            "right": null,
            "top": null,
            "visibility": null,
            "width": null
          }
        },
        "ec2dcbb94f4048518a1ce4000b7933a2": {
          "model_module": "@jupyter-widgets/base",
          "model_name": "LayoutModel",
          "model_module_version": "1.2.0",
          "state": {
            "_model_module": "@jupyter-widgets/base",
            "_model_module_version": "1.2.0",
            "_model_name": "LayoutModel",
            "_view_count": null,
            "_view_module": "@jupyter-widgets/base",
            "_view_module_version": "1.2.0",
            "_view_name": "LayoutView",
            "align_content": null,
            "align_items": null,
            "align_self": null,
            "border": null,
            "bottom": null,
            "display": null,
            "flex": null,
            "flex_flow": null,
            "grid_area": null,
            "grid_auto_columns": null,
            "grid_auto_flow": null,
            "grid_auto_rows": null,
            "grid_column": null,
            "grid_gap": null,
            "grid_row": null,
            "grid_template_areas": null,
            "grid_template_columns": null,
            "grid_template_rows": null,
            "height": null,
            "justify_content": null,
            "justify_items": null,
            "left": null,
            "margin": null,
            "max_height": null,
            "max_width": null,
            "min_height": null,
            "min_width": null,
            "object_fit": null,
            "object_position": null,
            "order": null,
            "overflow": null,
            "overflow_x": null,
            "overflow_y": null,
            "padding": null,
            "right": null,
            "top": null,
            "visibility": null,
            "width": null
          }
        },
        "c9b68631ebd2478484db772f6a2e5ca7": {
          "model_module": "@jupyter-widgets/controls",
          "model_name": "DescriptionStyleModel",
          "model_module_version": "1.5.0",
          "state": {
            "_model_module": "@jupyter-widgets/controls",
            "_model_module_version": "1.5.0",
            "_model_name": "DescriptionStyleModel",
            "_view_count": null,
            "_view_module": "@jupyter-widgets/base",
            "_view_module_version": "1.2.0",
            "_view_name": "StyleView",
            "description_width": ""
          }
        },
        "0de50fdd15bc4d3c81a28a493c84c875": {
          "model_module": "@jupyter-widgets/base",
          "model_name": "LayoutModel",
          "model_module_version": "1.2.0",
          "state": {
            "_model_module": "@jupyter-widgets/base",
            "_model_module_version": "1.2.0",
            "_model_name": "LayoutModel",
            "_view_count": null,
            "_view_module": "@jupyter-widgets/base",
            "_view_module_version": "1.2.0",
            "_view_name": "LayoutView",
            "align_content": null,
            "align_items": null,
            "align_self": null,
            "border": null,
            "bottom": null,
            "display": null,
            "flex": null,
            "flex_flow": null,
            "grid_area": null,
            "grid_auto_columns": null,
            "grid_auto_flow": null,
            "grid_auto_rows": null,
            "grid_column": null,
            "grid_gap": null,
            "grid_row": null,
            "grid_template_areas": null,
            "grid_template_columns": null,
            "grid_template_rows": null,
            "height": null,
            "justify_content": null,
            "justify_items": null,
            "left": null,
            "margin": null,
            "max_height": null,
            "max_width": null,
            "min_height": null,
            "min_width": null,
            "object_fit": null,
            "object_position": null,
            "order": null,
            "overflow": null,
            "overflow_x": null,
            "overflow_y": null,
            "padding": null,
            "right": null,
            "top": null,
            "visibility": null,
            "width": null
          }
        },
        "f32e2350f90d4517921a158dfa4202ad": {
          "model_module": "@jupyter-widgets/controls",
          "model_name": "ProgressStyleModel",
          "model_module_version": "1.5.0",
          "state": {
            "_model_module": "@jupyter-widgets/controls",
            "_model_module_version": "1.5.0",
            "_model_name": "ProgressStyleModel",
            "_view_count": null,
            "_view_module": "@jupyter-widgets/base",
            "_view_module_version": "1.2.0",
            "_view_name": "StyleView",
            "bar_color": null,
            "description_width": ""
          }
        },
        "fafbcb97236b43388922cad18ecb98a1": {
          "model_module": "@jupyter-widgets/base",
          "model_name": "LayoutModel",
          "model_module_version": "1.2.0",
          "state": {
            "_model_module": "@jupyter-widgets/base",
            "_model_module_version": "1.2.0",
            "_model_name": "LayoutModel",
            "_view_count": null,
            "_view_module": "@jupyter-widgets/base",
            "_view_module_version": "1.2.0",
            "_view_name": "LayoutView",
            "align_content": null,
            "align_items": null,
            "align_self": null,
            "border": null,
            "bottom": null,
            "display": null,
            "flex": null,
            "flex_flow": null,
            "grid_area": null,
            "grid_auto_columns": null,
            "grid_auto_flow": null,
            "grid_auto_rows": null,
            "grid_column": null,
            "grid_gap": null,
            "grid_row": null,
            "grid_template_areas": null,
            "grid_template_columns": null,
            "grid_template_rows": null,
            "height": null,
            "justify_content": null,
            "justify_items": null,
            "left": null,
            "margin": null,
            "max_height": null,
            "max_width": null,
            "min_height": null,
            "min_width": null,
            "object_fit": null,
            "object_position": null,
            "order": null,
            "overflow": null,
            "overflow_x": null,
            "overflow_y": null,
            "padding": null,
            "right": null,
            "top": null,
            "visibility": null,
            "width": null
          }
        },
        "9df792cdc73647089f933526360b793b": {
          "model_module": "@jupyter-widgets/controls",
          "model_name": "DescriptionStyleModel",
          "model_module_version": "1.5.0",
          "state": {
            "_model_module": "@jupyter-widgets/controls",
            "_model_module_version": "1.5.0",
            "_model_name": "DescriptionStyleModel",
            "_view_count": null,
            "_view_module": "@jupyter-widgets/base",
            "_view_module_version": "1.2.0",
            "_view_name": "StyleView",
            "description_width": ""
          }
        },
        "f1e218474dd14326ac8eafb99efe18aa": {
          "model_module": "@jupyter-widgets/controls",
          "model_name": "HBoxModel",
          "model_module_version": "1.5.0",
          "state": {
            "_dom_classes": [],
            "_model_module": "@jupyter-widgets/controls",
            "_model_module_version": "1.5.0",
            "_model_name": "HBoxModel",
            "_view_count": null,
            "_view_module": "@jupyter-widgets/controls",
            "_view_module_version": "1.5.0",
            "_view_name": "HBoxView",
            "box_style": "",
            "children": [
              "IPY_MODEL_5b0cd8395d154b3292dea9b843163d0b",
              "IPY_MODEL_ca9cf22c22804aad87117f9565298637",
              "IPY_MODEL_ca28e4e527e545bf9306c5d0d712f42f"
            ],
            "layout": "IPY_MODEL_b73a018d6eff40db86cc79bcd24c27ab"
          }
        },
        "5b0cd8395d154b3292dea9b843163d0b": {
          "model_module": "@jupyter-widgets/controls",
          "model_name": "HTMLModel",
          "model_module_version": "1.5.0",
          "state": {
            "_dom_classes": [],
            "_model_module": "@jupyter-widgets/controls",
            "_model_module_version": "1.5.0",
            "_model_name": "HTMLModel",
            "_view_count": null,
            "_view_module": "@jupyter-widgets/controls",
            "_view_module_version": "1.5.0",
            "_view_name": "HTMLView",
            "description": "",
            "description_tooltip": null,
            "layout": "IPY_MODEL_ecff14571d3f41d2bb3ed2e4686ea0cb",
            "placeholder": "​",
            "style": "IPY_MODEL_29c6029a15914caaabcee75f79d5f4b5",
            "value": "Map (num_proc=4): 100%"
          }
        },
        "ca9cf22c22804aad87117f9565298637": {
          "model_module": "@jupyter-widgets/controls",
          "model_name": "FloatProgressModel",
          "model_module_version": "1.5.0",
          "state": {
            "_dom_classes": [],
            "_model_module": "@jupyter-widgets/controls",
            "_model_module_version": "1.5.0",
            "_model_name": "FloatProgressModel",
            "_view_count": null,
            "_view_module": "@jupyter-widgets/controls",
            "_view_module_version": "1.5.0",
            "_view_name": "ProgressView",
            "bar_style": "success",
            "description": "",
            "description_tooltip": null,
            "layout": "IPY_MODEL_8ad377b57c8a4109a95c8ef9456c50f3",
            "max": 21744,
            "min": 0,
            "orientation": "horizontal",
            "style": "IPY_MODEL_626e826fe3734a0385c5d3b8888c1ca9",
            "value": 21744
          }
        },
        "ca28e4e527e545bf9306c5d0d712f42f": {
          "model_module": "@jupyter-widgets/controls",
          "model_name": "HTMLModel",
          "model_module_version": "1.5.0",
          "state": {
            "_dom_classes": [],
            "_model_module": "@jupyter-widgets/controls",
            "_model_module_version": "1.5.0",
            "_model_name": "HTMLModel",
            "_view_count": null,
            "_view_module": "@jupyter-widgets/controls",
            "_view_module_version": "1.5.0",
            "_view_name": "HTMLView",
            "description": "",
            "description_tooltip": null,
            "layout": "IPY_MODEL_3492beea563642be9a7ce257f656aecc",
            "placeholder": "​",
            "style": "IPY_MODEL_db72f58bbb184e898bbc037d7ac1247e",
            "value": " 21744/21744 [01:26&lt;00:00, 139.05 examples/s]"
          }
        },
        "b73a018d6eff40db86cc79bcd24c27ab": {
          "model_module": "@jupyter-widgets/base",
          "model_name": "LayoutModel",
          "model_module_version": "1.2.0",
          "state": {
            "_model_module": "@jupyter-widgets/base",
            "_model_module_version": "1.2.0",
            "_model_name": "LayoutModel",
            "_view_count": null,
            "_view_module": "@jupyter-widgets/base",
            "_view_module_version": "1.2.0",
            "_view_name": "LayoutView",
            "align_content": null,
            "align_items": null,
            "align_self": null,
            "border": null,
            "bottom": null,
            "display": null,
            "flex": null,
            "flex_flow": null,
            "grid_area": null,
            "grid_auto_columns": null,
            "grid_auto_flow": null,
            "grid_auto_rows": null,
            "grid_column": null,
            "grid_gap": null,
            "grid_row": null,
            "grid_template_areas": null,
            "grid_template_columns": null,
            "grid_template_rows": null,
            "height": null,
            "justify_content": null,
            "justify_items": null,
            "left": null,
            "margin": null,
            "max_height": null,
            "max_width": null,
            "min_height": null,
            "min_width": null,
            "object_fit": null,
            "object_position": null,
            "order": null,
            "overflow": null,
            "overflow_x": null,
            "overflow_y": null,
            "padding": null,
            "right": null,
            "top": null,
            "visibility": null,
            "width": null
          }
        },
        "ecff14571d3f41d2bb3ed2e4686ea0cb": {
          "model_module": "@jupyter-widgets/base",
          "model_name": "LayoutModel",
          "model_module_version": "1.2.0",
          "state": {
            "_model_module": "@jupyter-widgets/base",
            "_model_module_version": "1.2.0",
            "_model_name": "LayoutModel",
            "_view_count": null,
            "_view_module": "@jupyter-widgets/base",
            "_view_module_version": "1.2.0",
            "_view_name": "LayoutView",
            "align_content": null,
            "align_items": null,
            "align_self": null,
            "border": null,
            "bottom": null,
            "display": null,
            "flex": null,
            "flex_flow": null,
            "grid_area": null,
            "grid_auto_columns": null,
            "grid_auto_flow": null,
            "grid_auto_rows": null,
            "grid_column": null,
            "grid_gap": null,
            "grid_row": null,
            "grid_template_areas": null,
            "grid_template_columns": null,
            "grid_template_rows": null,
            "height": null,
            "justify_content": null,
            "justify_items": null,
            "left": null,
            "margin": null,
            "max_height": null,
            "max_width": null,
            "min_height": null,
            "min_width": null,
            "object_fit": null,
            "object_position": null,
            "order": null,
            "overflow": null,
            "overflow_x": null,
            "overflow_y": null,
            "padding": null,
            "right": null,
            "top": null,
            "visibility": null,
            "width": null
          }
        },
        "29c6029a15914caaabcee75f79d5f4b5": {
          "model_module": "@jupyter-widgets/controls",
          "model_name": "DescriptionStyleModel",
          "model_module_version": "1.5.0",
          "state": {
            "_model_module": "@jupyter-widgets/controls",
            "_model_module_version": "1.5.0",
            "_model_name": "DescriptionStyleModel",
            "_view_count": null,
            "_view_module": "@jupyter-widgets/base",
            "_view_module_version": "1.2.0",
            "_view_name": "StyleView",
            "description_width": ""
          }
        },
        "8ad377b57c8a4109a95c8ef9456c50f3": {
          "model_module": "@jupyter-widgets/base",
          "model_name": "LayoutModel",
          "model_module_version": "1.2.0",
          "state": {
            "_model_module": "@jupyter-widgets/base",
            "_model_module_version": "1.2.0",
            "_model_name": "LayoutModel",
            "_view_count": null,
            "_view_module": "@jupyter-widgets/base",
            "_view_module_version": "1.2.0",
            "_view_name": "LayoutView",
            "align_content": null,
            "align_items": null,
            "align_self": null,
            "border": null,
            "bottom": null,
            "display": null,
            "flex": null,
            "flex_flow": null,
            "grid_area": null,
            "grid_auto_columns": null,
            "grid_auto_flow": null,
            "grid_auto_rows": null,
            "grid_column": null,
            "grid_gap": null,
            "grid_row": null,
            "grid_template_areas": null,
            "grid_template_columns": null,
            "grid_template_rows": null,
            "height": null,
            "justify_content": null,
            "justify_items": null,
            "left": null,
            "margin": null,
            "max_height": null,
            "max_width": null,
            "min_height": null,
            "min_width": null,
            "object_fit": null,
            "object_position": null,
            "order": null,
            "overflow": null,
            "overflow_x": null,
            "overflow_y": null,
            "padding": null,
            "right": null,
            "top": null,
            "visibility": null,
            "width": null
          }
        },
        "626e826fe3734a0385c5d3b8888c1ca9": {
          "model_module": "@jupyter-widgets/controls",
          "model_name": "ProgressStyleModel",
          "model_module_version": "1.5.0",
          "state": {
            "_model_module": "@jupyter-widgets/controls",
            "_model_module_version": "1.5.0",
            "_model_name": "ProgressStyleModel",
            "_view_count": null,
            "_view_module": "@jupyter-widgets/base",
            "_view_module_version": "1.2.0",
            "_view_name": "StyleView",
            "bar_color": null,
            "description_width": ""
          }
        },
        "3492beea563642be9a7ce257f656aecc": {
          "model_module": "@jupyter-widgets/base",
          "model_name": "LayoutModel",
          "model_module_version": "1.2.0",
          "state": {
            "_model_module": "@jupyter-widgets/base",
            "_model_module_version": "1.2.0",
            "_model_name": "LayoutModel",
            "_view_count": null,
            "_view_module": "@jupyter-widgets/base",
            "_view_module_version": "1.2.0",
            "_view_name": "LayoutView",
            "align_content": null,
            "align_items": null,
            "align_self": null,
            "border": null,
            "bottom": null,
            "display": null,
            "flex": null,
            "flex_flow": null,
            "grid_area": null,
            "grid_auto_columns": null,
            "grid_auto_flow": null,
            "grid_auto_rows": null,
            "grid_column": null,
            "grid_gap": null,
            "grid_row": null,
            "grid_template_areas": null,
            "grid_template_columns": null,
            "grid_template_rows": null,
            "height": null,
            "justify_content": null,
            "justify_items": null,
            "left": null,
            "margin": null,
            "max_height": null,
            "max_width": null,
            "min_height": null,
            "min_width": null,
            "object_fit": null,
            "object_position": null,
            "order": null,
            "overflow": null,
            "overflow_x": null,
            "overflow_y": null,
            "padding": null,
            "right": null,
            "top": null,
            "visibility": null,
            "width": null
          }
        },
        "db72f58bbb184e898bbc037d7ac1247e": {
          "model_module": "@jupyter-widgets/controls",
          "model_name": "DescriptionStyleModel",
          "model_module_version": "1.5.0",
          "state": {
            "_model_module": "@jupyter-widgets/controls",
            "_model_module_version": "1.5.0",
            "_model_name": "DescriptionStyleModel",
            "_view_count": null,
            "_view_module": "@jupyter-widgets/base",
            "_view_module_version": "1.2.0",
            "_view_name": "StyleView",
            "description_width": ""
          }
        },
        "1b2567713759479cb47e35f2cec3ca6f": {
          "model_module": "@jupyter-widgets/controls",
          "model_name": "HBoxModel",
          "model_module_version": "1.5.0",
          "state": {
            "_dom_classes": [],
            "_model_module": "@jupyter-widgets/controls",
            "_model_module_version": "1.5.0",
            "_model_name": "HBoxModel",
            "_view_count": null,
            "_view_module": "@jupyter-widgets/controls",
            "_view_module_version": "1.5.0",
            "_view_name": "HBoxView",
            "box_style": "",
            "children": [
              "IPY_MODEL_0588863782a04833a96ea40c04512112",
              "IPY_MODEL_ec20287441b541b99f66ead33f324576",
              "IPY_MODEL_166a06cbb8444bfb98655cc41be88172"
            ],
            "layout": "IPY_MODEL_eaf61cdbe65d40aa89a9f76cb3d38692"
          }
        },
        "0588863782a04833a96ea40c04512112": {
          "model_module": "@jupyter-widgets/controls",
          "model_name": "HTMLModel",
          "model_module_version": "1.5.0",
          "state": {
            "_dom_classes": [],
            "_model_module": "@jupyter-widgets/controls",
            "_model_module_version": "1.5.0",
            "_model_name": "HTMLModel",
            "_view_count": null,
            "_view_module": "@jupyter-widgets/controls",
            "_view_module_version": "1.5.0",
            "_view_name": "HTMLView",
            "description": "",
            "description_tooltip": null,
            "layout": "IPY_MODEL_2e0852917259469f9863db5019c3ad19",
            "placeholder": "​",
            "style": "IPY_MODEL_34049c2f74cf4163a5b4ec8f1752089a",
            "value": "Map (num_proc=4): 100%"
          }
        },
        "ec20287441b541b99f66ead33f324576": {
          "model_module": "@jupyter-widgets/controls",
          "model_name": "FloatProgressModel",
          "model_module_version": "1.5.0",
          "state": {
            "_dom_classes": [],
            "_model_module": "@jupyter-widgets/controls",
            "_model_module_version": "1.5.0",
            "_model_name": "FloatProgressModel",
            "_view_count": null,
            "_view_module": "@jupyter-widgets/controls",
            "_view_module_version": "1.5.0",
            "_view_name": "ProgressView",
            "bar_style": "success",
            "description": "",
            "description_tooltip": null,
            "layout": "IPY_MODEL_7b91d620026c45cfbd89d5166202c92f",
            "max": 7622,
            "min": 0,
            "orientation": "horizontal",
            "style": "IPY_MODEL_b707775d35494e619355a4bd0ab10db8",
            "value": 7622
          }
        },
        "166a06cbb8444bfb98655cc41be88172": {
          "model_module": "@jupyter-widgets/controls",
          "model_name": "HTMLModel",
          "model_module_version": "1.5.0",
          "state": {
            "_dom_classes": [],
            "_model_module": "@jupyter-widgets/controls",
            "_model_module_version": "1.5.0",
            "_model_name": "HTMLModel",
            "_view_count": null,
            "_view_module": "@jupyter-widgets/controls",
            "_view_module_version": "1.5.0",
            "_view_name": "HTMLView",
            "description": "",
            "description_tooltip": null,
            "layout": "IPY_MODEL_41587a64e3b24e5d812d689923b4e5a5",
            "placeholder": "​",
            "style": "IPY_MODEL_c4fadcbd31c24a4193e021f8b48c55da",
            "value": " 7622/7622 [00:36&lt;00:00, 157.12 examples/s]"
          }
        },
        "eaf61cdbe65d40aa89a9f76cb3d38692": {
          "model_module": "@jupyter-widgets/base",
          "model_name": "LayoutModel",
          "model_module_version": "1.2.0",
          "state": {
            "_model_module": "@jupyter-widgets/base",
            "_model_module_version": "1.2.0",
            "_model_name": "LayoutModel",
            "_view_count": null,
            "_view_module": "@jupyter-widgets/base",
            "_view_module_version": "1.2.0",
            "_view_name": "LayoutView",
            "align_content": null,
            "align_items": null,
            "align_self": null,
            "border": null,
            "bottom": null,
            "display": null,
            "flex": null,
            "flex_flow": null,
            "grid_area": null,
            "grid_auto_columns": null,
            "grid_auto_flow": null,
            "grid_auto_rows": null,
            "grid_column": null,
            "grid_gap": null,
            "grid_row": null,
            "grid_template_areas": null,
            "grid_template_columns": null,
            "grid_template_rows": null,
            "height": null,
            "justify_content": null,
            "justify_items": null,
            "left": null,
            "margin": null,
            "max_height": null,
            "max_width": null,
            "min_height": null,
            "min_width": null,
            "object_fit": null,
            "object_position": null,
            "order": null,
            "overflow": null,
            "overflow_x": null,
            "overflow_y": null,
            "padding": null,
            "right": null,
            "top": null,
            "visibility": null,
            "width": null
          }
        },
        "2e0852917259469f9863db5019c3ad19": {
          "model_module": "@jupyter-widgets/base",
          "model_name": "LayoutModel",
          "model_module_version": "1.2.0",
          "state": {
            "_model_module": "@jupyter-widgets/base",
            "_model_module_version": "1.2.0",
            "_model_name": "LayoutModel",
            "_view_count": null,
            "_view_module": "@jupyter-widgets/base",
            "_view_module_version": "1.2.0",
            "_view_name": "LayoutView",
            "align_content": null,
            "align_items": null,
            "align_self": null,
            "border": null,
            "bottom": null,
            "display": null,
            "flex": null,
            "flex_flow": null,
            "grid_area": null,
            "grid_auto_columns": null,
            "grid_auto_flow": null,
            "grid_auto_rows": null,
            "grid_column": null,
            "grid_gap": null,
            "grid_row": null,
            "grid_template_areas": null,
            "grid_template_columns": null,
            "grid_template_rows": null,
            "height": null,
            "justify_content": null,
            "justify_items": null,
            "left": null,
            "margin": null,
            "max_height": null,
            "max_width": null,
            "min_height": null,
            "min_width": null,
            "object_fit": null,
            "object_position": null,
            "order": null,
            "overflow": null,
            "overflow_x": null,
            "overflow_y": null,
            "padding": null,
            "right": null,
            "top": null,
            "visibility": null,
            "width": null
          }
        },
        "34049c2f74cf4163a5b4ec8f1752089a": {
          "model_module": "@jupyter-widgets/controls",
          "model_name": "DescriptionStyleModel",
          "model_module_version": "1.5.0",
          "state": {
            "_model_module": "@jupyter-widgets/controls",
            "_model_module_version": "1.5.0",
            "_model_name": "DescriptionStyleModel",
            "_view_count": null,
            "_view_module": "@jupyter-widgets/base",
            "_view_module_version": "1.2.0",
            "_view_name": "StyleView",
            "description_width": ""
          }
        },
        "7b91d620026c45cfbd89d5166202c92f": {
          "model_module": "@jupyter-widgets/base",
          "model_name": "LayoutModel",
          "model_module_version": "1.2.0",
          "state": {
            "_model_module": "@jupyter-widgets/base",
            "_model_module_version": "1.2.0",
            "_model_name": "LayoutModel",
            "_view_count": null,
            "_view_module": "@jupyter-widgets/base",
            "_view_module_version": "1.2.0",
            "_view_name": "LayoutView",
            "align_content": null,
            "align_items": null,
            "align_self": null,
            "border": null,
            "bottom": null,
            "display": null,
            "flex": null,
            "flex_flow": null,
            "grid_area": null,
            "grid_auto_columns": null,
            "grid_auto_flow": null,
            "grid_auto_rows": null,
            "grid_column": null,
            "grid_gap": null,
            "grid_row": null,
            "grid_template_areas": null,
            "grid_template_columns": null,
            "grid_template_rows": null,
            "height": null,
            "justify_content": null,
            "justify_items": null,
            "left": null,
            "margin": null,
            "max_height": null,
            "max_width": null,
            "min_height": null,
            "min_width": null,
            "object_fit": null,
            "object_position": null,
            "order": null,
            "overflow": null,
            "overflow_x": null,
            "overflow_y": null,
            "padding": null,
            "right": null,
            "top": null,
            "visibility": null,
            "width": null
          }
        },
        "b707775d35494e619355a4bd0ab10db8": {
          "model_module": "@jupyter-widgets/controls",
          "model_name": "ProgressStyleModel",
          "model_module_version": "1.5.0",
          "state": {
            "_model_module": "@jupyter-widgets/controls",
            "_model_module_version": "1.5.0",
            "_model_name": "ProgressStyleModel",
            "_view_count": null,
            "_view_module": "@jupyter-widgets/base",
            "_view_module_version": "1.2.0",
            "_view_name": "StyleView",
            "bar_color": null,
            "description_width": ""
          }
        },
        "41587a64e3b24e5d812d689923b4e5a5": {
          "model_module": "@jupyter-widgets/base",
          "model_name": "LayoutModel",
          "model_module_version": "1.2.0",
          "state": {
            "_model_module": "@jupyter-widgets/base",
            "_model_module_version": "1.2.0",
            "_model_name": "LayoutModel",
            "_view_count": null,
            "_view_module": "@jupyter-widgets/base",
            "_view_module_version": "1.2.0",
            "_view_name": "LayoutView",
            "align_content": null,
            "align_items": null,
            "align_self": null,
            "border": null,
            "bottom": null,
            "display": null,
            "flex": null,
            "flex_flow": null,
            "grid_area": null,
            "grid_auto_columns": null,
            "grid_auto_flow": null,
            "grid_auto_rows": null,
            "grid_column": null,
            "grid_gap": null,
            "grid_row": null,
            "grid_template_areas": null,
            "grid_template_columns": null,
            "grid_template_rows": null,
            "height": null,
            "justify_content": null,
            "justify_items": null,
            "left": null,
            "margin": null,
            "max_height": null,
            "max_width": null,
            "min_height": null,
            "min_width": null,
            "object_fit": null,
            "object_position": null,
            "order": null,
            "overflow": null,
            "overflow_x": null,
            "overflow_y": null,
            "padding": null,
            "right": null,
            "top": null,
            "visibility": null,
            "width": null
          }
        },
        "c4fadcbd31c24a4193e021f8b48c55da": {
          "model_module": "@jupyter-widgets/controls",
          "model_name": "DescriptionStyleModel",
          "model_module_version": "1.5.0",
          "state": {
            "_model_module": "@jupyter-widgets/controls",
            "_model_module_version": "1.5.0",
            "_model_name": "DescriptionStyleModel",
            "_view_count": null,
            "_view_module": "@jupyter-widgets/base",
            "_view_module_version": "1.2.0",
            "_view_name": "StyleView",
            "description_width": ""
          }
        }
      }
    },
    "accelerator": "GPU"
  },
  "nbformat": 4,
  "nbformat_minor": 0
}